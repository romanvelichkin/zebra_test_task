{
 "cells": [
  {
   "cell_type": "code",
   "execution_count": 3,
   "id": "7b24a727-23f4-4a40-b996-d94ac2daac2e",
   "metadata": {},
   "outputs": [],
   "source": [
    "import os\n",
    "\n",
    "from ultralytics import YOLO, settings"
   ]
  },
  {
   "cell_type": "code",
   "execution_count": 4,
   "id": "988ff954-f0f5-42bd-ad3c-50f719976bd9",
   "metadata": {},
   "outputs": [],
   "source": [
    "# Reset YOLO settings\n",
    "settings.update({'datasets_dir': os.getcwd()})\n",
    "\n",
    "YAML_PATH = 'yolo_data.yaml'\n",
    "IMG_H = 960 # 3840/4"
   ]
  },
  {
   "cell_type": "code",
   "execution_count": 3,
   "id": "4c78c1ca-9c54-4ba8-976b-51c95099f136",
   "metadata": {},
   "outputs": [],
   "source": [
    "model = YOLO(os.path.join('yolo11n.pt')) # smallest detection model"
   ]
  },
  {
   "cell_type": "code",
   "execution_count": 5,
   "id": "37f81d31-c582-41ae-824a-9ce841859b5c",
   "metadata": {},
   "outputs": [
    {
     "name": "stdout",
     "output_type": "stream",
     "text": [
      "New https://pypi.org/project/ultralytics/8.3.162 available  Update with 'pip install -U ultralytics'\n",
      "Ultralytics 8.3.52  Python-3.9.18 torch-2.2.2 CUDA:0 (NVIDIA GeForce RTX 3070 Ti, 8191MiB)\n",
      "\u001b[34m\u001b[1mengine\\trainer: \u001b[0mtask=detect, mode=train, model=yolo11n.pt, data=yolo_data.yaml, epochs=500, time=None, patience=50, batch=32, imgsz=960, save=True, save_period=-1, cache=False, device=0, workers=8, project=None, name=train32, exist_ok=False, pretrained=True, optimizer=AdamW, verbose=True, seed=0, deterministic=True, single_cls=False, rect=False, cos_lr=False, close_mosaic=10, resume=False, amp=True, fraction=1.0, profile=False, freeze=None, multi_scale=False, overlap_mask=True, mask_ratio=4, dropout=0.0, val=True, split=val, save_json=False, save_hybrid=False, conf=None, iou=0.7, max_det=300, half=False, dnn=False, plots=True, source=None, vid_stride=1, stream_buffer=False, visualize=False, augment=False, agnostic_nms=False, classes=None, retina_masks=False, embed=None, show=False, save_frames=False, save_txt=False, save_conf=False, save_crop=False, show_labels=True, show_conf=True, show_boxes=True, line_width=None, format=torchscript, keras=False, optimize=False, int8=False, dynamic=False, simplify=True, opset=None, workspace=None, nms=False, lr0=0.01, lrf=0.01, momentum=0.937, weight_decay=0.0005, warmup_epochs=3.0, warmup_momentum=0.8, warmup_bias_lr=0.1, box=7.5, cls=0.5, dfl=1.5, pose=12.0, kobj=1.0, nbs=64, hsv_h=0.015, hsv_s=0.7, hsv_v=0.4, degrees=0.0, translate=0.1, scale=0.5, shear=0.0, perspective=0.0, flipud=0.0, fliplr=0.5, bgr=0.0, mosaic=1.0, mixup=0.0, copy_paste=0.0, copy_paste_mode=flip, auto_augment=randaugment, erasing=0.4, crop_fraction=1.0, cfg=None, tracker=botsort.yaml, save_dir=runs\\detect\\train32\n",
      "Overriding model.yaml nc=80 with nc=15\n",
      "\n",
      "                   from  n    params  module                                       arguments                     \n",
      "  0                  -1  1       464  ultralytics.nn.modules.conv.Conv             [3, 16, 3, 2]                 \n",
      "  1                  -1  1      4672  ultralytics.nn.modules.conv.Conv             [16, 32, 3, 2]                \n",
      "  2                  -1  1      6640  ultralytics.nn.modules.block.C3k2            [32, 64, 1, False, 0.25]      \n",
      "  3                  -1  1     36992  ultralytics.nn.modules.conv.Conv             [64, 64, 3, 2]                \n",
      "  4                  -1  1     26080  ultralytics.nn.modules.block.C3k2            [64, 128, 1, False, 0.25]     \n",
      "  5                  -1  1    147712  ultralytics.nn.modules.conv.Conv             [128, 128, 3, 2]              \n",
      "  6                  -1  1     87040  ultralytics.nn.modules.block.C3k2            [128, 128, 1, True]           \n",
      "  7                  -1  1    295424  ultralytics.nn.modules.conv.Conv             [128, 256, 3, 2]              \n",
      "  8                  -1  1    346112  ultralytics.nn.modules.block.C3k2            [256, 256, 1, True]           \n",
      "  9                  -1  1    164608  ultralytics.nn.modules.block.SPPF            [256, 256, 5]                 \n",
      " 10                  -1  1    249728  ultralytics.nn.modules.block.C2PSA           [256, 256, 1]                 \n",
      " 11                  -1  1         0  torch.nn.modules.upsampling.Upsample         [None, 2, 'nearest']          \n",
      " 12             [-1, 6]  1         0  ultralytics.nn.modules.conv.Concat           [1]                           \n",
      " 13                  -1  1    111296  ultralytics.nn.modules.block.C3k2            [384, 128, 1, False]          \n",
      " 14                  -1  1         0  torch.nn.modules.upsampling.Upsample         [None, 2, 'nearest']          \n",
      " 15             [-1, 4]  1         0  ultralytics.nn.modules.conv.Concat           [1]                           \n",
      " 16                  -1  1     32096  ultralytics.nn.modules.block.C3k2            [256, 64, 1, False]           \n",
      " 17                  -1  1     36992  ultralytics.nn.modules.conv.Conv             [64, 64, 3, 2]                \n",
      " 18            [-1, 13]  1         0  ultralytics.nn.modules.conv.Concat           [1]                           \n",
      " 19                  -1  1     86720  ultralytics.nn.modules.block.C3k2            [192, 128, 1, False]          \n",
      " 20                  -1  1    147712  ultralytics.nn.modules.conv.Conv             [128, 128, 3, 2]              \n",
      " 21            [-1, 10]  1         0  ultralytics.nn.modules.conv.Concat           [1]                           \n",
      " 22                  -1  1    378880  ultralytics.nn.modules.block.C3k2            [384, 256, 1, True]           \n",
      " 23        [16, 19, 22]  1    433597  ultralytics.nn.modules.head.Detect           [15, [64, 128, 256]]          \n",
      "YOLO11n summary: 319 layers, 2,592,765 parameters, 2,592,749 gradients, 6.5 GFLOPs\n",
      "\n",
      "Transferred 448/499 items from pretrained weights\n",
      "Freezing layer 'model.23.dfl.conv.weight'\n",
      "\u001b[34m\u001b[1mAMP: \u001b[0mrunning Automatic Mixed Precision (AMP) checks...\n",
      "\u001b[34m\u001b[1mAMP: \u001b[0mchecks passed \n"
     ]
    },
    {
     "name": "stderr",
     "output_type": "stream",
     "text": [
      "\u001b[34m\u001b[1mtrain: \u001b[0mScanning D:\\MY PROJECTS\\zebra_test_task\\datasets\\labels\\train.cache... 46 images, 2 backgrounds, 0 corrupt: 100%\u001b[0m\n",
      "\u001b[34m\u001b[1mval: \u001b[0mScanning D:\\MY PROJECTS\\zebra_test_task\\datasets\\labels\\val.cache... 15 images, 1 backgrounds, 0 corrupt: 100%|███\u001b[0m\n"
     ]
    },
    {
     "name": "stdout",
     "output_type": "stream",
     "text": [
      "Plotting labels to runs\\detect\\train32\\labels.jpg... \n",
      "\u001b[34m\u001b[1moptimizer:\u001b[0m AdamW(lr=0.01, momentum=0.937) with parameter groups 81 weight(decay=0.0), 88 weight(decay=0.0005), 87 bias(decay=0.0)\n",
      "Image sizes 960 train, 960 val\n",
      "Using 8 dataloader workers\n",
      "Logging results to \u001b[1mruns\\detect\\train32\u001b[0m\n",
      "Starting training for 500 epochs...\n",
      "\n",
      "      Epoch    GPU_mem   box_loss   cls_loss   dfl_loss  Instances       Size\n"
     ]
    },
    {
     "name": "stderr",
     "output_type": "stream",
     "text": [
      "      1/500      10.4G      1.575       4.66      1.412        349        960: 100%|██████████| 2/2 [00:13<00:00,  6.62\n",
      "                 Class     Images  Instances      Box(P          R      mAP50  mAP50-95): 100%|██████████| 1/1 [00:00<0"
     ]
    },
    {
     "name": "stdout",
     "output_type": "stream",
     "text": [
      "                   all         15        199          0          0          0          0\n"
     ]
    },
    {
     "name": "stderr",
     "output_type": "stream",
     "text": [
      "\n"
     ]
    },
    {
     "name": "stdout",
     "output_type": "stream",
     "text": [
      "\n",
      "      Epoch    GPU_mem   box_loss   cls_loss   dfl_loss  Instances       Size\n"
     ]
    },
    {
     "name": "stderr",
     "output_type": "stream",
     "text": [
      "      2/500      10.5G      1.589      4.668      1.418        358        960: 100%|██████████| 2/2 [00:05<00:00,  2.70\n",
      "                 Class     Images  Instances      Box(P          R      mAP50  mAP50-95): 100%|██████████| 1/1 [00:00<0"
     ]
    },
    {
     "name": "stdout",
     "output_type": "stream",
     "text": [
      "                   all         15        199    0.00198     0.0667     0.0123    0.00652\n"
     ]
    },
    {
     "name": "stderr",
     "output_type": "stream",
     "text": [
      "\n"
     ]
    },
    {
     "name": "stdout",
     "output_type": "stream",
     "text": [
      "\n",
      "      Epoch    GPU_mem   box_loss   cls_loss   dfl_loss  Instances       Size\n"
     ]
    },
    {
     "name": "stderr",
     "output_type": "stream",
     "text": [
      "      3/500      10.5G      1.616       4.31      1.294        412        960: 100%|██████████| 2/2 [00:05<00:00,  2.74\n",
      "                 Class     Images  Instances      Box(P          R      mAP50  mAP50-95): 100%|██████████| 1/1 [00:00<0"
     ]
    },
    {
     "name": "stdout",
     "output_type": "stream",
     "text": [
      "                   all         15        199   0.000169     0.0524   0.000526   0.000142\n"
     ]
    },
    {
     "name": "stderr",
     "output_type": "stream",
     "text": [
      "\n"
     ]
    },
    {
     "name": "stdout",
     "output_type": "stream",
     "text": [
      "\n",
      "      Epoch    GPU_mem   box_loss   cls_loss   dfl_loss  Instances       Size\n"
     ]
    },
    {
     "name": "stderr",
     "output_type": "stream",
     "text": [
      "      4/500      10.2G      1.585      4.027      1.163        352        960: 100%|██████████| 2/2 [00:05<00:00,  2.64\n",
      "                 Class     Images  Instances      Box(P          R      mAP50  mAP50-95): 100%|██████████| 1/1 [00:00<0"
     ]
    },
    {
     "name": "stdout",
     "output_type": "stream",
     "text": [
      "                   all         15        199    0.00345      0.111     0.0159    0.00614\n"
     ]
    },
    {
     "name": "stderr",
     "output_type": "stream",
     "text": [
      "\n"
     ]
    },
    {
     "name": "stdout",
     "output_type": "stream",
     "text": [
      "\n",
      "      Epoch    GPU_mem   box_loss   cls_loss   dfl_loss  Instances       Size\n"
     ]
    },
    {
     "name": "stderr",
     "output_type": "stream",
     "text": [
      "      5/500      10.5G      1.403      3.778      1.215        462        960: 100%|██████████| 2/2 [00:06<00:00,  3.32\n",
      "                 Class     Images  Instances      Box(P          R      mAP50  mAP50-95): 100%|██████████| 1/1 [00:00<0"
     ]
    },
    {
     "name": "stdout",
     "output_type": "stream",
     "text": [
      "                   all         15        199    0.00714     0.0889     0.0218     0.0139\n"
     ]
    },
    {
     "name": "stderr",
     "output_type": "stream",
     "text": [
      "\n"
     ]
    },
    {
     "name": "stdout",
     "output_type": "stream",
     "text": [
      "\n",
      "      Epoch    GPU_mem   box_loss   cls_loss   dfl_loss  Instances       Size\n"
     ]
    },
    {
     "name": "stderr",
     "output_type": "stream",
     "text": [
      "      6/500      10.5G      1.289      3.061      1.131        400        960: 100%|██████████| 2/2 [00:06<00:00,  3.29\n",
      "                 Class     Images  Instances      Box(P          R      mAP50  mAP50-95): 100%|██████████| 1/1 [00:00<0"
     ]
    },
    {
     "name": "stdout",
     "output_type": "stream",
     "text": [
      "                   all         15        199    0.00141     0.0905     0.0411     0.0256\n"
     ]
    },
    {
     "name": "stderr",
     "output_type": "stream",
     "text": [
      "\n"
     ]
    },
    {
     "name": "stdout",
     "output_type": "stream",
     "text": [
      "\n",
      "      Epoch    GPU_mem   box_loss   cls_loss   dfl_loss  Instances       Size\n"
     ]
    },
    {
     "name": "stderr",
     "output_type": "stream",
     "text": [
      "      7/500      10.4G      1.268      2.471      1.116        420        960: 100%|██████████| 2/2 [00:05<00:00,  2.89\n",
      "                 Class     Images  Instances      Box(P          R      mAP50  mAP50-95): 100%|██████████| 1/1 [00:00<0"
     ]
    },
    {
     "name": "stdout",
     "output_type": "stream",
     "text": [
      "                   all         15        199    0.00141     0.0905     0.0411     0.0256\n"
     ]
    },
    {
     "name": "stderr",
     "output_type": "stream",
     "text": [
      "\n"
     ]
    },
    {
     "name": "stdout",
     "output_type": "stream",
     "text": [
      "\n",
      "      Epoch    GPU_mem   box_loss   cls_loss   dfl_loss  Instances       Size\n"
     ]
    },
    {
     "name": "stderr",
     "output_type": "stream",
     "text": [
      "      8/500      10.6G      1.163      2.099      1.083        349        960: 100%|██████████| 2/2 [00:06<00:00,  3.10\n",
      "                 Class     Images  Instances      Box(P          R      mAP50  mAP50-95): 100%|██████████| 1/1 [00:00<0"
     ]
    },
    {
     "name": "stdout",
     "output_type": "stream",
     "text": [
      "                   all         15        199   2.35e-05    0.00476   1.62e-05   1.62e-06\n"
     ]
    },
    {
     "name": "stderr",
     "output_type": "stream",
     "text": [
      "\n"
     ]
    },
    {
     "name": "stdout",
     "output_type": "stream",
     "text": [
      "\n",
      "      Epoch    GPU_mem   box_loss   cls_loss   dfl_loss  Instances       Size\n"
     ]
    },
    {
     "name": "stderr",
     "output_type": "stream",
     "text": [
      "      9/500      10.6G      1.069       1.89      1.025        329        960: 100%|██████████| 2/2 [00:06<00:00,  3.24\n",
      "                 Class     Images  Instances      Box(P          R      mAP50  mAP50-95): 100%|██████████| 1/1 [00:00<0"
     ]
    },
    {
     "name": "stdout",
     "output_type": "stream",
     "text": [
      "                   all         15        199   0.000402     0.0298   0.000486   0.000244\n"
     ]
    },
    {
     "name": "stderr",
     "output_type": "stream",
     "text": [
      "\n"
     ]
    },
    {
     "name": "stdout",
     "output_type": "stream",
     "text": [
      "\n",
      "      Epoch    GPU_mem   box_loss   cls_loss   dfl_loss  Instances       Size\n"
     ]
    },
    {
     "name": "stderr",
     "output_type": "stream",
     "text": [
      "     10/500        11G     0.9992      1.587      1.031        316        960: 100%|██████████| 2/2 [00:05<00:00,  2.87\n",
      "                 Class     Images  Instances      Box(P          R      mAP50  mAP50-95): 100%|██████████| 1/1 [00:00<0"
     ]
    },
    {
     "name": "stdout",
     "output_type": "stream",
     "text": [
      "                   all         15        199   0.000402     0.0298   0.000486   0.000244\n"
     ]
    },
    {
     "name": "stderr",
     "output_type": "stream",
     "text": [
      "\n"
     ]
    },
    {
     "name": "stdout",
     "output_type": "stream",
     "text": [
      "\n",
      "      Epoch    GPU_mem   box_loss   cls_loss   dfl_loss  Instances       Size\n"
     ]
    },
    {
     "name": "stderr",
     "output_type": "stream",
     "text": [
      "     11/500      10.5G     0.9849      1.385      1.017        292        960: 100%|██████████| 2/2 [00:06<00:00,  3.06\n",
      "                 Class     Images  Instances      Box(P          R      mAP50  mAP50-95): 100%|██████████| 1/1 [00:00<0"
     ]
    },
    {
     "name": "stdout",
     "output_type": "stream",
     "text": [
      "                   all         15        199      0.134     0.0167   0.000505   9.81e-05\n"
     ]
    },
    {
     "name": "stderr",
     "output_type": "stream",
     "text": [
      "\n"
     ]
    },
    {
     "name": "stdout",
     "output_type": "stream",
     "text": [
      "\n",
      "      Epoch    GPU_mem   box_loss   cls_loss   dfl_loss  Instances       Size\n"
     ]
    },
    {
     "name": "stderr",
     "output_type": "stream",
     "text": [
      "     12/500      10.5G      1.024      1.258     0.9888        397        960: 100%|██████████| 2/2 [00:06<00:00,  3.38\n",
      "                 Class     Images  Instances      Box(P          R      mAP50  mAP50-95): 100%|██████████| 1/1 [00:00<0"
     ]
    },
    {
     "name": "stdout",
     "output_type": "stream",
     "text": [
      "                   all         15        199      0.134     0.0222   0.000767   0.000244\n"
     ]
    },
    {
     "name": "stderr",
     "output_type": "stream",
     "text": [
      "\n"
     ]
    },
    {
     "name": "stdout",
     "output_type": "stream",
     "text": [
      "\n",
      "      Epoch    GPU_mem   box_loss   cls_loss   dfl_loss  Instances       Size\n"
     ]
    },
    {
     "name": "stderr",
     "output_type": "stream",
     "text": [
      "     13/500      10.7G     0.9488      1.085     0.9599        477        960: 100%|██████████| 2/2 [00:06<00:00,  3.24\n",
      "                 Class     Images  Instances      Box(P          R      mAP50  mAP50-95): 100%|██████████| 1/1 [00:00<0"
     ]
    },
    {
     "name": "stdout",
     "output_type": "stream",
     "text": [
      "                   all         15        199   0.000257     0.0389   0.000333    9.3e-05\n"
     ]
    },
    {
     "name": "stderr",
     "output_type": "stream",
     "text": [
      "\n"
     ]
    },
    {
     "name": "stdout",
     "output_type": "stream",
     "text": [
      "\n",
      "      Epoch    GPU_mem   box_loss   cls_loss   dfl_loss  Instances       Size\n"
     ]
    },
    {
     "name": "stderr",
     "output_type": "stream",
     "text": [
      "     14/500      10.3G     0.9143      1.024     0.9713        396        960: 100%|██████████| 2/2 [00:06<00:00,  3.19\n",
      "                 Class     Images  Instances      Box(P          R      mAP50  mAP50-95): 100%|██████████| 1/1 [00:00<0"
     ]
    },
    {
     "name": "stdout",
     "output_type": "stream",
     "text": [
      "                   all         15        199   0.000222     0.0444   0.000305   0.000112\n"
     ]
    },
    {
     "name": "stderr",
     "output_type": "stream",
     "text": [
      "\n"
     ]
    },
    {
     "name": "stdout",
     "output_type": "stream",
     "text": [
      "\n",
      "      Epoch    GPU_mem   box_loss   cls_loss   dfl_loss  Instances       Size\n"
     ]
    },
    {
     "name": "stderr",
     "output_type": "stream",
     "text": [
      "     15/500      10.9G     0.8944     0.9683     0.9775        366        960: 100%|██████████| 2/2 [00:06<00:00,  3.40\n",
      "                 Class     Images  Instances      Box(P          R      mAP50  mAP50-95): 100%|██████████| 1/1 [00:00<0"
     ]
    },
    {
     "name": "stdout",
     "output_type": "stream",
     "text": [
      "                   all         15        199     0.0669     0.0433     0.0356    0.00985\n"
     ]
    },
    {
     "name": "stderr",
     "output_type": "stream",
     "text": [
      "\n"
     ]
    },
    {
     "name": "stdout",
     "output_type": "stream",
     "text": [
      "\n",
      "      Epoch    GPU_mem   box_loss   cls_loss   dfl_loss  Instances       Size\n"
     ]
    },
    {
     "name": "stderr",
     "output_type": "stream",
     "text": [
      "     16/500      10.6G     0.8655     0.8638     0.9631        420        960: 100%|██████████| 2/2 [00:06<00:00,  3.11\n",
      "                 Class     Images  Instances      Box(P          R      mAP50  mAP50-95): 100%|██████████| 1/1 [00:00<0"
     ]
    },
    {
     "name": "stdout",
     "output_type": "stream",
     "text": [
      "                   all         15        199    0.00131     0.0583   0.000933   0.000252\n"
     ]
    },
    {
     "name": "stderr",
     "output_type": "stream",
     "text": [
      "\n"
     ]
    },
    {
     "name": "stdout",
     "output_type": "stream",
     "text": [
      "\n",
      "      Epoch    GPU_mem   box_loss   cls_loss   dfl_loss  Instances       Size\n"
     ]
    },
    {
     "name": "stderr",
     "output_type": "stream",
     "text": [
      "     17/500      10.6G       0.85     0.8191     0.9341        498        960: 100%|██████████| 2/2 [00:07<00:00,  3.65\n",
      "                 Class     Images  Instances      Box(P          R      mAP50  mAP50-95): 100%|██████████| 1/1 [00:00<0"
     ]
    },
    {
     "name": "stdout",
     "output_type": "stream",
     "text": [
      "                   all         15        199   0.000278     0.0222   0.000176   2.53e-05\n"
     ]
    },
    {
     "name": "stderr",
     "output_type": "stream",
     "text": [
      "\n"
     ]
    },
    {
     "name": "stdout",
     "output_type": "stream",
     "text": [
      "\n",
      "      Epoch    GPU_mem   box_loss   cls_loss   dfl_loss  Instances       Size\n"
     ]
    },
    {
     "name": "stderr",
     "output_type": "stream",
     "text": [
      "     18/500      10.8G     0.8663     0.8229      0.956        336        960: 100%|██████████| 2/2 [00:06<00:00,  3.34\n",
      "                 Class     Images  Instances      Box(P          R      mAP50  mAP50-95): 100%|██████████| 1/1 [00:00<0"
     ]
    },
    {
     "name": "stdout",
     "output_type": "stream",
     "text": [
      "                   all         15        199   0.000139     0.0278   8.67e-05   2.33e-05\n"
     ]
    },
    {
     "name": "stderr",
     "output_type": "stream",
     "text": [
      "\n"
     ]
    },
    {
     "name": "stdout",
     "output_type": "stream",
     "text": [
      "\n",
      "      Epoch    GPU_mem   box_loss   cls_loss   dfl_loss  Instances       Size\n"
     ]
    },
    {
     "name": "stderr",
     "output_type": "stream",
     "text": [
      "     19/500      10.5G     0.8378     0.7837     0.9723        292        960: 100%|██████████| 2/2 [00:03<00:00,  1.81\n",
      "                 Class     Images  Instances      Box(P          R      mAP50  mAP50-95): 100%|██████████| 1/1 [00:00<0"
     ]
    },
    {
     "name": "stdout",
     "output_type": "stream",
     "text": [
      "                   all         15        199      0.267     0.0111   0.000308   0.000103\n"
     ]
    },
    {
     "name": "stderr",
     "output_type": "stream",
     "text": [
      "\n"
     ]
    },
    {
     "name": "stdout",
     "output_type": "stream",
     "text": [
      "\n",
      "      Epoch    GPU_mem   box_loss   cls_loss   dfl_loss  Instances       Size\n"
     ]
    },
    {
     "name": "stderr",
     "output_type": "stream",
     "text": [
      "     20/500      10.9G     0.8907     0.7878      0.953        352        960: 100%|██████████| 2/2 [00:05<00:00,  2.82\n",
      "                 Class     Images  Instances      Box(P          R      mAP50  mAP50-95): 100%|██████████| 1/1 [00:00<0"
     ]
    },
    {
     "name": "stdout",
     "output_type": "stream",
     "text": [
      "                   all         15        199     0.0677     0.0694    0.00114    0.00031\n"
     ]
    },
    {
     "name": "stderr",
     "output_type": "stream",
     "text": [
      "\n"
     ]
    },
    {
     "name": "stdout",
     "output_type": "stream",
     "text": [
      "\n",
      "      Epoch    GPU_mem   box_loss   cls_loss   dfl_loss  Instances       Size\n"
     ]
    },
    {
     "name": "stderr",
     "output_type": "stream",
     "text": [
      "     21/500      10.3G      0.822     0.7296     0.9408        320        960: 100%|██████████| 2/2 [00:04<00:00,  2.46\n",
      "                 Class     Images  Instances      Box(P          R      mAP50  mAP50-95): 100%|██████████| 1/1 [00:00<0"
     ]
    },
    {
     "name": "stdout",
     "output_type": "stream",
     "text": [
      "                   all         15        199      0.067     0.0306   0.000221   4.54e-05\n"
     ]
    },
    {
     "name": "stderr",
     "output_type": "stream",
     "text": [
      "\n"
     ]
    },
    {
     "name": "stdout",
     "output_type": "stream",
     "text": [
      "\n",
      "      Epoch    GPU_mem   box_loss   cls_loss   dfl_loss  Instances       Size\n"
     ]
    },
    {
     "name": "stderr",
     "output_type": "stream",
     "text": [
      "     22/500      10.7G     0.8506     0.7244     0.9557        289        960: 100%|██████████| 2/2 [00:05<00:00,  2.67\n",
      "                 Class     Images  Instances      Box(P          R      mAP50  mAP50-95): 100%|██████████| 1/1 [00:00<0"
     ]
    },
    {
     "name": "stdout",
     "output_type": "stream",
     "text": [
      "                   all         15        199      0.267     0.0389    0.00057   0.000175\n"
     ]
    },
    {
     "name": "stderr",
     "output_type": "stream",
     "text": [
      "\n"
     ]
    },
    {
     "name": "stdout",
     "output_type": "stream",
     "text": [
      "\n",
      "      Epoch    GPU_mem   box_loss   cls_loss   dfl_loss  Instances       Size\n"
     ]
    },
    {
     "name": "stderr",
     "output_type": "stream",
     "text": [
      "     23/500      10.5G     0.8103      0.718     0.9424        262        960: 100%|██████████| 2/2 [00:05<00:00,  2.60\n",
      "                 Class     Images  Instances      Box(P          R      mAP50  mAP50-95): 100%|██████████| 1/1 [00:00<0"
     ]
    },
    {
     "name": "stdout",
     "output_type": "stream",
     "text": [
      "                   all         15        199      0.281     0.0444     0.0181    0.00818\n"
     ]
    },
    {
     "name": "stderr",
     "output_type": "stream",
     "text": [
      "\n"
     ]
    },
    {
     "name": "stdout",
     "output_type": "stream",
     "text": [
      "\n",
      "      Epoch    GPU_mem   box_loss   cls_loss   dfl_loss  Instances       Size\n"
     ]
    },
    {
     "name": "stderr",
     "output_type": "stream",
     "text": [
      "     24/500      10.6G     0.7893     0.7406     0.9509        329        960: 100%|██████████| 2/2 [00:05<00:00,  2.69\n",
      "                 Class     Images  Instances      Box(P          R      mAP50  mAP50-95): 100%|██████████| 1/1 [00:00<0"
     ]
    },
    {
     "name": "stdout",
     "output_type": "stream",
     "text": [
      "                   all         15        199   0.000613     0.0333   0.000683   0.000176\n"
     ]
    },
    {
     "name": "stderr",
     "output_type": "stream",
     "text": [
      "\n"
     ]
    },
    {
     "name": "stdout",
     "output_type": "stream",
     "text": [
      "\n",
      "      Epoch    GPU_mem   box_loss   cls_loss   dfl_loss  Instances       Size\n"
     ]
    },
    {
     "name": "stderr",
     "output_type": "stream",
     "text": [
      "     25/500      10.7G     0.8186     0.7183     0.9779        325        960: 100%|██████████| 2/2 [00:05<00:00,  2.78\n",
      "                 Class     Images  Instances      Box(P          R      mAP50  mAP50-95): 100%|██████████| 1/1 [00:00<0"
     ]
    },
    {
     "name": "stdout",
     "output_type": "stream",
     "text": [
      "                   all         15        199   0.000613     0.0333   0.000683   0.000176\n"
     ]
    },
    {
     "name": "stderr",
     "output_type": "stream",
     "text": [
      "\n"
     ]
    },
    {
     "name": "stdout",
     "output_type": "stream",
     "text": [
      "\n",
      "      Epoch    GPU_mem   box_loss   cls_loss   dfl_loss  Instances       Size\n"
     ]
    },
    {
     "name": "stderr",
     "output_type": "stream",
     "text": [
      "     26/500      10.3G     0.8676     0.7363     0.9616        383        960: 100%|██████████| 2/2 [00:05<00:00,  2.79\n",
      "                 Class     Images  Instances      Box(P          R      mAP50  mAP50-95): 100%|██████████| 1/1 [00:00<0"
     ]
    },
    {
     "name": "stdout",
     "output_type": "stream",
     "text": [
      "                   all         15        199   0.000613     0.0333   0.000683   0.000176\n"
     ]
    },
    {
     "name": "stderr",
     "output_type": "stream",
     "text": [
      "\n"
     ]
    },
    {
     "name": "stdout",
     "output_type": "stream",
     "text": [
      "\n",
      "      Epoch    GPU_mem   box_loss   cls_loss   dfl_loss  Instances       Size\n"
     ]
    },
    {
     "name": "stderr",
     "output_type": "stream",
     "text": [
      "     27/500      10.6G     0.8913      0.761     0.9783        334        960: 100%|██████████| 2/2 [00:05<00:00,  2.66\n",
      "                 Class     Images  Instances      Box(P          R      mAP50  mAP50-95): 100%|██████████| 1/1 [00:00<0"
     ]
    },
    {
     "name": "stdout",
     "output_type": "stream",
     "text": [
      "                   all         15        199     0.0812     0.0361    0.00793    0.00421\n"
     ]
    },
    {
     "name": "stderr",
     "output_type": "stream",
     "text": [
      "\n"
     ]
    },
    {
     "name": "stdout",
     "output_type": "stream",
     "text": [
      "\n",
      "      Epoch    GPU_mem   box_loss   cls_loss   dfl_loss  Instances       Size\n"
     ]
    },
    {
     "name": "stderr",
     "output_type": "stream",
     "text": [
      "     28/500      10.6G     0.8307     0.6608     0.9464        353        960: 100%|██████████| 2/2 [00:05<00:00,  2.68\n",
      "                 Class     Images  Instances      Box(P          R      mAP50  mAP50-95): 100%|██████████| 1/1 [00:00<0"
     ]
    },
    {
     "name": "stdout",
     "output_type": "stream",
     "text": [
      "                   all         15        199      0.272       0.05     0.0039   0.000963\n"
     ]
    },
    {
     "name": "stderr",
     "output_type": "stream",
     "text": [
      "\n"
     ]
    },
    {
     "name": "stdout",
     "output_type": "stream",
     "text": [
      "\n",
      "      Epoch    GPU_mem   box_loss   cls_loss   dfl_loss  Instances       Size\n"
     ]
    },
    {
     "name": "stderr",
     "output_type": "stream",
     "text": [
      "     29/500      10.4G     0.7952     0.6846     0.9466        268        960: 100%|██████████| 2/2 [00:05<00:00,  2.56\n",
      "                 Class     Images  Instances      Box(P          R      mAP50  mAP50-95): 100%|██████████| 1/1 [00:00<0"
     ]
    },
    {
     "name": "stdout",
     "output_type": "stream",
     "text": [
      "                   all         15        199    0.00383      0.105    0.00366   0.000716\n"
     ]
    },
    {
     "name": "stderr",
     "output_type": "stream",
     "text": [
      "\n"
     ]
    },
    {
     "name": "stdout",
     "output_type": "stream",
     "text": [
      "\n",
      "      Epoch    GPU_mem   box_loss   cls_loss   dfl_loss  Instances       Size\n"
     ]
    },
    {
     "name": "stderr",
     "output_type": "stream",
     "text": [
      "     30/500      10.4G     0.7979     0.6727     0.9373        402        960: 100%|██████████| 2/2 [00:05<00:00,  2.64\n",
      "                 Class     Images  Instances      Box(P          R      mAP50  mAP50-95): 100%|██████████| 1/1 [00:00<0"
     ]
    },
    {
     "name": "stdout",
     "output_type": "stream",
     "text": [
      "                   all         15        199    0.00257     0.0937    0.00249   0.000793\n"
     ]
    },
    {
     "name": "stderr",
     "output_type": "stream",
     "text": [
      "\n"
     ]
    },
    {
     "name": "stdout",
     "output_type": "stream",
     "text": [
      "\n",
      "      Epoch    GPU_mem   box_loss   cls_loss   dfl_loss  Instances       Size\n"
     ]
    },
    {
     "name": "stderr",
     "output_type": "stream",
     "text": [
      "     31/500      10.9G     0.7805     0.6638     0.9199        479        960: 100%|██████████| 2/2 [00:06<00:00,  3.05\n",
      "                 Class     Images  Instances      Box(P          R      mAP50  mAP50-95): 100%|██████████| 1/1 [00:00<0"
     ]
    },
    {
     "name": "stdout",
     "output_type": "stream",
     "text": [
      "                   all         15        199      0.468     0.0333    0.00174    0.00064\n"
     ]
    },
    {
     "name": "stderr",
     "output_type": "stream",
     "text": [
      "\n"
     ]
    },
    {
     "name": "stdout",
     "output_type": "stream",
     "text": [
      "\n",
      "      Epoch    GPU_mem   box_loss   cls_loss   dfl_loss  Instances       Size\n"
     ]
    },
    {
     "name": "stderr",
     "output_type": "stream",
     "text": [
      "     32/500      10.3G     0.7685     0.6514     0.9325        378        960: 100%|██████████| 2/2 [00:05<00:00,  2.59\n",
      "                 Class     Images  Instances      Box(P          R      mAP50  mAP50-95): 100%|██████████| 1/1 [00:00<0"
     ]
    },
    {
     "name": "stdout",
     "output_type": "stream",
     "text": [
      "                   all         15        199      0.535     0.0444    0.00443     0.0017\n"
     ]
    },
    {
     "name": "stderr",
     "output_type": "stream",
     "text": [
      "\n"
     ]
    },
    {
     "name": "stdout",
     "output_type": "stream",
     "text": [
      "\n",
      "      Epoch    GPU_mem   box_loss   cls_loss   dfl_loss  Instances       Size\n"
     ]
    },
    {
     "name": "stderr",
     "output_type": "stream",
     "text": [
      "     33/500      10.5G      0.771     0.6735     0.9586        234        960: 100%|██████████| 2/2 [00:05<00:00,  2.71\n",
      "                 Class     Images  Instances      Box(P          R      mAP50  mAP50-95): 100%|██████████| 1/1 [00:00<0"
     ]
    },
    {
     "name": "stdout",
     "output_type": "stream",
     "text": [
      "                   all         15        199     0.0059      0.201     0.0263    0.00936\n"
     ]
    },
    {
     "name": "stderr",
     "output_type": "stream",
     "text": [
      "\n"
     ]
    },
    {
     "name": "stdout",
     "output_type": "stream",
     "text": [
      "\n",
      "      Epoch    GPU_mem   box_loss   cls_loss   dfl_loss  Instances       Size\n"
     ]
    },
    {
     "name": "stderr",
     "output_type": "stream",
     "text": [
      "     34/500      10.5G      0.767     0.6103     0.9254        329        960: 100%|██████████| 2/2 [00:05<00:00,  2.71\n",
      "                 Class     Images  Instances      Box(P          R      mAP50  mAP50-95): 100%|██████████| 1/1 [00:00<0"
     ]
    },
    {
     "name": "stdout",
     "output_type": "stream",
     "text": [
      "                   all         15        199     0.0131      0.219     0.0383     0.0199\n"
     ]
    },
    {
     "name": "stderr",
     "output_type": "stream",
     "text": [
      "\n"
     ]
    },
    {
     "name": "stdout",
     "output_type": "stream",
     "text": [
      "\n",
      "      Epoch    GPU_mem   box_loss   cls_loss   dfl_loss  Instances       Size\n"
     ]
    },
    {
     "name": "stderr",
     "output_type": "stream",
     "text": [
      "     35/500      10.8G     0.7825     0.6498     0.9066        407        960: 100%|██████████| 2/2 [00:05<00:00,  2.96\n",
      "                 Class     Images  Instances      Box(P          R      mAP50  mAP50-95): 100%|██████████| 1/1 [00:00<0"
     ]
    },
    {
     "name": "stdout",
     "output_type": "stream",
     "text": [
      "                   all         15        199     0.0703      0.288      0.165      0.112\n"
     ]
    },
    {
     "name": "stderr",
     "output_type": "stream",
     "text": [
      "\n"
     ]
    },
    {
     "name": "stdout",
     "output_type": "stream",
     "text": [
      "\n",
      "      Epoch    GPU_mem   box_loss   cls_loss   dfl_loss  Instances       Size\n"
     ]
    },
    {
     "name": "stderr",
     "output_type": "stream",
     "text": [
      "     36/500      10.8G     0.7582      0.591     0.9123        371        960: 100%|██████████| 2/2 [00:05<00:00,  2.96\n",
      "                 Class     Images  Instances      Box(P          R      mAP50  mAP50-95): 100%|██████████| 1/1 [00:00<0"
     ]
    },
    {
     "name": "stdout",
     "output_type": "stream",
     "text": [
      "                   all         15        199      0.216      0.413      0.295      0.211\n"
     ]
    },
    {
     "name": "stderr",
     "output_type": "stream",
     "text": [
      "\n"
     ]
    },
    {
     "name": "stdout",
     "output_type": "stream",
     "text": [
      "\n",
      "      Epoch    GPU_mem   box_loss   cls_loss   dfl_loss  Instances       Size\n"
     ]
    },
    {
     "name": "stderr",
     "output_type": "stream",
     "text": [
      "     37/500      10.7G     0.7386     0.6008     0.9133        266        960: 100%|██████████| 2/2 [00:05<00:00,  2.92\n",
      "                 Class     Images  Instances      Box(P          R      mAP50  mAP50-95): 100%|██████████| 1/1 [00:00<0"
     ]
    },
    {
     "name": "stdout",
     "output_type": "stream",
     "text": [
      "                   all         15        199      0.165      0.402      0.249      0.177\n"
     ]
    },
    {
     "name": "stderr",
     "output_type": "stream",
     "text": [
      "\n"
     ]
    },
    {
     "name": "stdout",
     "output_type": "stream",
     "text": [
      "\n",
      "      Epoch    GPU_mem   box_loss   cls_loss   dfl_loss  Instances       Size\n"
     ]
    },
    {
     "name": "stderr",
     "output_type": "stream",
     "text": [
      "     38/500      10.7G     0.7394     0.6246     0.9374        242        960: 100%|██████████| 2/2 [00:05<00:00,  2.90\n",
      "                 Class     Images  Instances      Box(P          R      mAP50  mAP50-95): 100%|██████████| 1/1 [00:00<0"
     ]
    },
    {
     "name": "stdout",
     "output_type": "stream",
     "text": [
      "                   all         15        199       0.18      0.442      0.286      0.209\n"
     ]
    },
    {
     "name": "stderr",
     "output_type": "stream",
     "text": [
      "\n"
     ]
    },
    {
     "name": "stdout",
     "output_type": "stream",
     "text": [
      "\n",
      "      Epoch    GPU_mem   box_loss   cls_loss   dfl_loss  Instances       Size\n"
     ]
    },
    {
     "name": "stderr",
     "output_type": "stream",
     "text": [
      "     39/500        11G     0.7261     0.5966     0.9089        359        960: 100%|██████████| 2/2 [00:06<00:00,  3.13\n",
      "                 Class     Images  Instances      Box(P          R      mAP50  mAP50-95): 100%|██████████| 1/1 [00:00<0"
     ]
    },
    {
     "name": "stdout",
     "output_type": "stream",
     "text": [
      "                   all         15        199       0.15      0.513      0.292      0.203\n"
     ]
    },
    {
     "name": "stderr",
     "output_type": "stream",
     "text": [
      "\n"
     ]
    },
    {
     "name": "stdout",
     "output_type": "stream",
     "text": [
      "\n",
      "      Epoch    GPU_mem   box_loss   cls_loss   dfl_loss  Instances       Size\n"
     ]
    },
    {
     "name": "stderr",
     "output_type": "stream",
     "text": [
      "     40/500      10.4G     0.7422     0.5992     0.9327        327        960: 100%|██████████| 2/2 [00:05<00:00,  2.71\n",
      "                 Class     Images  Instances      Box(P          R      mAP50  mAP50-95): 100%|██████████| 1/1 [00:00<0"
     ]
    },
    {
     "name": "stdout",
     "output_type": "stream",
     "text": [
      "                   all         15        199      0.155      0.611      0.322      0.224\n"
     ]
    },
    {
     "name": "stderr",
     "output_type": "stream",
     "text": [
      "\n"
     ]
    },
    {
     "name": "stdout",
     "output_type": "stream",
     "text": [
      "\n",
      "      Epoch    GPU_mem   box_loss   cls_loss   dfl_loss  Instances       Size\n"
     ]
    },
    {
     "name": "stderr",
     "output_type": "stream",
     "text": [
      "     41/500      10.7G     0.7807     0.5974     0.9011        420        960: 100%|██████████| 2/2 [00:05<00:00,  2.81\n",
      "                 Class     Images  Instances      Box(P          R      mAP50  mAP50-95): 100%|██████████| 1/1 [00:00<0"
     ]
    },
    {
     "name": "stdout",
     "output_type": "stream",
     "text": [
      "                   all         15        199      0.107      0.561      0.286      0.204\n"
     ]
    },
    {
     "name": "stderr",
     "output_type": "stream",
     "text": [
      "\n"
     ]
    },
    {
     "name": "stdout",
     "output_type": "stream",
     "text": [
      "\n",
      "      Epoch    GPU_mem   box_loss   cls_loss   dfl_loss  Instances       Size\n"
     ]
    },
    {
     "name": "stderr",
     "output_type": "stream",
     "text": [
      "     42/500      10.4G     0.7205     0.6148     0.9449        251        960: 100%|██████████| 2/2 [00:05<00:00,  2.51\n",
      "                 Class     Images  Instances      Box(P          R      mAP50  mAP50-95): 100%|██████████| 1/1 [00:00<0"
     ]
    },
    {
     "name": "stdout",
     "output_type": "stream",
     "text": [
      "                   all         15        199      0.143      0.427      0.217      0.155\n"
     ]
    },
    {
     "name": "stderr",
     "output_type": "stream",
     "text": [
      "\n"
     ]
    },
    {
     "name": "stdout",
     "output_type": "stream",
     "text": [
      "\n",
      "      Epoch    GPU_mem   box_loss   cls_loss   dfl_loss  Instances       Size\n"
     ]
    },
    {
     "name": "stderr",
     "output_type": "stream",
     "text": [
      "     43/500      10.6G     0.7267     0.6052     0.9404        346        960: 100%|██████████| 2/2 [00:06<00:00,  3.07\n",
      "                 Class     Images  Instances      Box(P          R      mAP50  mAP50-95): 100%|██████████| 1/1 [00:00<0"
     ]
    },
    {
     "name": "stdout",
     "output_type": "stream",
     "text": [
      "                   all         15        199      0.158      0.427      0.211      0.157\n"
     ]
    },
    {
     "name": "stderr",
     "output_type": "stream",
     "text": [
      "\n"
     ]
    },
    {
     "name": "stdout",
     "output_type": "stream",
     "text": [
      "\n",
      "      Epoch    GPU_mem   box_loss   cls_loss   dfl_loss  Instances       Size\n"
     ]
    },
    {
     "name": "stderr",
     "output_type": "stream",
     "text": [
      "     44/500      10.2G     0.7234     0.5978     0.9178        397        960: 100%|██████████| 2/2 [00:04<00:00,  2.47\n",
      "                 Class     Images  Instances      Box(P          R      mAP50  mAP50-95): 100%|██████████| 1/1 [00:00<0"
     ]
    },
    {
     "name": "stdout",
     "output_type": "stream",
     "text": [
      "                   all         15        199      0.172      0.478      0.286      0.192\n"
     ]
    },
    {
     "name": "stderr",
     "output_type": "stream",
     "text": [
      "\n"
     ]
    },
    {
     "name": "stdout",
     "output_type": "stream",
     "text": [
      "\n",
      "      Epoch    GPU_mem   box_loss   cls_loss   dfl_loss  Instances       Size\n"
     ]
    },
    {
     "name": "stderr",
     "output_type": "stream",
     "text": [
      "     45/500      10.4G     0.7231     0.5866     0.9235        284        960: 100%|██████████| 2/2 [00:05<00:00,  2.61\n",
      "                 Class     Images  Instances      Box(P          R      mAP50  mAP50-95): 100%|██████████| 1/1 [00:00<0"
     ]
    },
    {
     "name": "stdout",
     "output_type": "stream",
     "text": [
      "                   all         15        199      0.169      0.478      0.361      0.241\n"
     ]
    },
    {
     "name": "stderr",
     "output_type": "stream",
     "text": [
      "\n"
     ]
    },
    {
     "name": "stdout",
     "output_type": "stream",
     "text": [
      "\n",
      "      Epoch    GPU_mem   box_loss   cls_loss   dfl_loss  Instances       Size\n"
     ]
    },
    {
     "name": "stderr",
     "output_type": "stream",
     "text": [
      "     46/500      10.6G     0.7089      0.561     0.9108        407        960: 100%|██████████| 2/2 [00:05<00:00,  2.76\n",
      "                 Class     Images  Instances      Box(P          R      mAP50  mAP50-95): 100%|██████████| 1/1 [00:00<0"
     ]
    },
    {
     "name": "stdout",
     "output_type": "stream",
     "text": [
      "                   all         15        199        0.2      0.486      0.318      0.224\n"
     ]
    },
    {
     "name": "stderr",
     "output_type": "stream",
     "text": [
      "\n"
     ]
    },
    {
     "name": "stdout",
     "output_type": "stream",
     "text": [
      "\n",
      "      Epoch    GPU_mem   box_loss   cls_loss   dfl_loss  Instances       Size\n"
     ]
    },
    {
     "name": "stderr",
     "output_type": "stream",
     "text": [
      "     47/500      10.8G     0.6765     0.5372     0.8991        337        960: 100%|██████████| 2/2 [00:05<00:00,  2.83\n",
      "                 Class     Images  Instances      Box(P          R      mAP50  mAP50-95): 100%|██████████| 1/1 [00:00<0"
     ]
    },
    {
     "name": "stdout",
     "output_type": "stream",
     "text": [
      "                   all         15        199      0.304      0.465      0.404       0.27\n"
     ]
    },
    {
     "name": "stderr",
     "output_type": "stream",
     "text": [
      "\n"
     ]
    },
    {
     "name": "stdout",
     "output_type": "stream",
     "text": [
      "\n",
      "      Epoch    GPU_mem   box_loss   cls_loss   dfl_loss  Instances       Size\n"
     ]
    },
    {
     "name": "stderr",
     "output_type": "stream",
     "text": [
      "     48/500      10.6G     0.7622     0.5947     0.9258        326        960: 100%|██████████| 2/2 [00:05<00:00,  2.78\n",
      "                 Class     Images  Instances      Box(P          R      mAP50  mAP50-95): 100%|██████████| 1/1 [00:00<0"
     ]
    },
    {
     "name": "stdout",
     "output_type": "stream",
     "text": [
      "                   all         15        199      0.671      0.245      0.406       0.28\n"
     ]
    },
    {
     "name": "stderr",
     "output_type": "stream",
     "text": [
      "\n"
     ]
    },
    {
     "name": "stdout",
     "output_type": "stream",
     "text": [
      "\n",
      "      Epoch    GPU_mem   box_loss   cls_loss   dfl_loss  Instances       Size\n"
     ]
    },
    {
     "name": "stderr",
     "output_type": "stream",
     "text": [
      "     49/500      10.8G     0.7108     0.5681     0.9203        294        960: 100%|██████████| 2/2 [00:05<00:00,  2.97\n",
      "                 Class     Images  Instances      Box(P          R      mAP50  mAP50-95): 100%|██████████| 1/1 [00:00<0"
     ]
    },
    {
     "name": "stdout",
     "output_type": "stream",
     "text": [
      "                   all         15        199      0.636      0.207      0.401      0.286\n"
     ]
    },
    {
     "name": "stderr",
     "output_type": "stream",
     "text": [
      "\n"
     ]
    },
    {
     "name": "stdout",
     "output_type": "stream",
     "text": [
      "\n",
      "      Epoch    GPU_mem   box_loss   cls_loss   dfl_loss  Instances       Size\n"
     ]
    },
    {
     "name": "stderr",
     "output_type": "stream",
     "text": [
      "     50/500      10.7G     0.7779     0.5629     0.9065        395        960: 100%|██████████| 2/2 [00:05<00:00,  2.88\n",
      "                 Class     Images  Instances      Box(P          R      mAP50  mAP50-95): 100%|██████████| 1/1 [00:00<0"
     ]
    },
    {
     "name": "stdout",
     "output_type": "stream",
     "text": [
      "                   all         15        199      0.573      0.223      0.379      0.276\n"
     ]
    },
    {
     "name": "stderr",
     "output_type": "stream",
     "text": [
      "\n"
     ]
    },
    {
     "name": "stdout",
     "output_type": "stream",
     "text": [
      "\n",
      "      Epoch    GPU_mem   box_loss   cls_loss   dfl_loss  Instances       Size\n"
     ]
    },
    {
     "name": "stderr",
     "output_type": "stream",
     "text": [
      "     51/500      10.4G     0.6961      0.539     0.9155        321        960: 100%|██████████| 2/2 [00:06<00:00,  3.05\n",
      "                 Class     Images  Instances      Box(P          R      mAP50  mAP50-95): 100%|██████████| 1/1 [00:00<0"
     ]
    },
    {
     "name": "stdout",
     "output_type": "stream",
     "text": [
      "                   all         15        199      0.525      0.402      0.446      0.319\n"
     ]
    },
    {
     "name": "stderr",
     "output_type": "stream",
     "text": [
      "\n"
     ]
    },
    {
     "name": "stdout",
     "output_type": "stream",
     "text": [
      "\n",
      "      Epoch    GPU_mem   box_loss   cls_loss   dfl_loss  Instances       Size\n"
     ]
    },
    {
     "name": "stderr",
     "output_type": "stream",
     "text": [
      "     52/500      10.6G     0.7124     0.5461     0.9077        388        960: 100%|██████████| 2/2 [00:05<00:00,  2.87\n",
      "                 Class     Images  Instances      Box(P          R      mAP50  mAP50-95): 100%|██████████| 1/1 [00:00<0"
     ]
    },
    {
     "name": "stdout",
     "output_type": "stream",
     "text": [
      "                   all         15        199      0.452      0.428      0.449      0.317\n"
     ]
    },
    {
     "name": "stderr",
     "output_type": "stream",
     "text": [
      "\n"
     ]
    },
    {
     "name": "stdout",
     "output_type": "stream",
     "text": [
      "\n",
      "      Epoch    GPU_mem   box_loss   cls_loss   dfl_loss  Instances       Size\n"
     ]
    },
    {
     "name": "stderr",
     "output_type": "stream",
     "text": [
      "     53/500      10.6G      0.689     0.5356      0.918        295        960: 100%|██████████| 2/2 [00:05<00:00,  2.88\n",
      "                 Class     Images  Instances      Box(P          R      mAP50  mAP50-95): 100%|██████████| 1/1 [00:00<0"
     ]
    },
    {
     "name": "stdout",
     "output_type": "stream",
     "text": [
      "                   all         15        199      0.411      0.531      0.425      0.331\n"
     ]
    },
    {
     "name": "stderr",
     "output_type": "stream",
     "text": [
      "\n"
     ]
    },
    {
     "name": "stdout",
     "output_type": "stream",
     "text": [
      "\n",
      "      Epoch    GPU_mem   box_loss   cls_loss   dfl_loss  Instances       Size\n"
     ]
    },
    {
     "name": "stderr",
     "output_type": "stream",
     "text": [
      "     54/500      10.2G     0.7219     0.5515     0.9173        308        960: 100%|██████████| 2/2 [00:05<00:00,  2.53\n",
      "                 Class     Images  Instances      Box(P          R      mAP50  mAP50-95): 100%|██████████| 1/1 [00:00<0"
     ]
    },
    {
     "name": "stdout",
     "output_type": "stream",
     "text": [
      "                   all         15        199      0.373      0.502      0.463      0.361\n"
     ]
    },
    {
     "name": "stderr",
     "output_type": "stream",
     "text": [
      "\n"
     ]
    },
    {
     "name": "stdout",
     "output_type": "stream",
     "text": [
      "\n",
      "      Epoch    GPU_mem   box_loss   cls_loss   dfl_loss  Instances       Size\n"
     ]
    },
    {
     "name": "stderr",
     "output_type": "stream",
     "text": [
      "     55/500      10.4G     0.6796     0.5326     0.8879        404        960: 100%|██████████| 2/2 [00:05<00:00,  2.70\n",
      "                 Class     Images  Instances      Box(P          R      mAP50  mAP50-95): 100%|██████████| 1/1 [00:00<0"
     ]
    },
    {
     "name": "stdout",
     "output_type": "stream",
     "text": [
      "                   all         15        199      0.371      0.685      0.596      0.444\n"
     ]
    },
    {
     "name": "stderr",
     "output_type": "stream",
     "text": [
      "\n"
     ]
    },
    {
     "name": "stdout",
     "output_type": "stream",
     "text": [
      "\n",
      "      Epoch    GPU_mem   box_loss   cls_loss   dfl_loss  Instances       Size\n"
     ]
    },
    {
     "name": "stderr",
     "output_type": "stream",
     "text": [
      "     56/500      10.3G     0.7083     0.5308     0.8984        320        960: 100%|██████████| 2/2 [00:05<00:00,  2.62\n",
      "                 Class     Images  Instances      Box(P          R      mAP50  mAP50-95): 100%|██████████| 1/1 [00:00<0"
     ]
    },
    {
     "name": "stdout",
     "output_type": "stream",
     "text": [
      "                   all         15        199      0.382       0.83      0.638      0.478\n"
     ]
    },
    {
     "name": "stderr",
     "output_type": "stream",
     "text": [
      "\n"
     ]
    },
    {
     "name": "stdout",
     "output_type": "stream",
     "text": [
      "\n",
      "      Epoch    GPU_mem   box_loss   cls_loss   dfl_loss  Instances       Size\n"
     ]
    },
    {
     "name": "stderr",
     "output_type": "stream",
     "text": [
      "     57/500      10.6G     0.6375     0.4947     0.8798        393        960: 100%|██████████| 2/2 [00:05<00:00,  2.86\n",
      "                 Class     Images  Instances      Box(P          R      mAP50  mAP50-95): 100%|██████████| 1/1 [00:00<0"
     ]
    },
    {
     "name": "stdout",
     "output_type": "stream",
     "text": [
      "                   all         15        199      0.482      0.943      0.781      0.606\n"
     ]
    },
    {
     "name": "stderr",
     "output_type": "stream",
     "text": [
      "\n"
     ]
    },
    {
     "name": "stdout",
     "output_type": "stream",
     "text": [
      "\n",
      "      Epoch    GPU_mem   box_loss   cls_loss   dfl_loss  Instances       Size\n"
     ]
    },
    {
     "name": "stderr",
     "output_type": "stream",
     "text": [
      "     58/500      10.6G     0.6519     0.5011     0.8946        343        960: 100%|██████████| 2/2 [00:05<00:00,  2.84\n",
      "                 Class     Images  Instances      Box(P          R      mAP50  mAP50-95): 100%|██████████| 1/1 [00:00<0"
     ]
    },
    {
     "name": "stdout",
     "output_type": "stream",
     "text": [
      "                   all         15        199      0.682       0.71       0.74      0.571\n"
     ]
    },
    {
     "name": "stderr",
     "output_type": "stream",
     "text": [
      "\n"
     ]
    },
    {
     "name": "stdout",
     "output_type": "stream",
     "text": [
      "\n",
      "      Epoch    GPU_mem   box_loss   cls_loss   dfl_loss  Instances       Size\n"
     ]
    },
    {
     "name": "stderr",
     "output_type": "stream",
     "text": [
      "     59/500      10.2G      0.593     0.4759     0.8934        299        960: 100%|██████████| 2/2 [00:05<00:00,  2.56\n",
      "                 Class     Images  Instances      Box(P          R      mAP50  mAP50-95): 100%|██████████| 1/1 [00:00<0"
     ]
    },
    {
     "name": "stdout",
     "output_type": "stream",
     "text": [
      "                   all         15        199      0.727        0.7      0.743      0.571\n"
     ]
    },
    {
     "name": "stderr",
     "output_type": "stream",
     "text": [
      "\n"
     ]
    },
    {
     "name": "stdout",
     "output_type": "stream",
     "text": [
      "\n",
      "      Epoch    GPU_mem   box_loss   cls_loss   dfl_loss  Instances       Size\n"
     ]
    },
    {
     "name": "stderr",
     "output_type": "stream",
     "text": [
      "     60/500      10.5G     0.6344     0.4889     0.8959        342        960: 100%|██████████| 2/2 [00:04<00:00,  2.50\n",
      "                 Class     Images  Instances      Box(P          R      mAP50  mAP50-95): 100%|██████████| 1/1 [00:00<0"
     ]
    },
    {
     "name": "stdout",
     "output_type": "stream",
     "text": [
      "                   all         15        199      0.753      0.549      0.721      0.555\n"
     ]
    },
    {
     "name": "stderr",
     "output_type": "stream",
     "text": [
      "\n"
     ]
    },
    {
     "name": "stdout",
     "output_type": "stream",
     "text": [
      "\n",
      "      Epoch    GPU_mem   box_loss   cls_loss   dfl_loss  Instances       Size\n"
     ]
    },
    {
     "name": "stderr",
     "output_type": "stream",
     "text": [
      "     61/500      10.7G     0.6354     0.5086     0.8899        378        960: 100%|██████████| 2/2 [00:05<00:00,  2.75\n",
      "                 Class     Images  Instances      Box(P          R      mAP50  mAP50-95): 100%|██████████| 1/1 [00:00<0"
     ]
    },
    {
     "name": "stdout",
     "output_type": "stream",
     "text": [
      "                   all         15        199      0.819      0.559      0.723      0.547\n"
     ]
    },
    {
     "name": "stderr",
     "output_type": "stream",
     "text": [
      "\n"
     ]
    },
    {
     "name": "stdout",
     "output_type": "stream",
     "text": [
      "\n",
      "      Epoch    GPU_mem   box_loss   cls_loss   dfl_loss  Instances       Size\n"
     ]
    },
    {
     "name": "stderr",
     "output_type": "stream",
     "text": [
      "     62/500      10.7G     0.6679     0.4965     0.8864        377        960: 100%|██████████| 2/2 [00:05<00:00,  2.85\n",
      "                 Class     Images  Instances      Box(P          R      mAP50  mAP50-95): 100%|██████████| 1/1 [00:00<0"
     ]
    },
    {
     "name": "stdout",
     "output_type": "stream",
     "text": [
      "                   all         15        199      0.839      0.512      0.708      0.495\n"
     ]
    },
    {
     "name": "stderr",
     "output_type": "stream",
     "text": [
      "\n"
     ]
    },
    {
     "name": "stdout",
     "output_type": "stream",
     "text": [
      "\n",
      "      Epoch    GPU_mem   box_loss   cls_loss   dfl_loss  Instances       Size\n"
     ]
    },
    {
     "name": "stderr",
     "output_type": "stream",
     "text": [
      "     63/500      10.6G     0.6358     0.4949     0.8978        247        960: 100%|██████████| 2/2 [00:05<00:00,  2.71\n",
      "                 Class     Images  Instances      Box(P          R      mAP50  mAP50-95): 100%|██████████| 1/1 [00:00<0"
     ]
    },
    {
     "name": "stdout",
     "output_type": "stream",
     "text": [
      "                   all         15        199      0.719      0.633      0.748      0.567\n"
     ]
    },
    {
     "name": "stderr",
     "output_type": "stream",
     "text": [
      "\n"
     ]
    },
    {
     "name": "stdout",
     "output_type": "stream",
     "text": [
      "\n",
      "      Epoch    GPU_mem   box_loss   cls_loss   dfl_loss  Instances       Size\n"
     ]
    },
    {
     "name": "stderr",
     "output_type": "stream",
     "text": [
      "     64/500      10.4G     0.6412     0.5039     0.9143        302        960: 100%|██████████| 2/2 [00:05<00:00,  2.62\n",
      "                 Class     Images  Instances      Box(P          R      mAP50  mAP50-95): 100%|██████████| 1/1 [00:00<0"
     ]
    },
    {
     "name": "stdout",
     "output_type": "stream",
     "text": [
      "                   all         15        199      0.569       0.83      0.763      0.616\n"
     ]
    },
    {
     "name": "stderr",
     "output_type": "stream",
     "text": [
      "\n"
     ]
    },
    {
     "name": "stdout",
     "output_type": "stream",
     "text": [
      "\n",
      "      Epoch    GPU_mem   box_loss   cls_loss   dfl_loss  Instances       Size\n"
     ]
    },
    {
     "name": "stderr",
     "output_type": "stream",
     "text": [
      "     65/500      10.6G     0.6641     0.4984     0.8785        354        960: 100%|██████████| 2/2 [00:05<00:00,  2.80\n",
      "                 Class     Images  Instances      Box(P          R      mAP50  mAP50-95): 100%|██████████| 1/1 [00:00<0"
     ]
    },
    {
     "name": "stdout",
     "output_type": "stream",
     "text": [
      "                   all         15        199      0.534      0.799      0.786      0.601\n"
     ]
    },
    {
     "name": "stderr",
     "output_type": "stream",
     "text": [
      "\n"
     ]
    },
    {
     "name": "stdout",
     "output_type": "stream",
     "text": [
      "\n",
      "      Epoch    GPU_mem   box_loss   cls_loss   dfl_loss  Instances       Size\n"
     ]
    },
    {
     "name": "stderr",
     "output_type": "stream",
     "text": [
      "     66/500      10.4G     0.6891     0.5028     0.9198        248        960: 100%|██████████| 2/2 [00:05<00:00,  2.68\n",
      "                 Class     Images  Instances      Box(P          R      mAP50  mAP50-95): 100%|██████████| 1/1 [00:00<0"
     ]
    },
    {
     "name": "stdout",
     "output_type": "stream",
     "text": [
      "                   all         15        199      0.602       0.84      0.838      0.665\n"
     ]
    },
    {
     "name": "stderr",
     "output_type": "stream",
     "text": [
      "\n"
     ]
    },
    {
     "name": "stdout",
     "output_type": "stream",
     "text": [
      "\n",
      "      Epoch    GPU_mem   box_loss   cls_loss   dfl_loss  Instances       Size\n"
     ]
    },
    {
     "name": "stderr",
     "output_type": "stream",
     "text": [
      "     67/500      10.6G     0.6391     0.4802     0.8898        349        960: 100%|██████████| 2/2 [00:05<00:00,  2.77\n",
      "                 Class     Images  Instances      Box(P          R      mAP50  mAP50-95): 100%|██████████| 1/1 [00:00<0"
     ]
    },
    {
     "name": "stdout",
     "output_type": "stream",
     "text": [
      "                   all         15        199      0.564      0.878      0.846      0.691\n"
     ]
    },
    {
     "name": "stderr",
     "output_type": "stream",
     "text": [
      "\n"
     ]
    },
    {
     "name": "stdout",
     "output_type": "stream",
     "text": [
      "\n",
      "      Epoch    GPU_mem   box_loss   cls_loss   dfl_loss  Instances       Size\n"
     ]
    },
    {
     "name": "stderr",
     "output_type": "stream",
     "text": [
      "     68/500      10.7G     0.6336     0.4622     0.8918        340        960: 100%|██████████| 2/2 [00:05<00:00,  2.93\n",
      "                 Class     Images  Instances      Box(P          R      mAP50  mAP50-95): 100%|██████████| 1/1 [00:00<0"
     ]
    },
    {
     "name": "stdout",
     "output_type": "stream",
     "text": [
      "                   all         15        199      0.696      0.728      0.846      0.681\n"
     ]
    },
    {
     "name": "stderr",
     "output_type": "stream",
     "text": [
      "\n"
     ]
    },
    {
     "name": "stdout",
     "output_type": "stream",
     "text": [
      "\n",
      "      Epoch    GPU_mem   box_loss   cls_loss   dfl_loss  Instances       Size\n"
     ]
    },
    {
     "name": "stderr",
     "output_type": "stream",
     "text": [
      "     69/500      10.7G     0.6444     0.4683     0.8838        328        960: 100%|██████████| 2/2 [00:05<00:00,  2.86\n",
      "                 Class     Images  Instances      Box(P          R      mAP50  mAP50-95): 100%|██████████| 1/1 [00:00<0"
     ]
    },
    {
     "name": "stdout",
     "output_type": "stream",
     "text": [
      "                   all         15        199      0.709      0.711      0.897      0.725\n"
     ]
    },
    {
     "name": "stderr",
     "output_type": "stream",
     "text": [
      "\n"
     ]
    },
    {
     "name": "stdout",
     "output_type": "stream",
     "text": [
      "\n",
      "      Epoch    GPU_mem   box_loss   cls_loss   dfl_loss  Instances       Size\n"
     ]
    },
    {
     "name": "stderr",
     "output_type": "stream",
     "text": [
      "     70/500      10.5G     0.6164     0.4717     0.8795        324        960: 100%|██████████| 2/2 [00:05<00:00,  2.69\n",
      "                 Class     Images  Instances      Box(P          R      mAP50  mAP50-95): 100%|██████████| 1/1 [00:00<0"
     ]
    },
    {
     "name": "stdout",
     "output_type": "stream",
     "text": [
      "                   all         15        199      0.549      0.902      0.892      0.755\n"
     ]
    },
    {
     "name": "stderr",
     "output_type": "stream",
     "text": [
      "\n"
     ]
    },
    {
     "name": "stdout",
     "output_type": "stream",
     "text": [
      "\n",
      "      Epoch    GPU_mem   box_loss   cls_loss   dfl_loss  Instances       Size\n"
     ]
    },
    {
     "name": "stderr",
     "output_type": "stream",
     "text": [
      "     71/500      10.7G     0.6688     0.4855     0.8698        417        960: 100%|██████████| 2/2 [00:05<00:00,  2.90\n",
      "                 Class     Images  Instances      Box(P          R      mAP50  mAP50-95): 100%|██████████| 1/1 [00:00<0"
     ]
    },
    {
     "name": "stdout",
     "output_type": "stream",
     "text": [
      "                   all         15        199      0.631      0.874      0.925      0.749\n"
     ]
    },
    {
     "name": "stderr",
     "output_type": "stream",
     "text": [
      "\n"
     ]
    },
    {
     "name": "stdout",
     "output_type": "stream",
     "text": [
      "\n",
      "      Epoch    GPU_mem   box_loss   cls_loss   dfl_loss  Instances       Size\n"
     ]
    },
    {
     "name": "stderr",
     "output_type": "stream",
     "text": [
      "     72/500      10.5G     0.6341      0.465      0.888        373        960: 100%|██████████| 2/2 [00:06<00:00,  3.16\n",
      "                 Class     Images  Instances      Box(P          R      mAP50  mAP50-95): 100%|██████████| 1/1 [00:00<0"
     ]
    },
    {
     "name": "stdout",
     "output_type": "stream",
     "text": [
      "                   all         15        199      0.691      0.818      0.925      0.763\n"
     ]
    },
    {
     "name": "stderr",
     "output_type": "stream",
     "text": [
      "\n"
     ]
    },
    {
     "name": "stdout",
     "output_type": "stream",
     "text": [
      "\n",
      "      Epoch    GPU_mem   box_loss   cls_loss   dfl_loss  Instances       Size\n"
     ]
    },
    {
     "name": "stderr",
     "output_type": "stream",
     "text": [
      "     73/500      10.5G      0.621     0.4592     0.8698        450        960: 100%|██████████| 2/2 [00:05<00:00,  2.83\n",
      "                 Class     Images  Instances      Box(P          R      mAP50  mAP50-95): 100%|██████████| 1/1 [00:00<0"
     ]
    },
    {
     "name": "stdout",
     "output_type": "stream",
     "text": [
      "                   all         15        199      0.735      0.817      0.932      0.783\n"
     ]
    },
    {
     "name": "stderr",
     "output_type": "stream",
     "text": [
      "\n"
     ]
    },
    {
     "name": "stdout",
     "output_type": "stream",
     "text": [
      "\n",
      "      Epoch    GPU_mem   box_loss   cls_loss   dfl_loss  Instances       Size\n"
     ]
    },
    {
     "name": "stderr",
     "output_type": "stream",
     "text": [
      "     74/500      10.5G     0.5977     0.4573      0.884        333        960: 100%|██████████| 2/2 [00:05<00:00,  2.74\n",
      "                 Class     Images  Instances      Box(P          R      mAP50  mAP50-95): 100%|██████████| 1/1 [00:00<0"
     ]
    },
    {
     "name": "stdout",
     "output_type": "stream",
     "text": [
      "                   all         15        199      0.665      0.877      0.946      0.794\n"
     ]
    },
    {
     "name": "stderr",
     "output_type": "stream",
     "text": [
      "\n"
     ]
    },
    {
     "name": "stdout",
     "output_type": "stream",
     "text": [
      "\n",
      "      Epoch    GPU_mem   box_loss   cls_loss   dfl_loss  Instances       Size\n"
     ]
    },
    {
     "name": "stderr",
     "output_type": "stream",
     "text": [
      "     75/500      10.6G     0.6413      0.472     0.8672        435        960: 100%|██████████| 2/2 [00:06<00:00,  3.35\n",
      "                 Class     Images  Instances      Box(P          R      mAP50  mAP50-95): 100%|██████████| 1/1 [00:00<0"
     ]
    },
    {
     "name": "stdout",
     "output_type": "stream",
     "text": [
      "                   all         15        199      0.703      0.949      0.968      0.791\n"
     ]
    },
    {
     "name": "stderr",
     "output_type": "stream",
     "text": [
      "\n"
     ]
    },
    {
     "name": "stdout",
     "output_type": "stream",
     "text": [
      "\n",
      "      Epoch    GPU_mem   box_loss   cls_loss   dfl_loss  Instances       Size\n"
     ]
    },
    {
     "name": "stderr",
     "output_type": "stream",
     "text": [
      "     76/500      10.7G     0.6233     0.4598     0.8972        378        960: 100%|██████████| 2/2 [00:06<00:00,  3.08\n",
      "                 Class     Images  Instances      Box(P          R      mAP50  mAP50-95): 100%|██████████| 1/1 [00:00<0"
     ]
    },
    {
     "name": "stdout",
     "output_type": "stream",
     "text": [
      "                   all         15        199      0.724      0.911      0.969      0.787\n"
     ]
    },
    {
     "name": "stderr",
     "output_type": "stream",
     "text": [
      "\n"
     ]
    },
    {
     "name": "stdout",
     "output_type": "stream",
     "text": [
      "\n",
      "      Epoch    GPU_mem   box_loss   cls_loss   dfl_loss  Instances       Size\n"
     ]
    },
    {
     "name": "stderr",
     "output_type": "stream",
     "text": [
      "     77/500      10.5G      0.613     0.4459     0.8582        416        960: 100%|██████████| 2/2 [00:06<00:00,  3.16\n",
      "                 Class     Images  Instances      Box(P          R      mAP50  mAP50-95): 100%|██████████| 1/1 [00:00<0"
     ]
    },
    {
     "name": "stdout",
     "output_type": "stream",
     "text": [
      "                   all         15        199      0.713      0.882      0.968      0.794\n"
     ]
    },
    {
     "name": "stderr",
     "output_type": "stream",
     "text": [
      "\n"
     ]
    },
    {
     "name": "stdout",
     "output_type": "stream",
     "text": [
      "\n",
      "      Epoch    GPU_mem   box_loss   cls_loss   dfl_loss  Instances       Size\n"
     ]
    },
    {
     "name": "stderr",
     "output_type": "stream",
     "text": [
      "     78/500      10.3G     0.6173     0.4635     0.8753        272        960: 100%|██████████| 2/2 [00:05<00:00,  2.69\n",
      "                 Class     Images  Instances      Box(P          R      mAP50  mAP50-95): 100%|██████████| 1/1 [00:00<0"
     ]
    },
    {
     "name": "stdout",
     "output_type": "stream",
     "text": [
      "                   all         15        199      0.721      0.821      0.944      0.723\n"
     ]
    },
    {
     "name": "stderr",
     "output_type": "stream",
     "text": [
      "\n"
     ]
    },
    {
     "name": "stdout",
     "output_type": "stream",
     "text": [
      "\n",
      "      Epoch    GPU_mem   box_loss   cls_loss   dfl_loss  Instances       Size\n"
     ]
    },
    {
     "name": "stderr",
     "output_type": "stream",
     "text": [
      "     79/500      10.7G     0.6328     0.4625     0.9038        333        960: 100%|██████████| 2/2 [00:06<00:00,  3.07\n",
      "                 Class     Images  Instances      Box(P          R      mAP50  mAP50-95): 100%|██████████| 1/1 [00:00<0"
     ]
    },
    {
     "name": "stdout",
     "output_type": "stream",
     "text": [
      "                   all         15        199      0.676        0.8      0.877      0.692\n"
     ]
    },
    {
     "name": "stderr",
     "output_type": "stream",
     "text": [
      "\n"
     ]
    },
    {
     "name": "stdout",
     "output_type": "stream",
     "text": [
      "\n",
      "      Epoch    GPU_mem   box_loss   cls_loss   dfl_loss  Instances       Size\n"
     ]
    },
    {
     "name": "stderr",
     "output_type": "stream",
     "text": [
      "     80/500      10.7G     0.6145     0.4657     0.8999        278        960: 100%|██████████| 2/2 [00:05<00:00,  2.68\n",
      "                 Class     Images  Instances      Box(P          R      mAP50  mAP50-95): 100%|██████████| 1/1 [00:00<0"
     ]
    },
    {
     "name": "stdout",
     "output_type": "stream",
     "text": [
      "                   all         15        199      0.718       0.78       0.88      0.728\n"
     ]
    },
    {
     "name": "stderr",
     "output_type": "stream",
     "text": [
      "\n"
     ]
    },
    {
     "name": "stdout",
     "output_type": "stream",
     "text": [
      "\n",
      "      Epoch    GPU_mem   box_loss   cls_loss   dfl_loss  Instances       Size\n"
     ]
    },
    {
     "name": "stderr",
     "output_type": "stream",
     "text": [
      "     81/500      10.4G     0.6299     0.4807     0.8898        295        960: 100%|██████████| 2/2 [00:04<00:00,  2.44\n",
      "                 Class     Images  Instances      Box(P          R      mAP50  mAP50-95): 100%|██████████| 1/1 [00:00<0"
     ]
    },
    {
     "name": "stdout",
     "output_type": "stream",
     "text": [
      "                   all         15        199      0.881      0.796      0.939      0.758\n"
     ]
    },
    {
     "name": "stderr",
     "output_type": "stream",
     "text": [
      "\n"
     ]
    },
    {
     "name": "stdout",
     "output_type": "stream",
     "text": [
      "\n",
      "      Epoch    GPU_mem   box_loss   cls_loss   dfl_loss  Instances       Size\n"
     ]
    },
    {
     "name": "stderr",
     "output_type": "stream",
     "text": [
      "     82/500      10.5G     0.6038     0.4428     0.8632        415        960: 100%|██████████| 2/2 [00:05<00:00,  2.55\n",
      "                 Class     Images  Instances      Box(P          R      mAP50  mAP50-95): 100%|██████████| 1/1 [00:00<0"
     ]
    },
    {
     "name": "stdout",
     "output_type": "stream",
     "text": [
      "                   all         15        199      0.811      0.866      0.968       0.78\n"
     ]
    },
    {
     "name": "stderr",
     "output_type": "stream",
     "text": [
      "\n"
     ]
    },
    {
     "name": "stdout",
     "output_type": "stream",
     "text": [
      "\n",
      "      Epoch    GPU_mem   box_loss   cls_loss   dfl_loss  Instances       Size\n"
     ]
    },
    {
     "name": "stderr",
     "output_type": "stream",
     "text": [
      "     83/500      10.5G     0.6605     0.4766     0.8912        224        960: 100%|██████████| 2/2 [00:05<00:00,  2.62\n",
      "                 Class     Images  Instances      Box(P          R      mAP50  mAP50-95): 100%|██████████| 1/1 [00:00<0"
     ]
    },
    {
     "name": "stdout",
     "output_type": "stream",
     "text": [
      "                   all         15        199      0.793      0.858      0.966      0.794\n"
     ]
    },
    {
     "name": "stderr",
     "output_type": "stream",
     "text": [
      "\n"
     ]
    },
    {
     "name": "stdout",
     "output_type": "stream",
     "text": [
      "\n",
      "      Epoch    GPU_mem   box_loss   cls_loss   dfl_loss  Instances       Size\n"
     ]
    },
    {
     "name": "stderr",
     "output_type": "stream",
     "text": [
      "     84/500      10.8G     0.6074     0.4568     0.8834        333        960: 100%|██████████| 2/2 [00:05<00:00,  2.94\n",
      "                 Class     Images  Instances      Box(P          R      mAP50  mAP50-95): 100%|██████████| 1/1 [00:00<0"
     ]
    },
    {
     "name": "stdout",
     "output_type": "stream",
     "text": [
      "                   all         15        199       0.82      0.918      0.973      0.818\n"
     ]
    },
    {
     "name": "stderr",
     "output_type": "stream",
     "text": [
      "\n"
     ]
    },
    {
     "name": "stdout",
     "output_type": "stream",
     "text": [
      "\n",
      "      Epoch    GPU_mem   box_loss   cls_loss   dfl_loss  Instances       Size\n"
     ]
    },
    {
     "name": "stderr",
     "output_type": "stream",
     "text": [
      "     85/500      10.6G     0.6148     0.4471     0.9006        276        960: 100%|██████████| 2/2 [00:05<00:00,  2.81\n",
      "                 Class     Images  Instances      Box(P          R      mAP50  mAP50-95): 100%|██████████| 1/1 [00:00<0"
     ]
    },
    {
     "name": "stdout",
     "output_type": "stream",
     "text": [
      "                   all         15        199       0.81      0.917       0.96      0.803\n"
     ]
    },
    {
     "name": "stderr",
     "output_type": "stream",
     "text": [
      "\n"
     ]
    },
    {
     "name": "stdout",
     "output_type": "stream",
     "text": [
      "\n",
      "      Epoch    GPU_mem   box_loss   cls_loss   dfl_loss  Instances       Size\n"
     ]
    },
    {
     "name": "stderr",
     "output_type": "stream",
     "text": [
      "     86/500      10.4G     0.6108     0.4598     0.8802        368        960: 100%|██████████| 2/2 [00:05<00:00,  2.61\n",
      "                 Class     Images  Instances      Box(P          R      mAP50  mAP50-95): 100%|██████████| 1/1 [00:00<0"
     ]
    },
    {
     "name": "stdout",
     "output_type": "stream",
     "text": [
      "                   all         15        199      0.789      0.953      0.961      0.784\n"
     ]
    },
    {
     "name": "stderr",
     "output_type": "stream",
     "text": [
      "\n"
     ]
    },
    {
     "name": "stdout",
     "output_type": "stream",
     "text": [
      "\n",
      "      Epoch    GPU_mem   box_loss   cls_loss   dfl_loss  Instances       Size\n"
     ]
    },
    {
     "name": "stderr",
     "output_type": "stream",
     "text": [
      "     87/500      10.6G     0.6326     0.4325     0.8709        377        960: 100%|██████████| 2/2 [00:05<00:00,  2.79\n",
      "                 Class     Images  Instances      Box(P          R      mAP50  mAP50-95): 100%|██████████| 1/1 [00:00<0"
     ]
    },
    {
     "name": "stdout",
     "output_type": "stream",
     "text": [
      "                   all         15        199      0.852      0.879      0.948      0.784\n"
     ]
    },
    {
     "name": "stderr",
     "output_type": "stream",
     "text": [
      "\n"
     ]
    },
    {
     "name": "stdout",
     "output_type": "stream",
     "text": [
      "\n",
      "      Epoch    GPU_mem   box_loss   cls_loss   dfl_loss  Instances       Size\n"
     ]
    },
    {
     "name": "stderr",
     "output_type": "stream",
     "text": [
      "     88/500      10.7G     0.6016     0.4497     0.8848        306        960: 100%|██████████| 2/2 [00:05<00:00,  2.98\n",
      "                 Class     Images  Instances      Box(P          R      mAP50  mAP50-95): 100%|██████████| 1/1 [00:00<0"
     ]
    },
    {
     "name": "stdout",
     "output_type": "stream",
     "text": [
      "                   all         15        199      0.883      0.877      0.972      0.842\n"
     ]
    },
    {
     "name": "stderr",
     "output_type": "stream",
     "text": [
      "\n"
     ]
    },
    {
     "name": "stdout",
     "output_type": "stream",
     "text": [
      "\n",
      "      Epoch    GPU_mem   box_loss   cls_loss   dfl_loss  Instances       Size\n"
     ]
    },
    {
     "name": "stderr",
     "output_type": "stream",
     "text": [
      "     89/500      10.4G      0.633     0.4539     0.8883        348        960: 100%|██████████| 2/2 [00:05<00:00,  2.59\n",
      "                 Class     Images  Instances      Box(P          R      mAP50  mAP50-95): 100%|██████████| 1/1 [00:00<0"
     ]
    },
    {
     "name": "stdout",
     "output_type": "stream",
     "text": [
      "                   all         15        199      0.881      0.889      0.973      0.847\n"
     ]
    },
    {
     "name": "stderr",
     "output_type": "stream",
     "text": [
      "\n"
     ]
    },
    {
     "name": "stdout",
     "output_type": "stream",
     "text": [
      "\n",
      "      Epoch    GPU_mem   box_loss   cls_loss   dfl_loss  Instances       Size\n"
     ]
    },
    {
     "name": "stderr",
     "output_type": "stream",
     "text": [
      "     90/500      10.3G     0.6168     0.4661     0.8847        437        960: 100%|██████████| 2/2 [00:05<00:00,  2.56\n",
      "                 Class     Images  Instances      Box(P          R      mAP50  mAP50-95): 100%|██████████| 1/1 [00:00<0"
     ]
    },
    {
     "name": "stdout",
     "output_type": "stream",
     "text": [
      "                   all         15        199       0.84      0.939      0.972      0.837\n"
     ]
    },
    {
     "name": "stderr",
     "output_type": "stream",
     "text": [
      "\n"
     ]
    },
    {
     "name": "stdout",
     "output_type": "stream",
     "text": [
      "\n",
      "      Epoch    GPU_mem   box_loss   cls_loss   dfl_loss  Instances       Size\n"
     ]
    },
    {
     "name": "stderr",
     "output_type": "stream",
     "text": [
      "     91/500      10.6G     0.5903     0.4434     0.8661        320        960: 100%|██████████| 2/2 [00:05<00:00,  2.70\n",
      "                 Class     Images  Instances      Box(P          R      mAP50  mAP50-95): 100%|██████████| 1/1 [00:00<0"
     ]
    },
    {
     "name": "stdout",
     "output_type": "stream",
     "text": [
      "                   all         15        199       0.86      0.921      0.956      0.819\n"
     ]
    },
    {
     "name": "stderr",
     "output_type": "stream",
     "text": [
      "\n"
     ]
    },
    {
     "name": "stdout",
     "output_type": "stream",
     "text": [
      "\n",
      "      Epoch    GPU_mem   box_loss   cls_loss   dfl_loss  Instances       Size\n"
     ]
    },
    {
     "name": "stderr",
     "output_type": "stream",
     "text": [
      "     92/500      10.6G     0.6041      0.428     0.8704        346        960: 100%|██████████| 2/2 [00:05<00:00,  2.82\n",
      "                 Class     Images  Instances      Box(P          R      mAP50  mAP50-95): 100%|██████████| 1/1 [00:00<0"
     ]
    },
    {
     "name": "stdout",
     "output_type": "stream",
     "text": [
      "                   all         15        199      0.846      0.914      0.983      0.858\n"
     ]
    },
    {
     "name": "stderr",
     "output_type": "stream",
     "text": [
      "\n"
     ]
    },
    {
     "name": "stdout",
     "output_type": "stream",
     "text": [
      "\n",
      "      Epoch    GPU_mem   box_loss   cls_loss   dfl_loss  Instances       Size\n"
     ]
    },
    {
     "name": "stderr",
     "output_type": "stream",
     "text": [
      "     93/500      10.5G     0.5959     0.4246     0.8718        337        960: 100%|██████████| 2/2 [00:05<00:00,  2.73\n",
      "                 Class     Images  Instances      Box(P          R      mAP50  mAP50-95): 100%|██████████| 1/1 [00:00<0"
     ]
    },
    {
     "name": "stdout",
     "output_type": "stream",
     "text": [
      "                   all         15        199      0.913      0.842      0.965       0.84\n"
     ]
    },
    {
     "name": "stderr",
     "output_type": "stream",
     "text": [
      "\n"
     ]
    },
    {
     "name": "stdout",
     "output_type": "stream",
     "text": [
      "\n",
      "      Epoch    GPU_mem   box_loss   cls_loss   dfl_loss  Instances       Size\n"
     ]
    },
    {
     "name": "stderr",
     "output_type": "stream",
     "text": [
      "     94/500      10.3G     0.6054     0.4337     0.8747        367        960: 100%|██████████| 2/2 [00:05<00:00,  2.56\n",
      "                 Class     Images  Instances      Box(P          R      mAP50  mAP50-95): 100%|██████████| 1/1 [00:00<0"
     ]
    },
    {
     "name": "stdout",
     "output_type": "stream",
     "text": [
      "                   all         15        199       0.87      0.884      0.949       0.82\n"
     ]
    },
    {
     "name": "stderr",
     "output_type": "stream",
     "text": [
      "\n"
     ]
    },
    {
     "name": "stdout",
     "output_type": "stream",
     "text": [
      "\n",
      "      Epoch    GPU_mem   box_loss   cls_loss   dfl_loss  Instances       Size\n"
     ]
    },
    {
     "name": "stderr",
     "output_type": "stream",
     "text": [
      "     95/500      10.6G     0.5695     0.4063     0.8611        453        960: 100%|██████████| 2/2 [00:05<00:00,  2.77\n",
      "                 Class     Images  Instances      Box(P          R      mAP50  mAP50-95): 100%|██████████| 1/1 [00:00<0"
     ]
    },
    {
     "name": "stdout",
     "output_type": "stream",
     "text": [
      "                   all         15        199      0.858      0.894      0.949      0.819\n"
     ]
    },
    {
     "name": "stderr",
     "output_type": "stream",
     "text": [
      "\n"
     ]
    },
    {
     "name": "stdout",
     "output_type": "stream",
     "text": [
      "\n",
      "      Epoch    GPU_mem   box_loss   cls_loss   dfl_loss  Instances       Size\n"
     ]
    },
    {
     "name": "stderr",
     "output_type": "stream",
     "text": [
      "     96/500      10.4G     0.5783     0.4183     0.8616        364        960: 100%|██████████| 2/2 [00:05<00:00,  2.62\n",
      "                 Class     Images  Instances      Box(P          R      mAP50  mAP50-95): 100%|██████████| 1/1 [00:00<0"
     ]
    },
    {
     "name": "stdout",
     "output_type": "stream",
     "text": [
      "                   all         15        199      0.846      0.898      0.969      0.848\n"
     ]
    },
    {
     "name": "stderr",
     "output_type": "stream",
     "text": [
      "\n"
     ]
    },
    {
     "name": "stdout",
     "output_type": "stream",
     "text": [
      "\n",
      "      Epoch    GPU_mem   box_loss   cls_loss   dfl_loss  Instances       Size\n"
     ]
    },
    {
     "name": "stderr",
     "output_type": "stream",
     "text": [
      "     97/500      10.5G       0.57     0.4145     0.8689        340        960: 100%|██████████| 2/2 [00:05<00:00,  2.66\n",
      "                 Class     Images  Instances      Box(P          R      mAP50  mAP50-95): 100%|██████████| 1/1 [00:00<0"
     ]
    },
    {
     "name": "stdout",
     "output_type": "stream",
     "text": [
      "                   all         15        199      0.901      0.888      0.984      0.865\n"
     ]
    },
    {
     "name": "stderr",
     "output_type": "stream",
     "text": [
      "\n"
     ]
    },
    {
     "name": "stdout",
     "output_type": "stream",
     "text": [
      "\n",
      "      Epoch    GPU_mem   box_loss   cls_loss   dfl_loss  Instances       Size\n"
     ]
    },
    {
     "name": "stderr",
     "output_type": "stream",
     "text": [
      "     98/500      10.6G     0.5636     0.4091     0.8689        403        960: 100%|██████████| 2/2 [00:05<00:00,  2.78\n",
      "                 Class     Images  Instances      Box(P          R      mAP50  mAP50-95): 100%|██████████| 1/1 [00:00<0"
     ]
    },
    {
     "name": "stdout",
     "output_type": "stream",
     "text": [
      "                   all         15        199      0.891      0.941      0.992      0.865\n"
     ]
    },
    {
     "name": "stderr",
     "output_type": "stream",
     "text": [
      "\n"
     ]
    },
    {
     "name": "stdout",
     "output_type": "stream",
     "text": [
      "\n",
      "      Epoch    GPU_mem   box_loss   cls_loss   dfl_loss  Instances       Size\n"
     ]
    },
    {
     "name": "stderr",
     "output_type": "stream",
     "text": [
      "     99/500      10.4G     0.5499     0.3894     0.8532        330        960: 100%|██████████| 2/2 [00:05<00:00,  2.63\n",
      "                 Class     Images  Instances      Box(P          R      mAP50  mAP50-95): 100%|██████████| 1/1 [00:00<0"
     ]
    },
    {
     "name": "stdout",
     "output_type": "stream",
     "text": [
      "                   all         15        199      0.877      0.966      0.988      0.879\n"
     ]
    },
    {
     "name": "stderr",
     "output_type": "stream",
     "text": [
      "\n"
     ]
    },
    {
     "name": "stdout",
     "output_type": "stream",
     "text": [
      "\n",
      "      Epoch    GPU_mem   box_loss   cls_loss   dfl_loss  Instances       Size\n"
     ]
    },
    {
     "name": "stderr",
     "output_type": "stream",
     "text": [
      "    100/500      10.6G     0.5346     0.3938     0.8612        274        960: 100%|██████████| 2/2 [00:05<00:00,  2.82\n",
      "                 Class     Images  Instances      Box(P          R      mAP50  mAP50-95): 100%|██████████| 1/1 [00:00<0"
     ]
    },
    {
     "name": "stdout",
     "output_type": "stream",
     "text": [
      "                   all         15        199      0.858      0.985      0.983      0.862\n"
     ]
    },
    {
     "name": "stderr",
     "output_type": "stream",
     "text": [
      "\n"
     ]
    },
    {
     "name": "stdout",
     "output_type": "stream",
     "text": [
      "\n",
      "      Epoch    GPU_mem   box_loss   cls_loss   dfl_loss  Instances       Size\n"
     ]
    },
    {
     "name": "stderr",
     "output_type": "stream",
     "text": [
      "    101/500      10.4G     0.5438     0.3881     0.8614        339        960: 100%|██████████| 2/2 [00:04<00:00,  2.44\n",
      "                 Class     Images  Instances      Box(P          R      mAP50  mAP50-95): 100%|██████████| 1/1 [00:00<0"
     ]
    },
    {
     "name": "stdout",
     "output_type": "stream",
     "text": [
      "                   all         15        199      0.835      0.959      0.985      0.863\n"
     ]
    },
    {
     "name": "stderr",
     "output_type": "stream",
     "text": [
      "\n"
     ]
    },
    {
     "name": "stdout",
     "output_type": "stream",
     "text": [
      "\n",
      "      Epoch    GPU_mem   box_loss   cls_loss   dfl_loss  Instances       Size\n"
     ]
    },
    {
     "name": "stderr",
     "output_type": "stream",
     "text": [
      "    102/500      10.4G     0.5494     0.3967     0.8654        322        960: 100%|██████████| 2/2 [00:05<00:00,  2.56\n",
      "                 Class     Images  Instances      Box(P          R      mAP50  mAP50-95): 100%|██████████| 1/1 [00:00<0"
     ]
    },
    {
     "name": "stdout",
     "output_type": "stream",
     "text": [
      "                   all         15        199      0.851      0.929      0.991      0.878\n"
     ]
    },
    {
     "name": "stderr",
     "output_type": "stream",
     "text": [
      "\n"
     ]
    },
    {
     "name": "stdout",
     "output_type": "stream",
     "text": [
      "\n",
      "      Epoch    GPU_mem   box_loss   cls_loss   dfl_loss  Instances       Size\n"
     ]
    },
    {
     "name": "stderr",
     "output_type": "stream",
     "text": [
      "    103/500      10.6G     0.5613     0.4055     0.8634        254        960: 100%|██████████| 2/2 [00:05<00:00,  2.65\n",
      "                 Class     Images  Instances      Box(P          R      mAP50  mAP50-95): 100%|██████████| 1/1 [00:00<0"
     ]
    },
    {
     "name": "stdout",
     "output_type": "stream",
     "text": [
      "                   all         15        199      0.871      0.958      0.994      0.885\n"
     ]
    },
    {
     "name": "stderr",
     "output_type": "stream",
     "text": [
      "\n"
     ]
    },
    {
     "name": "stdout",
     "output_type": "stream",
     "text": [
      "\n",
      "      Epoch    GPU_mem   box_loss   cls_loss   dfl_loss  Instances       Size\n"
     ]
    },
    {
     "name": "stderr",
     "output_type": "stream",
     "text": [
      "    104/500      10.3G     0.5451     0.4009     0.8703        357        960: 100%|██████████| 2/2 [00:04<00:00,  2.47\n",
      "                 Class     Images  Instances      Box(P          R      mAP50  mAP50-95): 100%|██████████| 1/1 [00:00<0"
     ]
    },
    {
     "name": "stdout",
     "output_type": "stream",
     "text": [
      "                   all         15        199      0.896      0.975      0.994       0.89\n"
     ]
    },
    {
     "name": "stderr",
     "output_type": "stream",
     "text": [
      "\n"
     ]
    },
    {
     "name": "stdout",
     "output_type": "stream",
     "text": [
      "\n",
      "      Epoch    GPU_mem   box_loss   cls_loss   dfl_loss  Instances       Size\n"
     ]
    },
    {
     "name": "stderr",
     "output_type": "stream",
     "text": [
      "    105/500      10.7G     0.5393     0.3966     0.8417        442        960: 100%|██████████| 2/2 [00:05<00:00,  2.91\n",
      "                 Class     Images  Instances      Box(P          R      mAP50  mAP50-95): 100%|██████████| 1/1 [00:00<0"
     ]
    },
    {
     "name": "stdout",
     "output_type": "stream",
     "text": [
      "                   all         15        199      0.909      0.984       0.99      0.868\n"
     ]
    },
    {
     "name": "stderr",
     "output_type": "stream",
     "text": [
      "\n"
     ]
    },
    {
     "name": "stdout",
     "output_type": "stream",
     "text": [
      "\n",
      "      Epoch    GPU_mem   box_loss   cls_loss   dfl_loss  Instances       Size\n"
     ]
    },
    {
     "name": "stderr",
     "output_type": "stream",
     "text": [
      "    106/500      10.6G     0.5506      0.401     0.8751        284        960: 100%|██████████| 2/2 [00:05<00:00,  2.78\n",
      "                 Class     Images  Instances      Box(P          R      mAP50  mAP50-95): 100%|██████████| 1/1 [00:00<0"
     ]
    },
    {
     "name": "stdout",
     "output_type": "stream",
     "text": [
      "                   all         15        199      0.939      0.986      0.992      0.874\n"
     ]
    },
    {
     "name": "stderr",
     "output_type": "stream",
     "text": [
      "\n"
     ]
    },
    {
     "name": "stdout",
     "output_type": "stream",
     "text": [
      "\n",
      "      Epoch    GPU_mem   box_loss   cls_loss   dfl_loss  Instances       Size\n"
     ]
    },
    {
     "name": "stderr",
     "output_type": "stream",
     "text": [
      "    107/500      10.5G     0.5642     0.4189     0.8919        246        960: 100%|██████████| 2/2 [00:05<00:00,  2.70\n",
      "                 Class     Images  Instances      Box(P          R      mAP50  mAP50-95): 100%|██████████| 1/1 [00:00<0"
     ]
    },
    {
     "name": "stdout",
     "output_type": "stream",
     "text": [
      "                   all         15        199      0.942      0.962      0.991      0.889\n"
     ]
    },
    {
     "name": "stderr",
     "output_type": "stream",
     "text": [
      "\n"
     ]
    },
    {
     "name": "stdout",
     "output_type": "stream",
     "text": [
      "\n",
      "      Epoch    GPU_mem   box_loss   cls_loss   dfl_loss  Instances       Size\n"
     ]
    },
    {
     "name": "stderr",
     "output_type": "stream",
     "text": [
      "    108/500      10.4G     0.5411     0.3823     0.8616        295        960: 100%|██████████| 2/2 [00:05<00:00,  2.63\n",
      "                 Class     Images  Instances      Box(P          R      mAP50  mAP50-95): 100%|██████████| 1/1 [00:00<0"
     ]
    },
    {
     "name": "stdout",
     "output_type": "stream",
     "text": [
      "                   all         15        199      0.903      0.944      0.992      0.886\n"
     ]
    },
    {
     "name": "stderr",
     "output_type": "stream",
     "text": [
      "\n"
     ]
    },
    {
     "name": "stdout",
     "output_type": "stream",
     "text": [
      "\n",
      "      Epoch    GPU_mem   box_loss   cls_loss   dfl_loss  Instances       Size\n"
     ]
    },
    {
     "name": "stderr",
     "output_type": "stream",
     "text": [
      "    109/500      10.4G     0.5668      0.403     0.8755        368        960: 100%|██████████| 2/2 [00:05<00:00,  2.62\n",
      "                 Class     Images  Instances      Box(P          R      mAP50  mAP50-95): 100%|██████████| 1/1 [00:00<0"
     ]
    },
    {
     "name": "stdout",
     "output_type": "stream",
     "text": [
      "                   all         15        199      0.924      0.918      0.992      0.867\n"
     ]
    },
    {
     "name": "stderr",
     "output_type": "stream",
     "text": [
      "\n"
     ]
    },
    {
     "name": "stdout",
     "output_type": "stream",
     "text": [
      "\n",
      "      Epoch    GPU_mem   box_loss   cls_loss   dfl_loss  Instances       Size\n"
     ]
    },
    {
     "name": "stderr",
     "output_type": "stream",
     "text": [
      "    110/500      10.5G     0.5569     0.3935     0.8644        354        960: 100%|██████████| 2/2 [00:05<00:00,  2.74\n",
      "                 Class     Images  Instances      Box(P          R      mAP50  mAP50-95): 100%|██████████| 1/1 [00:00<0"
     ]
    },
    {
     "name": "stdout",
     "output_type": "stream",
     "text": [
      "                   all         15        199      0.938       0.92      0.992      0.879\n"
     ]
    },
    {
     "name": "stderr",
     "output_type": "stream",
     "text": [
      "\n"
     ]
    },
    {
     "name": "stdout",
     "output_type": "stream",
     "text": [
      "\n",
      "      Epoch    GPU_mem   box_loss   cls_loss   dfl_loss  Instances       Size\n"
     ]
    },
    {
     "name": "stderr",
     "output_type": "stream",
     "text": [
      "    111/500      10.5G     0.5598     0.4062     0.8619        418        960: 100%|██████████| 2/2 [00:05<00:00,  2.69\n",
      "                 Class     Images  Instances      Box(P          R      mAP50  mAP50-95): 100%|██████████| 1/1 [00:00<0"
     ]
    },
    {
     "name": "stdout",
     "output_type": "stream",
     "text": [
      "                   all         15        199      0.965      0.911      0.993      0.875\n"
     ]
    },
    {
     "name": "stderr",
     "output_type": "stream",
     "text": [
      "\n"
     ]
    },
    {
     "name": "stdout",
     "output_type": "stream",
     "text": [
      "\n",
      "      Epoch    GPU_mem   box_loss   cls_loss   dfl_loss  Instances       Size\n"
     ]
    },
    {
     "name": "stderr",
     "output_type": "stream",
     "text": [
      "    112/500      10.4G     0.5705     0.3965     0.8632        377        960: 100%|██████████| 2/2 [00:05<00:00,  2.61\n",
      "                 Class     Images  Instances      Box(P          R      mAP50  mAP50-95): 100%|██████████| 1/1 [00:00<0"
     ]
    },
    {
     "name": "stdout",
     "output_type": "stream",
     "text": [
      "                   all         15        199      0.961      0.898      0.992      0.878\n"
     ]
    },
    {
     "name": "stderr",
     "output_type": "stream",
     "text": [
      "\n"
     ]
    },
    {
     "name": "stdout",
     "output_type": "stream",
     "text": [
      "\n",
      "      Epoch    GPU_mem   box_loss   cls_loss   dfl_loss  Instances       Size\n"
     ]
    },
    {
     "name": "stderr",
     "output_type": "stream",
     "text": [
      "    113/500      10.7G     0.5595     0.3966     0.8611        336        960: 100%|██████████| 2/2 [00:05<00:00,  2.89\n",
      "                 Class     Images  Instances      Box(P          R      mAP50  mAP50-95): 100%|██████████| 1/1 [00:00<0"
     ]
    },
    {
     "name": "stdout",
     "output_type": "stream",
     "text": [
      "                   all         15        199      0.909       0.95      0.992      0.873\n"
     ]
    },
    {
     "name": "stderr",
     "output_type": "stream",
     "text": [
      "\n"
     ]
    },
    {
     "name": "stdout",
     "output_type": "stream",
     "text": [
      "\n",
      "      Epoch    GPU_mem   box_loss   cls_loss   dfl_loss  Instances       Size\n"
     ]
    },
    {
     "name": "stderr",
     "output_type": "stream",
     "text": [
      "    114/500      10.6G     0.5387     0.3982     0.8742        236        960: 100%|██████████| 2/2 [00:05<00:00,  2.84\n",
      "                 Class     Images  Instances      Box(P          R      mAP50  mAP50-95): 100%|██████████| 1/1 [00:00<0"
     ]
    },
    {
     "name": "stdout",
     "output_type": "stream",
     "text": [
      "                   all         15        199      0.926      0.962       0.99      0.867\n"
     ]
    },
    {
     "name": "stderr",
     "output_type": "stream",
     "text": [
      "\n"
     ]
    },
    {
     "name": "stdout",
     "output_type": "stream",
     "text": [
      "\n",
      "      Epoch    GPU_mem   box_loss   cls_loss   dfl_loss  Instances       Size\n"
     ]
    },
    {
     "name": "stderr",
     "output_type": "stream",
     "text": [
      "    115/500      10.5G     0.5519     0.3834     0.8475        344        960: 100%|██████████| 2/2 [00:05<00:00,  2.72\n",
      "                 Class     Images  Instances      Box(P          R      mAP50  mAP50-95): 100%|██████████| 1/1 [00:00<0"
     ]
    },
    {
     "name": "stdout",
     "output_type": "stream",
     "text": [
      "                   all         15        199      0.938      0.987      0.992      0.883\n"
     ]
    },
    {
     "name": "stderr",
     "output_type": "stream",
     "text": [
      "\n"
     ]
    },
    {
     "name": "stdout",
     "output_type": "stream",
     "text": [
      "\n",
      "      Epoch    GPU_mem   box_loss   cls_loss   dfl_loss  Instances       Size\n"
     ]
    },
    {
     "name": "stderr",
     "output_type": "stream",
     "text": [
      "    116/500      10.5G     0.5434     0.3827     0.8545        302        960: 100%|██████████| 2/2 [00:06<00:00,  3.01\n",
      "                 Class     Images  Instances      Box(P          R      mAP50  mAP50-95): 100%|██████████| 1/1 [00:00<0"
     ]
    },
    {
     "name": "stdout",
     "output_type": "stream",
     "text": [
      "                   all         15        199      0.934      0.987      0.993      0.885\n"
     ]
    },
    {
     "name": "stderr",
     "output_type": "stream",
     "text": [
      "\n"
     ]
    },
    {
     "name": "stdout",
     "output_type": "stream",
     "text": [
      "\n",
      "      Epoch    GPU_mem   box_loss   cls_loss   dfl_loss  Instances       Size\n"
     ]
    },
    {
     "name": "stderr",
     "output_type": "stream",
     "text": [
      "    117/500      10.9G     0.5321     0.3887     0.8785        338        960: 100%|██████████| 2/2 [00:06<00:00,  3.09\n",
      "                 Class     Images  Instances      Box(P          R      mAP50  mAP50-95): 100%|██████████| 1/1 [00:00<0"
     ]
    },
    {
     "name": "stdout",
     "output_type": "stream",
     "text": [
      "                   all         15        199      0.947      0.995      0.995      0.887\n"
     ]
    },
    {
     "name": "stderr",
     "output_type": "stream",
     "text": [
      "\n"
     ]
    },
    {
     "name": "stdout",
     "output_type": "stream",
     "text": [
      "\n",
      "      Epoch    GPU_mem   box_loss   cls_loss   dfl_loss  Instances       Size\n"
     ]
    },
    {
     "name": "stderr",
     "output_type": "stream",
     "text": [
      "    118/500      10.6G     0.5359     0.3843     0.8521        314        960: 100%|██████████| 2/2 [00:05<00:00,  2.81\n",
      "                 Class     Images  Instances      Box(P          R      mAP50  mAP50-95): 100%|██████████| 1/1 [00:00<0"
     ]
    },
    {
     "name": "stdout",
     "output_type": "stream",
     "text": [
      "                   all         15        199      0.881      0.994      0.994      0.893\n"
     ]
    },
    {
     "name": "stderr",
     "output_type": "stream",
     "text": [
      "\n"
     ]
    },
    {
     "name": "stdout",
     "output_type": "stream",
     "text": [
      "\n",
      "      Epoch    GPU_mem   box_loss   cls_loss   dfl_loss  Instances       Size\n"
     ]
    },
    {
     "name": "stderr",
     "output_type": "stream",
     "text": [
      "    119/500      10.4G     0.5356     0.3827     0.8551        417        960: 100%|██████████| 2/2 [00:05<00:00,  2.62\n",
      "                 Class     Images  Instances      Box(P          R      mAP50  mAP50-95): 100%|██████████| 1/1 [00:00<0"
     ]
    },
    {
     "name": "stdout",
     "output_type": "stream",
     "text": [
      "                   all         15        199      0.844       0.97      0.995      0.884\n"
     ]
    },
    {
     "name": "stderr",
     "output_type": "stream",
     "text": [
      "\n"
     ]
    },
    {
     "name": "stdout",
     "output_type": "stream",
     "text": [
      "\n",
      "      Epoch    GPU_mem   box_loss   cls_loss   dfl_loss  Instances       Size\n"
     ]
    },
    {
     "name": "stderr",
     "output_type": "stream",
     "text": [
      "    120/500      10.6G     0.5354     0.3871     0.8589        383        960: 100%|██████████| 2/2 [00:05<00:00,  2.76\n",
      "                 Class     Images  Instances      Box(P          R      mAP50  mAP50-95): 100%|██████████| 1/1 [00:00<0"
     ]
    },
    {
     "name": "stdout",
     "output_type": "stream",
     "text": [
      "                   all         15        199      0.964       0.96      0.995      0.881\n"
     ]
    },
    {
     "name": "stderr",
     "output_type": "stream",
     "text": [
      "\n"
     ]
    },
    {
     "name": "stdout",
     "output_type": "stream",
     "text": [
      "\n",
      "      Epoch    GPU_mem   box_loss   cls_loss   dfl_loss  Instances       Size\n"
     ]
    },
    {
     "name": "stderr",
     "output_type": "stream",
     "text": [
      "    121/500      10.4G     0.5323     0.3754     0.8544        393        960: 100%|██████████| 2/2 [00:05<00:00,  3.00\n",
      "                 Class     Images  Instances      Box(P          R      mAP50  mAP50-95): 100%|██████████| 1/1 [00:00<0"
     ]
    },
    {
     "name": "stdout",
     "output_type": "stream",
     "text": [
      "                   all         15        199      0.973       0.99      0.992      0.888\n"
     ]
    },
    {
     "name": "stderr",
     "output_type": "stream",
     "text": [
      "\n"
     ]
    },
    {
     "name": "stdout",
     "output_type": "stream",
     "text": [
      "\n",
      "      Epoch    GPU_mem   box_loss   cls_loss   dfl_loss  Instances       Size\n"
     ]
    },
    {
     "name": "stderr",
     "output_type": "stream",
     "text": [
      "    122/500      10.9G     0.5311     0.3851     0.8723        274        960: 100%|██████████| 2/2 [00:05<00:00,  2.82\n",
      "                 Class     Images  Instances      Box(P          R      mAP50  mAP50-95): 100%|██████████| 1/1 [00:00<0"
     ]
    },
    {
     "name": "stdout",
     "output_type": "stream",
     "text": [
      "                   all         15        199      0.969       0.94      0.993      0.886\n"
     ]
    },
    {
     "name": "stderr",
     "output_type": "stream",
     "text": [
      "\n"
     ]
    },
    {
     "name": "stdout",
     "output_type": "stream",
     "text": [
      "\n",
      "      Epoch    GPU_mem   box_loss   cls_loss   dfl_loss  Instances       Size\n"
     ]
    },
    {
     "name": "stderr",
     "output_type": "stream",
     "text": [
      "    123/500      10.2G     0.5129     0.3685     0.8576        471        960: 100%|██████████| 2/2 [00:04<00:00,  2.42\n",
      "                 Class     Images  Instances      Box(P          R      mAP50  mAP50-95): 100%|██████████| 1/1 [00:00<0"
     ]
    },
    {
     "name": "stdout",
     "output_type": "stream",
     "text": [
      "                   all         15        199      0.945      0.935      0.992      0.878\n"
     ]
    },
    {
     "name": "stderr",
     "output_type": "stream",
     "text": [
      "\n"
     ]
    },
    {
     "name": "stdout",
     "output_type": "stream",
     "text": [
      "\n",
      "      Epoch    GPU_mem   box_loss   cls_loss   dfl_loss  Instances       Size\n"
     ]
    },
    {
     "name": "stderr",
     "output_type": "stream",
     "text": [
      "    124/500      10.4G     0.5154     0.3808     0.8579        284        960: 100%|██████████| 2/2 [00:04<00:00,  2.49\n",
      "                 Class     Images  Instances      Box(P          R      mAP50  mAP50-95): 100%|██████████| 1/1 [00:00<0"
     ]
    },
    {
     "name": "stdout",
     "output_type": "stream",
     "text": [
      "                   all         15        199      0.933       0.98      0.992      0.879\n"
     ]
    },
    {
     "name": "stderr",
     "output_type": "stream",
     "text": [
      "\n"
     ]
    },
    {
     "name": "stdout",
     "output_type": "stream",
     "text": [
      "\n",
      "      Epoch    GPU_mem   box_loss   cls_loss   dfl_loss  Instances       Size\n"
     ]
    },
    {
     "name": "stderr",
     "output_type": "stream",
     "text": [
      "    125/500      10.6G     0.5237     0.3775     0.8437        315        960: 100%|██████████| 2/2 [00:05<00:00,  2.82\n",
      "                 Class     Images  Instances      Box(P          R      mAP50  mAP50-95): 100%|██████████| 1/1 [00:00<0"
     ]
    },
    {
     "name": "stdout",
     "output_type": "stream",
     "text": [
      "                   all         15        199       0.93      0.984      0.993      0.887\n"
     ]
    },
    {
     "name": "stderr",
     "output_type": "stream",
     "text": [
      "\n"
     ]
    },
    {
     "name": "stdout",
     "output_type": "stream",
     "text": [
      "\n",
      "      Epoch    GPU_mem   box_loss   cls_loss   dfl_loss  Instances       Size\n"
     ]
    },
    {
     "name": "stderr",
     "output_type": "stream",
     "text": [
      "    126/500      10.6G     0.5225     0.3834     0.8591        410        960: 100%|██████████| 2/2 [00:05<00:00,  2.77\n",
      "                 Class     Images  Instances      Box(P          R      mAP50  mAP50-95): 100%|██████████| 1/1 [00:00<0"
     ]
    },
    {
     "name": "stdout",
     "output_type": "stream",
     "text": [
      "                   all         15        199      0.918      0.961      0.992      0.884\n"
     ]
    },
    {
     "name": "stderr",
     "output_type": "stream",
     "text": [
      "\n"
     ]
    },
    {
     "name": "stdout",
     "output_type": "stream",
     "text": [
      "\n",
      "      Epoch    GPU_mem   box_loss   cls_loss   dfl_loss  Instances       Size\n"
     ]
    },
    {
     "name": "stderr",
     "output_type": "stream",
     "text": [
      "    127/500      10.5G     0.5377     0.3844     0.8697        291        960: 100%|██████████| 2/2 [00:05<00:00,  2.83\n",
      "                 Class     Images  Instances      Box(P          R      mAP50  mAP50-95): 100%|██████████| 1/1 [00:00<0"
     ]
    },
    {
     "name": "stdout",
     "output_type": "stream",
     "text": [
      "                   all         15        199      0.926      0.972      0.988      0.883\n"
     ]
    },
    {
     "name": "stderr",
     "output_type": "stream",
     "text": [
      "\n"
     ]
    },
    {
     "name": "stdout",
     "output_type": "stream",
     "text": [
      "\n",
      "      Epoch    GPU_mem   box_loss   cls_loss   dfl_loss  Instances       Size\n"
     ]
    },
    {
     "name": "stderr",
     "output_type": "stream",
     "text": [
      "    128/500      10.7G     0.5422     0.3788     0.8662        428        960: 100%|██████████| 2/2 [00:05<00:00,  2.99\n",
      "                 Class     Images  Instances      Box(P          R      mAP50  mAP50-95): 100%|██████████| 1/1 [00:00<0"
     ]
    },
    {
     "name": "stdout",
     "output_type": "stream",
     "text": [
      "                   all         15        199      0.825      0.857      0.919      0.809\n"
     ]
    },
    {
     "name": "stderr",
     "output_type": "stream",
     "text": [
      "\n"
     ]
    },
    {
     "name": "stdout",
     "output_type": "stream",
     "text": [
      "\n",
      "      Epoch    GPU_mem   box_loss   cls_loss   dfl_loss  Instances       Size\n"
     ]
    },
    {
     "name": "stderr",
     "output_type": "stream",
     "text": [
      "    129/500      10.7G     0.5174     0.3663     0.8627        348        960: 100%|██████████| 2/2 [00:05<00:00,  2.97\n",
      "                 Class     Images  Instances      Box(P          R      mAP50  mAP50-95): 100%|██████████| 1/1 [00:00<0"
     ]
    },
    {
     "name": "stdout",
     "output_type": "stream",
     "text": [
      "                   all         15        199      0.809      0.934      0.947      0.832\n"
     ]
    },
    {
     "name": "stderr",
     "output_type": "stream",
     "text": [
      "\n"
     ]
    },
    {
     "name": "stdout",
     "output_type": "stream",
     "text": [
      "\n",
      "      Epoch    GPU_mem   box_loss   cls_loss   dfl_loss  Instances       Size\n"
     ]
    },
    {
     "name": "stderr",
     "output_type": "stream",
     "text": [
      "    130/500      10.6G     0.5217     0.3669     0.8412        333        960: 100%|██████████| 2/2 [00:05<00:00,  2.86\n",
      "                 Class     Images  Instances      Box(P          R      mAP50  mAP50-95): 100%|██████████| 1/1 [00:00<0"
     ]
    },
    {
     "name": "stdout",
     "output_type": "stream",
     "text": [
      "                   all         15        199      0.895      0.965      0.981       0.87\n"
     ]
    },
    {
     "name": "stderr",
     "output_type": "stream",
     "text": [
      "\n"
     ]
    },
    {
     "name": "stdout",
     "output_type": "stream",
     "text": [
      "\n",
      "      Epoch    GPU_mem   box_loss   cls_loss   dfl_loss  Instances       Size\n"
     ]
    },
    {
     "name": "stderr",
     "output_type": "stream",
     "text": [
      "    131/500      10.5G     0.5144     0.3696     0.8475        325        960: 100%|██████████| 2/2 [00:05<00:00,  2.79\n",
      "                 Class     Images  Instances      Box(P          R      mAP50  mAP50-95): 100%|██████████| 1/1 [00:00<0"
     ]
    },
    {
     "name": "stdout",
     "output_type": "stream",
     "text": [
      "                   all         15        199      0.857      0.946      0.972      0.882\n"
     ]
    },
    {
     "name": "stderr",
     "output_type": "stream",
     "text": [
      "\n"
     ]
    },
    {
     "name": "stdout",
     "output_type": "stream",
     "text": [
      "\n",
      "      Epoch    GPU_mem   box_loss   cls_loss   dfl_loss  Instances       Size\n"
     ]
    },
    {
     "name": "stderr",
     "output_type": "stream",
     "text": [
      "    132/500      10.4G     0.5298     0.3702     0.8498        371        960: 100%|██████████| 2/2 [00:05<00:00,  2.71\n",
      "                 Class     Images  Instances      Box(P          R      mAP50  mAP50-95): 100%|██████████| 1/1 [00:00<0"
     ]
    },
    {
     "name": "stdout",
     "output_type": "stream",
     "text": [
      "                   all         15        199      0.839      0.948      0.963      0.861\n"
     ]
    },
    {
     "name": "stderr",
     "output_type": "stream",
     "text": [
      "\n"
     ]
    },
    {
     "name": "stdout",
     "output_type": "stream",
     "text": [
      "\n",
      "      Epoch    GPU_mem   box_loss   cls_loss   dfl_loss  Instances       Size\n"
     ]
    },
    {
     "name": "stderr",
     "output_type": "stream",
     "text": [
      "    133/500      10.3G     0.5248     0.3686     0.8486        329        960: 100%|██████████| 2/2 [00:05<00:00,  2.63\n",
      "                 Class     Images  Instances      Box(P          R      mAP50  mAP50-95): 100%|██████████| 1/1 [00:00<0"
     ]
    },
    {
     "name": "stdout",
     "output_type": "stream",
     "text": [
      "                   all         15        199      0.856       0.96      0.975      0.857\n"
     ]
    },
    {
     "name": "stderr",
     "output_type": "stream",
     "text": [
      "\n"
     ]
    },
    {
     "name": "stdout",
     "output_type": "stream",
     "text": [
      "\n",
      "      Epoch    GPU_mem   box_loss   cls_loss   dfl_loss  Instances       Size\n"
     ]
    },
    {
     "name": "stderr",
     "output_type": "stream",
     "text": [
      "    134/500      10.8G     0.5358     0.3668     0.8482        313        960: 100%|██████████| 2/2 [00:06<00:00,  3.05\n",
      "                 Class     Images  Instances      Box(P          R      mAP50  mAP50-95): 100%|██████████| 1/1 [00:00<0"
     ]
    },
    {
     "name": "stdout",
     "output_type": "stream",
     "text": [
      "                   all         15        199      0.906      0.956      0.987      0.873\n"
     ]
    },
    {
     "name": "stderr",
     "output_type": "stream",
     "text": [
      "\n"
     ]
    },
    {
     "name": "stdout",
     "output_type": "stream",
     "text": [
      "\n",
      "      Epoch    GPU_mem   box_loss   cls_loss   dfl_loss  Instances       Size\n"
     ]
    },
    {
     "name": "stderr",
     "output_type": "stream",
     "text": [
      "    135/500      10.6G     0.5329     0.3677     0.8521        359        960: 100%|██████████| 2/2 [00:05<00:00,  2.87\n",
      "                 Class     Images  Instances      Box(P          R      mAP50  mAP50-95): 100%|██████████| 1/1 [00:00<0"
     ]
    },
    {
     "name": "stdout",
     "output_type": "stream",
     "text": [
      "                   all         15        199       0.87      0.971      0.976       0.85\n"
     ]
    },
    {
     "name": "stderr",
     "output_type": "stream",
     "text": [
      "\n"
     ]
    },
    {
     "name": "stdout",
     "output_type": "stream",
     "text": [
      "\n",
      "      Epoch    GPU_mem   box_loss   cls_loss   dfl_loss  Instances       Size\n"
     ]
    },
    {
     "name": "stderr",
     "output_type": "stream",
     "text": [
      "    136/500      10.4G     0.5349     0.3718     0.8649        384        960: 100%|██████████| 2/2 [00:06<00:00,  3.12\n",
      "                 Class     Images  Instances      Box(P          R      mAP50  mAP50-95): 100%|██████████| 1/1 [00:00<0"
     ]
    },
    {
     "name": "stdout",
     "output_type": "stream",
     "text": [
      "                   all         15        199      0.852      0.836      0.952      0.805\n"
     ]
    },
    {
     "name": "stderr",
     "output_type": "stream",
     "text": [
      "\n"
     ]
    },
    {
     "name": "stdout",
     "output_type": "stream",
     "text": [
      "\n",
      "      Epoch    GPU_mem   box_loss   cls_loss   dfl_loss  Instances       Size\n"
     ]
    },
    {
     "name": "stderr",
     "output_type": "stream",
     "text": [
      "    137/500      10.4G     0.5419     0.3822     0.8378        402        960: 100%|██████████| 2/2 [00:06<00:00,  3.06\n",
      "                 Class     Images  Instances      Box(P          R      mAP50  mAP50-95): 100%|██████████| 1/1 [00:00<0"
     ]
    },
    {
     "name": "stdout",
     "output_type": "stream",
     "text": [
      "                   all         15        199      0.814      0.846      0.969      0.807\n"
     ]
    },
    {
     "name": "stderr",
     "output_type": "stream",
     "text": [
      "\n"
     ]
    },
    {
     "name": "stdout",
     "output_type": "stream",
     "text": [
      "\n",
      "      Epoch    GPU_mem   box_loss   cls_loss   dfl_loss  Instances       Size\n"
     ]
    },
    {
     "name": "stderr",
     "output_type": "stream",
     "text": [
      "    138/500      10.3G     0.5488       0.38     0.8669        237        960: 100%|██████████| 2/2 [00:05<00:00,  2.57\n",
      "                 Class     Images  Instances      Box(P          R      mAP50  mAP50-95): 100%|██████████| 1/1 [00:00<0"
     ]
    },
    {
     "name": "stdout",
     "output_type": "stream",
     "text": [
      "                   all         15        199      0.869      0.931      0.992      0.849\n"
     ]
    },
    {
     "name": "stderr",
     "output_type": "stream",
     "text": [
      "\n"
     ]
    },
    {
     "name": "stdout",
     "output_type": "stream",
     "text": [
      "\n",
      "      Epoch    GPU_mem   box_loss   cls_loss   dfl_loss  Instances       Size\n"
     ]
    },
    {
     "name": "stderr",
     "output_type": "stream",
     "text": [
      "    139/500      10.4G      0.537     0.3691     0.8688        319        960: 100%|██████████| 2/2 [00:05<00:00,  2.66\n",
      "                 Class     Images  Instances      Box(P          R      mAP50  mAP50-95): 100%|██████████| 1/1 [00:00<0"
     ]
    },
    {
     "name": "stdout",
     "output_type": "stream",
     "text": [
      "                   all         15        199        0.9      0.926      0.991      0.853\n"
     ]
    },
    {
     "name": "stderr",
     "output_type": "stream",
     "text": [
      "\n"
     ]
    },
    {
     "name": "stdout",
     "output_type": "stream",
     "text": [
      "\n",
      "      Epoch    GPU_mem   box_loss   cls_loss   dfl_loss  Instances       Size\n"
     ]
    },
    {
     "name": "stderr",
     "output_type": "stream",
     "text": [
      "    140/500      10.6G     0.5304     0.3689     0.8652        271        960: 100%|██████████| 2/2 [00:05<00:00,  2.86\n",
      "                 Class     Images  Instances      Box(P          R      mAP50  mAP50-95): 100%|██████████| 1/1 [00:00<0"
     ]
    },
    {
     "name": "stdout",
     "output_type": "stream",
     "text": [
      "                   all         15        199      0.897      0.919      0.991      0.848\n"
     ]
    },
    {
     "name": "stderr",
     "output_type": "stream",
     "text": [
      "\n"
     ]
    },
    {
     "name": "stdout",
     "output_type": "stream",
     "text": [
      "\n",
      "      Epoch    GPU_mem   box_loss   cls_loss   dfl_loss  Instances       Size\n"
     ]
    },
    {
     "name": "stderr",
     "output_type": "stream",
     "text": [
      "    141/500      10.2G     0.5717     0.3861     0.8592        386        960: 100%|██████████| 2/2 [00:05<00:00,  2.54\n",
      "                 Class     Images  Instances      Box(P          R      mAP50  mAP50-95): 100%|██████████| 1/1 [00:00<0"
     ]
    },
    {
     "name": "stdout",
     "output_type": "stream",
     "text": [
      "                   all         15        199      0.899      0.918       0.99      0.849\n"
     ]
    },
    {
     "name": "stderr",
     "output_type": "stream",
     "text": [
      "\n"
     ]
    },
    {
     "name": "stdout",
     "output_type": "stream",
     "text": [
      "\n",
      "      Epoch    GPU_mem   box_loss   cls_loss   dfl_loss  Instances       Size\n"
     ]
    },
    {
     "name": "stderr",
     "output_type": "stream",
     "text": [
      "    142/500      10.7G     0.5411       0.38     0.8592        333        960: 100%|██████████| 2/2 [00:05<00:00,  2.74\n",
      "                 Class     Images  Instances      Box(P          R      mAP50  mAP50-95): 100%|██████████| 1/1 [00:00<0"
     ]
    },
    {
     "name": "stdout",
     "output_type": "stream",
     "text": [
      "                   all         15        199      0.926      0.963      0.991       0.86\n"
     ]
    },
    {
     "name": "stderr",
     "output_type": "stream",
     "text": [
      "\n"
     ]
    },
    {
     "name": "stdout",
     "output_type": "stream",
     "text": [
      "\n",
      "      Epoch    GPU_mem   box_loss   cls_loss   dfl_loss  Instances       Size\n"
     ]
    },
    {
     "name": "stderr",
     "output_type": "stream",
     "text": [
      "    143/500      10.2G     0.5376     0.3769     0.8591        373        960: 100%|██████████| 2/2 [00:04<00:00,  2.43\n",
      "                 Class     Images  Instances      Box(P          R      mAP50  mAP50-95): 100%|██████████| 1/1 [00:00<0"
     ]
    },
    {
     "name": "stdout",
     "output_type": "stream",
     "text": [
      "                   all         15        199      0.943      0.966      0.994      0.872\n"
     ]
    },
    {
     "name": "stderr",
     "output_type": "stream",
     "text": [
      "\n"
     ]
    },
    {
     "name": "stdout",
     "output_type": "stream",
     "text": [
      "\n",
      "      Epoch    GPU_mem   box_loss   cls_loss   dfl_loss  Instances       Size\n"
     ]
    },
    {
     "name": "stderr",
     "output_type": "stream",
     "text": [
      "    144/500      10.5G     0.5428     0.3714     0.8595        253        960: 100%|██████████| 2/2 [00:05<00:00,  2.64\n",
      "                 Class     Images  Instances      Box(P          R      mAP50  mAP50-95): 100%|██████████| 1/1 [00:00<0"
     ]
    },
    {
     "name": "stdout",
     "output_type": "stream",
     "text": [
      "                   all         15        199       0.92       0.96      0.992      0.879\n"
     ]
    },
    {
     "name": "stderr",
     "output_type": "stream",
     "text": [
      "\n"
     ]
    },
    {
     "name": "stdout",
     "output_type": "stream",
     "text": [
      "\n",
      "      Epoch    GPU_mem   box_loss   cls_loss   dfl_loss  Instances       Size\n"
     ]
    },
    {
     "name": "stderr",
     "output_type": "stream",
     "text": [
      "    145/500      10.5G     0.5489     0.3768     0.8592        369        960: 100%|██████████| 2/2 [00:05<00:00,  2.68\n",
      "                 Class     Images  Instances      Box(P          R      mAP50  mAP50-95): 100%|██████████| 1/1 [00:00<0"
     ]
    },
    {
     "name": "stdout",
     "output_type": "stream",
     "text": [
      "                   all         15        199      0.917       0.96       0.99      0.861\n"
     ]
    },
    {
     "name": "stderr",
     "output_type": "stream",
     "text": [
      "\n"
     ]
    },
    {
     "name": "stdout",
     "output_type": "stream",
     "text": [
      "\n",
      "      Epoch    GPU_mem   box_loss   cls_loss   dfl_loss  Instances       Size\n"
     ]
    },
    {
     "name": "stderr",
     "output_type": "stream",
     "text": [
      "    146/500      10.4G     0.5489     0.3832     0.8783        232        960: 100%|██████████| 2/2 [00:05<00:00,  2.61\n",
      "                 Class     Images  Instances      Box(P          R      mAP50  mAP50-95): 100%|██████████| 1/1 [00:00<0"
     ]
    },
    {
     "name": "stdout",
     "output_type": "stream",
     "text": [
      "                   all         15        199      0.926      0.964       0.99      0.863\n"
     ]
    },
    {
     "name": "stderr",
     "output_type": "stream",
     "text": [
      "\n"
     ]
    },
    {
     "name": "stdout",
     "output_type": "stream",
     "text": [
      "\n",
      "      Epoch    GPU_mem   box_loss   cls_loss   dfl_loss  Instances       Size\n"
     ]
    },
    {
     "name": "stderr",
     "output_type": "stream",
     "text": [
      "    147/500      10.6G      0.505      0.374     0.8547        283        960: 100%|██████████| 2/2 [00:05<00:00,  2.78\n",
      "                 Class     Images  Instances      Box(P          R      mAP50  mAP50-95): 100%|██████████| 1/1 [00:00<0"
     ]
    },
    {
     "name": "stdout",
     "output_type": "stream",
     "text": [
      "                   all         15        199       0.96       0.92      0.993      0.863\n"
     ]
    },
    {
     "name": "stderr",
     "output_type": "stream",
     "text": [
      "\n"
     ]
    },
    {
     "name": "stdout",
     "output_type": "stream",
     "text": [
      "\n",
      "      Epoch    GPU_mem   box_loss   cls_loss   dfl_loss  Instances       Size\n"
     ]
    },
    {
     "name": "stderr",
     "output_type": "stream",
     "text": [
      "    148/500      10.3G     0.5332     0.3732     0.8489        355        960: 100%|██████████| 2/2 [00:05<00:00,  2.53\n",
      "                 Class     Images  Instances      Box(P          R      mAP50  mAP50-95): 100%|██████████| 1/1 [00:00<0"
     ]
    },
    {
     "name": "stdout",
     "output_type": "stream",
     "text": [
      "                   all         15        199      0.971      0.921      0.993      0.857\n"
     ]
    },
    {
     "name": "stderr",
     "output_type": "stream",
     "text": [
      "\n"
     ]
    },
    {
     "name": "stdout",
     "output_type": "stream",
     "text": [
      "\n",
      "      Epoch    GPU_mem   box_loss   cls_loss   dfl_loss  Instances       Size\n"
     ]
    },
    {
     "name": "stderr",
     "output_type": "stream",
     "text": [
      "    149/500      10.6G     0.5331     0.3636     0.8705        351        960: 100%|██████████| 2/2 [00:06<00:00,  3.24\n",
      "                 Class     Images  Instances      Box(P          R      mAP50  mAP50-95): 100%|██████████| 1/1 [00:00<0"
     ]
    },
    {
     "name": "stdout",
     "output_type": "stream",
     "text": [
      "                   all         15        199      0.966       0.91      0.991      0.852\n"
     ]
    },
    {
     "name": "stderr",
     "output_type": "stream",
     "text": [
      "\n"
     ]
    },
    {
     "name": "stdout",
     "output_type": "stream",
     "text": [
      "\n",
      "      Epoch    GPU_mem   box_loss   cls_loss   dfl_loss  Instances       Size\n"
     ]
    },
    {
     "name": "stderr",
     "output_type": "stream",
     "text": [
      "    150/500      10.7G      0.557     0.3726     0.8673        300        960: 100%|██████████| 2/2 [00:05<00:00,  2.88\n",
      "                 Class     Images  Instances      Box(P          R      mAP50  mAP50-95): 100%|██████████| 1/1 [00:00<0"
     ]
    },
    {
     "name": "stdout",
     "output_type": "stream",
     "text": [
      "                   all         15        199      0.921      0.983      0.992      0.859\n"
     ]
    },
    {
     "name": "stderr",
     "output_type": "stream",
     "text": [
      "\n"
     ]
    },
    {
     "name": "stdout",
     "output_type": "stream",
     "text": [
      "\n",
      "      Epoch    GPU_mem   box_loss   cls_loss   dfl_loss  Instances       Size\n"
     ]
    },
    {
     "name": "stderr",
     "output_type": "stream",
     "text": [
      "    151/500      10.5G     0.5626      0.389     0.8608        370        960: 100%|██████████| 2/2 [00:06<00:00,  3.15\n",
      "                 Class     Images  Instances      Box(P          R      mAP50  mAP50-95): 100%|██████████| 1/1 [00:00<0"
     ]
    },
    {
     "name": "stdout",
     "output_type": "stream",
     "text": [
      "                   all         15        199      0.957      0.986      0.994      0.864\n"
     ]
    },
    {
     "name": "stderr",
     "output_type": "stream",
     "text": [
      "\n"
     ]
    },
    {
     "name": "stdout",
     "output_type": "stream",
     "text": [
      "\n",
      "      Epoch    GPU_mem   box_loss   cls_loss   dfl_loss  Instances       Size\n"
     ]
    },
    {
     "name": "stderr",
     "output_type": "stream",
     "text": [
      "    152/500      10.6G     0.5287     0.3638     0.8533        295        960: 100%|██████████| 2/2 [00:05<00:00,  2.77\n",
      "                 Class     Images  Instances      Box(P          R      mAP50  mAP50-95): 100%|██████████| 1/1 [00:00<0"
     ]
    },
    {
     "name": "stdout",
     "output_type": "stream",
     "text": [
      "                   all         15        199      0.974      0.986      0.995      0.883\n"
     ]
    },
    {
     "name": "stderr",
     "output_type": "stream",
     "text": [
      "\n"
     ]
    },
    {
     "name": "stdout",
     "output_type": "stream",
     "text": [
      "\n",
      "      Epoch    GPU_mem   box_loss   cls_loss   dfl_loss  Instances       Size\n"
     ]
    },
    {
     "name": "stderr",
     "output_type": "stream",
     "text": [
      "    153/500      10.8G     0.5359     0.3603     0.8447        354        960: 100%|██████████| 2/2 [00:05<00:00,  2.99\n",
      "                 Class     Images  Instances      Box(P          R      mAP50  mAP50-95): 100%|██████████| 1/1 [00:00<0"
     ]
    },
    {
     "name": "stdout",
     "output_type": "stream",
     "text": [
      "                   all         15        199      0.979      0.991      0.994      0.899\n"
     ]
    },
    {
     "name": "stderr",
     "output_type": "stream",
     "text": [
      "\n"
     ]
    },
    {
     "name": "stdout",
     "output_type": "stream",
     "text": [
      "\n",
      "      Epoch    GPU_mem   box_loss   cls_loss   dfl_loss  Instances       Size\n"
     ]
    },
    {
     "name": "stderr",
     "output_type": "stream",
     "text": [
      "    154/500      10.6G     0.5175     0.3626       0.85        327        960: 100%|██████████| 2/2 [00:06<00:00,  3.28\n",
      "                 Class     Images  Instances      Box(P          R      mAP50  mAP50-95): 100%|██████████| 1/1 [00:00<0"
     ]
    },
    {
     "name": "stdout",
     "output_type": "stream",
     "text": [
      "                   all         15        199      0.968      0.992      0.994      0.887\n"
     ]
    },
    {
     "name": "stderr",
     "output_type": "stream",
     "text": [
      "\n"
     ]
    },
    {
     "name": "stdout",
     "output_type": "stream",
     "text": [
      "\n",
      "      Epoch    GPU_mem   box_loss   cls_loss   dfl_loss  Instances       Size\n"
     ]
    },
    {
     "name": "stderr",
     "output_type": "stream",
     "text": [
      "    155/500      10.5G     0.5421     0.3914     0.8727        303        960: 100%|██████████| 2/2 [00:05<00:00,  2.69\n",
      "                 Class     Images  Instances      Box(P          R      mAP50  mAP50-95): 100%|██████████| 1/1 [00:00<0"
     ]
    },
    {
     "name": "stdout",
     "output_type": "stream",
     "text": [
      "                   all         15        199      0.974      0.993      0.993      0.871\n"
     ]
    },
    {
     "name": "stderr",
     "output_type": "stream",
     "text": [
      "\n"
     ]
    },
    {
     "name": "stdout",
     "output_type": "stream",
     "text": [
      "\n",
      "      Epoch    GPU_mem   box_loss   cls_loss   dfl_loss  Instances       Size\n"
     ]
    },
    {
     "name": "stderr",
     "output_type": "stream",
     "text": [
      "    156/500      10.7G     0.5296     0.3684      0.866        325        960: 100%|██████████| 2/2 [00:05<00:00,  2.94\n",
      "                 Class     Images  Instances      Box(P          R      mAP50  mAP50-95): 100%|██████████| 1/1 [00:00<0"
     ]
    },
    {
     "name": "stdout",
     "output_type": "stream",
     "text": [
      "                   all         15        199      0.962      0.997      0.991      0.878\n"
     ]
    },
    {
     "name": "stderr",
     "output_type": "stream",
     "text": [
      "\n"
     ]
    },
    {
     "name": "stdout",
     "output_type": "stream",
     "text": [
      "\n",
      "      Epoch    GPU_mem   box_loss   cls_loss   dfl_loss  Instances       Size\n"
     ]
    },
    {
     "name": "stderr",
     "output_type": "stream",
     "text": [
      "    157/500      10.4G      0.504     0.3552     0.8579        265        960: 100%|██████████| 2/2 [00:05<00:00,  2.67\n",
      "                 Class     Images  Instances      Box(P          R      mAP50  mAP50-95): 100%|██████████| 1/1 [00:00<0"
     ]
    },
    {
     "name": "stdout",
     "output_type": "stream",
     "text": [
      "                   all         15        199      0.947      0.988      0.988      0.889\n"
     ]
    },
    {
     "name": "stderr",
     "output_type": "stream",
     "text": [
      "\n"
     ]
    },
    {
     "name": "stdout",
     "output_type": "stream",
     "text": [
      "\n",
      "      Epoch    GPU_mem   box_loss   cls_loss   dfl_loss  Instances       Size\n"
     ]
    },
    {
     "name": "stderr",
     "output_type": "stream",
     "text": [
      "    158/500      10.8G     0.5322     0.3651     0.8561        311        960: 100%|██████████| 2/2 [00:06<00:00,  3.03\n",
      "                 Class     Images  Instances      Box(P          R      mAP50  mAP50-95): 100%|██████████| 1/1 [00:00<0"
     ]
    },
    {
     "name": "stdout",
     "output_type": "stream",
     "text": [
      "                   all         15        199      0.947      0.972      0.985      0.881\n"
     ]
    },
    {
     "name": "stderr",
     "output_type": "stream",
     "text": [
      "\n"
     ]
    },
    {
     "name": "stdout",
     "output_type": "stream",
     "text": [
      "\n",
      "      Epoch    GPU_mem   box_loss   cls_loss   dfl_loss  Instances       Size\n"
     ]
    },
    {
     "name": "stderr",
     "output_type": "stream",
     "text": [
      "    159/500      10.5G     0.5253     0.3592     0.8509        351        960: 100%|██████████| 2/2 [00:06<00:00,  3.08\n",
      "                 Class     Images  Instances      Box(P          R      mAP50  mAP50-95): 100%|██████████| 1/1 [00:00<0"
     ]
    },
    {
     "name": "stdout",
     "output_type": "stream",
     "text": [
      "                   all         15        199      0.919       0.98      0.987      0.876\n"
     ]
    },
    {
     "name": "stderr",
     "output_type": "stream",
     "text": [
      "\n"
     ]
    },
    {
     "name": "stdout",
     "output_type": "stream",
     "text": [
      "\n",
      "      Epoch    GPU_mem   box_loss   cls_loss   dfl_loss  Instances       Size\n"
     ]
    },
    {
     "name": "stderr",
     "output_type": "stream",
     "text": [
      "    160/500      10.4G     0.5375     0.3649     0.8549        334        960: 100%|██████████| 2/2 [00:05<00:00,  2.69\n",
      "                 Class     Images  Instances      Box(P          R      mAP50  mAP50-95): 100%|██████████| 1/1 [00:00<0"
     ]
    },
    {
     "name": "stdout",
     "output_type": "stream",
     "text": [
      "                   all         15        199      0.913      0.989      0.987      0.875\n"
     ]
    },
    {
     "name": "stderr",
     "output_type": "stream",
     "text": [
      "\n"
     ]
    },
    {
     "name": "stdout",
     "output_type": "stream",
     "text": [
      "\n",
      "      Epoch    GPU_mem   box_loss   cls_loss   dfl_loss  Instances       Size\n"
     ]
    },
    {
     "name": "stderr",
     "output_type": "stream",
     "text": [
      "    161/500      10.4G     0.5199     0.3693     0.8559        238        960: 100%|██████████| 2/2 [00:05<00:00,  2.80\n",
      "                 Class     Images  Instances      Box(P          R      mAP50  mAP50-95): 100%|██████████| 1/1 [00:00<0"
     ]
    },
    {
     "name": "stdout",
     "output_type": "stream",
     "text": [
      "                   all         15        199      0.889      0.979      0.981      0.889\n"
     ]
    },
    {
     "name": "stderr",
     "output_type": "stream",
     "text": [
      "\n"
     ]
    },
    {
     "name": "stdout",
     "output_type": "stream",
     "text": [
      "\n",
      "      Epoch    GPU_mem   box_loss   cls_loss   dfl_loss  Instances       Size\n"
     ]
    },
    {
     "name": "stderr",
     "output_type": "stream",
     "text": [
      "    162/500      10.6G     0.5236     0.3533     0.8384        386        960: 100%|██████████| 2/2 [00:04<00:00,  2.40\n",
      "                 Class     Images  Instances      Box(P          R      mAP50  mAP50-95): 100%|██████████| 1/1 [00:00<0"
     ]
    },
    {
     "name": "stdout",
     "output_type": "stream",
     "text": [
      "                   all         15        199      0.894      0.941      0.989      0.885\n"
     ]
    },
    {
     "name": "stderr",
     "output_type": "stream",
     "text": [
      "\n"
     ]
    },
    {
     "name": "stdout",
     "output_type": "stream",
     "text": [
      "\n",
      "      Epoch    GPU_mem   box_loss   cls_loss   dfl_loss  Instances       Size\n"
     ]
    },
    {
     "name": "stderr",
     "output_type": "stream",
     "text": [
      "    163/500      10.6G     0.5111     0.3574     0.8555        355        960: 100%|██████████| 2/2 [00:05<00:00,  2.76\n",
      "                 Class     Images  Instances      Box(P          R      mAP50  mAP50-95): 100%|██████████| 1/1 [00:00<0"
     ]
    },
    {
     "name": "stdout",
     "output_type": "stream",
     "text": [
      "                   all         15        199      0.907      0.951      0.991      0.889\n"
     ]
    },
    {
     "name": "stderr",
     "output_type": "stream",
     "text": [
      "\n"
     ]
    },
    {
     "name": "stdout",
     "output_type": "stream",
     "text": [
      "\n",
      "      Epoch    GPU_mem   box_loss   cls_loss   dfl_loss  Instances       Size\n"
     ]
    },
    {
     "name": "stderr",
     "output_type": "stream",
     "text": [
      "    164/500      10.4G     0.5034     0.3588     0.8477        222        960: 100%|██████████| 2/2 [00:04<00:00,  2.49\n",
      "                 Class     Images  Instances      Box(P          R      mAP50  mAP50-95): 100%|██████████| 1/1 [00:00<0"
     ]
    },
    {
     "name": "stdout",
     "output_type": "stream",
     "text": [
      "                   all         15        199      0.907      0.956      0.991      0.896\n"
     ]
    },
    {
     "name": "stderr",
     "output_type": "stream",
     "text": [
      "\n"
     ]
    },
    {
     "name": "stdout",
     "output_type": "stream",
     "text": [
      "\n",
      "      Epoch    GPU_mem   box_loss   cls_loss   dfl_loss  Instances       Size\n"
     ]
    },
    {
     "name": "stderr",
     "output_type": "stream",
     "text": [
      "    165/500      10.4G     0.5252     0.3525     0.8557        396        960: 100%|██████████| 2/2 [00:05<00:00,  2.65\n",
      "                 Class     Images  Instances      Box(P          R      mAP50  mAP50-95): 100%|██████████| 1/1 [00:00<0"
     ]
    },
    {
     "name": "stdout",
     "output_type": "stream",
     "text": [
      "                   all         15        199        0.9      0.943       0.99      0.891\n"
     ]
    },
    {
     "name": "stderr",
     "output_type": "stream",
     "text": [
      "\n"
     ]
    },
    {
     "name": "stdout",
     "output_type": "stream",
     "text": [
      "\n",
      "      Epoch    GPU_mem   box_loss   cls_loss   dfl_loss  Instances       Size\n"
     ]
    },
    {
     "name": "stderr",
     "output_type": "stream",
     "text": [
      "    166/500      10.4G     0.5354     0.3597      0.853        328        960: 100%|██████████| 2/2 [00:05<00:00,  2.63\n",
      "                 Class     Images  Instances      Box(P          R      mAP50  mAP50-95): 100%|██████████| 1/1 [00:00<0"
     ]
    },
    {
     "name": "stdout",
     "output_type": "stream",
     "text": [
      "                   all         15        199      0.877      0.949      0.987      0.866\n"
     ]
    },
    {
     "name": "stderr",
     "output_type": "stream",
     "text": [
      "\n"
     ]
    },
    {
     "name": "stdout",
     "output_type": "stream",
     "text": [
      "\n",
      "      Epoch    GPU_mem   box_loss   cls_loss   dfl_loss  Instances       Size\n"
     ]
    },
    {
     "name": "stderr",
     "output_type": "stream",
     "text": [
      "    167/500      10.7G     0.5063     0.3413     0.8524        349        960: 100%|██████████| 2/2 [00:05<00:00,  2.90\n",
      "                 Class     Images  Instances      Box(P          R      mAP50  mAP50-95): 100%|██████████| 1/1 [00:00<0"
     ]
    },
    {
     "name": "stdout",
     "output_type": "stream",
     "text": [
      "                   all         15        199      0.908      0.954       0.99      0.865\n"
     ]
    },
    {
     "name": "stderr",
     "output_type": "stream",
     "text": [
      "\n"
     ]
    },
    {
     "name": "stdout",
     "output_type": "stream",
     "text": [
      "\n",
      "      Epoch    GPU_mem   box_loss   cls_loss   dfl_loss  Instances       Size\n"
     ]
    },
    {
     "name": "stderr",
     "output_type": "stream",
     "text": [
      "    168/500      10.6G     0.5257     0.3511     0.8589        361        960: 100%|██████████| 2/2 [00:05<00:00,  2.91\n",
      "                 Class     Images  Instances      Box(P          R      mAP50  mAP50-95): 100%|██████████| 1/1 [00:00<0"
     ]
    },
    {
     "name": "stdout",
     "output_type": "stream",
     "text": [
      "                   all         15        199      0.944      0.992      0.993      0.894\n"
     ]
    },
    {
     "name": "stderr",
     "output_type": "stream",
     "text": [
      "\n"
     ]
    },
    {
     "name": "stdout",
     "output_type": "stream",
     "text": [
      "\n",
      "      Epoch    GPU_mem   box_loss   cls_loss   dfl_loss  Instances       Size\n"
     ]
    },
    {
     "name": "stderr",
     "output_type": "stream",
     "text": [
      "    169/500      10.6G     0.5236     0.3652     0.8669        231        960: 100%|██████████| 2/2 [00:06<00:00,  3.20\n",
      "                 Class     Images  Instances      Box(P          R      mAP50  mAP50-95): 100%|██████████| 1/1 [00:00<0"
     ]
    },
    {
     "name": "stdout",
     "output_type": "stream",
     "text": [
      "                   all         15        199      0.945      0.991      0.992      0.894\n"
     ]
    },
    {
     "name": "stderr",
     "output_type": "stream",
     "text": [
      "\n"
     ]
    },
    {
     "name": "stdout",
     "output_type": "stream",
     "text": [
      "\n",
      "      Epoch    GPU_mem   box_loss   cls_loss   dfl_loss  Instances       Size\n"
     ]
    },
    {
     "name": "stderr",
     "output_type": "stream",
     "text": [
      "    170/500      10.6G     0.5237     0.3463     0.8518        373        960: 100%|██████████| 2/2 [00:05<00:00,  2.96\n",
      "                 Class     Images  Instances      Box(P          R      mAP50  mAP50-95): 100%|██████████| 1/1 [00:00<0"
     ]
    },
    {
     "name": "stdout",
     "output_type": "stream",
     "text": [
      "                   all         15        199      0.945      0.991      0.993      0.893\n"
     ]
    },
    {
     "name": "stderr",
     "output_type": "stream",
     "text": [
      "\n"
     ]
    },
    {
     "name": "stdout",
     "output_type": "stream",
     "text": [
      "\n",
      "      Epoch    GPU_mem   box_loss   cls_loss   dfl_loss  Instances       Size\n"
     ]
    },
    {
     "name": "stderr",
     "output_type": "stream",
     "text": [
      "    171/500      10.5G     0.5095     0.3495     0.8499        420        960: 100%|██████████| 2/2 [00:05<00:00,  2.91\n",
      "                 Class     Images  Instances      Box(P          R      mAP50  mAP50-95): 100%|██████████| 1/1 [00:00<0"
     ]
    },
    {
     "name": "stdout",
     "output_type": "stream",
     "text": [
      "                   all         15        199      0.927      0.987      0.992      0.848\n"
     ]
    },
    {
     "name": "stderr",
     "output_type": "stream",
     "text": [
      "\n"
     ]
    },
    {
     "name": "stdout",
     "output_type": "stream",
     "text": [
      "\n",
      "      Epoch    GPU_mem   box_loss   cls_loss   dfl_loss  Instances       Size\n"
     ]
    },
    {
     "name": "stderr",
     "output_type": "stream",
     "text": [
      "    172/500      10.7G     0.5282     0.3427     0.8371        456        960: 100%|██████████| 2/2 [00:06<00:00,  3.50\n",
      "                 Class     Images  Instances      Box(P          R      mAP50  mAP50-95): 100%|██████████| 1/1 [00:00<0"
     ]
    },
    {
     "name": "stdout",
     "output_type": "stream",
     "text": [
      "                   all         15        199      0.956      0.991       0.99      0.839\n"
     ]
    },
    {
     "name": "stderr",
     "output_type": "stream",
     "text": [
      "\n"
     ]
    },
    {
     "name": "stdout",
     "output_type": "stream",
     "text": [
      "\n",
      "      Epoch    GPU_mem   box_loss   cls_loss   dfl_loss  Instances       Size\n"
     ]
    },
    {
     "name": "stderr",
     "output_type": "stream",
     "text": [
      "    173/500      10.3G     0.5069     0.3515     0.8543        377        960: 100%|██████████| 2/2 [00:05<00:00,  2.65\n",
      "                 Class     Images  Instances      Box(P          R      mAP50  mAP50-95): 100%|██████████| 1/1 [00:00<0"
     ]
    },
    {
     "name": "stdout",
     "output_type": "stream",
     "text": [
      "                   all         15        199      0.959      0.992      0.992      0.859\n"
     ]
    },
    {
     "name": "stderr",
     "output_type": "stream",
     "text": [
      "\n"
     ]
    },
    {
     "name": "stdout",
     "output_type": "stream",
     "text": [
      "\n",
      "      Epoch    GPU_mem   box_loss   cls_loss   dfl_loss  Instances       Size\n"
     ]
    },
    {
     "name": "stderr",
     "output_type": "stream",
     "text": [
      "    174/500      10.7G     0.5244     0.3554     0.8538        410        960: 100%|██████████| 2/2 [00:06<00:00,  3.06\n",
      "                 Class     Images  Instances      Box(P          R      mAP50  mAP50-95): 100%|██████████| 1/1 [00:00<0"
     ]
    },
    {
     "name": "stdout",
     "output_type": "stream",
     "text": [
      "                   all         15        199      0.955      0.997      0.992      0.881\n"
     ]
    },
    {
     "name": "stderr",
     "output_type": "stream",
     "text": [
      "\n"
     ]
    },
    {
     "name": "stdout",
     "output_type": "stream",
     "text": [
      "\n",
      "      Epoch    GPU_mem   box_loss   cls_loss   dfl_loss  Instances       Size\n"
     ]
    },
    {
     "name": "stderr",
     "output_type": "stream",
     "text": [
      "    175/500      10.6G     0.4985     0.3464     0.8546        399        960: 100%|██████████| 2/2 [00:05<00:00,  2.97\n",
      "                 Class     Images  Instances      Box(P          R      mAP50  mAP50-95): 100%|██████████| 1/1 [00:00<0"
     ]
    },
    {
     "name": "stdout",
     "output_type": "stream",
     "text": [
      "                   all         15        199      0.965      0.997      0.993      0.871\n"
     ]
    },
    {
     "name": "stderr",
     "output_type": "stream",
     "text": [
      "\n"
     ]
    },
    {
     "name": "stdout",
     "output_type": "stream",
     "text": [
      "\n",
      "      Epoch    GPU_mem   box_loss   cls_loss   dfl_loss  Instances       Size\n"
     ]
    },
    {
     "name": "stderr",
     "output_type": "stream",
     "text": [
      "    176/500      10.5G     0.4896     0.3409       0.85        436        960: 100%|██████████| 2/2 [00:06<00:00,  3.21\n",
      "                 Class     Images  Instances      Box(P          R      mAP50  mAP50-95): 100%|██████████| 1/1 [00:00<0"
     ]
    },
    {
     "name": "stdout",
     "output_type": "stream",
     "text": [
      "                   all         15        199       0.97      0.993      0.993      0.866\n"
     ]
    },
    {
     "name": "stderr",
     "output_type": "stream",
     "text": [
      "\n"
     ]
    },
    {
     "name": "stdout",
     "output_type": "stream",
     "text": [
      "\n",
      "      Epoch    GPU_mem   box_loss   cls_loss   dfl_loss  Instances       Size\n"
     ]
    },
    {
     "name": "stderr",
     "output_type": "stream",
     "text": [
      "    177/500      10.4G     0.5121     0.3521     0.8706        245        960: 100%|██████████| 2/2 [00:05<00:00,  2.74\n",
      "                 Class     Images  Instances      Box(P          R      mAP50  mAP50-95): 100%|██████████| 1/1 [00:00<0"
     ]
    },
    {
     "name": "stdout",
     "output_type": "stream",
     "text": [
      "                   all         15        199      0.976      0.993      0.994      0.884\n"
     ]
    },
    {
     "name": "stderr",
     "output_type": "stream",
     "text": [
      "\n"
     ]
    },
    {
     "name": "stdout",
     "output_type": "stream",
     "text": [
      "\n",
      "      Epoch    GPU_mem   box_loss   cls_loss   dfl_loss  Instances       Size\n"
     ]
    },
    {
     "name": "stderr",
     "output_type": "stream",
     "text": [
      "    178/500      10.8G     0.4972     0.3428     0.8464        349        960: 100%|██████████| 2/2 [00:06<00:00,  3.17\n",
      "                 Class     Images  Instances      Box(P          R      mAP50  mAP50-95): 100%|██████████| 1/1 [00:00<0"
     ]
    },
    {
     "name": "stdout",
     "output_type": "stream",
     "text": [
      "                   all         15        199      0.984      0.996      0.993      0.904\n"
     ]
    },
    {
     "name": "stderr",
     "output_type": "stream",
     "text": [
      "\n"
     ]
    },
    {
     "name": "stdout",
     "output_type": "stream",
     "text": [
      "\n",
      "      Epoch    GPU_mem   box_loss   cls_loss   dfl_loss  Instances       Size\n"
     ]
    },
    {
     "name": "stderr",
     "output_type": "stream",
     "text": [
      "    179/500      10.3G     0.4903     0.3374      0.855        394        960: 100%|██████████| 2/2 [00:05<00:00,  2.67\n",
      "                 Class     Images  Instances      Box(P          R      mAP50  mAP50-95): 100%|██████████| 1/1 [00:00<0"
     ]
    },
    {
     "name": "stdout",
     "output_type": "stream",
     "text": [
      "                   all         15        199      0.982      0.992      0.993      0.907\n"
     ]
    },
    {
     "name": "stderr",
     "output_type": "stream",
     "text": [
      "\n"
     ]
    },
    {
     "name": "stdout",
     "output_type": "stream",
     "text": [
      "\n",
      "      Epoch    GPU_mem   box_loss   cls_loss   dfl_loss  Instances       Size\n"
     ]
    },
    {
     "name": "stderr",
     "output_type": "stream",
     "text": [
      "    180/500      10.6G     0.4923     0.3324     0.8496        373        960: 100%|██████████| 2/2 [00:05<00:00,  2.96\n",
      "                 Class     Images  Instances      Box(P          R      mAP50  mAP50-95): 100%|██████████| 1/1 [00:00<0"
     ]
    },
    {
     "name": "stdout",
     "output_type": "stream",
     "text": [
      "                   all         15        199      0.974      0.984      0.992      0.889\n"
     ]
    },
    {
     "name": "stderr",
     "output_type": "stream",
     "text": [
      "\n"
     ]
    },
    {
     "name": "stdout",
     "output_type": "stream",
     "text": [
      "\n",
      "      Epoch    GPU_mem   box_loss   cls_loss   dfl_loss  Instances       Size\n"
     ]
    },
    {
     "name": "stderr",
     "output_type": "stream",
     "text": [
      "    181/500      10.5G     0.5039     0.3347     0.8422        432        960: 100%|██████████| 2/2 [00:06<00:00,  3.20\n",
      "                 Class     Images  Instances      Box(P          R      mAP50  mAP50-95): 100%|██████████| 1/1 [00:00<0"
     ]
    },
    {
     "name": "stdout",
     "output_type": "stream",
     "text": [
      "                   all         15        199      0.964      0.984      0.992      0.862\n"
     ]
    },
    {
     "name": "stderr",
     "output_type": "stream",
     "text": [
      "\n"
     ]
    },
    {
     "name": "stdout",
     "output_type": "stream",
     "text": [
      "\n",
      "      Epoch    GPU_mem   box_loss   cls_loss   dfl_loss  Instances       Size\n"
     ]
    },
    {
     "name": "stderr",
     "output_type": "stream",
     "text": [
      "    182/500      10.8G     0.5235     0.3463       0.85        392        960: 100%|██████████| 2/2 [00:05<00:00,  2.65\n",
      "                 Class     Images  Instances      Box(P          R      mAP50  mAP50-95): 100%|██████████| 1/1 [00:00<0"
     ]
    },
    {
     "name": "stdout",
     "output_type": "stream",
     "text": [
      "                   all         15        199      0.972      0.987      0.993      0.879\n"
     ]
    },
    {
     "name": "stderr",
     "output_type": "stream",
     "text": [
      "\n"
     ]
    },
    {
     "name": "stdout",
     "output_type": "stream",
     "text": [
      "\n",
      "      Epoch    GPU_mem   box_loss   cls_loss   dfl_loss  Instances       Size\n"
     ]
    },
    {
     "name": "stderr",
     "output_type": "stream",
     "text": [
      "    183/500      10.4G     0.5135     0.3478     0.8424        356        960: 100%|██████████| 2/2 [00:05<00:00,  2.82\n",
      "                 Class     Images  Instances      Box(P          R      mAP50  mAP50-95): 100%|██████████| 1/1 [00:00<0"
     ]
    },
    {
     "name": "stdout",
     "output_type": "stream",
     "text": [
      "                   all         15        199      0.974       0.99      0.993      0.891\n"
     ]
    },
    {
     "name": "stderr",
     "output_type": "stream",
     "text": [
      "\n"
     ]
    },
    {
     "name": "stdout",
     "output_type": "stream",
     "text": [
      "\n",
      "      Epoch    GPU_mem   box_loss   cls_loss   dfl_loss  Instances       Size\n"
     ]
    },
    {
     "name": "stderr",
     "output_type": "stream",
     "text": [
      "    184/500      10.4G     0.4734     0.3316     0.8353        341        960: 100%|██████████| 2/2 [00:05<00:00,  2.57\n",
      "                 Class     Images  Instances      Box(P          R      mAP50  mAP50-95): 100%|██████████| 1/1 [00:00<0"
     ]
    },
    {
     "name": "stdout",
     "output_type": "stream",
     "text": [
      "                   all         15        199      0.977      0.991      0.993      0.895\n"
     ]
    },
    {
     "name": "stderr",
     "output_type": "stream",
     "text": [
      "\n"
     ]
    },
    {
     "name": "stdout",
     "output_type": "stream",
     "text": [
      "\n",
      "      Epoch    GPU_mem   box_loss   cls_loss   dfl_loss  Instances       Size\n"
     ]
    },
    {
     "name": "stderr",
     "output_type": "stream",
     "text": [
      "    185/500      10.6G     0.4777     0.3396     0.8478        302        960: 100%|██████████| 2/2 [00:05<00:00,  2.74\n",
      "                 Class     Images  Instances      Box(P          R      mAP50  mAP50-95): 100%|██████████| 1/1 [00:00<0"
     ]
    },
    {
     "name": "stdout",
     "output_type": "stream",
     "text": [
      "                   all         15        199      0.963      0.991      0.993      0.889\n"
     ]
    },
    {
     "name": "stderr",
     "output_type": "stream",
     "text": [
      "\n"
     ]
    },
    {
     "name": "stdout",
     "output_type": "stream",
     "text": [
      "\n",
      "      Epoch    GPU_mem   box_loss   cls_loss   dfl_loss  Instances       Size\n"
     ]
    },
    {
     "name": "stderr",
     "output_type": "stream",
     "text": [
      "    186/500      10.3G     0.4837     0.3324     0.8493        375        960: 100%|██████████| 2/2 [00:05<00:00,  2.53\n",
      "                 Class     Images  Instances      Box(P          R      mAP50  mAP50-95): 100%|██████████| 1/1 [00:00<0"
     ]
    },
    {
     "name": "stdout",
     "output_type": "stream",
     "text": [
      "                   all         15        199      0.967      0.994      0.994      0.898\n"
     ]
    },
    {
     "name": "stderr",
     "output_type": "stream",
     "text": [
      "\n"
     ]
    },
    {
     "name": "stdout",
     "output_type": "stream",
     "text": [
      "\n",
      "      Epoch    GPU_mem   box_loss   cls_loss   dfl_loss  Instances       Size\n"
     ]
    },
    {
     "name": "stderr",
     "output_type": "stream",
     "text": [
      "    187/500      10.6G     0.4913     0.3356     0.8419        316        960: 100%|██████████| 2/2 [00:05<00:00,  2.81\n",
      "                 Class     Images  Instances      Box(P          R      mAP50  mAP50-95): 100%|██████████| 1/1 [00:00<0"
     ]
    },
    {
     "name": "stdout",
     "output_type": "stream",
     "text": [
      "                   all         15        199      0.977      0.993      0.995      0.912\n"
     ]
    },
    {
     "name": "stderr",
     "output_type": "stream",
     "text": [
      "\n"
     ]
    },
    {
     "name": "stdout",
     "output_type": "stream",
     "text": [
      "\n",
      "      Epoch    GPU_mem   box_loss   cls_loss   dfl_loss  Instances       Size\n"
     ]
    },
    {
     "name": "stderr",
     "output_type": "stream",
     "text": [
      "    188/500      10.5G      0.504     0.3387     0.8468        309        960: 100%|██████████| 2/2 [00:05<00:00,  2.74\n",
      "                 Class     Images  Instances      Box(P          R      mAP50  mAP50-95): 100%|██████████| 1/1 [00:00<0"
     ]
    },
    {
     "name": "stdout",
     "output_type": "stream",
     "text": [
      "                   all         15        199      0.985      0.993      0.995      0.911\n"
     ]
    },
    {
     "name": "stderr",
     "output_type": "stream",
     "text": [
      "\n"
     ]
    },
    {
     "name": "stdout",
     "output_type": "stream",
     "text": [
      "\n",
      "      Epoch    GPU_mem   box_loss   cls_loss   dfl_loss  Instances       Size\n"
     ]
    },
    {
     "name": "stderr",
     "output_type": "stream",
     "text": [
      "    189/500      10.8G     0.4975     0.3269     0.8385        336        960: 100%|██████████| 2/2 [00:05<00:00,  2.94\n",
      "                 Class     Images  Instances      Box(P          R      mAP50  mAP50-95): 100%|██████████| 1/1 [00:00<0"
     ]
    },
    {
     "name": "stdout",
     "output_type": "stream",
     "text": [
      "                   all         15        199      0.987      0.994      0.995      0.903\n"
     ]
    },
    {
     "name": "stderr",
     "output_type": "stream",
     "text": [
      "\n"
     ]
    },
    {
     "name": "stdout",
     "output_type": "stream",
     "text": [
      "\n",
      "      Epoch    GPU_mem   box_loss   cls_loss   dfl_loss  Instances       Size\n"
     ]
    },
    {
     "name": "stderr",
     "output_type": "stream",
     "text": [
      "    190/500      10.3G     0.4694     0.3152     0.8355        366        960: 100%|██████████| 2/2 [00:05<00:00,  2.60\n",
      "                 Class     Images  Instances      Box(P          R      mAP50  mAP50-95): 100%|██████████| 1/1 [00:00<0"
     ]
    },
    {
     "name": "stdout",
     "output_type": "stream",
     "text": [
      "                   all         15        199      0.982      0.997      0.995        0.9\n"
     ]
    },
    {
     "name": "stderr",
     "output_type": "stream",
     "text": [
      "\n"
     ]
    },
    {
     "name": "stdout",
     "output_type": "stream",
     "text": [
      "\n",
      "      Epoch    GPU_mem   box_loss   cls_loss   dfl_loss  Instances       Size\n"
     ]
    },
    {
     "name": "stderr",
     "output_type": "stream",
     "text": [
      "    191/500      10.6G     0.4803     0.3294     0.8543        327        960: 100%|██████████| 2/2 [00:05<00:00,  2.81\n",
      "                 Class     Images  Instances      Box(P          R      mAP50  mAP50-95): 100%|██████████| 1/1 [00:00<0"
     ]
    },
    {
     "name": "stdout",
     "output_type": "stream",
     "text": [
      "                   all         15        199      0.976      0.997      0.994      0.897\n"
     ]
    },
    {
     "name": "stderr",
     "output_type": "stream",
     "text": [
      "\n"
     ]
    },
    {
     "name": "stdout",
     "output_type": "stream",
     "text": [
      "\n",
      "      Epoch    GPU_mem   box_loss   cls_loss   dfl_loss  Instances       Size\n"
     ]
    },
    {
     "name": "stderr",
     "output_type": "stream",
     "text": [
      "    192/500      10.4G     0.5084     0.3346     0.8634        272        960: 100%|██████████| 2/2 [00:05<00:00,  2.65\n",
      "                 Class     Images  Instances      Box(P          R      mAP50  mAP50-95): 100%|██████████| 1/1 [00:00<0"
     ]
    },
    {
     "name": "stdout",
     "output_type": "stream",
     "text": [
      "                   all         15        199      0.968      0.992      0.995      0.903\n"
     ]
    },
    {
     "name": "stderr",
     "output_type": "stream",
     "text": [
      "\n"
     ]
    },
    {
     "name": "stdout",
     "output_type": "stream",
     "text": [
      "\n",
      "      Epoch    GPU_mem   box_loss   cls_loss   dfl_loss  Instances       Size\n"
     ]
    },
    {
     "name": "stderr",
     "output_type": "stream",
     "text": [
      "    193/500      10.6G     0.4953     0.3302     0.8323        396        960: 100%|██████████| 2/2 [00:05<00:00,  2.78\n",
      "                 Class     Images  Instances      Box(P          R      mAP50  mAP50-95): 100%|██████████| 1/1 [00:00<0"
     ]
    },
    {
     "name": "stdout",
     "output_type": "stream",
     "text": [
      "                   all         15        199      0.969      0.907      0.994      0.905\n"
     ]
    },
    {
     "name": "stderr",
     "output_type": "stream",
     "text": [
      "\n"
     ]
    },
    {
     "name": "stdout",
     "output_type": "stream",
     "text": [
      "\n",
      "      Epoch    GPU_mem   box_loss   cls_loss   dfl_loss  Instances       Size\n"
     ]
    },
    {
     "name": "stderr",
     "output_type": "stream",
     "text": [
      "    194/500      10.8G     0.4601     0.3219     0.8466        319        960: 100%|██████████| 2/2 [00:06<00:00,  3.01\n",
      "                 Class     Images  Instances      Box(P          R      mAP50  mAP50-95): 100%|██████████| 1/1 [00:00<0"
     ]
    },
    {
     "name": "stdout",
     "output_type": "stream",
     "text": [
      "                   all         15        199      0.939      0.922      0.993      0.899\n"
     ]
    },
    {
     "name": "stderr",
     "output_type": "stream",
     "text": [
      "\n"
     ]
    },
    {
     "name": "stdout",
     "output_type": "stream",
     "text": [
      "\n",
      "      Epoch    GPU_mem   box_loss   cls_loss   dfl_loss  Instances       Size\n"
     ]
    },
    {
     "name": "stderr",
     "output_type": "stream",
     "text": [
      "    195/500      10.5G     0.4896     0.3313      0.851        354        960: 100%|██████████| 2/2 [00:05<00:00,  2.73\n",
      "                 Class     Images  Instances      Box(P          R      mAP50  mAP50-95): 100%|██████████| 1/1 [00:00<0"
     ]
    },
    {
     "name": "stdout",
     "output_type": "stream",
     "text": [
      "                   all         15        199      0.974      0.997      0.994      0.911\n"
     ]
    },
    {
     "name": "stderr",
     "output_type": "stream",
     "text": [
      "\n"
     ]
    },
    {
     "name": "stdout",
     "output_type": "stream",
     "text": [
      "\n",
      "      Epoch    GPU_mem   box_loss   cls_loss   dfl_loss  Instances       Size\n"
     ]
    },
    {
     "name": "stderr",
     "output_type": "stream",
     "text": [
      "    196/500      10.3G     0.4729     0.3251     0.8372        289        960: 100%|██████████| 2/2 [00:05<00:00,  2.60\n",
      "                 Class     Images  Instances      Box(P          R      mAP50  mAP50-95): 100%|██████████| 1/1 [00:00<0"
     ]
    },
    {
     "name": "stdout",
     "output_type": "stream",
     "text": [
      "                   all         15        199       0.97      0.997      0.994       0.92\n"
     ]
    },
    {
     "name": "stderr",
     "output_type": "stream",
     "text": [
      "\n"
     ]
    },
    {
     "name": "stdout",
     "output_type": "stream",
     "text": [
      "\n",
      "      Epoch    GPU_mem   box_loss   cls_loss   dfl_loss  Instances       Size\n"
     ]
    },
    {
     "name": "stderr",
     "output_type": "stream",
     "text": [
      "    197/500      10.9G     0.4911     0.3289     0.8598        314        960: 100%|██████████| 2/2 [00:06<00:00,  3.05\n",
      "                 Class     Images  Instances      Box(P          R      mAP50  mAP50-95): 100%|██████████| 1/1 [00:00<0"
     ]
    },
    {
     "name": "stdout",
     "output_type": "stream",
     "text": [
      "                   all         15        199       0.97      0.997      0.995      0.915\n"
     ]
    },
    {
     "name": "stderr",
     "output_type": "stream",
     "text": [
      "\n"
     ]
    },
    {
     "name": "stdout",
     "output_type": "stream",
     "text": [
      "\n",
      "      Epoch    GPU_mem   box_loss   cls_loss   dfl_loss  Instances       Size\n"
     ]
    },
    {
     "name": "stderr",
     "output_type": "stream",
     "text": [
      "    198/500      10.8G     0.4853     0.3266     0.8545        394        960: 100%|██████████| 2/2 [00:05<00:00,  2.97\n",
      "                 Class     Images  Instances      Box(P          R      mAP50  mAP50-95): 100%|██████████| 1/1 [00:00<0"
     ]
    },
    {
     "name": "stdout",
     "output_type": "stream",
     "text": [
      "                   all         15        199      0.972      0.997      0.995       0.91\n"
     ]
    },
    {
     "name": "stderr",
     "output_type": "stream",
     "text": [
      "\n"
     ]
    },
    {
     "name": "stdout",
     "output_type": "stream",
     "text": [
      "\n",
      "      Epoch    GPU_mem   box_loss   cls_loss   dfl_loss  Instances       Size\n"
     ]
    },
    {
     "name": "stderr",
     "output_type": "stream",
     "text": [
      "    199/500      10.7G     0.4863     0.3319     0.8568        268        960: 100%|██████████| 2/2 [00:05<00:00,  2.88\n",
      "                 Class     Images  Instances      Box(P          R      mAP50  mAP50-95): 100%|██████████| 1/1 [00:00<0"
     ]
    },
    {
     "name": "stdout",
     "output_type": "stream",
     "text": [
      "                   all         15        199      0.967      0.997      0.995       0.92\n"
     ]
    },
    {
     "name": "stderr",
     "output_type": "stream",
     "text": [
      "\n"
     ]
    },
    {
     "name": "stdout",
     "output_type": "stream",
     "text": [
      "\n",
      "      Epoch    GPU_mem   box_loss   cls_loss   dfl_loss  Instances       Size\n"
     ]
    },
    {
     "name": "stderr",
     "output_type": "stream",
     "text": [
      "    200/500      10.3G     0.4921     0.3277     0.8536        267        960: 100%|██████████| 2/2 [00:05<00:00,  2.61\n",
      "                 Class     Images  Instances      Box(P          R      mAP50  mAP50-95): 100%|██████████| 1/1 [00:00<0"
     ]
    },
    {
     "name": "stdout",
     "output_type": "stream",
     "text": [
      "                   all         15        199      0.965      0.982      0.995      0.918\n"
     ]
    },
    {
     "name": "stderr",
     "output_type": "stream",
     "text": [
      "\n"
     ]
    },
    {
     "name": "stdout",
     "output_type": "stream",
     "text": [
      "\n",
      "      Epoch    GPU_mem   box_loss   cls_loss   dfl_loss  Instances       Size\n"
     ]
    },
    {
     "name": "stderr",
     "output_type": "stream",
     "text": [
      "    201/500      10.4G     0.4786     0.3248     0.8381        375        960: 100%|██████████| 2/2 [00:06<00:00,  3.00\n",
      "                 Class     Images  Instances      Box(P          R      mAP50  mAP50-95): 100%|██████████| 1/1 [00:00<0"
     ]
    },
    {
     "name": "stdout",
     "output_type": "stream",
     "text": [
      "                   all         15        199      0.944       0.97      0.995      0.911\n"
     ]
    },
    {
     "name": "stderr",
     "output_type": "stream",
     "text": [
      "\n"
     ]
    },
    {
     "name": "stdout",
     "output_type": "stream",
     "text": [
      "\n",
      "      Epoch    GPU_mem   box_loss   cls_loss   dfl_loss  Instances       Size\n"
     ]
    },
    {
     "name": "stderr",
     "output_type": "stream",
     "text": [
      "    202/500      10.9G     0.4637     0.3245     0.8449        294        960: 100%|██████████| 2/2 [00:06<00:00,  3.14\n",
      "                 Class     Images  Instances      Box(P          R      mAP50  mAP50-95): 100%|██████████| 1/1 [00:00<0"
     ]
    },
    {
     "name": "stdout",
     "output_type": "stream",
     "text": [
      "                   all         15        199      0.934      0.971      0.995      0.912\n"
     ]
    },
    {
     "name": "stderr",
     "output_type": "stream",
     "text": [
      "\n"
     ]
    },
    {
     "name": "stdout",
     "output_type": "stream",
     "text": [
      "\n",
      "      Epoch    GPU_mem   box_loss   cls_loss   dfl_loss  Instances       Size\n"
     ]
    },
    {
     "name": "stderr",
     "output_type": "stream",
     "text": [
      "    203/500      10.7G     0.4879     0.3322     0.8474        275        960: 100%|██████████| 2/2 [00:05<00:00,  2.65\n",
      "                 Class     Images  Instances      Box(P          R      mAP50  mAP50-95): 100%|██████████| 1/1 [00:00<0"
     ]
    },
    {
     "name": "stdout",
     "output_type": "stream",
     "text": [
      "                   all         15        199      0.939      0.972      0.995      0.911\n"
     ]
    },
    {
     "name": "stderr",
     "output_type": "stream",
     "text": [
      "\n"
     ]
    },
    {
     "name": "stdout",
     "output_type": "stream",
     "text": [
      "\n",
      "      Epoch    GPU_mem   box_loss   cls_loss   dfl_loss  Instances       Size\n"
     ]
    },
    {
     "name": "stderr",
     "output_type": "stream",
     "text": [
      "    204/500      10.3G     0.4886     0.3294     0.8486        418        960: 100%|██████████| 2/2 [00:04<00:00,  2.45\n",
      "                 Class     Images  Instances      Box(P          R      mAP50  mAP50-95): 100%|██████████| 1/1 [00:00<0"
     ]
    },
    {
     "name": "stdout",
     "output_type": "stream",
     "text": [
      "                   all         15        199      0.931      0.986      0.994      0.904\n"
     ]
    },
    {
     "name": "stderr",
     "output_type": "stream",
     "text": [
      "\n"
     ]
    },
    {
     "name": "stdout",
     "output_type": "stream",
     "text": [
      "\n",
      "      Epoch    GPU_mem   box_loss   cls_loss   dfl_loss  Instances       Size\n"
     ]
    },
    {
     "name": "stderr",
     "output_type": "stream",
     "text": [
      "    205/500      10.6G     0.4821     0.3258     0.8388        332        960: 100%|██████████| 2/2 [00:05<00:00,  2.76\n",
      "                 Class     Images  Instances      Box(P          R      mAP50  mAP50-95): 100%|██████████| 1/1 [00:00<0"
     ]
    },
    {
     "name": "stdout",
     "output_type": "stream",
     "text": [
      "                   all         15        199      0.949      0.997      0.994      0.905\n"
     ]
    },
    {
     "name": "stderr",
     "output_type": "stream",
     "text": [
      "\n"
     ]
    },
    {
     "name": "stdout",
     "output_type": "stream",
     "text": [
      "\n",
      "      Epoch    GPU_mem   box_loss   cls_loss   dfl_loss  Instances       Size\n"
     ]
    },
    {
     "name": "stderr",
     "output_type": "stream",
     "text": [
      "    206/500      10.6G     0.4748     0.3163     0.8297        325        960: 100%|██████████| 2/2 [00:05<00:00,  2.88\n",
      "                 Class     Images  Instances      Box(P          R      mAP50  mAP50-95): 100%|██████████| 1/1 [00:00<0"
     ]
    },
    {
     "name": "stdout",
     "output_type": "stream",
     "text": [
      "                   all         15        199       0.96      0.997      0.994       0.91\n"
     ]
    },
    {
     "name": "stderr",
     "output_type": "stream",
     "text": [
      "\n"
     ]
    },
    {
     "name": "stdout",
     "output_type": "stream",
     "text": [
      "\n",
      "      Epoch    GPU_mem   box_loss   cls_loss   dfl_loss  Instances       Size\n"
     ]
    },
    {
     "name": "stderr",
     "output_type": "stream",
     "text": [
      "    207/500      10.5G     0.4841     0.3285     0.8562        328        960: 100%|██████████| 2/2 [00:05<00:00,  2.88\n",
      "                 Class     Images  Instances      Box(P          R      mAP50  mAP50-95): 100%|██████████| 1/1 [00:00<0"
     ]
    },
    {
     "name": "stdout",
     "output_type": "stream",
     "text": [
      "                   all         15        199      0.972      0.997      0.993      0.911\n"
     ]
    },
    {
     "name": "stderr",
     "output_type": "stream",
     "text": [
      "\n"
     ]
    },
    {
     "name": "stdout",
     "output_type": "stream",
     "text": [
      "\n",
      "      Epoch    GPU_mem   box_loss   cls_loss   dfl_loss  Instances       Size\n"
     ]
    },
    {
     "name": "stderr",
     "output_type": "stream",
     "text": [
      "    208/500      10.5G     0.5128     0.3322     0.8461        356        960: 100%|██████████| 2/2 [00:06<00:00,  3.25\n",
      "                 Class     Images  Instances      Box(P          R      mAP50  mAP50-95): 100%|██████████| 1/1 [00:00<0"
     ]
    },
    {
     "name": "stdout",
     "output_type": "stream",
     "text": [
      "                   all         15        199       0.97      0.996      0.995      0.919\n"
     ]
    },
    {
     "name": "stderr",
     "output_type": "stream",
     "text": [
      "\n"
     ]
    },
    {
     "name": "stdout",
     "output_type": "stream",
     "text": [
      "\n",
      "      Epoch    GPU_mem   box_loss   cls_loss   dfl_loss  Instances       Size\n"
     ]
    },
    {
     "name": "stderr",
     "output_type": "stream",
     "text": [
      "    209/500      10.5G     0.4751     0.3223     0.8328        346        960: 100%|██████████| 2/2 [00:05<00:00,  2.76\n",
      "                 Class     Images  Instances      Box(P          R      mAP50  mAP50-95): 100%|██████████| 1/1 [00:00<0"
     ]
    },
    {
     "name": "stdout",
     "output_type": "stream",
     "text": [
      "                   all         15        199      0.976      0.996      0.995      0.914\n"
     ]
    },
    {
     "name": "stderr",
     "output_type": "stream",
     "text": [
      "\n"
     ]
    },
    {
     "name": "stdout",
     "output_type": "stream",
     "text": [
      "\n",
      "      Epoch    GPU_mem   box_loss   cls_loss   dfl_loss  Instances       Size\n"
     ]
    },
    {
     "name": "stderr",
     "output_type": "stream",
     "text": [
      "    210/500      10.7G     0.4818     0.3264     0.8372        343        960: 100%|██████████| 2/2 [00:06<00:00,  3.03\n",
      "                 Class     Images  Instances      Box(P          R      mAP50  mAP50-95): 100%|██████████| 1/1 [00:00<0"
     ]
    },
    {
     "name": "stdout",
     "output_type": "stream",
     "text": [
      "                   all         15        199      0.949      0.996      0.995      0.903\n"
     ]
    },
    {
     "name": "stderr",
     "output_type": "stream",
     "text": [
      "\n"
     ]
    },
    {
     "name": "stdout",
     "output_type": "stream",
     "text": [
      "\n",
      "      Epoch    GPU_mem   box_loss   cls_loss   dfl_loss  Instances       Size\n"
     ]
    },
    {
     "name": "stderr",
     "output_type": "stream",
     "text": [
      "    211/500      10.5G      0.496      0.333     0.8348        305        960: 100%|██████████| 2/2 [00:06<00:00,  3.17\n",
      "                 Class     Images  Instances      Box(P          R      mAP50  mAP50-95): 100%|██████████| 1/1 [00:00<0"
     ]
    },
    {
     "name": "stdout",
     "output_type": "stream",
     "text": [
      "                   all         15        199      0.937      0.994      0.995      0.902\n"
     ]
    },
    {
     "name": "stderr",
     "output_type": "stream",
     "text": [
      "\n"
     ]
    },
    {
     "name": "stdout",
     "output_type": "stream",
     "text": [
      "\n",
      "      Epoch    GPU_mem   box_loss   cls_loss   dfl_loss  Instances       Size\n"
     ]
    },
    {
     "name": "stderr",
     "output_type": "stream",
     "text": [
      "    212/500      10.9G     0.4754     0.3222      0.847        402        960: 100%|██████████| 2/2 [00:06<00:00,  3.14\n",
      "                 Class     Images  Instances      Box(P          R      mAP50  mAP50-95): 100%|██████████| 1/1 [00:00<0"
     ]
    },
    {
     "name": "stdout",
     "output_type": "stream",
     "text": [
      "                   all         15        199      0.931      0.991      0.995      0.912\n"
     ]
    },
    {
     "name": "stderr",
     "output_type": "stream",
     "text": [
      "\n"
     ]
    },
    {
     "name": "stdout",
     "output_type": "stream",
     "text": [
      "\n",
      "      Epoch    GPU_mem   box_loss   cls_loss   dfl_loss  Instances       Size\n"
     ]
    },
    {
     "name": "stderr",
     "output_type": "stream",
     "text": [
      "    213/500      10.5G     0.4798     0.3248     0.8429        409        960: 100%|██████████| 2/2 [00:06<00:00,  3.26\n",
      "                 Class     Images  Instances      Box(P          R      mAP50  mAP50-95): 100%|██████████| 1/1 [00:00<0"
     ]
    },
    {
     "name": "stdout",
     "output_type": "stream",
     "text": [
      "                   all         15        199      0.941      0.995      0.995      0.922\n"
     ]
    },
    {
     "name": "stderr",
     "output_type": "stream",
     "text": [
      "\n"
     ]
    },
    {
     "name": "stdout",
     "output_type": "stream",
     "text": [
      "\n",
      "      Epoch    GPU_mem   box_loss   cls_loss   dfl_loss  Instances       Size\n"
     ]
    },
    {
     "name": "stderr",
     "output_type": "stream",
     "text": [
      "    214/500      10.3G     0.4793      0.322     0.8385        366        960: 100%|██████████| 2/2 [00:05<00:00,  2.74\n",
      "                 Class     Images  Instances      Box(P          R      mAP50  mAP50-95): 100%|██████████| 1/1 [00:00<0"
     ]
    },
    {
     "name": "stdout",
     "output_type": "stream",
     "text": [
      "                   all         15        199      0.972      0.998      0.994      0.916\n"
     ]
    },
    {
     "name": "stderr",
     "output_type": "stream",
     "text": [
      "\n"
     ]
    },
    {
     "name": "stdout",
     "output_type": "stream",
     "text": [
      "\n",
      "      Epoch    GPU_mem   box_loss   cls_loss   dfl_loss  Instances       Size\n"
     ]
    },
    {
     "name": "stderr",
     "output_type": "stream",
     "text": [
      "    215/500      10.8G     0.4776     0.3253     0.8577        270        960: 100%|██████████| 2/2 [00:06<00:00,  3.13\n",
      "                 Class     Images  Instances      Box(P          R      mAP50  mAP50-95): 100%|██████████| 1/1 [00:00<0"
     ]
    },
    {
     "name": "stdout",
     "output_type": "stream",
     "text": [
      "                   all         15        199      0.979      0.982      0.995      0.911\n"
     ]
    },
    {
     "name": "stderr",
     "output_type": "stream",
     "text": [
      "\n"
     ]
    },
    {
     "name": "stdout",
     "output_type": "stream",
     "text": [
      "\n",
      "      Epoch    GPU_mem   box_loss   cls_loss   dfl_loss  Instances       Size\n"
     ]
    },
    {
     "name": "stderr",
     "output_type": "stream",
     "text": [
      "    216/500      10.4G     0.4777     0.3216     0.8458        417        960: 100%|██████████| 2/2 [00:05<00:00,  2.86\n",
      "                 Class     Images  Instances      Box(P          R      mAP50  mAP50-95): 100%|██████████| 1/1 [00:00<0"
     ]
    },
    {
     "name": "stdout",
     "output_type": "stream",
     "text": [
      "                   all         15        199      0.981      0.983      0.995      0.908\n"
     ]
    },
    {
     "name": "stderr",
     "output_type": "stream",
     "text": [
      "\n"
     ]
    },
    {
     "name": "stdout",
     "output_type": "stream",
     "text": [
      "\n",
      "      Epoch    GPU_mem   box_loss   cls_loss   dfl_loss  Instances       Size\n"
     ]
    },
    {
     "name": "stderr",
     "output_type": "stream",
     "text": [
      "    217/500      10.6G     0.4845     0.3245     0.8657        265        960: 100%|██████████| 2/2 [00:05<00:00,  2.97\n",
      "                 Class     Images  Instances      Box(P          R      mAP50  mAP50-95): 100%|██████████| 1/1 [00:00<0"
     ]
    },
    {
     "name": "stdout",
     "output_type": "stream",
     "text": [
      "                   all         15        199      0.983      0.993      0.995      0.909\n"
     ]
    },
    {
     "name": "stderr",
     "output_type": "stream",
     "text": [
      "\n"
     ]
    },
    {
     "name": "stdout",
     "output_type": "stream",
     "text": [
      "\n",
      "      Epoch    GPU_mem   box_loss   cls_loss   dfl_loss  Instances       Size\n"
     ]
    },
    {
     "name": "stderr",
     "output_type": "stream",
     "text": [
      "    218/500      10.6G     0.4694     0.3105     0.8371        334        960: 100%|██████████| 2/2 [00:05<00:00,  2.97\n",
      "                 Class     Images  Instances      Box(P          R      mAP50  mAP50-95): 100%|██████████| 1/1 [00:00<0"
     ]
    },
    {
     "name": "stdout",
     "output_type": "stream",
     "text": [
      "                   all         15        199      0.983      0.993      0.995      0.907\n"
     ]
    },
    {
     "name": "stderr",
     "output_type": "stream",
     "text": [
      "\n"
     ]
    },
    {
     "name": "stdout",
     "output_type": "stream",
     "text": [
      "\n",
      "      Epoch    GPU_mem   box_loss   cls_loss   dfl_loss  Instances       Size\n"
     ]
    },
    {
     "name": "stderr",
     "output_type": "stream",
     "text": [
      "    219/500      10.6G     0.4605     0.3066     0.8378        413        960: 100%|██████████| 2/2 [00:06<00:00,  3.01\n",
      "                 Class     Images  Instances      Box(P          R      mAP50  mAP50-95): 100%|██████████| 1/1 [00:00<0"
     ]
    },
    {
     "name": "stdout",
     "output_type": "stream",
     "text": [
      "                   all         15        199      0.981      0.994      0.995      0.905\n"
     ]
    },
    {
     "name": "stderr",
     "output_type": "stream",
     "text": [
      "\n"
     ]
    },
    {
     "name": "stdout",
     "output_type": "stream",
     "text": [
      "\n",
      "      Epoch    GPU_mem   box_loss   cls_loss   dfl_loss  Instances       Size\n"
     ]
    },
    {
     "name": "stderr",
     "output_type": "stream",
     "text": [
      "    220/500      10.5G     0.4708     0.3117     0.8397        402        960: 100%|██████████| 2/2 [00:06<00:00,  3.32\n",
      "                 Class     Images  Instances      Box(P          R      mAP50  mAP50-95): 100%|██████████| 1/1 [00:00<0"
     ]
    },
    {
     "name": "stdout",
     "output_type": "stream",
     "text": [
      "                   all         15        199      0.969      0.996      0.995      0.908\n"
     ]
    },
    {
     "name": "stderr",
     "output_type": "stream",
     "text": [
      "\n"
     ]
    },
    {
     "name": "stdout",
     "output_type": "stream",
     "text": [
      "\n",
      "      Epoch    GPU_mem   box_loss   cls_loss   dfl_loss  Instances       Size\n"
     ]
    },
    {
     "name": "stderr",
     "output_type": "stream",
     "text": [
      "    221/500      10.5G     0.4786      0.314     0.8468        422        960: 100%|██████████| 2/2 [00:06<00:00,  3.27\n",
      "                 Class     Images  Instances      Box(P          R      mAP50  mAP50-95): 100%|██████████| 1/1 [00:00<0"
     ]
    },
    {
     "name": "stdout",
     "output_type": "stream",
     "text": [
      "                   all         15        199      0.965      0.997      0.995      0.917\n"
     ]
    },
    {
     "name": "stderr",
     "output_type": "stream",
     "text": [
      "\n"
     ]
    },
    {
     "name": "stdout",
     "output_type": "stream",
     "text": [
      "\n",
      "      Epoch    GPU_mem   box_loss   cls_loss   dfl_loss  Instances       Size\n"
     ]
    },
    {
     "name": "stderr",
     "output_type": "stream",
     "text": [
      "    222/500      10.6G     0.4784     0.3113     0.8309        454        960: 100%|██████████| 2/2 [00:12<00:00,  6.19\n",
      "                 Class     Images  Instances      Box(P          R      mAP50  mAP50-95): 100%|██████████| 1/1 [00:00<0"
     ]
    },
    {
     "name": "stdout",
     "output_type": "stream",
     "text": [
      "                   all         15        199      0.969      0.983      0.995      0.906\n"
     ]
    },
    {
     "name": "stderr",
     "output_type": "stream",
     "text": [
      "\n"
     ]
    },
    {
     "name": "stdout",
     "output_type": "stream",
     "text": [
      "\n",
      "      Epoch    GPU_mem   box_loss   cls_loss   dfl_loss  Instances       Size\n"
     ]
    },
    {
     "name": "stderr",
     "output_type": "stream",
     "text": [
      "    223/500      10.5G     0.4676     0.3093     0.8433        360        960: 100%|██████████| 2/2 [00:05<00:00,  2.66\n",
      "                 Class     Images  Instances      Box(P          R      mAP50  mAP50-95): 100%|██████████| 1/1 [00:00<0"
     ]
    },
    {
     "name": "stdout",
     "output_type": "stream",
     "text": [
      "                   all         15        199      0.974      0.985      0.995      0.896\n"
     ]
    },
    {
     "name": "stderr",
     "output_type": "stream",
     "text": [
      "\n"
     ]
    },
    {
     "name": "stdout",
     "output_type": "stream",
     "text": [
      "\n",
      "      Epoch    GPU_mem   box_loss   cls_loss   dfl_loss  Instances       Size\n"
     ]
    },
    {
     "name": "stderr",
     "output_type": "stream",
     "text": [
      "    224/500      10.3G     0.4822     0.3258     0.8532        358        960: 100%|██████████| 2/2 [00:04<00:00,  2.48\n",
      "                 Class     Images  Instances      Box(P          R      mAP50  mAP50-95): 100%|██████████| 1/1 [00:00<0"
     ]
    },
    {
     "name": "stdout",
     "output_type": "stream",
     "text": [
      "                   all         15        199      0.975      0.997      0.995        0.9\n"
     ]
    },
    {
     "name": "stderr",
     "output_type": "stream",
     "text": [
      "\n"
     ]
    },
    {
     "name": "stdout",
     "output_type": "stream",
     "text": [
      "\n",
      "      Epoch    GPU_mem   box_loss   cls_loss   dfl_loss  Instances       Size\n"
     ]
    },
    {
     "name": "stderr",
     "output_type": "stream",
     "text": [
      "    225/500      10.5G     0.5039     0.3243     0.8481        451        960: 100%|██████████| 2/2 [00:05<00:00,  2.71\n",
      "                 Class     Images  Instances      Box(P          R      mAP50  mAP50-95): 100%|██████████| 1/1 [00:00<0"
     ]
    },
    {
     "name": "stdout",
     "output_type": "stream",
     "text": [
      "                   all         15        199       0.98      0.994      0.995      0.907\n"
     ]
    },
    {
     "name": "stderr",
     "output_type": "stream",
     "text": [
      "\n"
     ]
    },
    {
     "name": "stdout",
     "output_type": "stream",
     "text": [
      "\n",
      "      Epoch    GPU_mem   box_loss   cls_loss   dfl_loss  Instances       Size\n"
     ]
    },
    {
     "name": "stderr",
     "output_type": "stream",
     "text": [
      "    226/500      10.7G     0.4908     0.3203     0.8477        303        960: 100%|██████████| 2/2 [00:05<00:00,  2.89\n",
      "                 Class     Images  Instances      Box(P          R      mAP50  mAP50-95): 100%|██████████| 1/1 [00:00<0"
     ]
    },
    {
     "name": "stdout",
     "output_type": "stream",
     "text": [
      "                   all         15        199       0.98      0.992      0.995      0.909\n"
     ]
    },
    {
     "name": "stderr",
     "output_type": "stream",
     "text": [
      "\n"
     ]
    },
    {
     "name": "stdout",
     "output_type": "stream",
     "text": [
      "\n",
      "      Epoch    GPU_mem   box_loss   cls_loss   dfl_loss  Instances       Size\n"
     ]
    },
    {
     "name": "stderr",
     "output_type": "stream",
     "text": [
      "    227/500      10.5G     0.4617     0.3097      0.843        330        960: 100%|██████████| 2/2 [00:06<00:00,  3.11\n",
      "                 Class     Images  Instances      Box(P          R      mAP50  mAP50-95): 100%|██████████| 1/1 [00:00<0"
     ]
    },
    {
     "name": "stdout",
     "output_type": "stream",
     "text": [
      "                   all         15        199       0.98       0.99      0.995      0.911\n"
     ]
    },
    {
     "name": "stderr",
     "output_type": "stream",
     "text": [
      "\n"
     ]
    },
    {
     "name": "stdout",
     "output_type": "stream",
     "text": [
      "\n",
      "      Epoch    GPU_mem   box_loss   cls_loss   dfl_loss  Instances       Size\n"
     ]
    },
    {
     "name": "stderr",
     "output_type": "stream",
     "text": [
      "    228/500      10.6G     0.4592      0.315     0.8258        527        960: 100%|██████████| 2/2 [00:05<00:00,  2.98\n",
      "                 Class     Images  Instances      Box(P          R      mAP50  mAP50-95): 100%|██████████| 1/1 [00:00<0"
     ]
    },
    {
     "name": "stdout",
     "output_type": "stream",
     "text": [
      "                   all         15        199      0.978      0.991      0.995      0.912\n"
     ]
    },
    {
     "name": "stderr",
     "output_type": "stream",
     "text": [
      "\n"
     ]
    },
    {
     "name": "stdout",
     "output_type": "stream",
     "text": [
      "\n",
      "      Epoch    GPU_mem   box_loss   cls_loss   dfl_loss  Instances       Size\n"
     ]
    },
    {
     "name": "stderr",
     "output_type": "stream",
     "text": [
      "    229/500      10.7G     0.4793     0.3106     0.8367        418        960: 100%|██████████| 2/2 [00:07<00:00,  3.54\n",
      "                 Class     Images  Instances      Box(P          R      mAP50  mAP50-95): 100%|██████████| 1/1 [00:00<0"
     ]
    },
    {
     "name": "stdout",
     "output_type": "stream",
     "text": [
      "                   all         15        199      0.975      0.996      0.995       0.92\n"
     ]
    },
    {
     "name": "stderr",
     "output_type": "stream",
     "text": [
      "\n"
     ]
    },
    {
     "name": "stdout",
     "output_type": "stream",
     "text": [
      "\n",
      "      Epoch    GPU_mem   box_loss   cls_loss   dfl_loss  Instances       Size\n"
     ]
    },
    {
     "name": "stderr",
     "output_type": "stream",
     "text": [
      "    230/500      10.5G     0.4473     0.3004     0.8233        305        960: 100%|██████████| 2/2 [00:06<00:00,  3.34\n",
      "                 Class     Images  Instances      Box(P          R      mAP50  mAP50-95): 100%|██████████| 1/1 [00:00<0"
     ]
    },
    {
     "name": "stdout",
     "output_type": "stream",
     "text": [
      "                   all         15        199      0.975      0.997      0.995      0.924\n"
     ]
    },
    {
     "name": "stderr",
     "output_type": "stream",
     "text": [
      "\n"
     ]
    },
    {
     "name": "stdout",
     "output_type": "stream",
     "text": [
      "\n",
      "      Epoch    GPU_mem   box_loss   cls_loss   dfl_loss  Instances       Size\n"
     ]
    },
    {
     "name": "stderr",
     "output_type": "stream",
     "text": [
      "    231/500      10.4G     0.4503     0.3107     0.8299        282        960: 100%|██████████| 2/2 [00:05<00:00,  2.90\n",
      "                 Class     Images  Instances      Box(P          R      mAP50  mAP50-95): 100%|██████████| 1/1 [00:00<0"
     ]
    },
    {
     "name": "stdout",
     "output_type": "stream",
     "text": [
      "                   all         15        199      0.973      0.997      0.995      0.919\n"
     ]
    },
    {
     "name": "stderr",
     "output_type": "stream",
     "text": [
      "\n"
     ]
    },
    {
     "name": "stdout",
     "output_type": "stream",
     "text": [
      "\n",
      "      Epoch    GPU_mem   box_loss   cls_loss   dfl_loss  Instances       Size\n"
     ]
    },
    {
     "name": "stderr",
     "output_type": "stream",
     "text": [
      "    232/500      10.4G     0.4689     0.3132     0.8659        272        960: 100%|██████████| 2/2 [00:05<00:00,  2.80\n",
      "                 Class     Images  Instances      Box(P          R      mAP50  mAP50-95): 100%|██████████| 1/1 [00:00<0"
     ]
    },
    {
     "name": "stdout",
     "output_type": "stream",
     "text": [
      "                   all         15        199      0.973      0.997      0.995      0.912\n"
     ]
    },
    {
     "name": "stderr",
     "output_type": "stream",
     "text": [
      "\n"
     ]
    },
    {
     "name": "stdout",
     "output_type": "stream",
     "text": [
      "\n",
      "      Epoch    GPU_mem   box_loss   cls_loss   dfl_loss  Instances       Size\n"
     ]
    },
    {
     "name": "stderr",
     "output_type": "stream",
     "text": [
      "    233/500      10.6G      0.466      0.307     0.8324        432        960: 100%|██████████| 2/2 [00:06<00:00,  3.09\n",
      "                 Class     Images  Instances      Box(P          R      mAP50  mAP50-95): 100%|██████████| 1/1 [00:00<0"
     ]
    },
    {
     "name": "stdout",
     "output_type": "stream",
     "text": [
      "                   all         15        199      0.972      0.996      0.995      0.918\n"
     ]
    },
    {
     "name": "stderr",
     "output_type": "stream",
     "text": [
      "\n"
     ]
    },
    {
     "name": "stdout",
     "output_type": "stream",
     "text": [
      "\n",
      "      Epoch    GPU_mem   box_loss   cls_loss   dfl_loss  Instances       Size\n"
     ]
    },
    {
     "name": "stderr",
     "output_type": "stream",
     "text": [
      "    234/500      10.4G     0.4513     0.3027     0.8327        419        960: 100%|██████████| 2/2 [00:05<00:00,  2.84\n",
      "                 Class     Images  Instances      Box(P          R      mAP50  mAP50-95): 100%|██████████| 1/1 [00:00<0"
     ]
    },
    {
     "name": "stdout",
     "output_type": "stream",
     "text": [
      "                   all         15        199       0.97      0.997      0.995       0.92\n"
     ]
    },
    {
     "name": "stderr",
     "output_type": "stream",
     "text": [
      "\n"
     ]
    },
    {
     "name": "stdout",
     "output_type": "stream",
     "text": [
      "\n",
      "      Epoch    GPU_mem   box_loss   cls_loss   dfl_loss  Instances       Size\n"
     ]
    },
    {
     "name": "stderr",
     "output_type": "stream",
     "text": [
      "    235/500      10.7G     0.4656     0.3069     0.8417        374        960: 100%|██████████| 2/2 [00:06<00:00,  3.14\n",
      "                 Class     Images  Instances      Box(P          R      mAP50  mAP50-95): 100%|██████████| 1/1 [00:00<0"
     ]
    },
    {
     "name": "stdout",
     "output_type": "stream",
     "text": [
      "                   all         15        199      0.971      0.997      0.993       0.92\n"
     ]
    },
    {
     "name": "stderr",
     "output_type": "stream",
     "text": [
      "\n"
     ]
    },
    {
     "name": "stdout",
     "output_type": "stream",
     "text": [
      "\n",
      "      Epoch    GPU_mem   box_loss   cls_loss   dfl_loss  Instances       Size\n"
     ]
    },
    {
     "name": "stderr",
     "output_type": "stream",
     "text": [
      "    236/500      10.6G     0.4473     0.3105     0.8283        266        960: 100%|██████████| 2/2 [00:06<00:00,  3.13\n",
      "                 Class     Images  Instances      Box(P          R      mAP50  mAP50-95): 100%|██████████| 1/1 [00:00<0"
     ]
    },
    {
     "name": "stdout",
     "output_type": "stream",
     "text": [
      "                   all         15        199      0.972      0.997      0.993      0.921\n"
     ]
    },
    {
     "name": "stderr",
     "output_type": "stream",
     "text": [
      "\n"
     ]
    },
    {
     "name": "stdout",
     "output_type": "stream",
     "text": [
      "\n",
      "      Epoch    GPU_mem   box_loss   cls_loss   dfl_loss  Instances       Size\n"
     ]
    },
    {
     "name": "stderr",
     "output_type": "stream",
     "text": [
      "    237/500      10.6G     0.4479     0.2985      0.841        334        960: 100%|██████████| 2/2 [00:06<00:00,  3.13\n",
      "                 Class     Images  Instances      Box(P          R      mAP50  mAP50-95): 100%|██████████| 1/1 [00:00<0"
     ]
    },
    {
     "name": "stdout",
     "output_type": "stream",
     "text": [
      "                   all         15        199      0.976      0.997      0.993      0.917\n"
     ]
    },
    {
     "name": "stderr",
     "output_type": "stream",
     "text": [
      "\n"
     ]
    },
    {
     "name": "stdout",
     "output_type": "stream",
     "text": [
      "\n",
      "      Epoch    GPU_mem   box_loss   cls_loss   dfl_loss  Instances       Size\n"
     ]
    },
    {
     "name": "stderr",
     "output_type": "stream",
     "text": [
      "    238/500      10.7G     0.4899     0.3144     0.8472        423        960: 100%|██████████| 2/2 [00:06<00:00,  3.25\n",
      "                 Class     Images  Instances      Box(P          R      mAP50  mAP50-95): 100%|██████████| 1/1 [00:00<0"
     ]
    },
    {
     "name": "stdout",
     "output_type": "stream",
     "text": [
      "                   all         15        199      0.978      0.997      0.994       0.92\n"
     ]
    },
    {
     "name": "stderr",
     "output_type": "stream",
     "text": [
      "\n"
     ]
    },
    {
     "name": "stdout",
     "output_type": "stream",
     "text": [
      "\n",
      "      Epoch    GPU_mem   box_loss   cls_loss   dfl_loss  Instances       Size\n"
     ]
    },
    {
     "name": "stderr",
     "output_type": "stream",
     "text": [
      "    239/500      10.6G     0.4837     0.3167     0.8494        307        960: 100%|██████████| 2/2 [00:06<00:00,  3.13\n",
      "                 Class     Images  Instances      Box(P          R      mAP50  mAP50-95): 100%|██████████| 1/1 [00:00<0"
     ]
    },
    {
     "name": "stdout",
     "output_type": "stream",
     "text": [
      "                   all         15        199      0.973      0.997      0.994      0.919\n"
     ]
    },
    {
     "name": "stderr",
     "output_type": "stream",
     "text": [
      "\n"
     ]
    },
    {
     "name": "stdout",
     "output_type": "stream",
     "text": [
      "\n",
      "      Epoch    GPU_mem   box_loss   cls_loss   dfl_loss  Instances       Size\n"
     ]
    },
    {
     "name": "stderr",
     "output_type": "stream",
     "text": [
      "    240/500      10.5G     0.4515     0.2985     0.8332        332        960: 100%|██████████| 2/2 [00:06<00:00,  3.16\n",
      "                 Class     Images  Instances      Box(P          R      mAP50  mAP50-95): 100%|██████████| 1/1 [00:00<0"
     ]
    },
    {
     "name": "stdout",
     "output_type": "stream",
     "text": [
      "                   all         15        199      0.967      0.997      0.993      0.918\n"
     ]
    },
    {
     "name": "stderr",
     "output_type": "stream",
     "text": [
      "\n"
     ]
    },
    {
     "name": "stdout",
     "output_type": "stream",
     "text": [
      "\n",
      "      Epoch    GPU_mem   box_loss   cls_loss   dfl_loss  Instances       Size\n"
     ]
    },
    {
     "name": "stderr",
     "output_type": "stream",
     "text": [
      "    241/500      10.7G     0.4725     0.3098      0.836        345        960: 100%|██████████| 2/2 [00:07<00:00,  3.90\n",
      "                 Class     Images  Instances      Box(P          R      mAP50  mAP50-95): 100%|██████████| 1/1 [00:00<0"
     ]
    },
    {
     "name": "stdout",
     "output_type": "stream",
     "text": [
      "                   all         15        199      0.961      0.997      0.993      0.912\n"
     ]
    },
    {
     "name": "stderr",
     "output_type": "stream",
     "text": [
      "\n"
     ]
    },
    {
     "name": "stdout",
     "output_type": "stream",
     "text": [
      "\n",
      "      Epoch    GPU_mem   box_loss   cls_loss   dfl_loss  Instances       Size\n"
     ]
    },
    {
     "name": "stderr",
     "output_type": "stream",
     "text": [
      "    242/500      10.6G     0.4611     0.3129     0.8303        545        960: 100%|██████████| 2/2 [00:05<00:00,  2.91\n",
      "                 Class     Images  Instances      Box(P          R      mAP50  mAP50-95): 100%|██████████| 1/1 [00:00<0"
     ]
    },
    {
     "name": "stdout",
     "output_type": "stream",
     "text": [
      "                   all         15        199       0.96      0.997      0.994      0.906\n"
     ]
    },
    {
     "name": "stderr",
     "output_type": "stream",
     "text": [
      "\n"
     ]
    },
    {
     "name": "stdout",
     "output_type": "stream",
     "text": [
      "\n",
      "      Epoch    GPU_mem   box_loss   cls_loss   dfl_loss  Instances       Size\n"
     ]
    },
    {
     "name": "stderr",
     "output_type": "stream",
     "text": [
      "    243/500      10.4G     0.4623     0.3125     0.8402        381        960: 100%|██████████| 2/2 [00:05<00:00,  2.66\n",
      "                 Class     Images  Instances      Box(P          R      mAP50  mAP50-95): 100%|██████████| 1/1 [00:00<0"
     ]
    },
    {
     "name": "stdout",
     "output_type": "stream",
     "text": [
      "                   all         15        199      0.962      0.997      0.995      0.914\n"
     ]
    },
    {
     "name": "stderr",
     "output_type": "stream",
     "text": [
      "\n"
     ]
    },
    {
     "name": "stdout",
     "output_type": "stream",
     "text": [
      "\n",
      "      Epoch    GPU_mem   box_loss   cls_loss   dfl_loss  Instances       Size\n"
     ]
    },
    {
     "name": "stderr",
     "output_type": "stream",
     "text": [
      "    244/500      10.6G     0.4678     0.3145      0.827        471        960: 100%|██████████| 2/2 [00:05<00:00,  2.87\n",
      "                 Class     Images  Instances      Box(P          R      mAP50  mAP50-95): 100%|██████████| 1/1 [00:00<0"
     ]
    },
    {
     "name": "stdout",
     "output_type": "stream",
     "text": [
      "                   all         15        199      0.965      0.997      0.995      0.922\n"
     ]
    },
    {
     "name": "stderr",
     "output_type": "stream",
     "text": [
      "\n"
     ]
    },
    {
     "name": "stdout",
     "output_type": "stream",
     "text": [
      "\n",
      "      Epoch    GPU_mem   box_loss   cls_loss   dfl_loss  Instances       Size\n"
     ]
    },
    {
     "name": "stderr",
     "output_type": "stream",
     "text": [
      "    245/500      10.5G      0.447     0.2972      0.838        298        960: 100%|██████████| 2/2 [00:05<00:00,  2.78\n",
      "                 Class     Images  Instances      Box(P          R      mAP50  mAP50-95): 100%|██████████| 1/1 [00:00<0"
     ]
    },
    {
     "name": "stdout",
     "output_type": "stream",
     "text": [
      "                   all         15        199      0.975      0.997      0.995      0.921\n"
     ]
    },
    {
     "name": "stderr",
     "output_type": "stream",
     "text": [
      "\n"
     ]
    },
    {
     "name": "stdout",
     "output_type": "stream",
     "text": [
      "\n",
      "      Epoch    GPU_mem   box_loss   cls_loss   dfl_loss  Instances       Size\n"
     ]
    },
    {
     "name": "stderr",
     "output_type": "stream",
     "text": [
      "    246/500      10.6G     0.4683     0.3057     0.8357        393        960: 100%|██████████| 2/2 [00:05<00:00,  2.95\n",
      "                 Class     Images  Instances      Box(P          R      mAP50  mAP50-95): 100%|██████████| 1/1 [00:00<0"
     ]
    },
    {
     "name": "stdout",
     "output_type": "stream",
     "text": [
      "                   all         15        199       0.98      0.998      0.995      0.919\n"
     ]
    },
    {
     "name": "stderr",
     "output_type": "stream",
     "text": [
      "\n"
     ]
    },
    {
     "name": "stdout",
     "output_type": "stream",
     "text": [
      "\n",
      "      Epoch    GPU_mem   box_loss   cls_loss   dfl_loss  Instances       Size\n"
     ]
    },
    {
     "name": "stderr",
     "output_type": "stream",
     "text": [
      "    247/500      10.5G     0.4525     0.3031     0.8384        378        960: 100%|██████████| 2/2 [00:05<00:00,  2.92\n",
      "                 Class     Images  Instances      Box(P          R      mAP50  mAP50-95): 100%|██████████| 1/1 [00:00<0"
     ]
    },
    {
     "name": "stdout",
     "output_type": "stream",
     "text": [
      "                   all         15        199      0.975      0.998      0.995      0.916\n"
     ]
    },
    {
     "name": "stderr",
     "output_type": "stream",
     "text": [
      "\n"
     ]
    },
    {
     "name": "stdout",
     "output_type": "stream",
     "text": [
      "\n",
      "      Epoch    GPU_mem   box_loss   cls_loss   dfl_loss  Instances       Size\n"
     ]
    },
    {
     "name": "stderr",
     "output_type": "stream",
     "text": [
      "    248/500      10.8G     0.4586     0.3045     0.8309        398        960: 100%|██████████| 2/2 [00:06<00:00,  3.27\n",
      "                 Class     Images  Instances      Box(P          R      mAP50  mAP50-95): 100%|██████████| 1/1 [00:00<0"
     ]
    },
    {
     "name": "stdout",
     "output_type": "stream",
     "text": [
      "                   all         15        199      0.969      0.997      0.995      0.917\n"
     ]
    },
    {
     "name": "stderr",
     "output_type": "stream",
     "text": [
      "\n"
     ]
    },
    {
     "name": "stdout",
     "output_type": "stream",
     "text": [
      "\n",
      "      Epoch    GPU_mem   box_loss   cls_loss   dfl_loss  Instances       Size\n"
     ]
    },
    {
     "name": "stderr",
     "output_type": "stream",
     "text": [
      "    249/500      10.7G     0.4513      0.298     0.8293        438        960: 100%|██████████| 2/2 [00:06<00:00,  3.26\n",
      "                 Class     Images  Instances      Box(P          R      mAP50  mAP50-95): 100%|██████████| 1/1 [00:00<0"
     ]
    },
    {
     "name": "stdout",
     "output_type": "stream",
     "text": [
      "                   all         15        199       0.96      0.997      0.995      0.905\n"
     ]
    },
    {
     "name": "stderr",
     "output_type": "stream",
     "text": [
      "\n"
     ]
    },
    {
     "name": "stdout",
     "output_type": "stream",
     "text": [
      "\n",
      "      Epoch    GPU_mem   box_loss   cls_loss   dfl_loss  Instances       Size\n"
     ]
    },
    {
     "name": "stderr",
     "output_type": "stream",
     "text": [
      "    250/500      10.9G     0.4663     0.3127     0.8384        381        960: 100%|██████████| 2/2 [00:06<00:00,  3.38\n",
      "                 Class     Images  Instances      Box(P          R      mAP50  mAP50-95): 100%|██████████| 1/1 [00:00<0"
     ]
    },
    {
     "name": "stdout",
     "output_type": "stream",
     "text": [
      "                   all         15        199      0.962      0.992      0.994      0.903\n"
     ]
    },
    {
     "name": "stderr",
     "output_type": "stream",
     "text": [
      "\n"
     ]
    },
    {
     "name": "stdout",
     "output_type": "stream",
     "text": [
      "\n",
      "      Epoch    GPU_mem   box_loss   cls_loss   dfl_loss  Instances       Size\n"
     ]
    },
    {
     "name": "stderr",
     "output_type": "stream",
     "text": [
      "    251/500      10.4G     0.4482     0.3021     0.8211        355        960: 100%|██████████| 2/2 [00:06<00:00,  3.38\n",
      "                 Class     Images  Instances      Box(P          R      mAP50  mAP50-95): 100%|██████████| 1/1 [00:00<0"
     ]
    },
    {
     "name": "stdout",
     "output_type": "stream",
     "text": [
      "                   all         15        199      0.969      0.993      0.995      0.908\n"
     ]
    },
    {
     "name": "stderr",
     "output_type": "stream",
     "text": [
      "\n"
     ]
    },
    {
     "name": "stdout",
     "output_type": "stream",
     "text": [
      "\n",
      "      Epoch    GPU_mem   box_loss   cls_loss   dfl_loss  Instances       Size\n"
     ]
    },
    {
     "name": "stderr",
     "output_type": "stream",
     "text": [
      "    252/500      10.5G     0.4322     0.2982     0.8172        308        960: 100%|██████████| 2/2 [00:06<00:00,  3.13\n",
      "                 Class     Images  Instances      Box(P          R      mAP50  mAP50-95): 100%|██████████| 1/1 [00:00<0"
     ]
    },
    {
     "name": "stdout",
     "output_type": "stream",
     "text": [
      "                   all         15        199      0.977      0.994      0.995      0.912\n"
     ]
    },
    {
     "name": "stderr",
     "output_type": "stream",
     "text": [
      "\n"
     ]
    },
    {
     "name": "stdout",
     "output_type": "stream",
     "text": [
      "\n",
      "      Epoch    GPU_mem   box_loss   cls_loss   dfl_loss  Instances       Size\n"
     ]
    },
    {
     "name": "stderr",
     "output_type": "stream",
     "text": [
      "    253/500      10.4G     0.4395     0.2962     0.8277        400        960: 100%|██████████| 2/2 [00:06<00:00,  3.26\n",
      "                 Class     Images  Instances      Box(P          R      mAP50  mAP50-95): 100%|██████████| 1/1 [00:00<0"
     ]
    },
    {
     "name": "stdout",
     "output_type": "stream",
     "text": [
      "                   all         15        199      0.981      0.997      0.995      0.913\n"
     ]
    },
    {
     "name": "stderr",
     "output_type": "stream",
     "text": [
      "\n"
     ]
    },
    {
     "name": "stdout",
     "output_type": "stream",
     "text": [
      "\n",
      "      Epoch    GPU_mem   box_loss   cls_loss   dfl_loss  Instances       Size\n"
     ]
    },
    {
     "name": "stderr",
     "output_type": "stream",
     "text": [
      "    254/500      10.4G     0.4579     0.3012     0.8398        341        960: 100%|██████████| 2/2 [00:07<00:00,  3.64\n",
      "                 Class     Images  Instances      Box(P          R      mAP50  mAP50-95): 100%|██████████| 1/1 [00:00<0"
     ]
    },
    {
     "name": "stdout",
     "output_type": "stream",
     "text": [
      "                   all         15        199      0.977      0.997      0.995      0.917\n"
     ]
    },
    {
     "name": "stderr",
     "output_type": "stream",
     "text": [
      "\n"
     ]
    },
    {
     "name": "stdout",
     "output_type": "stream",
     "text": [
      "\n",
      "      Epoch    GPU_mem   box_loss   cls_loss   dfl_loss  Instances       Size\n"
     ]
    },
    {
     "name": "stderr",
     "output_type": "stream",
     "text": [
      "    255/500      10.6G     0.4513     0.2998      0.835        312        960: 100%|██████████| 2/2 [00:07<00:00,  3.64\n",
      "                 Class     Images  Instances      Box(P          R      mAP50  mAP50-95): 100%|██████████| 1/1 [00:00<0"
     ]
    },
    {
     "name": "stdout",
     "output_type": "stream",
     "text": [
      "                   all         15        199      0.968      0.997      0.995      0.912\n"
     ]
    },
    {
     "name": "stderr",
     "output_type": "stream",
     "text": [
      "\n"
     ]
    },
    {
     "name": "stdout",
     "output_type": "stream",
     "text": [
      "\n",
      "      Epoch    GPU_mem   box_loss   cls_loss   dfl_loss  Instances       Size\n"
     ]
    },
    {
     "name": "stderr",
     "output_type": "stream",
     "text": [
      "    256/500      10.6G      0.443     0.2887     0.8385        394        960: 100%|██████████| 2/2 [00:07<00:00,  3.85\n",
      "                 Class     Images  Instances      Box(P          R      mAP50  mAP50-95): 100%|██████████| 1/1 [00:00<0"
     ]
    },
    {
     "name": "stdout",
     "output_type": "stream",
     "text": [
      "                   all         15        199      0.966      0.997      0.995      0.913\n"
     ]
    },
    {
     "name": "stderr",
     "output_type": "stream",
     "text": [
      "\n"
     ]
    },
    {
     "name": "stdout",
     "output_type": "stream",
     "text": [
      "\n",
      "      Epoch    GPU_mem   box_loss   cls_loss   dfl_loss  Instances       Size\n"
     ]
    },
    {
     "name": "stderr",
     "output_type": "stream",
     "text": [
      "    257/500      10.6G     0.4571     0.2981     0.8258        317        960: 100%|██████████| 2/2 [00:07<00:00,  3.85\n",
      "                 Class     Images  Instances      Box(P          R      mAP50  mAP50-95): 100%|██████████| 1/1 [00:00<0"
     ]
    },
    {
     "name": "stdout",
     "output_type": "stream",
     "text": [
      "                   all         15        199      0.973      0.997      0.994      0.905\n"
     ]
    },
    {
     "name": "stderr",
     "output_type": "stream",
     "text": [
      "\n"
     ]
    },
    {
     "name": "stdout",
     "output_type": "stream",
     "text": [
      "\n",
      "      Epoch    GPU_mem   box_loss   cls_loss   dfl_loss  Instances       Size\n"
     ]
    },
    {
     "name": "stderr",
     "output_type": "stream",
     "text": [
      "    258/500      10.4G     0.4648     0.3067     0.8365        404        960: 100%|██████████| 2/2 [00:06<00:00,  3.34\n",
      "                 Class     Images  Instances      Box(P          R      mAP50  mAP50-95): 100%|██████████| 1/1 [00:00<0"
     ]
    },
    {
     "name": "stdout",
     "output_type": "stream",
     "text": [
      "                   all         15        199      0.982      0.997      0.994      0.899\n"
     ]
    },
    {
     "name": "stderr",
     "output_type": "stream",
     "text": [
      "\n"
     ]
    },
    {
     "name": "stdout",
     "output_type": "stream",
     "text": [
      "\n",
      "      Epoch    GPU_mem   box_loss   cls_loss   dfl_loss  Instances       Size\n"
     ]
    },
    {
     "name": "stderr",
     "output_type": "stream",
     "text": [
      "    259/500      10.7G     0.4646     0.3048     0.8327        398        960: 100%|██████████| 2/2 [00:07<00:00,  3.51\n",
      "                 Class     Images  Instances      Box(P          R      mAP50  mAP50-95): 100%|██████████| 1/1 [00:00<0"
     ]
    },
    {
     "name": "stdout",
     "output_type": "stream",
     "text": [
      "                   all         15        199      0.976      0.997      0.993      0.902\n"
     ]
    },
    {
     "name": "stderr",
     "output_type": "stream",
     "text": [
      "\n"
     ]
    },
    {
     "name": "stdout",
     "output_type": "stream",
     "text": [
      "\n",
      "      Epoch    GPU_mem   box_loss   cls_loss   dfl_loss  Instances       Size\n"
     ]
    },
    {
     "name": "stderr",
     "output_type": "stream",
     "text": [
      "    260/500      10.6G     0.4822     0.3134     0.8528        282        960: 100%|██████████| 2/2 [00:06<00:00,  3.13\n",
      "                 Class     Images  Instances      Box(P          R      mAP50  mAP50-95): 100%|██████████| 1/1 [00:00<0"
     ]
    },
    {
     "name": "stdout",
     "output_type": "stream",
     "text": [
      "                   all         15        199      0.973      0.994      0.993      0.912\n"
     ]
    },
    {
     "name": "stderr",
     "output_type": "stream",
     "text": [
      "\n"
     ]
    },
    {
     "name": "stdout",
     "output_type": "stream",
     "text": [
      "\n",
      "      Epoch    GPU_mem   box_loss   cls_loss   dfl_loss  Instances       Size\n"
     ]
    },
    {
     "name": "stderr",
     "output_type": "stream",
     "text": [
      "    261/500      10.6G     0.4511     0.3015     0.8345        366        960: 100%|██████████| 2/2 [00:05<00:00,  2.73\n",
      "                 Class     Images  Instances      Box(P          R      mAP50  mAP50-95): 100%|██████████| 1/1 [00:00<0"
     ]
    },
    {
     "name": "stdout",
     "output_type": "stream",
     "text": [
      "                   all         15        199      0.979      0.996      0.994      0.916\n"
     ]
    },
    {
     "name": "stderr",
     "output_type": "stream",
     "text": [
      "\n"
     ]
    },
    {
     "name": "stdout",
     "output_type": "stream",
     "text": [
      "\n",
      "      Epoch    GPU_mem   box_loss   cls_loss   dfl_loss  Instances       Size\n"
     ]
    },
    {
     "name": "stderr",
     "output_type": "stream",
     "text": [
      "    262/500      10.6G     0.4303      0.294     0.8231        325        960: 100%|██████████| 2/2 [00:05<00:00,  2.79\n",
      "                 Class     Images  Instances      Box(P          R      mAP50  mAP50-95): 100%|██████████| 1/1 [00:00<0"
     ]
    },
    {
     "name": "stdout",
     "output_type": "stream",
     "text": [
      "                   all         15        199      0.975      0.997      0.995      0.906\n"
     ]
    },
    {
     "name": "stderr",
     "output_type": "stream",
     "text": [
      "\n"
     ]
    },
    {
     "name": "stdout",
     "output_type": "stream",
     "text": [
      "\n",
      "      Epoch    GPU_mem   box_loss   cls_loss   dfl_loss  Instances       Size\n"
     ]
    },
    {
     "name": "stderr",
     "output_type": "stream",
     "text": [
      "    263/500      10.4G     0.4602     0.2973     0.8404        424        960: 100%|██████████| 2/2 [00:05<00:00,  2.57\n",
      "                 Class     Images  Instances      Box(P          R      mAP50  mAP50-95): 100%|██████████| 1/1 [00:00<0"
     ]
    },
    {
     "name": "stdout",
     "output_type": "stream",
     "text": [
      "                   all         15        199      0.973      0.997      0.995        0.9\n"
     ]
    },
    {
     "name": "stderr",
     "output_type": "stream",
     "text": [
      "\n"
     ]
    },
    {
     "name": "stdout",
     "output_type": "stream",
     "text": [
      "\n",
      "      Epoch    GPU_mem   box_loss   cls_loss   dfl_loss  Instances       Size\n"
     ]
    },
    {
     "name": "stderr",
     "output_type": "stream",
     "text": [
      "    264/500      10.6G       0.46      0.303     0.8464        314        960: 100%|██████████| 2/2 [00:05<00:00,  2.74\n",
      "                 Class     Images  Instances      Box(P          R      mAP50  mAP50-95): 100%|██████████| 1/1 [00:00<0"
     ]
    },
    {
     "name": "stdout",
     "output_type": "stream",
     "text": [
      "                   all         15        199      0.974      0.997      0.995       0.91\n"
     ]
    },
    {
     "name": "stderr",
     "output_type": "stream",
     "text": [
      "\n"
     ]
    },
    {
     "name": "stdout",
     "output_type": "stream",
     "text": [
      "\n",
      "      Epoch    GPU_mem   box_loss   cls_loss   dfl_loss  Instances       Size\n"
     ]
    },
    {
     "name": "stderr",
     "output_type": "stream",
     "text": [
      "    265/500      10.6G     0.4334     0.2905     0.8349        286        960: 100%|██████████| 2/2 [00:05<00:00,  2.67\n",
      "                 Class     Images  Instances      Box(P          R      mAP50  mAP50-95): 100%|██████████| 1/1 [00:00<0"
     ]
    },
    {
     "name": "stdout",
     "output_type": "stream",
     "text": [
      "                   all         15        199      0.973      0.997      0.994      0.912\n"
     ]
    },
    {
     "name": "stderr",
     "output_type": "stream",
     "text": [
      "\n"
     ]
    },
    {
     "name": "stdout",
     "output_type": "stream",
     "text": [
      "\n",
      "      Epoch    GPU_mem   box_loss   cls_loss   dfl_loss  Instances       Size\n"
     ]
    },
    {
     "name": "stderr",
     "output_type": "stream",
     "text": [
      "    266/500      10.5G     0.4181     0.2863     0.8369        301        960: 100%|██████████| 2/2 [00:05<00:00,  2.65\n",
      "                 Class     Images  Instances      Box(P          R      mAP50  mAP50-95): 100%|██████████| 1/1 [00:00<0"
     ]
    },
    {
     "name": "stdout",
     "output_type": "stream",
     "text": [
      "                   all         15        199      0.975      0.997      0.993      0.911\n"
     ]
    },
    {
     "name": "stderr",
     "output_type": "stream",
     "text": [
      "\n"
     ]
    },
    {
     "name": "stdout",
     "output_type": "stream",
     "text": [
      "\n",
      "      Epoch    GPU_mem   box_loss   cls_loss   dfl_loss  Instances       Size\n"
     ]
    },
    {
     "name": "stderr",
     "output_type": "stream",
     "text": [
      "    267/500      10.6G     0.4554      0.301     0.8405        452        960: 100%|██████████| 2/2 [00:05<00:00,  2.77\n",
      "                 Class     Images  Instances      Box(P          R      mAP50  mAP50-95): 100%|██████████| 1/1 [00:00<0"
     ]
    },
    {
     "name": "stdout",
     "output_type": "stream",
     "text": [
      "                   all         15        199      0.976      0.997      0.994      0.908\n"
     ]
    },
    {
     "name": "stderr",
     "output_type": "stream",
     "text": [
      "\n"
     ]
    },
    {
     "name": "stdout",
     "output_type": "stream",
     "text": [
      "\n",
      "      Epoch    GPU_mem   box_loss   cls_loss   dfl_loss  Instances       Size\n"
     ]
    },
    {
     "name": "stderr",
     "output_type": "stream",
     "text": [
      "    268/500      10.5G     0.4512     0.2964     0.8542        319        960: 100%|██████████| 2/2 [00:06<00:00,  3.13\n",
      "                 Class     Images  Instances      Box(P          R      mAP50  mAP50-95): 100%|██████████| 1/1 [00:00<0"
     ]
    },
    {
     "name": "stdout",
     "output_type": "stream",
     "text": [
      "                   all         15        199      0.976      0.995      0.994      0.904\n"
     ]
    },
    {
     "name": "stderr",
     "output_type": "stream",
     "text": [
      "\n"
     ]
    },
    {
     "name": "stdout",
     "output_type": "stream",
     "text": [
      "\n",
      "      Epoch    GPU_mem   box_loss   cls_loss   dfl_loss  Instances       Size\n"
     ]
    },
    {
     "name": "stderr",
     "output_type": "stream",
     "text": [
      "    269/500      10.5G     0.4551     0.2951     0.8319        360        960: 100%|██████████| 2/2 [00:05<00:00,  2.75\n",
      "                 Class     Images  Instances      Box(P          R      mAP50  mAP50-95): 100%|██████████| 1/1 [00:00<0"
     ]
    },
    {
     "name": "stdout",
     "output_type": "stream",
     "text": [
      "                   all         15        199      0.973      0.997      0.994      0.907\n"
     ]
    },
    {
     "name": "stderr",
     "output_type": "stream",
     "text": [
      "\n"
     ]
    },
    {
     "name": "stdout",
     "output_type": "stream",
     "text": [
      "\n",
      "      Epoch    GPU_mem   box_loss   cls_loss   dfl_loss  Instances       Size\n"
     ]
    },
    {
     "name": "stderr",
     "output_type": "stream",
     "text": [
      "    270/500      10.7G     0.4584     0.2999     0.8356        365        960: 100%|██████████| 2/2 [00:05<00:00,  2.95\n",
      "                 Class     Images  Instances      Box(P          R      mAP50  mAP50-95): 100%|██████████| 1/1 [00:00<0"
     ]
    },
    {
     "name": "stdout",
     "output_type": "stream",
     "text": [
      "                   all         15        199      0.967      0.992      0.994      0.913\n"
     ]
    },
    {
     "name": "stderr",
     "output_type": "stream",
     "text": [
      "\n"
     ]
    },
    {
     "name": "stdout",
     "output_type": "stream",
     "text": [
      "\n",
      "      Epoch    GPU_mem   box_loss   cls_loss   dfl_loss  Instances       Size\n"
     ]
    },
    {
     "name": "stderr",
     "output_type": "stream",
     "text": [
      "    271/500      10.6G     0.4686      0.298     0.8347        418        960: 100%|██████████| 2/2 [00:05<00:00,  2.81\n",
      "                 Class     Images  Instances      Box(P          R      mAP50  mAP50-95): 100%|██████████| 1/1 [00:00<0"
     ]
    },
    {
     "name": "stdout",
     "output_type": "stream",
     "text": [
      "                   all         15        199      0.961      0.987      0.995       0.91\n"
     ]
    },
    {
     "name": "stderr",
     "output_type": "stream",
     "text": [
      "\n"
     ]
    },
    {
     "name": "stdout",
     "output_type": "stream",
     "text": [
      "\n",
      "      Epoch    GPU_mem   box_loss   cls_loss   dfl_loss  Instances       Size\n"
     ]
    },
    {
     "name": "stderr",
     "output_type": "stream",
     "text": [
      "    272/500      10.6G     0.4689     0.3049     0.8418        330        960: 100%|██████████| 2/2 [00:05<00:00,  2.81\n",
      "                 Class     Images  Instances      Box(P          R      mAP50  mAP50-95): 100%|██████████| 1/1 [00:00<0"
     ]
    },
    {
     "name": "stdout",
     "output_type": "stream",
     "text": [
      "                   all         15        199      0.961      0.997      0.995      0.909\n"
     ]
    },
    {
     "name": "stderr",
     "output_type": "stream",
     "text": [
      "\n"
     ]
    },
    {
     "name": "stdout",
     "output_type": "stream",
     "text": [
      "\n",
      "      Epoch    GPU_mem   box_loss   cls_loss   dfl_loss  Instances       Size\n"
     ]
    },
    {
     "name": "stderr",
     "output_type": "stream",
     "text": [
      "    273/500      10.5G     0.4346     0.2984     0.8402        358        960: 100%|██████████| 2/2 [00:06<00:00,  3.13\n",
      "                 Class     Images  Instances      Box(P          R      mAP50  mAP50-95): 100%|██████████| 1/1 [00:00<0"
     ]
    },
    {
     "name": "stdout",
     "output_type": "stream",
     "text": [
      "                   all         15        199      0.962      0.993      0.995      0.906\n"
     ]
    },
    {
     "name": "stderr",
     "output_type": "stream",
     "text": [
      "\n"
     ]
    },
    {
     "name": "stdout",
     "output_type": "stream",
     "text": [
      "\n",
      "      Epoch    GPU_mem   box_loss   cls_loss   dfl_loss  Instances       Size\n"
     ]
    },
    {
     "name": "stderr",
     "output_type": "stream",
     "text": [
      "    274/500      10.6G     0.4679     0.3089     0.8478        226        960: 100%|██████████| 2/2 [00:05<00:00,  2.94\n",
      "                 Class     Images  Instances      Box(P          R      mAP50  mAP50-95): 100%|██████████| 1/1 [00:00<0"
     ]
    },
    {
     "name": "stdout",
     "output_type": "stream",
     "text": [
      "                   all         15        199      0.959      0.975      0.995      0.905\n"
     ]
    },
    {
     "name": "stderr",
     "output_type": "stream",
     "text": [
      "\n"
     ]
    },
    {
     "name": "stdout",
     "output_type": "stream",
     "text": [
      "\n",
      "      Epoch    GPU_mem   box_loss   cls_loss   dfl_loss  Instances       Size\n"
     ]
    },
    {
     "name": "stderr",
     "output_type": "stream",
     "text": [
      "    275/500      10.4G      0.447     0.3015     0.8398        386        960: 100%|██████████| 2/2 [00:05<00:00,  2.82\n",
      "                 Class     Images  Instances      Box(P          R      mAP50  mAP50-95): 100%|██████████| 1/1 [00:00<0"
     ]
    },
    {
     "name": "stdout",
     "output_type": "stream",
     "text": [
      "                   all         15        199      0.965      0.948      0.995      0.913\n"
     ]
    },
    {
     "name": "stderr",
     "output_type": "stream",
     "text": [
      "\n"
     ]
    },
    {
     "name": "stdout",
     "output_type": "stream",
     "text": [
      "\n",
      "      Epoch    GPU_mem   box_loss   cls_loss   dfl_loss  Instances       Size\n"
     ]
    },
    {
     "name": "stderr",
     "output_type": "stream",
     "text": [
      "    276/500      10.6G     0.4557     0.3019       0.84        308        960: 100%|██████████| 2/2 [00:05<00:00,  2.93\n",
      "                 Class     Images  Instances      Box(P          R      mAP50  mAP50-95): 100%|██████████| 1/1 [00:00<0"
     ]
    },
    {
     "name": "stdout",
     "output_type": "stream",
     "text": [
      "                   all         15        199      0.952      0.959      0.995      0.917\n"
     ]
    },
    {
     "name": "stderr",
     "output_type": "stream",
     "text": [
      "\n"
     ]
    },
    {
     "name": "stdout",
     "output_type": "stream",
     "text": [
      "\n",
      "      Epoch    GPU_mem   box_loss   cls_loss   dfl_loss  Instances       Size\n"
     ]
    },
    {
     "name": "stderr",
     "output_type": "stream",
     "text": [
      "    277/500      10.6G     0.4432     0.2928     0.8247        394        960: 100%|██████████| 2/2 [00:05<00:00,  2.98\n",
      "                 Class     Images  Instances      Box(P          R      mAP50  mAP50-95): 100%|██████████| 1/1 [00:00<0"
     ]
    },
    {
     "name": "stdout",
     "output_type": "stream",
     "text": [
      "                   all         15        199      0.939      0.999      0.995      0.916\n"
     ]
    },
    {
     "name": "stderr",
     "output_type": "stream",
     "text": [
      "\n"
     ]
    },
    {
     "name": "stdout",
     "output_type": "stream",
     "text": [
      "\n",
      "      Epoch    GPU_mem   box_loss   cls_loss   dfl_loss  Instances       Size\n"
     ]
    },
    {
     "name": "stderr",
     "output_type": "stream",
     "text": [
      "    278/500      10.4G     0.4616     0.3007     0.8332        395        960: 100%|██████████| 2/2 [00:06<00:00,  3.06\n",
      "                 Class     Images  Instances      Box(P          R      mAP50  mAP50-95): 100%|██████████| 1/1 [00:00<0"
     ]
    },
    {
     "name": "stdout",
     "output_type": "stream",
     "text": [
      "                   all         15        199      0.981      0.997      0.995      0.912\n"
     ]
    },
    {
     "name": "stderr",
     "output_type": "stream",
     "text": [
      "\n"
     ]
    },
    {
     "name": "stdout",
     "output_type": "stream",
     "text": [
      "\n",
      "      Epoch    GPU_mem   box_loss   cls_loss   dfl_loss  Instances       Size\n"
     ]
    },
    {
     "name": "stderr",
     "output_type": "stream",
     "text": [
      "    279/500      10.3G     0.4449     0.2992     0.8546        293        960: 100%|██████████| 2/2 [00:04<00:00,  2.33\n",
      "                 Class     Images  Instances      Box(P          R      mAP50  mAP50-95): 100%|██████████| 1/1 [00:00<0"
     ]
    },
    {
     "name": "stdout",
     "output_type": "stream",
     "text": [
      "                   all         15        199      0.978      0.997      0.995      0.921\n"
     ]
    },
    {
     "name": "stderr",
     "output_type": "stream",
     "text": [
      "\n"
     ]
    },
    {
     "name": "stdout",
     "output_type": "stream",
     "text": [
      "\n",
      "      Epoch    GPU_mem   box_loss   cls_loss   dfl_loss  Instances       Size\n"
     ]
    },
    {
     "name": "stderr",
     "output_type": "stream",
     "text": [
      "    280/500      10.6G     0.4531     0.3047     0.8391        429        960: 100%|██████████| 2/2 [00:05<00:00,  2.70\n",
      "                 Class     Images  Instances      Box(P          R      mAP50  mAP50-95): 100%|██████████| 1/1 [00:00<0"
     ]
    },
    {
     "name": "stdout",
     "output_type": "stream",
     "text": [
      "                   all         15        199      0.979      0.997      0.995      0.926\n"
     ]
    },
    {
     "name": "stderr",
     "output_type": "stream",
     "text": [
      "\n"
     ]
    },
    {
     "name": "stdout",
     "output_type": "stream",
     "text": [
      "\n",
      "      Epoch    GPU_mem   box_loss   cls_loss   dfl_loss  Instances       Size\n"
     ]
    },
    {
     "name": "stderr",
     "output_type": "stream",
     "text": [
      "    281/500      10.3G     0.4522     0.2981     0.8467        272        960: 100%|██████████| 2/2 [00:04<00:00,  2.49\n",
      "                 Class     Images  Instances      Box(P          R      mAP50  mAP50-95): 100%|██████████| 1/1 [00:00<0"
     ]
    },
    {
     "name": "stdout",
     "output_type": "stream",
     "text": [
      "                   all         15        199      0.976      0.997      0.995       0.93\n"
     ]
    },
    {
     "name": "stderr",
     "output_type": "stream",
     "text": [
      "\n"
     ]
    },
    {
     "name": "stdout",
     "output_type": "stream",
     "text": [
      "\n",
      "      Epoch    GPU_mem   box_loss   cls_loss   dfl_loss  Instances       Size\n"
     ]
    },
    {
     "name": "stderr",
     "output_type": "stream",
     "text": [
      "    282/500      10.7G     0.4616     0.2974     0.8386        385        960: 100%|██████████| 2/2 [00:05<00:00,  2.99\n",
      "                 Class     Images  Instances      Box(P          R      mAP50  mAP50-95): 100%|██████████| 1/1 [00:00<0"
     ]
    },
    {
     "name": "stdout",
     "output_type": "stream",
     "text": [
      "                   all         15        199      0.978      0.997      0.995      0.921\n"
     ]
    },
    {
     "name": "stderr",
     "output_type": "stream",
     "text": [
      "\n"
     ]
    },
    {
     "name": "stdout",
     "output_type": "stream",
     "text": [
      "\n",
      "      Epoch    GPU_mem   box_loss   cls_loss   dfl_loss  Instances       Size\n"
     ]
    },
    {
     "name": "stderr",
     "output_type": "stream",
     "text": [
      "    283/500      10.9G     0.4484     0.3018     0.8351        338        960: 100%|██████████| 2/2 [00:06<00:00,  3.38\n",
      "                 Class     Images  Instances      Box(P          R      mAP50  mAP50-95): 100%|██████████| 1/1 [00:00<0"
     ]
    },
    {
     "name": "stdout",
     "output_type": "stream",
     "text": [
      "                   all         15        199      0.978      0.997      0.995      0.916\n"
     ]
    },
    {
     "name": "stderr",
     "output_type": "stream",
     "text": [
      "\n"
     ]
    },
    {
     "name": "stdout",
     "output_type": "stream",
     "text": [
      "\n",
      "      Epoch    GPU_mem   box_loss   cls_loss   dfl_loss  Instances       Size\n"
     ]
    },
    {
     "name": "stderr",
     "output_type": "stream",
     "text": [
      "    284/500      10.6G     0.4652     0.3037     0.8336        401        960: 100%|██████████| 2/2 [00:06<00:00,  3.31\n",
      "                 Class     Images  Instances      Box(P          R      mAP50  mAP50-95): 100%|██████████| 1/1 [00:00<0"
     ]
    },
    {
     "name": "stdout",
     "output_type": "stream",
     "text": [
      "                   all         15        199      0.978      0.997      0.995      0.914\n"
     ]
    },
    {
     "name": "stderr",
     "output_type": "stream",
     "text": [
      "\n"
     ]
    },
    {
     "name": "stdout",
     "output_type": "stream",
     "text": [
      "\n",
      "      Epoch    GPU_mem   box_loss   cls_loss   dfl_loss  Instances       Size\n"
     ]
    },
    {
     "name": "stderr",
     "output_type": "stream",
     "text": [
      "    285/500      10.8G     0.4377     0.2954     0.8335        372        960: 100%|██████████| 2/2 [00:07<00:00,  3.60\n",
      "                 Class     Images  Instances      Box(P          R      mAP50  mAP50-95): 100%|██████████| 1/1 [00:00<0"
     ]
    },
    {
     "name": "stdout",
     "output_type": "stream",
     "text": [
      "                   all         15        199      0.977      0.997      0.995      0.915\n"
     ]
    },
    {
     "name": "stderr",
     "output_type": "stream",
     "text": [
      "\n"
     ]
    },
    {
     "name": "stdout",
     "output_type": "stream",
     "text": [
      "\n",
      "      Epoch    GPU_mem   box_loss   cls_loss   dfl_loss  Instances       Size\n"
     ]
    },
    {
     "name": "stderr",
     "output_type": "stream",
     "text": [
      "    286/500      10.4G     0.4509     0.3086     0.8548        250        960: 100%|██████████| 2/2 [00:05<00:00,  2.96\n",
      "                 Class     Images  Instances      Box(P          R      mAP50  mAP50-95): 100%|██████████| 1/1 [00:00<0"
     ]
    },
    {
     "name": "stdout",
     "output_type": "stream",
     "text": [
      "                   all         15        199      0.979      0.998      0.995      0.924\n"
     ]
    },
    {
     "name": "stderr",
     "output_type": "stream",
     "text": [
      "\n"
     ]
    },
    {
     "name": "stdout",
     "output_type": "stream",
     "text": [
      "\n",
      "      Epoch    GPU_mem   box_loss   cls_loss   dfl_loss  Instances       Size\n"
     ]
    },
    {
     "name": "stderr",
     "output_type": "stream",
     "text": [
      "    287/500      10.6G     0.4707      0.306     0.8327        417        960: 100%|██████████| 2/2 [00:06<00:00,  3.21\n",
      "                 Class     Images  Instances      Box(P          R      mAP50  mAP50-95): 100%|██████████| 1/1 [00:00<0"
     ]
    },
    {
     "name": "stdout",
     "output_type": "stream",
     "text": [
      "                   all         15        199      0.983      0.998      0.995      0.919\n"
     ]
    },
    {
     "name": "stderr",
     "output_type": "stream",
     "text": [
      "\n"
     ]
    },
    {
     "name": "stdout",
     "output_type": "stream",
     "text": [
      "\n",
      "      Epoch    GPU_mem   box_loss   cls_loss   dfl_loss  Instances       Size\n"
     ]
    },
    {
     "name": "stderr",
     "output_type": "stream",
     "text": [
      "    288/500      10.9G     0.4559     0.3042     0.8319        336        960: 100%|██████████| 2/2 [00:07<00:00,  3.53\n",
      "                 Class     Images  Instances      Box(P          R      mAP50  mAP50-95): 100%|██████████| 1/1 [00:00<0"
     ]
    },
    {
     "name": "stdout",
     "output_type": "stream",
     "text": [
      "                   all         15        199      0.985      0.997      0.995      0.914\n"
     ]
    },
    {
     "name": "stderr",
     "output_type": "stream",
     "text": [
      "\n"
     ]
    },
    {
     "name": "stdout",
     "output_type": "stream",
     "text": [
      "\n",
      "      Epoch    GPU_mem   box_loss   cls_loss   dfl_loss  Instances       Size\n"
     ]
    },
    {
     "name": "stderr",
     "output_type": "stream",
     "text": [
      "    289/500      10.7G     0.4485     0.2992     0.8375        299        960: 100%|██████████| 2/2 [00:06<00:00,  3.30\n",
      "                 Class     Images  Instances      Box(P          R      mAP50  mAP50-95): 100%|██████████| 1/1 [00:00<0"
     ]
    },
    {
     "name": "stdout",
     "output_type": "stream",
     "text": [
      "                   all         15        199      0.984      0.997      0.995      0.916\n"
     ]
    },
    {
     "name": "stderr",
     "output_type": "stream",
     "text": [
      "\n"
     ]
    },
    {
     "name": "stdout",
     "output_type": "stream",
     "text": [
      "\n",
      "      Epoch    GPU_mem   box_loss   cls_loss   dfl_loss  Instances       Size\n"
     ]
    },
    {
     "name": "stderr",
     "output_type": "stream",
     "text": [
      "    290/500      10.5G     0.4558     0.2957     0.8354        305        960: 100%|██████████| 2/2 [00:06<00:00,  3.06\n",
      "                 Class     Images  Instances      Box(P          R      mAP50  mAP50-95): 100%|██████████| 1/1 [00:00<0"
     ]
    },
    {
     "name": "stdout",
     "output_type": "stream",
     "text": [
      "                   all         15        199      0.981      0.997      0.995      0.919\n"
     ]
    },
    {
     "name": "stderr",
     "output_type": "stream",
     "text": [
      "\n"
     ]
    },
    {
     "name": "stdout",
     "output_type": "stream",
     "text": [
      "\n",
      "      Epoch    GPU_mem   box_loss   cls_loss   dfl_loss  Instances       Size\n"
     ]
    },
    {
     "name": "stderr",
     "output_type": "stream",
     "text": [
      "    291/500      10.5G     0.4536     0.3033     0.8305        313        960: 100%|██████████| 2/2 [00:06<00:00,  3.15\n",
      "                 Class     Images  Instances      Box(P          R      mAP50  mAP50-95): 100%|██████████| 1/1 [00:00<0"
     ]
    },
    {
     "name": "stdout",
     "output_type": "stream",
     "text": [
      "                   all         15        199      0.953      0.997      0.995      0.922\n"
     ]
    },
    {
     "name": "stderr",
     "output_type": "stream",
     "text": [
      "\n"
     ]
    },
    {
     "name": "stdout",
     "output_type": "stream",
     "text": [
      "\n",
      "      Epoch    GPU_mem   box_loss   cls_loss   dfl_loss  Instances       Size\n"
     ]
    },
    {
     "name": "stderr",
     "output_type": "stream",
     "text": [
      "    292/500      10.8G     0.4546     0.2964     0.8395        377        960: 100%|██████████| 2/2 [00:06<00:00,  3.32\n",
      "                 Class     Images  Instances      Box(P          R      mAP50  mAP50-95): 100%|██████████| 1/1 [00:00<0"
     ]
    },
    {
     "name": "stdout",
     "output_type": "stream",
     "text": [
      "                   all         15        199      0.942      0.994      0.995      0.918\n"
     ]
    },
    {
     "name": "stderr",
     "output_type": "stream",
     "text": [
      "\n"
     ]
    },
    {
     "name": "stdout",
     "output_type": "stream",
     "text": [
      "\n",
      "      Epoch    GPU_mem   box_loss   cls_loss   dfl_loss  Instances       Size\n"
     ]
    },
    {
     "name": "stderr",
     "output_type": "stream",
     "text": [
      "    293/500      10.3G     0.4507     0.2987     0.8434        347        960: 100%|██████████| 2/2 [00:05<00:00,  2.89\n",
      "                 Class     Images  Instances      Box(P          R      mAP50  mAP50-95): 100%|██████████| 1/1 [00:00<0"
     ]
    },
    {
     "name": "stdout",
     "output_type": "stream",
     "text": [
      "                   all         15        199      0.945      0.996      0.995      0.913\n"
     ]
    },
    {
     "name": "stderr",
     "output_type": "stream",
     "text": [
      "\n"
     ]
    },
    {
     "name": "stdout",
     "output_type": "stream",
     "text": [
      "\n",
      "      Epoch    GPU_mem   box_loss   cls_loss   dfl_loss  Instances       Size\n"
     ]
    },
    {
     "name": "stderr",
     "output_type": "stream",
     "text": [
      "    294/500      10.4G     0.4514     0.2948     0.8408        368        960: 100%|██████████| 2/2 [00:06<00:00,  3.03\n",
      "                 Class     Images  Instances      Box(P          R      mAP50  mAP50-95): 100%|██████████| 1/1 [00:00<0"
     ]
    },
    {
     "name": "stdout",
     "output_type": "stream",
     "text": [
      "                   all         15        199      0.978      0.996      0.995      0.912\n"
     ]
    },
    {
     "name": "stderr",
     "output_type": "stream",
     "text": [
      "\n"
     ]
    },
    {
     "name": "stdout",
     "output_type": "stream",
     "text": [
      "\n",
      "      Epoch    GPU_mem   box_loss   cls_loss   dfl_loss  Instances       Size\n"
     ]
    },
    {
     "name": "stderr",
     "output_type": "stream",
     "text": [
      "    295/500      10.4G      0.466     0.3023     0.8349        362        960: 100%|██████████| 2/2 [00:06<00:00,  3.43\n",
      "                 Class     Images  Instances      Box(P          R      mAP50  mAP50-95): 100%|██████████| 1/1 [00:00<0"
     ]
    },
    {
     "name": "stdout",
     "output_type": "stream",
     "text": [
      "                   all         15        199      0.979      0.996      0.995      0.914\n"
     ]
    },
    {
     "name": "stderr",
     "output_type": "stream",
     "text": [
      "\n"
     ]
    },
    {
     "name": "stdout",
     "output_type": "stream",
     "text": [
      "\n",
      "      Epoch    GPU_mem   box_loss   cls_loss   dfl_loss  Instances       Size\n"
     ]
    },
    {
     "name": "stderr",
     "output_type": "stream",
     "text": [
      "    296/500      10.6G     0.4593     0.2956     0.8326        392        960: 100%|██████████| 2/2 [00:06<00:00,  3.22\n",
      "                 Class     Images  Instances      Box(P          R      mAP50  mAP50-95): 100%|██████████| 1/1 [00:00<0"
     ]
    },
    {
     "name": "stdout",
     "output_type": "stream",
     "text": [
      "                   all         15        199      0.982      0.996      0.995      0.913\n"
     ]
    },
    {
     "name": "stderr",
     "output_type": "stream",
     "text": [
      "\n"
     ]
    },
    {
     "name": "stdout",
     "output_type": "stream",
     "text": [
      "\n",
      "      Epoch    GPU_mem   box_loss   cls_loss   dfl_loss  Instances       Size\n"
     ]
    },
    {
     "name": "stderr",
     "output_type": "stream",
     "text": [
      "    297/500      10.5G     0.4519     0.3009     0.8393        287        960: 100%|██████████| 2/2 [00:06<00:00,  3.07\n",
      "                 Class     Images  Instances      Box(P          R      mAP50  mAP50-95): 100%|██████████| 1/1 [00:00<0"
     ]
    },
    {
     "name": "stdout",
     "output_type": "stream",
     "text": [
      "                   all         15        199      0.985      0.997      0.995      0.911\n"
     ]
    },
    {
     "name": "stderr",
     "output_type": "stream",
     "text": [
      "\n"
     ]
    },
    {
     "name": "stdout",
     "output_type": "stream",
     "text": [
      "\n",
      "      Epoch    GPU_mem   box_loss   cls_loss   dfl_loss  Instances       Size\n"
     ]
    },
    {
     "name": "stderr",
     "output_type": "stream",
     "text": [
      "    298/500      10.6G     0.4455     0.3051     0.8426        329        960: 100%|██████████| 2/2 [00:05<00:00,  2.82\n",
      "                 Class     Images  Instances      Box(P          R      mAP50  mAP50-95): 100%|██████████| 1/1 [00:00<0"
     ]
    },
    {
     "name": "stdout",
     "output_type": "stream",
     "text": [
      "                   all         15        199      0.983      0.997      0.995      0.917\n"
     ]
    },
    {
     "name": "stderr",
     "output_type": "stream",
     "text": [
      "\n"
     ]
    },
    {
     "name": "stdout",
     "output_type": "stream",
     "text": [
      "\n",
      "      Epoch    GPU_mem   box_loss   cls_loss   dfl_loss  Instances       Size\n"
     ]
    },
    {
     "name": "stderr",
     "output_type": "stream",
     "text": [
      "    299/500      10.6G     0.4367     0.3006     0.8454        401        960: 100%|██████████| 2/2 [00:05<00:00,  2.82\n",
      "                 Class     Images  Instances      Box(P          R      mAP50  mAP50-95): 100%|██████████| 1/1 [00:00<0"
     ]
    },
    {
     "name": "stdout",
     "output_type": "stream",
     "text": [
      "                   all         15        199      0.984      0.997      0.995      0.922\n"
     ]
    },
    {
     "name": "stderr",
     "output_type": "stream",
     "text": [
      "\n"
     ]
    },
    {
     "name": "stdout",
     "output_type": "stream",
     "text": [
      "\n",
      "      Epoch    GPU_mem   box_loss   cls_loss   dfl_loss  Instances       Size\n"
     ]
    },
    {
     "name": "stderr",
     "output_type": "stream",
     "text": [
      "    300/500      10.6G     0.4415     0.2973     0.8516        275        960: 100%|██████████| 2/2 [00:05<00:00,  2.86\n",
      "                 Class     Images  Instances      Box(P          R      mAP50  mAP50-95): 100%|██████████| 1/1 [00:00<0"
     ]
    },
    {
     "name": "stdout",
     "output_type": "stream",
     "text": [
      "                   all         15        199      0.983      0.997      0.995      0.924\n"
     ]
    },
    {
     "name": "stderr",
     "output_type": "stream",
     "text": [
      "\n"
     ]
    },
    {
     "name": "stdout",
     "output_type": "stream",
     "text": [
      "\n",
      "      Epoch    GPU_mem   box_loss   cls_loss   dfl_loss  Instances       Size\n"
     ]
    },
    {
     "name": "stderr",
     "output_type": "stream",
     "text": [
      "    301/500      10.3G     0.4431     0.2992     0.8461        345        960: 100%|██████████| 2/2 [00:05<00:00,  2.75\n",
      "                 Class     Images  Instances      Box(P          R      mAP50  mAP50-95): 100%|██████████| 1/1 [00:00<0"
     ]
    },
    {
     "name": "stdout",
     "output_type": "stream",
     "text": [
      "                   all         15        199      0.983      0.997      0.995      0.922\n"
     ]
    },
    {
     "name": "stderr",
     "output_type": "stream",
     "text": [
      "\n"
     ]
    },
    {
     "name": "stdout",
     "output_type": "stream",
     "text": [
      "\n",
      "      Epoch    GPU_mem   box_loss   cls_loss   dfl_loss  Instances       Size\n"
     ]
    },
    {
     "name": "stderr",
     "output_type": "stream",
     "text": [
      "    302/500      10.2G     0.4372     0.2962     0.8433        331        960: 100%|██████████| 2/2 [00:05<00:00,  2.75\n",
      "                 Class     Images  Instances      Box(P          R      mAP50  mAP50-95): 100%|██████████| 1/1 [00:00<0"
     ]
    },
    {
     "name": "stdout",
     "output_type": "stream",
     "text": [
      "                   all         15        199      0.983      0.997      0.995      0.926\n"
     ]
    },
    {
     "name": "stderr",
     "output_type": "stream",
     "text": [
      "\n"
     ]
    },
    {
     "name": "stdout",
     "output_type": "stream",
     "text": [
      "\n",
      "      Epoch    GPU_mem   box_loss   cls_loss   dfl_loss  Instances       Size\n"
     ]
    },
    {
     "name": "stderr",
     "output_type": "stream",
     "text": [
      "    303/500      10.6G     0.4202     0.2844     0.8217        414        960: 100%|██████████| 2/2 [00:06<00:00,  3.15\n",
      "                 Class     Images  Instances      Box(P          R      mAP50  mAP50-95): 100%|██████████| 1/1 [00:00<0"
     ]
    },
    {
     "name": "stdout",
     "output_type": "stream",
     "text": [
      "                   all         15        199      0.984      0.997      0.995      0.932\n"
     ]
    },
    {
     "name": "stderr",
     "output_type": "stream",
     "text": [
      "\n"
     ]
    },
    {
     "name": "stdout",
     "output_type": "stream",
     "text": [
      "\n",
      "      Epoch    GPU_mem   box_loss   cls_loss   dfl_loss  Instances       Size\n"
     ]
    },
    {
     "name": "stderr",
     "output_type": "stream",
     "text": [
      "    304/500      10.4G     0.4445     0.2973     0.8327        438        960: 100%|██████████| 2/2 [00:06<00:00,  3.32\n",
      "                 Class     Images  Instances      Box(P          R      mAP50  mAP50-95): 100%|██████████| 1/1 [00:00<0"
     ]
    },
    {
     "name": "stdout",
     "output_type": "stream",
     "text": [
      "                   all         15        199      0.985      0.997      0.995      0.927\n"
     ]
    },
    {
     "name": "stderr",
     "output_type": "stream",
     "text": [
      "\n"
     ]
    },
    {
     "name": "stdout",
     "output_type": "stream",
     "text": [
      "\n",
      "      Epoch    GPU_mem   box_loss   cls_loss   dfl_loss  Instances       Size\n"
     ]
    },
    {
     "name": "stderr",
     "output_type": "stream",
     "text": [
      "    305/500      10.7G     0.4343     0.2907     0.8311        304        960: 100%|██████████| 2/2 [00:06<00:00,  3.25\n",
      "                 Class     Images  Instances      Box(P          R      mAP50  mAP50-95): 100%|██████████| 1/1 [00:00<0"
     ]
    },
    {
     "name": "stdout",
     "output_type": "stream",
     "text": [
      "                   all         15        199      0.987      0.997      0.995      0.928\n"
     ]
    },
    {
     "name": "stderr",
     "output_type": "stream",
     "text": [
      "\n"
     ]
    },
    {
     "name": "stdout",
     "output_type": "stream",
     "text": [
      "\n",
      "      Epoch    GPU_mem   box_loss   cls_loss   dfl_loss  Instances       Size\n"
     ]
    },
    {
     "name": "stderr",
     "output_type": "stream",
     "text": [
      "    306/500      10.7G     0.4184     0.2823     0.8191        373        960: 100%|██████████| 2/2 [00:06<00:00,  3.26\n",
      "                 Class     Images  Instances      Box(P          R      mAP50  mAP50-95): 100%|██████████| 1/1 [00:00<0"
     ]
    },
    {
     "name": "stdout",
     "output_type": "stream",
     "text": [
      "                   all         15        199      0.988      0.997      0.995      0.929\n"
     ]
    },
    {
     "name": "stderr",
     "output_type": "stream",
     "text": [
      "\n"
     ]
    },
    {
     "name": "stdout",
     "output_type": "stream",
     "text": [
      "\n",
      "      Epoch    GPU_mem   box_loss   cls_loss   dfl_loss  Instances       Size\n"
     ]
    },
    {
     "name": "stderr",
     "output_type": "stream",
     "text": [
      "    307/500      10.5G     0.4472     0.2974     0.8243        270        960: 100%|██████████| 2/2 [00:06<00:00,  3.11\n",
      "                 Class     Images  Instances      Box(P          R      mAP50  mAP50-95): 100%|██████████| 1/1 [00:00<0"
     ]
    },
    {
     "name": "stdout",
     "output_type": "stream",
     "text": [
      "                   all         15        199      0.987      0.997      0.995      0.928\n"
     ]
    },
    {
     "name": "stderr",
     "output_type": "stream",
     "text": [
      "\n"
     ]
    },
    {
     "name": "stdout",
     "output_type": "stream",
     "text": [
      "\n",
      "      Epoch    GPU_mem   box_loss   cls_loss   dfl_loss  Instances       Size\n"
     ]
    },
    {
     "name": "stderr",
     "output_type": "stream",
     "text": [
      "    308/500      10.6G     0.4273     0.2946     0.8312        326        960: 100%|██████████| 2/2 [00:06<00:00,  3.18\n",
      "                 Class     Images  Instances      Box(P          R      mAP50  mAP50-95): 100%|██████████| 1/1 [00:00<0"
     ]
    },
    {
     "name": "stdout",
     "output_type": "stream",
     "text": [
      "                   all         15        199      0.982      0.997      0.995      0.931\n"
     ]
    },
    {
     "name": "stderr",
     "output_type": "stream",
     "text": [
      "\n"
     ]
    },
    {
     "name": "stdout",
     "output_type": "stream",
     "text": [
      "\n",
      "      Epoch    GPU_mem   box_loss   cls_loss   dfl_loss  Instances       Size\n"
     ]
    },
    {
     "name": "stderr",
     "output_type": "stream",
     "text": [
      "    309/500      10.6G     0.4213     0.2798     0.8355        336        960: 100%|██████████| 2/2 [00:06<00:00,  3.13\n",
      "                 Class     Images  Instances      Box(P          R      mAP50  mAP50-95): 100%|██████████| 1/1 [00:00<0"
     ]
    },
    {
     "name": "stdout",
     "output_type": "stream",
     "text": [
      "                   all         15        199      0.976      0.996      0.995      0.933\n"
     ]
    },
    {
     "name": "stderr",
     "output_type": "stream",
     "text": [
      "\n"
     ]
    },
    {
     "name": "stdout",
     "output_type": "stream",
     "text": [
      "\n",
      "      Epoch    GPU_mem   box_loss   cls_loss   dfl_loss  Instances       Size\n"
     ]
    },
    {
     "name": "stderr",
     "output_type": "stream",
     "text": [
      "    310/500      10.5G     0.4282     0.2847     0.8365        249        960: 100%|██████████| 2/2 [00:06<00:00,  3.07\n",
      "                 Class     Images  Instances      Box(P          R      mAP50  mAP50-95): 100%|██████████| 1/1 [00:00<0"
     ]
    },
    {
     "name": "stdout",
     "output_type": "stream",
     "text": [
      "                   all         15        199      0.975      0.996      0.995      0.931\n"
     ]
    },
    {
     "name": "stderr",
     "output_type": "stream",
     "text": [
      "\n"
     ]
    },
    {
     "name": "stdout",
     "output_type": "stream",
     "text": [
      "\n",
      "      Epoch    GPU_mem   box_loss   cls_loss   dfl_loss  Instances       Size\n"
     ]
    },
    {
     "name": "stderr",
     "output_type": "stream",
     "text": [
      "    311/500      10.4G     0.4198     0.2798      0.836        377        960: 100%|██████████| 2/2 [00:05<00:00,  2.94\n",
      "                 Class     Images  Instances      Box(P          R      mAP50  mAP50-95): 100%|██████████| 1/1 [00:00<0"
     ]
    },
    {
     "name": "stdout",
     "output_type": "stream",
     "text": [
      "                   all         15        199      0.984      0.996      0.995      0.929\n"
     ]
    },
    {
     "name": "stderr",
     "output_type": "stream",
     "text": [
      "\n"
     ]
    },
    {
     "name": "stdout",
     "output_type": "stream",
     "text": [
      "\n",
      "      Epoch    GPU_mem   box_loss   cls_loss   dfl_loss  Instances       Size\n"
     ]
    },
    {
     "name": "stderr",
     "output_type": "stream",
     "text": [
      "    312/500      10.6G      0.412     0.2747     0.8339        419        960: 100%|██████████| 2/2 [00:06<00:00,  3.12\n",
      "                 Class     Images  Instances      Box(P          R      mAP50  mAP50-95): 100%|██████████| 1/1 [00:00<0"
     ]
    },
    {
     "name": "stdout",
     "output_type": "stream",
     "text": [
      "                   all         15        199      0.986      0.996      0.995      0.928\n"
     ]
    },
    {
     "name": "stderr",
     "output_type": "stream",
     "text": [
      "\n"
     ]
    },
    {
     "name": "stdout",
     "output_type": "stream",
     "text": [
      "\n",
      "      Epoch    GPU_mem   box_loss   cls_loss   dfl_loss  Instances       Size\n"
     ]
    },
    {
     "name": "stderr",
     "output_type": "stream",
     "text": [
      "    313/500      10.3G       0.42      0.277     0.8292        334        960: 100%|██████████| 2/2 [00:05<00:00,  2.95\n",
      "                 Class     Images  Instances      Box(P          R      mAP50  mAP50-95): 100%|██████████| 1/1 [00:00<0"
     ]
    },
    {
     "name": "stdout",
     "output_type": "stream",
     "text": [
      "                   all         15        199      0.987      0.995      0.995      0.927\n"
     ]
    },
    {
     "name": "stderr",
     "output_type": "stream",
     "text": [
      "\n"
     ]
    },
    {
     "name": "stdout",
     "output_type": "stream",
     "text": [
      "\n",
      "      Epoch    GPU_mem   box_loss   cls_loss   dfl_loss  Instances       Size\n"
     ]
    },
    {
     "name": "stderr",
     "output_type": "stream",
     "text": [
      "    314/500      10.6G     0.4245     0.2806     0.8228        393        960: 100%|██████████| 2/2 [00:06<00:00,  3.12\n",
      "                 Class     Images  Instances      Box(P          R      mAP50  mAP50-95): 100%|██████████| 1/1 [00:00<0"
     ]
    },
    {
     "name": "stdout",
     "output_type": "stream",
     "text": [
      "                   all         15        199      0.981      0.996      0.995      0.927\n"
     ]
    },
    {
     "name": "stderr",
     "output_type": "stream",
     "text": [
      "\n"
     ]
    },
    {
     "name": "stdout",
     "output_type": "stream",
     "text": [
      "\n",
      "      Epoch    GPU_mem   box_loss   cls_loss   dfl_loss  Instances       Size\n"
     ]
    },
    {
     "name": "stderr",
     "output_type": "stream",
     "text": [
      "    315/500      10.4G     0.4143     0.2779     0.8275        358        960: 100%|██████████| 2/2 [00:05<00:00,  2.97\n",
      "                 Class     Images  Instances      Box(P          R      mAP50  mAP50-95): 100%|██████████| 1/1 [00:00<0"
     ]
    },
    {
     "name": "stdout",
     "output_type": "stream",
     "text": [
      "                   all         15        199      0.976      0.996      0.994      0.925\n"
     ]
    },
    {
     "name": "stderr",
     "output_type": "stream",
     "text": [
      "\n"
     ]
    },
    {
     "name": "stdout",
     "output_type": "stream",
     "text": [
      "\n",
      "      Epoch    GPU_mem   box_loss   cls_loss   dfl_loss  Instances       Size\n"
     ]
    },
    {
     "name": "stderr",
     "output_type": "stream",
     "text": [
      "    316/500      10.4G     0.4255     0.2862     0.8371        288        960: 100%|██████████| 2/2 [00:05<00:00,  2.76\n",
      "                 Class     Images  Instances      Box(P          R      mAP50  mAP50-95): 100%|██████████| 1/1 [00:00<0"
     ]
    },
    {
     "name": "stdout",
     "output_type": "stream",
     "text": [
      "                   all         15        199       0.97      0.996      0.993      0.932\n"
     ]
    },
    {
     "name": "stderr",
     "output_type": "stream",
     "text": [
      "\n"
     ]
    },
    {
     "name": "stdout",
     "output_type": "stream",
     "text": [
      "\n",
      "      Epoch    GPU_mem   box_loss   cls_loss   dfl_loss  Instances       Size\n"
     ]
    },
    {
     "name": "stderr",
     "output_type": "stream",
     "text": [
      "    317/500      10.5G     0.4101     0.2733     0.8292        270        960: 100%|██████████| 2/2 [00:06<00:00,  3.21\n",
      "                 Class     Images  Instances      Box(P          R      mAP50  mAP50-95): 100%|██████████| 1/1 [00:00<0"
     ]
    },
    {
     "name": "stdout",
     "output_type": "stream",
     "text": [
      "                   all         15        199      0.963      0.997      0.991      0.928\n"
     ]
    },
    {
     "name": "stderr",
     "output_type": "stream",
     "text": [
      "\n"
     ]
    },
    {
     "name": "stdout",
     "output_type": "stream",
     "text": [
      "\n",
      "      Epoch    GPU_mem   box_loss   cls_loss   dfl_loss  Instances       Size\n"
     ]
    },
    {
     "name": "stderr",
     "output_type": "stream",
     "text": [
      "    318/500      10.6G     0.4232     0.2813     0.8321        411        960: 100%|██████████| 2/2 [00:07<00:00,  3.57\n",
      "                 Class     Images  Instances      Box(P          R      mAP50  mAP50-95): 100%|██████████| 1/1 [00:00<0"
     ]
    },
    {
     "name": "stdout",
     "output_type": "stream",
     "text": [
      "                   all         15        199      0.962      0.997       0.99       0.93\n"
     ]
    },
    {
     "name": "stderr",
     "output_type": "stream",
     "text": [
      "\n"
     ]
    },
    {
     "name": "stdout",
     "output_type": "stream",
     "text": [
      "\n",
      "      Epoch    GPU_mem   box_loss   cls_loss   dfl_loss  Instances       Size\n"
     ]
    },
    {
     "name": "stderr",
     "output_type": "stream",
     "text": [
      "    319/500      10.4G     0.4022     0.2733     0.8416        249        960: 100%|██████████| 2/2 [00:06<00:00,  3.43\n",
      "                 Class     Images  Instances      Box(P          R      mAP50  mAP50-95): 100%|██████████| 1/1 [00:00<0"
     ]
    },
    {
     "name": "stdout",
     "output_type": "stream",
     "text": [
      "                   all         15        199      0.968      0.997      0.992      0.929\n"
     ]
    },
    {
     "name": "stderr",
     "output_type": "stream",
     "text": [
      "\n"
     ]
    },
    {
     "name": "stdout",
     "output_type": "stream",
     "text": [
      "\n",
      "      Epoch    GPU_mem   box_loss   cls_loss   dfl_loss  Instances       Size\n"
     ]
    },
    {
     "name": "stderr",
     "output_type": "stream",
     "text": [
      "    320/500      10.6G     0.4103     0.2785      0.824        421        960: 100%|██████████| 2/2 [00:09<00:00,  4.53\n",
      "                 Class     Images  Instances      Box(P          R      mAP50  mAP50-95): 100%|██████████| 1/1 [00:00<0"
     ]
    },
    {
     "name": "stdout",
     "output_type": "stream",
     "text": [
      "                   all         15        199      0.973      0.998      0.992      0.928\n"
     ]
    },
    {
     "name": "stderr",
     "output_type": "stream",
     "text": [
      "\n"
     ]
    },
    {
     "name": "stdout",
     "output_type": "stream",
     "text": [
      "\n",
      "      Epoch    GPU_mem   box_loss   cls_loss   dfl_loss  Instances       Size\n"
     ]
    },
    {
     "name": "stderr",
     "output_type": "stream",
     "text": [
      "    321/500      10.3G     0.4305      0.289     0.8311        464        960: 100%|██████████| 2/2 [00:05<00:00,  2.85\n",
      "                 Class     Images  Instances      Box(P          R      mAP50  mAP50-95): 100%|██████████| 1/1 [00:00<0"
     ]
    },
    {
     "name": "stdout",
     "output_type": "stream",
     "text": [
      "                   all         15        199      0.974      0.997      0.993      0.925\n"
     ]
    },
    {
     "name": "stderr",
     "output_type": "stream",
     "text": [
      "\n"
     ]
    },
    {
     "name": "stdout",
     "output_type": "stream",
     "text": [
      "\n",
      "      Epoch    GPU_mem   box_loss   cls_loss   dfl_loss  Instances       Size\n"
     ]
    },
    {
     "name": "stderr",
     "output_type": "stream",
     "text": [
      "    322/500      10.9G     0.4272     0.2925     0.8474        265        960: 100%|██████████| 2/2 [00:05<00:00,  2.66\n",
      "                 Class     Images  Instances      Box(P          R      mAP50  mAP50-95): 100%|██████████| 1/1 [00:00<0"
     ]
    },
    {
     "name": "stdout",
     "output_type": "stream",
     "text": [
      "                   all         15        199      0.976      0.998      0.993       0.93\n"
     ]
    },
    {
     "name": "stderr",
     "output_type": "stream",
     "text": [
      "\n"
     ]
    },
    {
     "name": "stdout",
     "output_type": "stream",
     "text": [
      "\n",
      "      Epoch    GPU_mem   box_loss   cls_loss   dfl_loss  Instances       Size\n"
     ]
    },
    {
     "name": "stderr",
     "output_type": "stream",
     "text": [
      "    323/500      10.7G     0.4242     0.2887     0.8255        330        960: 100%|██████████| 2/2 [00:06<00:00,  3.34\n",
      "                 Class     Images  Instances      Box(P          R      mAP50  mAP50-95): 100%|██████████| 1/1 [00:00<0"
     ]
    },
    {
     "name": "stdout",
     "output_type": "stream",
     "text": [
      "                   all         15        199      0.972      0.994      0.995      0.934\n"
     ]
    },
    {
     "name": "stderr",
     "output_type": "stream",
     "text": [
      "\n"
     ]
    },
    {
     "name": "stdout",
     "output_type": "stream",
     "text": [
      "\n",
      "      Epoch    GPU_mem   box_loss   cls_loss   dfl_loss  Instances       Size\n"
     ]
    },
    {
     "name": "stderr",
     "output_type": "stream",
     "text": [
      "    324/500      10.6G      0.426     0.2895      0.823        409        960: 100%|██████████| 2/2 [00:06<00:00,  3.06\n",
      "                 Class     Images  Instances      Box(P          R      mAP50  mAP50-95): 100%|██████████| 1/1 [00:00<0"
     ]
    },
    {
     "name": "stdout",
     "output_type": "stream",
     "text": [
      "                   all         15        199      0.977      0.992      0.995       0.93\n"
     ]
    },
    {
     "name": "stderr",
     "output_type": "stream",
     "text": [
      "\n"
     ]
    },
    {
     "name": "stdout",
     "output_type": "stream",
     "text": [
      "\n",
      "      Epoch    GPU_mem   box_loss   cls_loss   dfl_loss  Instances       Size\n"
     ]
    },
    {
     "name": "stderr",
     "output_type": "stream",
     "text": [
      "    325/500      10.7G     0.4151     0.2781     0.8268        302        960: 100%|██████████| 2/2 [00:09<00:00,  4.53\n",
      "                 Class     Images  Instances      Box(P          R      mAP50  mAP50-95): 100%|██████████| 1/1 [00:00<0"
     ]
    },
    {
     "name": "stdout",
     "output_type": "stream",
     "text": [
      "                   all         15        199       0.98      0.993      0.995      0.927\n"
     ]
    },
    {
     "name": "stderr",
     "output_type": "stream",
     "text": [
      "\n"
     ]
    },
    {
     "name": "stdout",
     "output_type": "stream",
     "text": [
      "\n",
      "      Epoch    GPU_mem   box_loss   cls_loss   dfl_loss  Instances       Size\n"
     ]
    },
    {
     "name": "stderr",
     "output_type": "stream",
     "text": [
      "    326/500      10.6G     0.4339     0.2846     0.8283        425        960: 100%|██████████| 2/2 [00:06<00:00,  3.37\n",
      "                 Class     Images  Instances      Box(P          R      mAP50  mAP50-95): 100%|██████████| 1/1 [00:00<0"
     ]
    },
    {
     "name": "stdout",
     "output_type": "stream",
     "text": [
      "                   all         15        199       0.98          1      0.995      0.927\n"
     ]
    },
    {
     "name": "stderr",
     "output_type": "stream",
     "text": [
      "\n"
     ]
    },
    {
     "name": "stdout",
     "output_type": "stream",
     "text": [
      "\n",
      "      Epoch    GPU_mem   box_loss   cls_loss   dfl_loss  Instances       Size\n"
     ]
    },
    {
     "name": "stderr",
     "output_type": "stream",
     "text": [
      "    327/500      10.4G     0.4347     0.2925     0.8441        338        960: 100%|██████████| 2/2 [00:06<00:00,  3.48\n",
      "                 Class     Images  Instances      Box(P          R      mAP50  mAP50-95): 100%|██████████| 1/1 [00:00<0"
     ]
    },
    {
     "name": "stdout",
     "output_type": "stream",
     "text": [
      "                   all         15        199      0.981      0.999      0.995      0.927\n"
     ]
    },
    {
     "name": "stderr",
     "output_type": "stream",
     "text": [
      "\n"
     ]
    },
    {
     "name": "stdout",
     "output_type": "stream",
     "text": [
      "\n",
      "      Epoch    GPU_mem   box_loss   cls_loss   dfl_loss  Instances       Size\n"
     ]
    },
    {
     "name": "stderr",
     "output_type": "stream",
     "text": [
      "    328/500      10.5G      0.428     0.2832     0.8332        298        960: 100%|██████████| 2/2 [00:06<00:00,  3.06\n",
      "                 Class     Images  Instances      Box(P          R      mAP50  mAP50-95): 100%|██████████| 1/1 [00:00<0"
     ]
    },
    {
     "name": "stdout",
     "output_type": "stream",
     "text": [
      "                   all         15        199      0.983      0.997      0.995      0.923\n"
     ]
    },
    {
     "name": "stderr",
     "output_type": "stream",
     "text": [
      "\n"
     ]
    },
    {
     "name": "stdout",
     "output_type": "stream",
     "text": [
      "\n",
      "      Epoch    GPU_mem   box_loss   cls_loss   dfl_loss  Instances       Size\n"
     ]
    },
    {
     "name": "stderr",
     "output_type": "stream",
     "text": [
      "    329/500      10.9G     0.4227     0.2783     0.8241        345        960: 100%|██████████| 2/2 [00:07<00:00,  3.50\n",
      "                 Class     Images  Instances      Box(P          R      mAP50  mAP50-95): 100%|██████████| 1/1 [00:00<0"
     ]
    },
    {
     "name": "stdout",
     "output_type": "stream",
     "text": [
      "                   all         15        199      0.984      0.998      0.995      0.921\n"
     ]
    },
    {
     "name": "stderr",
     "output_type": "stream",
     "text": [
      "\n"
     ]
    },
    {
     "name": "stdout",
     "output_type": "stream",
     "text": [
      "\n",
      "      Epoch    GPU_mem   box_loss   cls_loss   dfl_loss  Instances       Size\n"
     ]
    },
    {
     "name": "stderr",
     "output_type": "stream",
     "text": [
      "    330/500      10.5G       0.45     0.2919     0.8268        429        960: 100%|██████████| 2/2 [00:06<00:00,  3.09\n",
      "                 Class     Images  Instances      Box(P          R      mAP50  mAP50-95): 100%|██████████| 1/1 [00:00<0"
     ]
    },
    {
     "name": "stdout",
     "output_type": "stream",
     "text": [
      "                   all         15        199      0.984      0.999      0.995      0.918\n"
     ]
    },
    {
     "name": "stderr",
     "output_type": "stream",
     "text": [
      "\n"
     ]
    },
    {
     "name": "stdout",
     "output_type": "stream",
     "text": [
      "\n",
      "      Epoch    GPU_mem   box_loss   cls_loss   dfl_loss  Instances       Size\n"
     ]
    },
    {
     "name": "stderr",
     "output_type": "stream",
     "text": [
      "    331/500      10.5G     0.4344     0.2906     0.8361        299        960: 100%|██████████| 2/2 [00:06<00:00,  3.14\n",
      "                 Class     Images  Instances      Box(P          R      mAP50  mAP50-95): 100%|██████████| 1/1 [00:00<0"
     ]
    },
    {
     "name": "stdout",
     "output_type": "stream",
     "text": [
      "                   all         15        199      0.985      0.998      0.995      0.925\n"
     ]
    },
    {
     "name": "stderr",
     "output_type": "stream",
     "text": [
      "\n"
     ]
    },
    {
     "name": "stdout",
     "output_type": "stream",
     "text": [
      "\n",
      "      Epoch    GPU_mem   box_loss   cls_loss   dfl_loss  Instances       Size\n"
     ]
    },
    {
     "name": "stderr",
     "output_type": "stream",
     "text": [
      "    332/500      10.9G     0.4184     0.2778     0.8314        339        960: 100%|██████████| 2/2 [00:06<00:00,  3.50\n",
      "                 Class     Images  Instances      Box(P          R      mAP50  mAP50-95): 100%|██████████| 1/1 [00:00<0"
     ]
    },
    {
     "name": "stdout",
     "output_type": "stream",
     "text": [
      "                   all         15        199      0.985      0.998      0.995      0.926\n"
     ]
    },
    {
     "name": "stderr",
     "output_type": "stream",
     "text": [
      "\n"
     ]
    },
    {
     "name": "stdout",
     "output_type": "stream",
     "text": [
      "\n",
      "      Epoch    GPU_mem   box_loss   cls_loss   dfl_loss  Instances       Size\n"
     ]
    },
    {
     "name": "stderr",
     "output_type": "stream",
     "text": [
      "    333/500      10.6G     0.4245      0.281     0.8164        343        960: 100%|██████████| 2/2 [00:05<00:00,  2.74\n",
      "                 Class     Images  Instances      Box(P          R      mAP50  mAP50-95): 100%|██████████| 1/1 [00:00<0"
     ]
    },
    {
     "name": "stdout",
     "output_type": "stream",
     "text": [
      "                   all         15        199      0.985      0.998      0.995      0.921\n"
     ]
    },
    {
     "name": "stderr",
     "output_type": "stream",
     "text": [
      "\n"
     ]
    },
    {
     "name": "stdout",
     "output_type": "stream",
     "text": [
      "\n",
      "      Epoch    GPU_mem   box_loss   cls_loss   dfl_loss  Instances       Size\n"
     ]
    },
    {
     "name": "stderr",
     "output_type": "stream",
     "text": [
      "    334/500      10.8G      0.442     0.2824     0.8419        385        960: 100%|██████████| 2/2 [00:05<00:00,  2.95\n",
      "                 Class     Images  Instances      Box(P          R      mAP50  mAP50-95): 100%|██████████| 1/1 [00:00<0"
     ]
    },
    {
     "name": "stdout",
     "output_type": "stream",
     "text": [
      "                   all         15        199      0.983      0.997      0.995      0.921\n"
     ]
    },
    {
     "name": "stderr",
     "output_type": "stream",
     "text": [
      "\n"
     ]
    },
    {
     "name": "stdout",
     "output_type": "stream",
     "text": [
      "\n",
      "      Epoch    GPU_mem   box_loss   cls_loss   dfl_loss  Instances       Size\n"
     ]
    },
    {
     "name": "stderr",
     "output_type": "stream",
     "text": [
      "    335/500      10.6G      0.421     0.2765      0.815        479        960: 100%|██████████| 2/2 [00:05<00:00,  2.81\n",
      "                 Class     Images  Instances      Box(P          R      mAP50  mAP50-95): 100%|██████████| 1/1 [00:00<0"
     ]
    },
    {
     "name": "stdout",
     "output_type": "stream",
     "text": [
      "                   all         15        199      0.984      0.996      0.995      0.918\n"
     ]
    },
    {
     "name": "stderr",
     "output_type": "stream",
     "text": [
      "\n"
     ]
    },
    {
     "name": "stdout",
     "output_type": "stream",
     "text": [
      "\n",
      "      Epoch    GPU_mem   box_loss   cls_loss   dfl_loss  Instances       Size\n"
     ]
    },
    {
     "name": "stderr",
     "output_type": "stream",
     "text": [
      "    336/500      10.6G     0.4212      0.281      0.838        273        960: 100%|██████████| 2/2 [00:06<00:00,  3.05\n",
      "                 Class     Images  Instances      Box(P          R      mAP50  mAP50-95): 100%|██████████| 1/1 [00:00<0"
     ]
    },
    {
     "name": "stdout",
     "output_type": "stream",
     "text": [
      "                   all         15        199      0.982      0.993      0.995      0.919\n"
     ]
    },
    {
     "name": "stderr",
     "output_type": "stream",
     "text": [
      "\n"
     ]
    },
    {
     "name": "stdout",
     "output_type": "stream",
     "text": [
      "\n",
      "      Epoch    GPU_mem   box_loss   cls_loss   dfl_loss  Instances       Size\n"
     ]
    },
    {
     "name": "stderr",
     "output_type": "stream",
     "text": [
      "    337/500      10.8G     0.4228     0.2722     0.8219        385        960: 100%|██████████| 2/2 [00:06<00:00,  3.18\n",
      "                 Class     Images  Instances      Box(P          R      mAP50  mAP50-95): 100%|██████████| 1/1 [00:00<0"
     ]
    },
    {
     "name": "stdout",
     "output_type": "stream",
     "text": [
      "                   all         15        199      0.981      0.992      0.995      0.915\n"
     ]
    },
    {
     "name": "stderr",
     "output_type": "stream",
     "text": [
      "\n"
     ]
    },
    {
     "name": "stdout",
     "output_type": "stream",
     "text": [
      "\n",
      "      Epoch    GPU_mem   box_loss   cls_loss   dfl_loss  Instances       Size\n"
     ]
    },
    {
     "name": "stderr",
     "output_type": "stream",
     "text": [
      "    338/500      10.6G       0.42     0.2818      0.842        355        960: 100%|██████████| 2/2 [00:05<00:00,  2.78\n",
      "                 Class     Images  Instances      Box(P          R      mAP50  mAP50-95): 100%|██████████| 1/1 [00:00<0"
     ]
    },
    {
     "name": "stdout",
     "output_type": "stream",
     "text": [
      "                   all         15        199      0.981      0.993      0.995      0.918\n"
     ]
    },
    {
     "name": "stderr",
     "output_type": "stream",
     "text": [
      "\n"
     ]
    },
    {
     "name": "stdout",
     "output_type": "stream",
     "text": [
      "\n",
      "      Epoch    GPU_mem   box_loss   cls_loss   dfl_loss  Instances       Size\n"
     ]
    },
    {
     "name": "stderr",
     "output_type": "stream",
     "text": [
      "    339/500      10.7G     0.4069      0.273     0.8353        419        960: 100%|██████████| 2/2 [00:06<00:00,  3.01\n",
      "                 Class     Images  Instances      Box(P          R      mAP50  mAP50-95): 100%|██████████| 1/1 [00:00<0"
     ]
    },
    {
     "name": "stdout",
     "output_type": "stream",
     "text": [
      "                   all         15        199       0.98      0.993      0.995      0.921\n"
     ]
    },
    {
     "name": "stderr",
     "output_type": "stream",
     "text": [
      "\n"
     ]
    },
    {
     "name": "stdout",
     "output_type": "stream",
     "text": [
      "\n",
      "      Epoch    GPU_mem   box_loss   cls_loss   dfl_loss  Instances       Size\n"
     ]
    },
    {
     "name": "stderr",
     "output_type": "stream",
     "text": [
      "    340/500      10.7G     0.4188      0.276     0.8247        394        960: 100%|██████████| 2/2 [00:06<00:00,  3.02\n",
      "                 Class     Images  Instances      Box(P          R      mAP50  mAP50-95): 100%|██████████| 1/1 [00:00<0"
     ]
    },
    {
     "name": "stdout",
     "output_type": "stream",
     "text": [
      "                   all         15        199      0.983      0.994      0.995      0.919\n"
     ]
    },
    {
     "name": "stderr",
     "output_type": "stream",
     "text": [
      "\n"
     ]
    },
    {
     "name": "stdout",
     "output_type": "stream",
     "text": [
      "\n",
      "      Epoch    GPU_mem   box_loss   cls_loss   dfl_loss  Instances       Size\n"
     ]
    },
    {
     "name": "stderr",
     "output_type": "stream",
     "text": [
      "    341/500      10.6G     0.4001     0.2722     0.8225        323        960: 100%|██████████| 2/2 [00:05<00:00,  2.94\n",
      "                 Class     Images  Instances      Box(P          R      mAP50  mAP50-95): 100%|██████████| 1/1 [00:00<0"
     ]
    },
    {
     "name": "stdout",
     "output_type": "stream",
     "text": [
      "                   all         15        199      0.983      0.994      0.995      0.924\n"
     ]
    },
    {
     "name": "stderr",
     "output_type": "stream",
     "text": [
      "\n"
     ]
    },
    {
     "name": "stdout",
     "output_type": "stream",
     "text": [
      "\n",
      "      Epoch    GPU_mem   box_loss   cls_loss   dfl_loss  Instances       Size\n"
     ]
    },
    {
     "name": "stderr",
     "output_type": "stream",
     "text": [
      "    342/500      10.4G     0.4196     0.2947     0.8545        147        960: 100%|██████████| 2/2 [00:05<00:00,  2.69\n",
      "                 Class     Images  Instances      Box(P          R      mAP50  mAP50-95): 100%|██████████| 1/1 [00:00<0"
     ]
    },
    {
     "name": "stdout",
     "output_type": "stream",
     "text": [
      "                   all         15        199      0.982      0.995      0.995      0.924\n"
     ]
    },
    {
     "name": "stderr",
     "output_type": "stream",
     "text": [
      "\n"
     ]
    },
    {
     "name": "stdout",
     "output_type": "stream",
     "text": [
      "\n",
      "      Epoch    GPU_mem   box_loss   cls_loss   dfl_loss  Instances       Size\n"
     ]
    },
    {
     "name": "stderr",
     "output_type": "stream",
     "text": [
      "    343/500      10.7G     0.4064     0.2702     0.8289        442        960: 100%|██████████| 2/2 [00:05<00:00,  2.96\n",
      "                 Class     Images  Instances      Box(P          R      mAP50  mAP50-95): 100%|██████████| 1/1 [00:00<0"
     ]
    },
    {
     "name": "stdout",
     "output_type": "stream",
     "text": [
      "                   all         15        199      0.984      0.996      0.995      0.922\n"
     ]
    },
    {
     "name": "stderr",
     "output_type": "stream",
     "text": [
      "\n"
     ]
    },
    {
     "name": "stdout",
     "output_type": "stream",
     "text": [
      "\n",
      "      Epoch    GPU_mem   box_loss   cls_loss   dfl_loss  Instances       Size\n"
     ]
    },
    {
     "name": "stderr",
     "output_type": "stream",
     "text": [
      "    344/500      10.5G     0.4083     0.2706     0.8287        322        960: 100%|██████████| 2/2 [00:05<00:00,  2.82\n",
      "                 Class     Images  Instances      Box(P          R      mAP50  mAP50-95): 100%|██████████| 1/1 [00:00<0"
     ]
    },
    {
     "name": "stdout",
     "output_type": "stream",
     "text": [
      "                   all         15        199      0.985      0.997      0.995      0.923\n"
     ]
    },
    {
     "name": "stderr",
     "output_type": "stream",
     "text": [
      "\n"
     ]
    },
    {
     "name": "stdout",
     "output_type": "stream",
     "text": [
      "\n",
      "      Epoch    GPU_mem   box_loss   cls_loss   dfl_loss  Instances       Size\n"
     ]
    },
    {
     "name": "stderr",
     "output_type": "stream",
     "text": [
      "    345/500      10.4G     0.4124     0.2711     0.8206        343        960: 100%|██████████| 2/2 [00:05<00:00,  2.77\n",
      "                 Class     Images  Instances      Box(P          R      mAP50  mAP50-95): 100%|██████████| 1/1 [00:00<0"
     ]
    },
    {
     "name": "stdout",
     "output_type": "stream",
     "text": [
      "                   all         15        199      0.984      0.999      0.995      0.926\n"
     ]
    },
    {
     "name": "stderr",
     "output_type": "stream",
     "text": [
      "\n"
     ]
    },
    {
     "name": "stdout",
     "output_type": "stream",
     "text": [
      "\n",
      "      Epoch    GPU_mem   box_loss   cls_loss   dfl_loss  Instances       Size\n"
     ]
    },
    {
     "name": "stderr",
     "output_type": "stream",
     "text": [
      "    346/500      10.6G     0.4248     0.2738     0.8277        351        960: 100%|██████████| 2/2 [00:05<00:00,  2.98\n",
      "                 Class     Images  Instances      Box(P          R      mAP50  mAP50-95): 100%|██████████| 1/1 [00:00<0"
     ]
    },
    {
     "name": "stdout",
     "output_type": "stream",
     "text": [
      "                   all         15        199      0.987          1      0.995      0.927\n"
     ]
    },
    {
     "name": "stderr",
     "output_type": "stream",
     "text": [
      "\n"
     ]
    },
    {
     "name": "stdout",
     "output_type": "stream",
     "text": [
      "\n",
      "      Epoch    GPU_mem   box_loss   cls_loss   dfl_loss  Instances       Size\n"
     ]
    },
    {
     "name": "stderr",
     "output_type": "stream",
     "text": [
      "    347/500      10.6G     0.3984     0.2741     0.8316        334        960: 100%|██████████| 2/2 [00:05<00:00,  2.92\n",
      "                 Class     Images  Instances      Box(P          R      mAP50  mAP50-95): 100%|██████████| 1/1 [00:00<0"
     ]
    },
    {
     "name": "stdout",
     "output_type": "stream",
     "text": [
      "                   all         15        199      0.987          1      0.995      0.928\n"
     ]
    },
    {
     "name": "stderr",
     "output_type": "stream",
     "text": [
      "\n"
     ]
    },
    {
     "name": "stdout",
     "output_type": "stream",
     "text": [
      "\n",
      "      Epoch    GPU_mem   box_loss   cls_loss   dfl_loss  Instances       Size\n"
     ]
    },
    {
     "name": "stderr",
     "output_type": "stream",
     "text": [
      "    348/500      10.4G     0.4082     0.2744      0.836        302        960: 100%|██████████| 2/2 [00:06<00:00,  3.17\n",
      "                 Class     Images  Instances      Box(P          R      mAP50  mAP50-95): 100%|██████████| 1/1 [00:00<0"
     ]
    },
    {
     "name": "stdout",
     "output_type": "stream",
     "text": [
      "                   all         15        199      0.986      0.997      0.995      0.929\n"
     ]
    },
    {
     "name": "stderr",
     "output_type": "stream",
     "text": [
      "\n"
     ]
    },
    {
     "name": "stdout",
     "output_type": "stream",
     "text": [
      "\n",
      "      Epoch    GPU_mem   box_loss   cls_loss   dfl_loss  Instances       Size\n"
     ]
    },
    {
     "name": "stderr",
     "output_type": "stream",
     "text": [
      "    349/500      10.8G      0.416     0.2768     0.8259        352        960: 100%|██████████| 2/2 [00:06<00:00,  3.10\n",
      "                 Class     Images  Instances      Box(P          R      mAP50  mAP50-95): 100%|██████████| 1/1 [00:00<0"
     ]
    },
    {
     "name": "stdout",
     "output_type": "stream",
     "text": [
      "                   all         15        199      0.987      0.996      0.995      0.929\n"
     ]
    },
    {
     "name": "stderr",
     "output_type": "stream",
     "text": [
      "\n"
     ]
    },
    {
     "name": "stdout",
     "output_type": "stream",
     "text": [
      "\n",
      "      Epoch    GPU_mem   box_loss   cls_loss   dfl_loss  Instances       Size\n"
     ]
    },
    {
     "name": "stderr",
     "output_type": "stream",
     "text": [
      "    350/500      10.4G     0.3951     0.2646     0.8182        385        960: 100%|██████████| 2/2 [00:05<00:00,  2.83\n",
      "                 Class     Images  Instances      Box(P          R      mAP50  mAP50-95): 100%|██████████| 1/1 [00:00<0"
     ]
    },
    {
     "name": "stdout",
     "output_type": "stream",
     "text": [
      "                   all         15        199      0.989      0.997      0.995      0.924\n"
     ]
    },
    {
     "name": "stderr",
     "output_type": "stream",
     "text": [
      "\n"
     ]
    },
    {
     "name": "stdout",
     "output_type": "stream",
     "text": [
      "\n",
      "      Epoch    GPU_mem   box_loss   cls_loss   dfl_loss  Instances       Size\n"
     ]
    },
    {
     "name": "stderr",
     "output_type": "stream",
     "text": [
      "    351/500      10.3G     0.4017     0.2613     0.8274        365        960: 100%|██████████| 2/2 [00:05<00:00,  2.72\n",
      "                 Class     Images  Instances      Box(P          R      mAP50  mAP50-95): 100%|██████████| 1/1 [00:00<0"
     ]
    },
    {
     "name": "stdout",
     "output_type": "stream",
     "text": [
      "                   all         15        199      0.989      0.997      0.995      0.925\n"
     ]
    },
    {
     "name": "stderr",
     "output_type": "stream",
     "text": [
      "\n"
     ]
    },
    {
     "name": "stdout",
     "output_type": "stream",
     "text": [
      "\n",
      "      Epoch    GPU_mem   box_loss   cls_loss   dfl_loss  Instances       Size\n"
     ]
    },
    {
     "name": "stderr",
     "output_type": "stream",
     "text": [
      "    352/500      10.6G     0.4127     0.2719     0.8245        366        960: 100%|██████████| 2/2 [00:05<00:00,  2.90\n",
      "                 Class     Images  Instances      Box(P          R      mAP50  mAP50-95): 100%|██████████| 1/1 [00:00<0"
     ]
    },
    {
     "name": "stdout",
     "output_type": "stream",
     "text": [
      "                   all         15        199      0.986      0.996      0.995       0.92\n"
     ]
    },
    {
     "name": "stderr",
     "output_type": "stream",
     "text": [
      "\n"
     ]
    },
    {
     "name": "stdout",
     "output_type": "stream",
     "text": [
      "\n",
      "      Epoch    GPU_mem   box_loss   cls_loss   dfl_loss  Instances       Size\n"
     ]
    },
    {
     "name": "stderr",
     "output_type": "stream",
     "text": [
      "    353/500      10.7G     0.3951     0.2641     0.8289        294        960: 100%|██████████| 2/2 [00:05<00:00,  2.92\n",
      "                 Class     Images  Instances      Box(P          R      mAP50  mAP50-95): 100%|██████████| 1/1 [00:00<0"
     ]
    },
    {
     "name": "stdout",
     "output_type": "stream",
     "text": [
      "                   all         15        199      0.979      0.997      0.995      0.921\n"
     ]
    },
    {
     "name": "stderr",
     "output_type": "stream",
     "text": [
      "\n"
     ]
    },
    {
     "name": "stdout",
     "output_type": "stream",
     "text": [
      "\n",
      "      Epoch    GPU_mem   box_loss   cls_loss   dfl_loss  Instances       Size\n"
     ]
    },
    {
     "name": "stderr",
     "output_type": "stream",
     "text": [
      "    354/500      10.5G     0.4025     0.2656     0.8268        396        960: 100%|██████████| 2/2 [00:06<00:00,  3.01\n",
      "                 Class     Images  Instances      Box(P          R      mAP50  mAP50-95): 100%|██████████| 1/1 [00:00<0"
     ]
    },
    {
     "name": "stdout",
     "output_type": "stream",
     "text": [
      "                   all         15        199      0.974      0.997      0.995      0.926\n"
     ]
    },
    {
     "name": "stderr",
     "output_type": "stream",
     "text": [
      "\n"
     ]
    },
    {
     "name": "stdout",
     "output_type": "stream",
     "text": [
      "\n",
      "      Epoch    GPU_mem   box_loss   cls_loss   dfl_loss  Instances       Size\n"
     ]
    },
    {
     "name": "stderr",
     "output_type": "stream",
     "text": [
      "    355/500      10.6G     0.4089     0.2669     0.8277        357        960: 100%|██████████| 2/2 [00:05<00:00,  2.75\n",
      "                 Class     Images  Instances      Box(P          R      mAP50  mAP50-95): 100%|██████████| 1/1 [00:00<0"
     ]
    },
    {
     "name": "stdout",
     "output_type": "stream",
     "text": [
      "                   all         15        199      0.972      0.998      0.995      0.925\n"
     ]
    },
    {
     "name": "stderr",
     "output_type": "stream",
     "text": [
      "\n"
     ]
    },
    {
     "name": "stdout",
     "output_type": "stream",
     "text": [
      "\n",
      "      Epoch    GPU_mem   box_loss   cls_loss   dfl_loss  Instances       Size\n"
     ]
    },
    {
     "name": "stderr",
     "output_type": "stream",
     "text": [
      "    356/500      10.5G     0.3854     0.2584     0.8187        342        960: 100%|██████████| 2/2 [00:05<00:00,  2.72\n",
      "                 Class     Images  Instances      Box(P          R      mAP50  mAP50-95): 100%|██████████| 1/1 [00:00<0"
     ]
    },
    {
     "name": "stdout",
     "output_type": "stream",
     "text": [
      "                   all         15        199      0.976      0.998      0.995      0.924\n"
     ]
    },
    {
     "name": "stderr",
     "output_type": "stream",
     "text": [
      "\n"
     ]
    },
    {
     "name": "stdout",
     "output_type": "stream",
     "text": [
      "\n",
      "      Epoch    GPU_mem   box_loss   cls_loss   dfl_loss  Instances       Size\n"
     ]
    },
    {
     "name": "stderr",
     "output_type": "stream",
     "text": [
      "    357/500      10.2G     0.4083      0.271     0.8193        345        960: 100%|██████████| 2/2 [00:04<00:00,  2.47\n",
      "                 Class     Images  Instances      Box(P          R      mAP50  mAP50-95): 100%|██████████| 1/1 [00:00<0"
     ]
    },
    {
     "name": "stdout",
     "output_type": "stream",
     "text": [
      "                   all         15        199      0.979      0.998      0.995      0.924\n"
     ]
    },
    {
     "name": "stderr",
     "output_type": "stream",
     "text": [
      "\n"
     ]
    },
    {
     "name": "stdout",
     "output_type": "stream",
     "text": [
      "\n",
      "      Epoch    GPU_mem   box_loss   cls_loss   dfl_loss  Instances       Size\n"
     ]
    },
    {
     "name": "stderr",
     "output_type": "stream",
     "text": [
      "    358/500      10.5G     0.4227     0.2802      0.823        382        960: 100%|██████████| 2/2 [00:05<00:00,  2.76\n",
      "                 Class     Images  Instances      Box(P          R      mAP50  mAP50-95): 100%|██████████| 1/1 [00:00<0"
     ]
    },
    {
     "name": "stdout",
     "output_type": "stream",
     "text": [
      "                   all         15        199      0.984      0.998      0.995      0.929\n"
     ]
    },
    {
     "name": "stderr",
     "output_type": "stream",
     "text": [
      "\n"
     ]
    },
    {
     "name": "stdout",
     "output_type": "stream",
     "text": [
      "\n",
      "      Epoch    GPU_mem   box_loss   cls_loss   dfl_loss  Instances       Size\n"
     ]
    },
    {
     "name": "stderr",
     "output_type": "stream",
     "text": [
      "    359/500      10.3G     0.4087     0.2714     0.8295        331        960: 100%|██████████| 2/2 [00:05<00:00,  2.67\n",
      "                 Class     Images  Instances      Box(P          R      mAP50  mAP50-95): 100%|██████████| 1/1 [00:00<0"
     ]
    },
    {
     "name": "stdout",
     "output_type": "stream",
     "text": [
      "                   all         15        199      0.986      0.998      0.995      0.931\n"
     ]
    },
    {
     "name": "stderr",
     "output_type": "stream",
     "text": [
      "\n"
     ]
    },
    {
     "name": "stdout",
     "output_type": "stream",
     "text": [
      "\n",
      "      Epoch    GPU_mem   box_loss   cls_loss   dfl_loss  Instances       Size\n"
     ]
    },
    {
     "name": "stderr",
     "output_type": "stream",
     "text": [
      "    360/500      10.8G     0.4079     0.2653     0.8284        323        960: 100%|██████████| 2/2 [00:06<00:00,  3.17\n",
      "                 Class     Images  Instances      Box(P          R      mAP50  mAP50-95): 100%|██████████| 1/1 [00:00<0"
     ]
    },
    {
     "name": "stdout",
     "output_type": "stream",
     "text": [
      "                   all         15        199      0.984      0.998      0.995      0.929\n"
     ]
    },
    {
     "name": "stderr",
     "output_type": "stream",
     "text": [
      "\n"
     ]
    },
    {
     "name": "stdout",
     "output_type": "stream",
     "text": [
      "\n",
      "      Epoch    GPU_mem   box_loss   cls_loss   dfl_loss  Instances       Size\n"
     ]
    },
    {
     "name": "stderr",
     "output_type": "stream",
     "text": [
      "    361/500      10.7G     0.3935     0.2643      0.814        247        960: 100%|██████████| 2/2 [00:06<00:00,  3.02\n",
      "                 Class     Images  Instances      Box(P          R      mAP50  mAP50-95): 100%|██████████| 1/1 [00:00<0"
     ]
    },
    {
     "name": "stdout",
     "output_type": "stream",
     "text": [
      "                   all         15        199      0.976      0.998      0.995      0.926\n"
     ]
    },
    {
     "name": "stderr",
     "output_type": "stream",
     "text": [
      "\n"
     ]
    },
    {
     "name": "stdout",
     "output_type": "stream",
     "text": [
      "\n",
      "      Epoch    GPU_mem   box_loss   cls_loss   dfl_loss  Instances       Size\n"
     ]
    },
    {
     "name": "stderr",
     "output_type": "stream",
     "text": [
      "    362/500      10.7G     0.3935     0.2595     0.8272        338        960: 100%|██████████| 2/2 [00:06<00:00,  3.07\n",
      "                 Class     Images  Instances      Box(P          R      mAP50  mAP50-95): 100%|██████████| 1/1 [00:00<0"
     ]
    },
    {
     "name": "stdout",
     "output_type": "stream",
     "text": [
      "                   all         15        199      0.975      0.998      0.995      0.921\n"
     ]
    },
    {
     "name": "stderr",
     "output_type": "stream",
     "text": [
      "\n"
     ]
    },
    {
     "name": "stdout",
     "output_type": "stream",
     "text": [
      "\n",
      "      Epoch    GPU_mem   box_loss   cls_loss   dfl_loss  Instances       Size\n"
     ]
    },
    {
     "name": "stderr",
     "output_type": "stream",
     "text": [
      "    363/500      10.4G     0.4164     0.2753     0.8309        249        960: 100%|██████████| 2/2 [00:05<00:00,  2.68\n",
      "                 Class     Images  Instances      Box(P          R      mAP50  mAP50-95): 100%|██████████| 1/1 [00:00<0"
     ]
    },
    {
     "name": "stdout",
     "output_type": "stream",
     "text": [
      "                   all         15        199      0.979      0.998      0.995      0.926\n"
     ]
    },
    {
     "name": "stderr",
     "output_type": "stream",
     "text": [
      "\n"
     ]
    },
    {
     "name": "stdout",
     "output_type": "stream",
     "text": [
      "\n",
      "      Epoch    GPU_mem   box_loss   cls_loss   dfl_loss  Instances       Size\n"
     ]
    },
    {
     "name": "stderr",
     "output_type": "stream",
     "text": [
      "    364/500      10.3G     0.4125     0.2672     0.8234        355        960: 100%|██████████| 2/2 [00:05<00:00,  2.68\n",
      "                 Class     Images  Instances      Box(P          R      mAP50  mAP50-95): 100%|██████████| 1/1 [00:00<0"
     ]
    },
    {
     "name": "stdout",
     "output_type": "stream",
     "text": [
      "                   all         15        199       0.98      0.998      0.995      0.928\n"
     ]
    },
    {
     "name": "stderr",
     "output_type": "stream",
     "text": [
      "\n"
     ]
    },
    {
     "name": "stdout",
     "output_type": "stream",
     "text": [
      "\n",
      "      Epoch    GPU_mem   box_loss   cls_loss   dfl_loss  Instances       Size\n"
     ]
    },
    {
     "name": "stderr",
     "output_type": "stream",
     "text": [
      "    365/500      10.9G     0.4183     0.2762     0.8369        255        960: 100%|██████████| 2/2 [00:06<00:00,  3.17\n",
      "                 Class     Images  Instances      Box(P          R      mAP50  mAP50-95): 100%|██████████| 1/1 [00:00<0"
     ]
    },
    {
     "name": "stdout",
     "output_type": "stream",
     "text": [
      "                   all         15        199      0.981      0.998      0.995      0.926\n"
     ]
    },
    {
     "name": "stderr",
     "output_type": "stream",
     "text": [
      "\n"
     ]
    },
    {
     "name": "stdout",
     "output_type": "stream",
     "text": [
      "\n",
      "      Epoch    GPU_mem   box_loss   cls_loss   dfl_loss  Instances       Size\n"
     ]
    },
    {
     "name": "stderr",
     "output_type": "stream",
     "text": [
      "    366/500      10.5G     0.4142      0.272     0.8347        345        960: 100%|██████████| 2/2 [00:05<00:00,  2.80\n",
      "                 Class     Images  Instances      Box(P          R      mAP50  mAP50-95): 100%|██████████| 1/1 [00:00<0"
     ]
    },
    {
     "name": "stdout",
     "output_type": "stream",
     "text": [
      "                   all         15        199      0.981      0.998      0.995      0.927\n"
     ]
    },
    {
     "name": "stderr",
     "output_type": "stream",
     "text": [
      "\n"
     ]
    },
    {
     "name": "stdout",
     "output_type": "stream",
     "text": [
      "\n",
      "      Epoch    GPU_mem   box_loss   cls_loss   dfl_loss  Instances       Size\n"
     ]
    },
    {
     "name": "stderr",
     "output_type": "stream",
     "text": [
      "    367/500      10.7G     0.3951     0.2666     0.8317        285        960: 100%|██████████| 2/2 [00:05<00:00,  2.95\n",
      "                 Class     Images  Instances      Box(P          R      mAP50  mAP50-95): 100%|██████████| 1/1 [00:00<0"
     ]
    },
    {
     "name": "stdout",
     "output_type": "stream",
     "text": [
      "                   all         15        199      0.979      0.998      0.995      0.927\n"
     ]
    },
    {
     "name": "stderr",
     "output_type": "stream",
     "text": [
      "\n"
     ]
    },
    {
     "name": "stdout",
     "output_type": "stream",
     "text": [
      "\n",
      "      Epoch    GPU_mem   box_loss   cls_loss   dfl_loss  Instances       Size\n"
     ]
    },
    {
     "name": "stderr",
     "output_type": "stream",
     "text": [
      "    368/500      10.8G     0.3923     0.2603      0.811        310        960: 100%|██████████| 2/2 [00:06<00:00,  3.06\n",
      "                 Class     Images  Instances      Box(P          R      mAP50  mAP50-95): 100%|██████████| 1/1 [00:00<0"
     ]
    },
    {
     "name": "stdout",
     "output_type": "stream",
     "text": [
      "                   all         15        199      0.975      0.997      0.995      0.925\n"
     ]
    },
    {
     "name": "stderr",
     "output_type": "stream",
     "text": [
      "\n"
     ]
    },
    {
     "name": "stdout",
     "output_type": "stream",
     "text": [
      "\n",
      "      Epoch    GPU_mem   box_loss   cls_loss   dfl_loss  Instances       Size\n"
     ]
    },
    {
     "name": "stderr",
     "output_type": "stream",
     "text": [
      "    369/500      10.6G     0.4071     0.2668     0.8377        295        960: 100%|██████████| 2/2 [00:05<00:00,  2.87\n",
      "                 Class     Images  Instances      Box(P          R      mAP50  mAP50-95): 100%|██████████| 1/1 [00:00<0"
     ]
    },
    {
     "name": "stdout",
     "output_type": "stream",
     "text": [
      "                   all         15        199      0.974      0.997      0.995      0.923\n"
     ]
    },
    {
     "name": "stderr",
     "output_type": "stream",
     "text": [
      "\n"
     ]
    },
    {
     "name": "stdout",
     "output_type": "stream",
     "text": [
      "\n",
      "      Epoch    GPU_mem   box_loss   cls_loss   dfl_loss  Instances       Size\n"
     ]
    },
    {
     "name": "stderr",
     "output_type": "stream",
     "text": [
      "    370/500      10.4G     0.4193     0.2654     0.8289        319        960: 100%|██████████| 2/2 [00:05<00:00,  2.72\n",
      "                 Class     Images  Instances      Box(P          R      mAP50  mAP50-95): 100%|██████████| 1/1 [00:00<0"
     ]
    },
    {
     "name": "stdout",
     "output_type": "stream",
     "text": [
      "                   all         15        199       0.97      0.997      0.995      0.928\n"
     ]
    },
    {
     "name": "stderr",
     "output_type": "stream",
     "text": [
      "\n"
     ]
    },
    {
     "name": "stdout",
     "output_type": "stream",
     "text": [
      "\n",
      "      Epoch    GPU_mem   box_loss   cls_loss   dfl_loss  Instances       Size\n"
     ]
    },
    {
     "name": "stderr",
     "output_type": "stream",
     "text": [
      "    371/500      10.6G     0.3977     0.2668     0.8278        351        960: 100%|██████████| 2/2 [00:05<00:00,  2.82\n",
      "                 Class     Images  Instances      Box(P          R      mAP50  mAP50-95): 100%|██████████| 1/1 [00:00<0"
     ]
    },
    {
     "name": "stdout",
     "output_type": "stream",
     "text": [
      "                   all         15        199      0.972      0.997      0.995      0.932\n"
     ]
    },
    {
     "name": "stderr",
     "output_type": "stream",
     "text": [
      "\n"
     ]
    },
    {
     "name": "stdout",
     "output_type": "stream",
     "text": [
      "\n",
      "      Epoch    GPU_mem   box_loss   cls_loss   dfl_loss  Instances       Size\n"
     ]
    },
    {
     "name": "stderr",
     "output_type": "stream",
     "text": [
      "    372/500      10.7G     0.4083     0.2701     0.8153        482        960: 100%|██████████| 2/2 [00:06<00:00,  3.05\n",
      "                 Class     Images  Instances      Box(P          R      mAP50  mAP50-95): 100%|██████████| 1/1 [00:00<0"
     ]
    },
    {
     "name": "stdout",
     "output_type": "stream",
     "text": [
      "                   all         15        199      0.972      0.998      0.995      0.927\n"
     ]
    },
    {
     "name": "stderr",
     "output_type": "stream",
     "text": [
      "\n"
     ]
    },
    {
     "name": "stdout",
     "output_type": "stream",
     "text": [
      "\n",
      "      Epoch    GPU_mem   box_loss   cls_loss   dfl_loss  Instances       Size\n"
     ]
    },
    {
     "name": "stderr",
     "output_type": "stream",
     "text": [
      "    373/500      10.6G     0.3956     0.2654     0.8391        296        960: 100%|██████████| 2/2 [00:05<00:00,  2.67\n",
      "                 Class     Images  Instances      Box(P          R      mAP50  mAP50-95): 100%|██████████| 1/1 [00:00<0"
     ]
    },
    {
     "name": "stdout",
     "output_type": "stream",
     "text": [
      "                   all         15        199      0.975      0.998      0.995      0.929\n",
      "\u001b[34m\u001b[1mEarlyStopping: \u001b[0mTraining stopped early as no improvement observed in last 50 epochs. Best results observed at epoch 323, best model saved as best.pt.\n",
      "To update EarlyStopping(patience=50) pass a new patience value, i.e. `patience=300` or use `patience=0` to disable EarlyStopping.\n"
     ]
    },
    {
     "name": "stderr",
     "output_type": "stream",
     "text": [
      "\n"
     ]
    },
    {
     "name": "stdout",
     "output_type": "stream",
     "text": [
      "\n",
      "373 epochs completed in 0.685 hours.\n",
      "Optimizer stripped from runs\\detect\\train32\\weights\\last.pt, 5.5MB\n",
      "Optimizer stripped from runs\\detect\\train32\\weights\\best.pt, 5.5MB\n",
      "\n",
      "Validating runs\\detect\\train32\\weights\\best.pt...\n",
      "Ultralytics 8.3.52  Python-3.9.18 torch-2.2.2 CUDA:0 (NVIDIA GeForce RTX 3070 Ti, 8191MiB)\n",
      "YOLO11n summary (fused): 238 layers, 2,585,077 parameters, 0 gradients, 6.3 GFLOPs\n"
     ]
    },
    {
     "name": "stderr",
     "output_type": "stream",
     "text": [
      "                 Class     Images  Instances      Box(P          R      mAP50  mAP50-95): 100%|██████████| 1/1 [00:00<0\n"
     ]
    },
    {
     "name": "stdout",
     "output_type": "stream",
     "text": [
      "                   all         15        199      0.972      0.994      0.995      0.933\n",
      "               tea_pot         14         14      0.976          1      0.995      0.995\n",
      "             red_sauce         12         24      0.987          1      0.995      0.911\n",
      "             red_onion         12         24      0.979      0.958      0.993       0.84\n",
      "         pickled_chili         12         12      0.977          1      0.995      0.889\n",
      "                  pita         12         24      0.987          1      0.995      0.954\n",
      "          chicken_meat         12         24      0.991          1      0.995      0.959\n",
      "                  ribs          6          6      0.946          1      0.995      0.932\n",
      "             pork_meat         11         21       0.98          1      0.995      0.829\n",
      "                 salad          6          6      0.947          1      0.995      0.995\n",
      "           greek_salad          6          6      0.946          1      0.995      0.995\n",
      "                 vodka          5          5          1      0.952      0.995      0.899\n",
      "                 snack          9         18      0.983          1      0.995      0.916\n",
      "              red_soup          6          6      0.948          1      0.995       0.95\n",
      "           yellow_soup          4          4          1          1      0.995      0.958\n",
      "               tea_cup          5          5      0.938          1      0.995      0.979\n",
      "Speed: 0.0ms preprocess, 2.1ms inference, 0.0ms loss, 0.0ms postprocess per image\n",
      "Results saved to \u001b[1mruns\\detect\\train32\u001b[0m\n",
      "CPU times: total: 41min 32s\n",
      "Wall time: 41min 22s\n"
     ]
    }
   ],
   "source": [
    "%%time\n",
    "# Train model\n",
    "# More about it: https://docs.ultralytics.com/modes/train/\n",
    "results = model.train(data=YAML_PATH,\n",
    "                      save=True,\n",
    "                      cache=False,\n",
    "                      pretrained=True,\n",
    "                      plots=True,\n",
    "                      epochs=200,\n",
    "                      imgsz=IMG_H,\n",
    "                      patience=50,\n",
    "                      batch=32,\n",
    "                      device=0,\n",
    "                      optimizer='AdamW',\n",
    "                      seed=0,\n",
    "                     )"
   ]
  },
  {
   "cell_type": "markdown",
   "id": "f7e2b486-822a-46b4-98c8-2ee0d4134c55",
   "metadata": {},
   "source": [
    "### Try trained model"
   ]
  },
  {
   "cell_type": "code",
   "execution_count": 5,
   "id": "9337b48c-5e83-432c-a9f4-ab1a2a76d1b3",
   "metadata": {},
   "outputs": [],
   "source": [
    "loaded_model_path = os.path.join('models', '302_best.pt')\n",
    "loaded_model = YOLO(loaded_model_path)"
   ]
  },
  {
   "cell_type": "code",
   "execution_count": 7,
   "id": "6ab81bd7-8642-470d-834f-7d8cab56819c",
   "metadata": {},
   "outputs": [
    {
     "name": "stdout",
     "output_type": "stream",
     "text": [
      "Ultralytics 8.3.52  Python-3.9.18 torch-2.2.2 CUDA:0 (NVIDIA GeForce RTX 3070 Ti, 8191MiB)\n",
      "YOLO11n summary (fused): 238 layers, 2,585,077 parameters, 0 gradients, 6.3 GFLOPs\n"
     ]
    },
    {
     "name": "stderr",
     "output_type": "stream",
     "text": [
      "\u001b[34m\u001b[1mval: \u001b[0mScanning D:\\MY PROJECTS\\zebra_test_task\\datasets\\labels\\val.cache... 15 images, 1 backgrounds, 0 corrupt: 100%|███\u001b[0m\n",
      "                 Class     Images  Instances      Box(P          R      mAP50  mAP50-95): 100%|██████████| 1/1 [00:05<0\n"
     ]
    },
    {
     "name": "stdout",
     "output_type": "stream",
     "text": [
      "                   all         15        199      0.977      0.997      0.995      0.936\n",
      "               tea_pot         14         14      0.984          1      0.995      0.995\n",
      "             red_sauce         12         24          1          1      0.995      0.931\n",
      "             red_onion         12         24          1      0.959      0.995      0.878\n",
      "         pickled_chili         12         12      0.992          1      0.995      0.929\n",
      "                  pita         12         24      0.954          1      0.995      0.965\n",
      "          chicken_meat         12         24      0.992          1      0.995      0.965\n",
      "                  ribs          6          6      0.963          1      0.995      0.932\n",
      "             pork_meat         11         21      0.986          1      0.995      0.865\n",
      "                 salad          6          6      0.963          1      0.995      0.995\n",
      "           greek_salad          6          6          1          1      0.995      0.995\n",
      "                 vodka          5          5      0.958          1      0.995      0.851\n",
      "                 snack          9         18       0.99          1      0.995      0.907\n",
      "              red_soup          6          6      0.963          1      0.995      0.954\n",
      "           yellow_soup          4          4      0.947          1      0.995      0.899\n",
      "               tea_cup          5          5      0.956          1      0.995       0.98\n",
      "Speed: 7.9ms preprocess, 33.3ms inference, 0.0ms loss, 1.7ms postprocess per image\n",
      "Results saved to \u001b[1mruns\\detect\\val9\u001b[0m\n"
     ]
    }
   ],
   "source": [
    "# Evaluate val data\n",
    "val_results = loaded_model.val(data=YAML_PATH, device=0)"
   ]
  },
  {
   "cell_type": "code",
   "execution_count": 8,
   "id": "ea422b54-c116-4c77-b772-a0c480b185c7",
   "metadata": {},
   "outputs": [
    {
     "name": "stdout",
     "output_type": "stream",
     "text": [
      "Ultralytics 8.3.52  Python-3.9.18 torch-2.2.2 CUDA:0 (NVIDIA GeForce RTX 3070 Ti, 8191MiB)\n"
     ]
    },
    {
     "name": "stderr",
     "output_type": "stream",
     "text": [
      "\u001b[34m\u001b[1mval: \u001b[0mScanning D:\\MY PROJECTS\\zebra_test_task\\datasets\\labels\\test.cache... 6 images, 1 backgrounds, 0 corrupt: 100%|███\u001b[0m\n",
      "                 Class     Images  Instances      Box(P          R      mAP50  mAP50-95): 100%|██████████| 1/1 [00:03<0\n"
     ]
    },
    {
     "name": "stdout",
     "output_type": "stream",
     "text": [
      "                   all          6         68      0.943      0.995      0.995      0.936\n",
      "               tea_pot          5          5      0.967          1      0.995      0.995\n",
      "             red_sauce          4          8      0.981          1      0.995      0.951\n",
      "             red_onion          4          8          1      0.921      0.995      0.884\n",
      "         pickled_chili          4          4          1          1      0.995      0.911\n",
      "                  pita          4          8      0.981          1      0.995      0.969\n",
      "          chicken_meat          4          8      0.981          1      0.995      0.944\n",
      "                  ribs          2          2      0.929          1      0.995      0.895\n",
      "             pork_meat          4          8      0.993          1      0.995       0.83\n",
      "                 salad          2          2      0.927          1      0.995      0.995\n",
      "           greek_salad          2          2      0.923          1      0.995      0.995\n",
      "                 vodka          1          1      0.879          1      0.995      0.895\n",
      "                 snack          3          6      0.976          1      0.995      0.893\n",
      "              red_soup          2          2      0.653          1      0.995      0.995\n",
      "           yellow_soup          2          2      0.956          1      0.995      0.895\n",
      "               tea_cup          2          2          1          1      0.995      0.995\n",
      "Speed: 0.8ms preprocess, 39.7ms inference, 0.0ms loss, 1.5ms postprocess per image\n",
      "Results saved to \u001b[1mruns\\detect\\val10\u001b[0m\n"
     ]
    }
   ],
   "source": [
    "# Evaluate test data\n",
    "test_results = loaded_model.val(data=YAML_PATH, device=0, split='test')"
   ]
  },
  {
   "cell_type": "code",
   "execution_count": null,
   "id": "bbfcc45a-ed1f-4460-bbd9-d7a4d6ee34d1",
   "metadata": {},
   "outputs": [
    {
     "name": "stdout",
     "output_type": "stream",
     "text": [
      "\n",
      "\n",
      "WARNING  inference results will accumulate in RAM unless `stream=True` is passed, causing potential out-of-memory\n",
      "errors for large sources or long-running streams and videos. See https://docs.ultralytics.com/modes/predict/ for help.\n",
      "\n",
      "Example:\n",
      "    results = model(source=..., stream=True)  # generator of Results objects\n",
      "    for r in results:\n",
      "        boxes = r.boxes  # Boxes object for bbox outputs\n",
      "        masks = r.masks  # Masks object for segment masks outputs\n",
      "        probs = r.probs  # Class probabilities for classification outputs\n",
      "\n",
      "video 1/1 (frame 1/1731) D:\\MY PROJECTS\\zebra_test_task\\3_2.mov: 960x544 1 tea_pot, 2 red_sauces, 2 red_onions, 1 pickled_chili, 2 pitas, 1 chicken_meat, 1 pork_meat, 2 snacks, 31.3ms\n",
      "video 1/1 (frame 2/1731) D:\\MY PROJECTS\\zebra_test_task\\3_2.mov: 960x544 1 tea_pot, 2 red_sauces, 2 red_onions, 1 pickled_chili, 2 pitas, 1 chicken_meat, 1 pork_meat, 2 snacks, 31.3ms\n",
      "video 1/1 (frame 3/1731) D:\\MY PROJECTS\\zebra_test_task\\3_2.mov: 960x544 1 tea_pot, 2 red_sauces, 2 red_onions, 1 pickled_chili, 2 pitas, 1 chicken_meat, 1 pork_meat, 2 snacks, 32.8ms\n",
      "video 1/1 (frame 4/1731) D:\\MY PROJECTS\\zebra_test_task\\3_2.mov: 960x544 1 tea_pot, 2 red_sauces, 2 red_onions, 1 pickled_chili, 2 pitas, 1 chicken_meat, 1 pork_meat, 2 snacks, 30.1ms\n",
      "video 1/1 (frame 5/1731) D:\\MY PROJECTS\\zebra_test_task\\3_2.mov: 960x544 1 tea_pot, 2 red_sauces, 2 red_onions, 1 pickled_chili, 2 pitas, 1 chicken_meat, 1 pork_meat, 2 snacks, 40.4ms\n",
      "video 1/1 (frame 6/1731) D:\\MY PROJECTS\\zebra_test_task\\3_2.mov: 960x544 1 tea_pot, 2 red_sauces, 2 red_onions, 1 pickled_chili, 2 pitas, 1 chicken_meat, 1 pork_meat, 2 snacks, 31.3ms\n",
      "video 1/1 (frame 7/1731) D:\\MY PROJECTS\\zebra_test_task\\3_2.mov: 960x544 1 tea_pot, 2 red_sauces, 2 red_onions, 1 pickled_chili, 2 pitas, 1 chicken_meat, 1 pork_meat, 2 snacks, 37.8ms\n",
      "video 1/1 (frame 8/1731) D:\\MY PROJECTS\\zebra_test_task\\3_2.mov: 960x544 1 tea_pot, 2 red_sauces, 2 red_onions, 1 pickled_chili, 2 pitas, 1 chicken_meat, 1 pork_meat, 2 snacks, 31.2ms\n",
      "video 1/1 (frame 9/1731) D:\\MY PROJECTS\\zebra_test_task\\3_2.mov: 960x544 1 tea_pot, 2 red_sauces, 2 red_onions, 1 pickled_chili, 2 pitas, 1 chicken_meat, 1 pork_meat, 2 snacks, 31.3ms\n",
      "video 1/1 (frame 10/1731) D:\\MY PROJECTS\\zebra_test_task\\3_2.mov: 960x544 1 tea_pot, 2 red_sauces, 2 red_onions, 1 pickled_chili, 2 pitas, 1 chicken_meat, 1 pork_meat, 2 snacks, 37.8ms\n",
      "video 1/1 (frame 11/1731) D:\\MY PROJECTS\\zebra_test_task\\3_2.mov: 960x544 1 tea_pot, 2 red_sauces, 2 red_onions, 1 pickled_chili, 2 pitas, 1 chicken_meat, 1 pork_meat, 2 snacks, 31.2ms\n",
      "video 1/1 (frame 12/1731) D:\\MY PROJECTS\\zebra_test_task\\3_2.mov: 960x544 1 tea_pot, 2 red_sauces, 2 red_onions, 1 pickled_chili, 2 pitas, 1 chicken_meat, 1 pork_meat, 2 snacks, 128.4ms\n",
      "video 1/1 (frame 13/1731) D:\\MY PROJECTS\\zebra_test_task\\3_2.mov: 960x544 1 tea_pot, 2 red_sauces, 2 red_onions, 1 pickled_chili, 2 pitas, 1 chicken_meat, 1 pork_meat, 2 snacks, 7.1ms\n",
      "video 1/1 (frame 14/1731) D:\\MY PROJECTS\\zebra_test_task\\3_2.mov: 960x544 1 tea_pot, 2 red_sauces, 2 red_onions, 1 pickled_chili, 2 pitas, 1 chicken_meat, 1 pork_meat, 2 snacks, 15.6ms\n",
      "video 1/1 (frame 15/1731) D:\\MY PROJECTS\\zebra_test_task\\3_2.mov: 960x544 1 tea_pot, 2 red_sauces, 2 red_onions, 1 pickled_chili, 2 pitas, 1 chicken_meat, 1 pork_meat, 2 snacks, 15.6ms\n",
      "video 1/1 (frame 16/1731) D:\\MY PROJECTS\\zebra_test_task\\3_2.mov: 960x544 1 tea_pot, 2 red_sauces, 2 red_onions, 1 pickled_chili, 2 pitas, 1 chicken_meat, 1 pork_meat, 2 snacks, 0.0ms\n",
      "video 1/1 (frame 17/1731) D:\\MY PROJECTS\\zebra_test_task\\3_2.mov: 960x544 1 tea_pot, 2 red_sauces, 2 red_onions, 1 pickled_chili, 2 pitas, 1 chicken_meat, 1 pork_meat, 2 snacks, 15.6ms\n",
      "video 1/1 (frame 18/1731) D:\\MY PROJECTS\\zebra_test_task\\3_2.mov: 960x544 1 tea_pot, 2 red_sauces, 2 red_onions, 1 pickled_chili, 2 pitas, 1 chicken_meat, 1 pork_meat, 2 snacks, 0.0ms\n",
      "video 1/1 (frame 19/1731) D:\\MY PROJECTS\\zebra_test_task\\3_2.mov: 960x544 1 tea_pot, 2 red_sauces, 2 red_onions, 1 pickled_chili, 2 pitas, 1 chicken_meat, 1 pork_meat, 2 snacks, 6.5ms\n",
      "video 1/1 (frame 20/1731) D:\\MY PROJECTS\\zebra_test_task\\3_2.mov: 960x544 1 tea_pot, 2 red_sauces, 2 red_onions, 1 pickled_chili, 2 pitas, 1 chicken_meat, 1 pork_meat, 2 snacks, 0.0ms\n",
      "video 1/1 (frame 21/1731) D:\\MY PROJECTS\\zebra_test_task\\3_2.mov: 960x544 1 tea_pot, 2 red_sauces, 2 red_onions, 1 pickled_chili, 2 pitas, 1 chicken_meat, 1 pork_meat, 2 snacks, 15.6ms\n",
      "video 1/1 (frame 22/1731) D:\\MY PROJECTS\\zebra_test_task\\3_2.mov: 960x544 1 tea_pot, 2 red_sauces, 2 red_onions, 1 pickled_chili, 2 pitas, 1 chicken_meat, 1 pork_meat, 2 snacks, 15.6ms\n",
      "video 1/1 (frame 23/1731) D:\\MY PROJECTS\\zebra_test_task\\3_2.mov: 960x544 1 tea_pot, 2 red_sauces, 2 red_onions, 1 pickled_chili, 2 pitas, 1 chicken_meat, 1 pork_meat, 2 snacks, 2.3ms\n",
      "video 1/1 (frame 24/1731) D:\\MY PROJECTS\\zebra_test_task\\3_2.mov: 960x544 1 tea_pot, 2 red_sauces, 2 red_onions, 1 pickled_chili, 2 pitas, 1 chicken_meat, 1 pork_meat, 2 snacks, 0.0ms\n",
      "video 1/1 (frame 25/1731) D:\\MY PROJECTS\\zebra_test_task\\3_2.mov: 960x544 1 tea_pot, 2 red_sauces, 2 red_onions, 1 pickled_chili, 2 pitas, 1 chicken_meat, 1 pork_meat, 2 snacks, 0.0ms\n",
      "video 1/1 (frame 26/1731) D:\\MY PROJECTS\\zebra_test_task\\3_2.mov: 960x544 1 tea_pot, 2 red_sauces, 2 red_onions, 1 pickled_chili, 2 pitas, 1 chicken_meat, 1 pork_meat, 2 snacks, 0.0ms\n",
      "video 1/1 (frame 27/1731) D:\\MY PROJECTS\\zebra_test_task\\3_2.mov: 960x544 1 tea_pot, 2 red_sauces, 2 red_onions, 1 pickled_chili, 2 pitas, 1 chicken_meat, 1 pork_meat, 2 snacks, 15.6ms\n",
      "video 1/1 (frame 28/1731) D:\\MY PROJECTS\\zebra_test_task\\3_2.mov: 960x544 1 tea_pot, 2 red_sauces, 2 red_onions, 1 pickled_chili, 2 pitas, 1 chicken_meat, 1 pork_meat, 2 snacks, 15.6ms\n",
      "video 1/1 (frame 29/1731) D:\\MY PROJECTS\\zebra_test_task\\3_2.mov: 960x544 1 tea_pot, 2 red_sauces, 2 red_onions, 1 pickled_chili, 2 pitas, 1 chicken_meat, 1 pork_meat, 2 snacks, 15.6ms\n",
      "video 1/1 (frame 30/1731) D:\\MY PROJECTS\\zebra_test_task\\3_2.mov: 960x544 1 tea_pot, 2 red_sauces, 2 red_onions, 1 pickled_chili, 2 pitas, 1 chicken_meat, 1 pork_meat, 2 snacks, 15.6ms\n",
      "video 1/1 (frame 31/1731) D:\\MY PROJECTS\\zebra_test_task\\3_2.mov: 960x544 1 tea_pot, 2 red_sauces, 2 red_onions, 1 pickled_chili, 2 pitas, 1 chicken_meat, 1 pork_meat, 2 snacks, 20.1ms\n",
      "video 1/1 (frame 32/1731) D:\\MY PROJECTS\\zebra_test_task\\3_2.mov: 960x544 1 tea_pot, 2 red_sauces, 2 red_onions, 1 pickled_chili, 2 pitas, 1 chicken_meat, 1 pork_meat, 2 snacks, 20.1ms\n",
      "video 1/1 (frame 33/1731) D:\\MY PROJECTS\\zebra_test_task\\3_2.mov: 960x544 1 tea_pot, 2 red_sauces, 2 red_onions, 1 pickled_chili, 2 pitas, 1 chicken_meat, 1 pork_meat, 2 snacks, 39.8ms\n",
      "video 1/1 (frame 34/1731) D:\\MY PROJECTS\\zebra_test_task\\3_2.mov: 960x544 1 tea_pot, 2 red_sauces, 2 red_onions, 1 pickled_chili, 2 pitas, 1 chicken_meat, 1 pork_meat, 2 snacks, 30.1ms\n",
      "video 1/1 (frame 35/1731) D:\\MY PROJECTS\\zebra_test_task\\3_2.mov: 960x544 1 tea_pot, 2 red_sauces, 2 red_onions, 1 pickled_chili, 2 pitas, 1 chicken_meat, 1 pork_meat, 2 snacks, 62.3ms\n",
      "video 1/1 (frame 36/1731) D:\\MY PROJECTS\\zebra_test_task\\3_2.mov: 960x544 1 tea_pot, 2 red_sauces, 2 red_onions, 1 pickled_chili, 2 pitas, 1 chicken_meat, 1 pork_meat, 2 snacks, 12.1ms\n",
      "video 1/1 (frame 37/1731) D:\\MY PROJECTS\\zebra_test_task\\3_2.mov: 960x544 1 tea_pot, 2 red_sauces, 2 red_onions, 1 pickled_chili, 2 pitas, 1 chicken_meat, 1 pork_meat, 2 snacks, 15.6ms\n",
      "video 1/1 (frame 38/1731) D:\\MY PROJECTS\\zebra_test_task\\3_2.mov: 960x544 1 tea_pot, 2 red_sauces, 2 red_onions, 1 pickled_chili, 2 pitas, 1 chicken_meat, 1 pork_meat, 2 snacks, 31.2ms\n",
      "video 1/1 (frame 39/1731) D:\\MY PROJECTS\\zebra_test_task\\3_2.mov: 960x544 1 tea_pot, 2 red_sauces, 2 red_onions, 1 pickled_chili, 2 pitas, 1 chicken_meat, 1 pork_meat, 2 snacks, 22.1ms\n",
      "video 1/1 (frame 40/1731) D:\\MY PROJECTS\\zebra_test_task\\3_2.mov: 960x544 1 tea_pot, 2 red_sauces, 2 red_onions, 1 pickled_chili, 2 pitas, 1 chicken_meat, 1 pork_meat, 2 snacks, 31.2ms\n",
      "video 1/1 (frame 41/1731) D:\\MY PROJECTS\\zebra_test_task\\3_2.mov: 960x544 1 tea_pot, 2 red_sauces, 2 red_onions, 1 pickled_chili, 2 pitas, 1 chicken_meat, 1 pork_meat, 2 snacks, 32.2ms\n",
      "video 1/1 (frame 42/1731) D:\\MY PROJECTS\\zebra_test_task\\3_2.mov: 960x544 1 tea_pot, 2 red_sauces, 2 red_onions, 1 pickled_chili, 2 pitas, 1 chicken_meat, 1 pork_meat, 2 snacks, 31.2ms\n",
      "video 1/1 (frame 43/1731) D:\\MY PROJECTS\\zebra_test_task\\3_2.mov: 960x544 1 tea_pot, 2 red_sauces, 2 red_onions, 1 pickled_chili, 2 pitas, 1 chicken_meat, 1 pork_meat, 2 snacks, 30.1ms\n",
      "video 1/1 (frame 44/1731) D:\\MY PROJECTS\\zebra_test_task\\3_2.mov: 960x544 1 tea_pot, 2 red_sauces, 2 red_onions, 1 pickled_chili, 2 pitas, 1 chicken_meat, 1 pork_meat, 2 snacks, 30.1ms\n",
      "video 1/1 (frame 45/1731) D:\\MY PROJECTS\\zebra_test_task\\3_2.mov: 960x544 1 tea_pot, 2 red_sauces, 2 red_onions, 1 pickled_chili, 2 pitas, 1 chicken_meat, 1 pork_meat, 2 snacks, 30.1ms\n",
      "video 1/1 (frame 46/1731) D:\\MY PROJECTS\\zebra_test_task\\3_2.mov: 960x544 1 tea_pot, 2 red_sauces, 2 red_onions, 1 pickled_chili, 2 pitas, 1 chicken_meat, 1 pork_meat, 2 snacks, 38.2ms\n",
      "video 1/1 (frame 47/1731) D:\\MY PROJECTS\\zebra_test_task\\3_2.mov: 960x544 1 tea_pot, 2 red_sauces, 2 red_onions, 1 pickled_chili, 2 pitas, 1 chicken_meat, 1 pork_meat, 2 snacks, 26.7ms\n",
      "video 1/1 (frame 48/1731) D:\\MY PROJECTS\\zebra_test_task\\3_2.mov: 960x544 1 tea_pot, 2 red_sauces, 2 red_onions, 1 pickled_chili, 2 pitas, 1 chicken_meat, 1 pork_meat, 2 snacks, 38.2ms\n",
      "video 1/1 (frame 49/1731) D:\\MY PROJECTS\\zebra_test_task\\3_2.mov: 960x544 1 tea_pot, 2 red_sauces, 2 red_onions, 1 pickled_chili, 2 pitas, 1 chicken_meat, 1 pork_meat, 2 snacks, 30.1ms\n",
      "video 1/1 (frame 50/1731) D:\\MY PROJECTS\\zebra_test_task\\3_2.mov: 960x544 1 tea_pot, 2 red_sauces, 2 red_onions, 1 pickled_chili, 2 pitas, 1 chicken_meat, 1 pork_meat, 2 snacks, 30.1ms\n",
      "video 1/1 (frame 51/1731) D:\\MY PROJECTS\\zebra_test_task\\3_2.mov: 960x544 1 tea_pot, 2 red_sauces, 2 red_onions, 1 pickled_chili, 2 pitas, 1 chicken_meat, 1 pork_meat, 2 snacks, 30.1ms\n",
      "video 1/1 (frame 52/1731) D:\\MY PROJECTS\\zebra_test_task\\3_2.mov: 960x544 1 tea_pot, 2 red_sauces, 2 red_onions, 1 pickled_chili, 2 pitas, 1 chicken_meat, 1 pork_meat, 2 snacks, 30.2ms\n",
      "video 1/1 (frame 53/1731) D:\\MY PROJECTS\\zebra_test_task\\3_2.mov: 960x544 1 tea_pot, 2 red_sauces, 2 red_onions, 1 pickled_chili, 2 pitas, 1 chicken_meat, 1 pork_meat, 2 snacks, 31.2ms\n",
      "video 1/1 (frame 54/1731) D:\\MY PROJECTS\\zebra_test_task\\3_2.mov: 960x544 1 tea_pot, 2 red_sauces, 2 red_onions, 1 pickled_chili, 2 pitas, 1 chicken_meat, 1 pork_meat, 2 snacks, 37.8ms\n",
      "video 1/1 (frame 55/1731) D:\\MY PROJECTS\\zebra_test_task\\3_2.mov: 960x544 1 tea_pot, 2 red_sauces, 2 red_onions, 1 pickled_chili, 2 pitas, 1 chicken_meat, 1 pork_meat, 2 snacks, 31.3ms\n",
      "video 1/1 (frame 56/1731) D:\\MY PROJECTS\\zebra_test_task\\3_2.mov: 960x544 1 tea_pot, 2 red_sauces, 2 red_onions, 1 pickled_chili, 2 pitas, 1 chicken_meat, 1 pork_meat, 2 snacks, 36.7ms\n",
      "video 1/1 (frame 57/1731) D:\\MY PROJECTS\\zebra_test_task\\3_2.mov: 960x544 1 tea_pot, 2 red_sauces, 2 red_onions, 1 pickled_chili, 2 pitas, 1 chicken_meat, 1 pork_meat, 2 snacks, 40.2ms\n",
      "video 1/1 (frame 58/1731) D:\\MY PROJECTS\\zebra_test_task\\3_2.mov: 960x544 1 tea_pot, 2 red_sauces, 2 red_onions, 1 pickled_chili, 2 pitas, 1 chicken_meat, 1 pork_meat, 2 snacks, 32.1ms\n",
      "video 1/1 (frame 59/1731) D:\\MY PROJECTS\\zebra_test_task\\3_2.mov: 960x544 1 tea_pot, 2 red_sauces, 2 red_onions, 1 pickled_chili, 2 pitas, 1 chicken_meat, 1 pork_meat, 2 snacks, 30.1ms\n",
      "video 1/1 (frame 60/1731) D:\\MY PROJECTS\\zebra_test_task\\3_2.mov: 960x544 1 tea_pot, 2 red_sauces, 2 red_onions, 1 pickled_chili, 2 pitas, 1 chicken_meat, 1 pork_meat, 2 snacks, 30.1ms\n",
      "video 1/1 (frame 61/1731) D:\\MY PROJECTS\\zebra_test_task\\3_2.mov: 960x544 1 tea_pot, 2 red_sauces, 2 red_onions, 1 pickled_chili, 2 pitas, 1 chicken_meat, 1 pork_meat, 2 snacks, 40.2ms\n",
      "video 1/1 (frame 62/1731) D:\\MY PROJECTS\\zebra_test_task\\3_2.mov: 960x544 1 tea_pot, 2 red_sauces, 2 red_onions, 1 pickled_chili, 2 pitas, 1 chicken_meat, 1 pork_meat, 2 snacks, 32.1ms\n",
      "video 1/1 (frame 63/1731) D:\\MY PROJECTS\\zebra_test_task\\3_2.mov: 960x544 1 tea_pot, 2 red_sauces, 2 red_onions, 1 pickled_chili, 2 pitas, 1 chicken_meat, 1 pork_meat, 2 snacks, 28.1ms\n",
      "video 1/1 (frame 64/1731) D:\\MY PROJECTS\\zebra_test_task\\3_2.mov: 960x544 1 tea_pot, 2 red_sauces, 2 red_onions, 1 pickled_chili, 2 pitas, 1 chicken_meat, 1 pork_meat, 2 snacks, 31.2ms\n",
      "video 1/1 (frame 65/1731) D:\\MY PROJECTS\\zebra_test_task\\3_2.mov: 960x544 1 tea_pot, 2 red_sauces, 2 red_onions, 1 pickled_chili, 2 pitas, 1 chicken_meat, 1 pork_meat, 2 snacks, 32.3ms\n",
      "video 1/1 (frame 66/1731) D:\\MY PROJECTS\\zebra_test_task\\3_2.mov: 960x544 1 tea_pot, 2 red_sauces, 2 red_onions, 1 pickled_chili, 2 pitas, 1 chicken_meat, 1 pork_meat, 2 snacks, 31.2ms\n",
      "video 1/1 (frame 67/1731) D:\\MY PROJECTS\\zebra_test_task\\3_2.mov: 960x544 1 tea_pot, 2 red_sauces, 2 red_onions, 1 pickled_chili, 2 pitas, 1 chicken_meat, 1 pork_meat, 2 snacks, 22.1ms\n",
      "video 1/1 (frame 68/1731) D:\\MY PROJECTS\\zebra_test_task\\3_2.mov: 960x544 1 tea_pot, 2 red_sauces, 2 red_onions, 1 pickled_chili, 2 pitas, 1 chicken_meat, 1 pork_meat, 2 snacks, 31.2ms\n",
      "video 1/1 (frame 69/1731) D:\\MY PROJECTS\\zebra_test_task\\3_2.mov: 960x544 1 tea_pot, 2 red_sauces, 2 red_onions, 1 pickled_chili, 2 pitas, 1 chicken_meat, 1 pork_meat, 2 snacks, 37.8ms\n",
      "video 1/1 (frame 70/1731) D:\\MY PROJECTS\\zebra_test_task\\3_2.mov: 960x544 1 tea_pot, 2 red_sauces, 2 red_onions, 1 pickled_chili, 2 pitas, 1 chicken_meat, 1 pork_meat, 2 snacks, 32.1ms\n",
      "video 1/1 (frame 71/1731) D:\\MY PROJECTS\\zebra_test_task\\3_2.mov: 960x544 1 tea_pot, 2 red_sauces, 2 red_onions, 1 pickled_chili, 2 pitas, 1 chicken_meat, 1 pork_meat, 2 snacks, 40.2ms\n",
      "video 1/1 (frame 72/1731) D:\\MY PROJECTS\\zebra_test_task\\3_2.mov: 960x544 1 tea_pot, 2 red_sauces, 2 red_onions, 1 pickled_chili, 2 pitas, 1 chicken_meat, 1 pork_meat, 2 snacks, 31.2ms\n",
      "video 1/1 (frame 73/1731) D:\\MY PROJECTS\\zebra_test_task\\3_2.mov: 960x544 1 tea_pot, 2 red_sauces, 2 red_onions, 1 pickled_chili, 2 pitas, 1 chicken_meat, 1 pork_meat, 2 snacks, 45.3ms\n",
      "video 1/1 (frame 74/1731) D:\\MY PROJECTS\\zebra_test_task\\3_2.mov: 960x544 1 tea_pot, 2 red_sauces, 2 red_onions, 1 pickled_chili, 2 pitas, 1 chicken_meat, 1 pork_meat, 2 snacks, 30.1ms\n",
      "video 1/1 (frame 75/1731) D:\\MY PROJECTS\\zebra_test_task\\3_2.mov: 960x544 1 tea_pot, 2 red_sauces, 2 red_onions, 1 pickled_chili, 2 pitas, 1 chicken_meat, 1 pork_meat, 2 snacks, 30.1ms\n",
      "video 1/1 (frame 76/1731) D:\\MY PROJECTS\\zebra_test_task\\3_2.mov: 960x544 1 tea_pot, 2 red_sauces, 2 red_onions, 1 pickled_chili, 2 pitas, 1 chicken_meat, 1 pork_meat, 2 snacks, 30.1ms\n",
      "video 1/1 (frame 77/1731) D:\\MY PROJECTS\\zebra_test_task\\3_2.mov: 960x544 1 tea_pot, 2 red_sauces, 2 red_onions, 1 pickled_chili, 2 pitas, 1 chicken_meat, 1 pork_meat, 2 snacks, 46.9ms\n",
      "video 1/1 (frame 78/1731) D:\\MY PROJECTS\\zebra_test_task\\3_2.mov: 960x544 1 tea_pot, 2 red_sauces, 2 red_onions, 1 pickled_chili, 2 pitas, 1 chicken_meat, 1 pork_meat, 2 snacks, 31.2ms\n",
      "video 1/1 (frame 79/1731) D:\\MY PROJECTS\\zebra_test_task\\3_2.mov: 960x544 1 tea_pot, 2 red_sauces, 2 red_onions, 1 pickled_chili, 2 pitas, 1 chicken_meat, 1 pork_meat, 2 snacks, 37.8ms\n",
      "video 1/1 (frame 80/1731) D:\\MY PROJECTS\\zebra_test_task\\3_2.mov: 960x544 1 tea_pot, 2 red_sauces, 2 red_onions, 1 pickled_chili, 2 pitas, 1 chicken_meat, 1 pork_meat, 2 snacks, 31.2ms\n",
      "video 1/1 (frame 81/1731) D:\\MY PROJECTS\\zebra_test_task\\3_2.mov: 960x544 1 tea_pot, 2 red_sauces, 2 red_onions, 1 pickled_chili, 2 pitas, 1 chicken_meat, 1 pork_meat, 2 snacks, 33.8ms\n",
      "video 1/1 (frame 82/1731) D:\\MY PROJECTS\\zebra_test_task\\3_2.mov: 960x544 1 tea_pot, 2 red_sauces, 2 red_onions, 1 pickled_chili, 2 pitas, 1 chicken_meat, 1 pork_meat, 2 snacks, 31.2ms\n",
      "video 1/1 (frame 83/1731) D:\\MY PROJECTS\\zebra_test_task\\3_2.mov: 960x544 1 tea_pot, 2 red_sauces, 2 red_onions, 1 pickled_chili, 2 pitas, 1 chicken_meat, 1 pork_meat, 2 snacks, 37.8ms\n",
      "video 1/1 (frame 84/1731) D:\\MY PROJECTS\\zebra_test_task\\3_2.mov: 960x544 1 tea_pot, 2 red_sauces, 2 red_onions, 1 pickled_chili, 2 pitas, 1 chicken_meat, 1 pork_meat, 2 snacks, 46.9ms\n",
      "video 1/1 (frame 85/1731) D:\\MY PROJECTS\\zebra_test_task\\3_2.mov: 960x544 1 tea_pot, 2 red_sauces, 2 red_onions, 1 pickled_chili, 2 pitas, 1 chicken_meat, 1 pork_meat, 2 snacks, 31.2ms\n",
      "video 1/1 (frame 86/1731) D:\\MY PROJECTS\\zebra_test_task\\3_2.mov: 960x544 1 tea_pot, 2 red_sauces, 2 red_onions, 1 pickled_chili, 2 pitas, 1 chicken_meat, 1 pork_meat, 2 snacks, 31.3ms\n",
      "video 1/1 (frame 87/1731) D:\\MY PROJECTS\\zebra_test_task\\3_2.mov: 960x544 1 tea_pot, 2 red_sauces, 2 red_onions, 1 pickled_chili, 2 pitas, 1 chicken_meat, 1 pork_meat, 2 snacks, 42.3ms\n",
      "video 1/1 (frame 88/1731) D:\\MY PROJECTS\\zebra_test_task\\3_2.mov: 960x544 1 tea_pot, 2 red_sauces, 2 red_onions, 1 pickled_chili, 2 pitas, 1 chicken_meat, 1 pork_meat, 2 snacks, 31.2ms\n",
      "video 1/1 (frame 89/1731) D:\\MY PROJECTS\\zebra_test_task\\3_2.mov: 960x544 1 tea_pot, 2 red_sauces, 2 red_onions, 1 pickled_chili, 2 pitas, 1 chicken_meat, 1 pork_meat, 2 snacks, 35.8ms\n",
      "video 1/1 (frame 90/1731) D:\\MY PROJECTS\\zebra_test_task\\3_2.mov: 960x544 1 tea_pot, 2 red_sauces, 2 red_onions, 1 pickled_chili, 2 pitas, 1 chicken_meat, 1 pork_meat, 2 snacks, 32.5ms\n",
      "video 1/1 (frame 91/1731) D:\\MY PROJECTS\\zebra_test_task\\3_2.mov: 960x544 1 tea_pot, 2 red_sauces, 2 red_onions, 1 pickled_chili, 2 pitas, 1 chicken_meat, 1 pork_meat, 2 snacks, 43.8ms\n",
      "video 1/1 (frame 92/1731) D:\\MY PROJECTS\\zebra_test_task\\3_2.mov: 960x544 1 tea_pot, 2 red_sauces, 2 red_onions, 1 pickled_chili, 2 pitas, 1 chicken_meat, 1 pork_meat, 2 snacks, 37.8ms\n",
      "video 1/1 (frame 93/1731) D:\\MY PROJECTS\\zebra_test_task\\3_2.mov: 960x544 1 tea_pot, 2 red_sauces, 2 red_onions, 1 pickled_chili, 2 pitas, 1 chicken_meat, 1 pork_meat, 2 snacks, 31.2ms\n",
      "video 1/1 (frame 94/1731) D:\\MY PROJECTS\\zebra_test_task\\3_2.mov: 960x544 1 tea_pot, 2 red_sauces, 2 red_onions, 1 pickled_chili, 2 pitas, 1 chicken_meat, 1 pork_meat, 2 snacks, 31.2ms\n",
      "video 1/1 (frame 95/1731) D:\\MY PROJECTS\\zebra_test_task\\3_2.mov: 960x544 1 tea_pot, 2 red_sauces, 2 red_onions, 1 pickled_chili, 2 pitas, 1 chicken_meat, 1 pork_meat, 2 snacks, 37.8ms\n",
      "video 1/1 (frame 96/1731) D:\\MY PROJECTS\\zebra_test_task\\3_2.mov: 960x544 1 tea_pot, 2 red_sauces, 2 red_onions, 1 pickled_chili, 2 pitas, 1 chicken_meat, 1 pork_meat, 2 snacks, 46.3ms\n",
      "video 1/1 (frame 97/1731) D:\\MY PROJECTS\\zebra_test_task\\3_2.mov: 960x544 1 tea_pot, 2 red_sauces, 2 red_onions, 1 pickled_chili, 2 pitas, 1 chicken_meat, 1 pork_meat, 2 snacks, 31.2ms\n",
      "video 1/1 (frame 98/1731) D:\\MY PROJECTS\\zebra_test_task\\3_2.mov: 960x544 1 tea_pot, 2 red_sauces, 2 red_onions, 1 pickled_chili, 2 pitas, 1 chicken_meat, 1 pork_meat, 2 snacks, 46.9ms\n",
      "video 1/1 (frame 99/1731) D:\\MY PROJECTS\\zebra_test_task\\3_2.mov: 960x544 1 tea_pot, 2 red_sauces, 2 red_onions, 1 pickled_chili, 2 pitas, 1 chicken_meat, 1 pork_meat, 2 snacks, 30.1ms\n",
      "video 1/1 (frame 100/1731) D:\\MY PROJECTS\\zebra_test_task\\3_2.mov: 960x544 1 tea_pot, 2 red_sauces, 2 red_onions, 1 pickled_chili, 2 pitas, 1 chicken_meat, 1 pork_meat, 2 snacks, 40.3ms\n",
      "video 1/1 (frame 101/1731) D:\\MY PROJECTS\\zebra_test_task\\3_2.mov: 960x544 1 tea_pot, 2 red_sauces, 2 red_onions, 1 pickled_chili, 2 pitas, 1 chicken_meat, 1 pork_meat, 2 snacks, 40.2ms\n",
      "video 1/1 (frame 102/1731) D:\\MY PROJECTS\\zebra_test_task\\3_2.mov: 960x544 1 tea_pot, 2 red_sauces, 2 red_onions, 1 pickled_chili, 2 pitas, 1 chicken_meat, 1 pork_meat, 2 snacks, 40.2ms\n",
      "video 1/1 (frame 103/1731) D:\\MY PROJECTS\\zebra_test_task\\3_2.mov: 960x544 1 tea_pot, 2 red_sauces, 2 red_onions, 1 pickled_chili, 2 pitas, 1 chicken_meat, 1 pork_meat, 2 snacks, 30.1ms\n",
      "video 1/1 (frame 104/1731) D:\\MY PROJECTS\\zebra_test_task\\3_2.mov: 960x544 1 tea_pot, 2 red_sauces, 2 red_onions, 1 pickled_chili, 2 pitas, 1 chicken_meat, 1 pork_meat, 2 snacks, 30.1ms\n",
      "video 1/1 (frame 105/1731) D:\\MY PROJECTS\\zebra_test_task\\3_2.mov: 960x544 1 tea_pot, 2 red_sauces, 2 red_onions, 1 pickled_chili, 2 pitas, 1 chicken_meat, 1 pork_meat, 2 snacks, 28.2ms\n",
      "video 1/1 (frame 106/1731) D:\\MY PROJECTS\\zebra_test_task\\3_2.mov: 960x544 1 tea_pot, 2 red_sauces, 2 red_onions, 1 pickled_chili, 2 pitas, 1 chicken_meat, 1 pork_meat, 2 snacks, 40.3ms\n",
      "video 1/1 (frame 107/1731) D:\\MY PROJECTS\\zebra_test_task\\3_2.mov: 960x544 1 tea_pot, 2 red_sauces, 2 red_onions, 1 pickled_chili, 2 pitas, 1 chicken_meat, 1 pork_meat, 2 snacks, 32.2ms\n",
      "video 1/1 (frame 108/1731) D:\\MY PROJECTS\\zebra_test_task\\3_2.mov: 960x544 1 tea_pot, 2 red_sauces, 2 red_onions, 1 pickled_chili, 2 pitas, 1 chicken_meat, 1 pork_meat, 2 snacks, 40.2ms\n",
      "video 1/1 (frame 109/1731) D:\\MY PROJECTS\\zebra_test_task\\3_2.mov: 960x544 1 tea_pot, 2 red_sauces, 2 red_onions, 1 pickled_chili, 2 pitas, 1 chicken_meat, 1 pork_meat, 2 snacks, 30.3ms\n",
      "video 1/1 (frame 110/1731) D:\\MY PROJECTS\\zebra_test_task\\3_2.mov: 960x544 1 tea_pot, 2 red_sauces, 2 red_onions, 1 pickled_chili, 2 pitas, 1 chicken_meat, 1 pork_meat, 2 snacks, 33.7ms\n",
      "video 1/1 (frame 111/1731) D:\\MY PROJECTS\\zebra_test_task\\3_2.mov: 960x544 1 tea_pot, 2 red_sauces, 2 red_onions, 1 pickled_chili, 2 pitas, 1 chicken_meat, 2 pork_meats, 2 snacks, 46.9ms\n",
      "video 1/1 (frame 112/1731) D:\\MY PROJECTS\\zebra_test_task\\3_2.mov: 960x544 1 tea_pot, 2 red_sauces, 2 red_onions, 1 pickled_chili, 2 pitas, 1 chicken_meat, 1 pork_meat, 2 snacks, 31.3ms\n",
      "video 1/1 (frame 113/1731) D:\\MY PROJECTS\\zebra_test_task\\3_2.mov: 960x544 1 tea_pot, 2 red_sauces, 2 red_onions, 1 pickled_chili, 2 pitas, 1 chicken_meat, 1 pork_meat, 2 snacks, 40.2ms\n",
      "video 1/1 (frame 114/1731) D:\\MY PROJECTS\\zebra_test_task\\3_2.mov: 960x544 1 tea_pot, 2 red_sauces, 2 red_onions, 1 pickled_chili, 2 pitas, 1 chicken_meat, 1 pork_meat, 2 snacks, 30.1ms\n",
      "video 1/1 (frame 115/1731) D:\\MY PROJECTS\\zebra_test_task\\3_2.mov: 960x544 1 tea_pot, 2 red_sauces, 2 red_onions, 1 pickled_chili, 2 pitas, 1 chicken_meat, 1 pork_meat, 2 snacks, 35.1ms\n",
      "video 1/1 (frame 116/1731) D:\\MY PROJECTS\\zebra_test_task\\3_2.mov: 960x544 1 tea_pot, 2 red_sauces, 2 red_onions, 1 pickled_chili, 2 pitas, 1 chicken_meat, 1 pork_meat, 2 snacks, 40.2ms\n",
      "video 1/1 (frame 117/1731) D:\\MY PROJECTS\\zebra_test_task\\3_2.mov: 960x544 1 tea_pot, 2 red_sauces, 2 red_onions, 1 pickled_chili, 2 pitas, 1 chicken_meat, 1 pork_meat, 2 snacks, 38.1ms\n",
      "video 1/1 (frame 118/1731) D:\\MY PROJECTS\\zebra_test_task\\3_2.mov: 960x544 1 tea_pot, 2 red_sauces, 2 red_onions, 1 pickled_chili, 2 pitas, 1 chicken_meat, 1 pork_meat, 2 snacks, 40.2ms\n",
      "video 1/1 (frame 119/1731) D:\\MY PROJECTS\\zebra_test_task\\3_2.mov: 960x544 1 tea_pot, 2 red_sauces, 2 red_onions, 1 pickled_chili, 2 pitas, 1 chicken_meat, 1 pork_meat, 2 snacks, 38.2ms\n",
      "video 1/1 (frame 120/1731) D:\\MY PROJECTS\\zebra_test_task\\3_2.mov: 960x544 1 tea_pot, 2 red_sauces, 2 red_onions, 1 pickled_chili, 2 pitas, 1 chicken_meat, 1 pork_meat, 2 snacks, 30.7ms\n",
      "video 1/1 (frame 121/1731) D:\\MY PROJECTS\\zebra_test_task\\3_2.mov: 960x544 1 tea_pot, 2 red_sauces, 2 red_onions, 1 pickled_chili, 2 pitas, 1 chicken_meat, 1 pork_meat, 2 snacks, 32.2ms\n",
      "video 1/1 (frame 122/1731) D:\\MY PROJECTS\\zebra_test_task\\3_2.mov: 960x544 1 tea_pot, 2 red_sauces, 2 red_onions, 1 pickled_chili, 2 pitas, 1 chicken_meat, 1 pork_meat, 2 snacks, 30.5ms\n",
      "video 1/1 (frame 123/1731) D:\\MY PROJECTS\\zebra_test_task\\3_2.mov: 960x544 1 tea_pot, 2 red_sauces, 2 red_onions, 1 pickled_chili, 2 pitas, 1 chicken_meat, 1 pork_meat, 2 snacks, 30.9ms\n",
      "video 1/1 (frame 124/1731) D:\\MY PROJECTS\\zebra_test_task\\3_2.mov: 960x544 1 tea_pot, 2 red_sauces, 2 red_onions, 1 pickled_chili, 2 pitas, 1 chicken_meat, 1 pork_meat, 2 snacks, 38.2ms\n",
      "video 1/1 (frame 125/1731) D:\\MY PROJECTS\\zebra_test_task\\3_2.mov: 960x544 1 tea_pot, 2 red_sauces, 2 red_onions, 1 pickled_chili, 2 pitas, 1 chicken_meat, 1 pork_meat, 2 snacks, 40.2ms\n",
      "video 1/1 (frame 126/1731) D:\\MY PROJECTS\\zebra_test_task\\3_2.mov: 960x544 1 tea_pot, 2 red_sauces, 2 red_onions, 1 pickled_chili, 2 pitas, 1 chicken_meat, 1 pork_meat, 2 snacks, 46.9ms\n",
      "video 1/1 (frame 127/1731) D:\\MY PROJECTS\\zebra_test_task\\3_2.mov: 960x544 1 tea_pot, 2 red_sauces, 2 red_onions, 1 pickled_chili, 2 pitas, 1 chicken_meat, 1 pork_meat, 2 snacks, 37.8ms\n",
      "video 1/1 (frame 128/1731) D:\\MY PROJECTS\\zebra_test_task\\3_2.mov: 960x544 1 tea_pot, 2 red_sauces, 2 red_onions, 1 pickled_chili, 2 pitas, 1 chicken_meat, 1 pork_meat, 2 snacks, 31.2ms\n",
      "video 1/1 (frame 129/1731) D:\\MY PROJECTS\\zebra_test_task\\3_2.mov: 960x544 1 tea_pot, 2 red_sauces, 2 red_onions, 1 pickled_chili, 2 pitas, 1 chicken_meat, 1 pork_meat, 2 snacks, 36.3ms\n",
      "video 1/1 (frame 130/1731) D:\\MY PROJECTS\\zebra_test_task\\3_2.mov: 960x544 1 tea_pot, 2 red_sauces, 2 red_onions, 1 pickled_chili, 2 pitas, 1 chicken_meat, 1 pork_meat, 2 snacks, 31.2ms\n",
      "video 1/1 (frame 131/1731) D:\\MY PROJECTS\\zebra_test_task\\3_2.mov: 960x544 1 tea_pot, 2 red_sauces, 2 red_onions, 1 pickled_chili, 2 pitas, 1 chicken_meat, 1 pork_meat, 2 snacks, 37.8ms\n",
      "video 1/1 (frame 132/1731) D:\\MY PROJECTS\\zebra_test_task\\3_2.mov: 960x544 1 tea_pot, 2 red_sauces, 2 red_onions, 1 pickled_chili, 2 pitas, 1 chicken_meat, 1 pork_meat, 2 snacks, 31.2ms\n",
      "video 1/1 (frame 133/1731) D:\\MY PROJECTS\\zebra_test_task\\3_2.mov: 960x544 1 tea_pot, 2 red_sauces, 2 red_onions, 1 pickled_chili, 2 pitas, 1 chicken_meat, 2 snacks, 26.6ms\n",
      "video 1/1 (frame 134/1731) D:\\MY PROJECTS\\zebra_test_task\\3_2.mov: 960x544 1 tea_pot, 2 red_sauces, 2 red_onions, 1 pickled_chili, 2 pitas, 1 chicken_meat, 2 snacks, 30.1ms\n",
      "video 1/1 (frame 135/1731) D:\\MY PROJECTS\\zebra_test_task\\3_2.mov: 960x544 1 tea_pot, 2 red_sauces, 2 red_onions, 1 pickled_chili, 2 pitas, 1 chicken_meat, 2 snacks, 30.8ms\n",
      "video 1/1 (frame 136/1731) D:\\MY PROJECTS\\zebra_test_task\\3_2.mov: 960x544 1 tea_pot, 2 red_sauces, 2 red_onions, 1 pickled_chili, 2 pitas, 1 chicken_meat, 2 snacks, 38.1ms\n",
      "video 1/1 (frame 137/1731) D:\\MY PROJECTS\\zebra_test_task\\3_2.mov: 960x544 1 tea_pot, 2 red_sauces, 2 red_onions, 1 pickled_chili, 2 pitas, 1 chicken_meat, 1 pork_meat, 2 snacks, 30.3ms\n",
      "video 1/1 (frame 138/1731) D:\\MY PROJECTS\\zebra_test_task\\3_2.mov: 960x544 1 tea_pot, 2 red_sauces, 2 red_onions, 1 pickled_chili, 2 pitas, 1 chicken_meat, 1 pork_meat, 2 snacks, 32.9ms\n",
      "video 1/1 (frame 139/1731) D:\\MY PROJECTS\\zebra_test_task\\3_2.mov: 960x544 1 tea_pot, 2 red_sauces, 2 red_onions, 1 pickled_chili, 2 pitas, 1 chicken_meat, 1 pork_meat, 2 snacks, 40.7ms\n",
      "video 1/1 (frame 140/1731) D:\\MY PROJECTS\\zebra_test_task\\3_2.mov: 960x544 1 tea_pot, 2 red_sauces, 2 red_onions, 1 pickled_chili, 2 pitas, 1 chicken_meat, 1 pork_meat, 2 snacks, 40.2ms\n",
      "video 1/1 (frame 141/1731) D:\\MY PROJECTS\\zebra_test_task\\3_2.mov: 960x544 1 tea_pot, 2 red_sauces, 2 red_onions, 1 pickled_chili, 2 pitas, 1 chicken_meat, 1 pork_meat, 2 snacks, 32.1ms\n",
      "video 1/1 (frame 142/1731) D:\\MY PROJECTS\\zebra_test_task\\3_2.mov: 960x544 1 tea_pot, 2 red_sauces, 2 red_onions, 1 pickled_chili, 2 pitas, 1 chicken_meat, 1 pork_meat, 2 snacks, 38.9ms\n",
      "video 1/1 (frame 143/1731) D:\\MY PROJECTS\\zebra_test_task\\3_2.mov: 960x544 1 tea_pot, 2 red_sauces, 2 red_onions, 1 pickled_chili, 2 pitas, 1 chicken_meat, 1 pork_meat, 2 snacks, 38.7ms\n",
      "video 1/1 (frame 144/1731) D:\\MY PROJECTS\\zebra_test_task\\3_2.mov: 960x544 1 tea_pot, 2 red_sauces, 2 red_onions, 1 pickled_chili, 2 pitas, 1 chicken_meat, 1 pork_meat, 2 snacks, 32.5ms\n",
      "video 1/1 (frame 145/1731) D:\\MY PROJECTS\\zebra_test_task\\3_2.mov: 960x544 1 tea_pot, 2 red_sauces, 2 red_onions, 1 pickled_chili, 2 pitas, 1 chicken_meat, 1 pork_meat, 2 snacks, 40.2ms\n",
      "video 1/1 (frame 146/1731) D:\\MY PROJECTS\\zebra_test_task\\3_2.mov: 960x544 1 tea_pot, 2 red_sauces, 2 red_onions, 1 pickled_chili, 2 pitas, 1 chicken_meat, 1 pork_meat, 2 snacks, 38.3ms\n",
      "video 1/1 (frame 147/1731) D:\\MY PROJECTS\\zebra_test_task\\3_2.mov: 960x544 1 tea_pot, 2 red_sauces, 2 red_onions, 1 pickled_chili, 2 pitas, 1 chicken_meat, 1 pork_meat, 2 snacks, 40.3ms\n",
      "video 1/1 (frame 148/1731) D:\\MY PROJECTS\\zebra_test_task\\3_2.mov: 960x544 1 tea_pot, 2 red_sauces, 2 red_onions, 1 pickled_chili, 2 pitas, 1 chicken_meat, 1 pork_meat, 2 snacks, 38.4ms\n",
      "video 1/1 (frame 149/1731) D:\\MY PROJECTS\\zebra_test_task\\3_2.mov: 960x544 1 tea_pot, 2 red_sauces, 2 red_onions, 1 pickled_chili, 2 pitas, 1 chicken_meat, 1 pork_meat, 2 snacks, 40.2ms\n",
      "video 1/1 (frame 150/1731) D:\\MY PROJECTS\\zebra_test_task\\3_2.mov: 960x544 1 tea_pot, 2 red_sauces, 2 red_onions, 1 pickled_chili, 2 pitas, 1 chicken_meat, 1 pork_meat, 2 snacks, 40.1ms\n",
      "video 1/1 (frame 151/1731) D:\\MY PROJECTS\\zebra_test_task\\3_2.mov: 960x544 1 tea_pot, 2 red_sauces, 2 red_onions, 1 pickled_chili, 2 pitas, 1 chicken_meat, 1 pork_meat, 2 snacks, 34.2ms\n",
      "video 1/1 (frame 152/1731) D:\\MY PROJECTS\\zebra_test_task\\3_2.mov: 960x544 1 tea_pot, 2 red_sauces, 2 red_onions, 1 pickled_chili, 2 pitas, 1 chicken_meat, 1 pork_meat, 2 snacks, 32.4ms\n",
      "video 1/1 (frame 153/1731) D:\\MY PROJECTS\\zebra_test_task\\3_2.mov: 960x544 1 tea_pot, 2 red_sauces, 2 red_onions, 1 pickled_chili, 2 pitas, 1 chicken_meat, 1 pork_meat, 2 snacks, 40.4ms\n",
      "video 1/1 (frame 154/1731) D:\\MY PROJECTS\\zebra_test_task\\3_2.mov: 960x544 1 tea_pot, 2 red_sauces, 2 red_onions, 1 pickled_chili, 2 pitas, 1 chicken_meat, 1 pork_meat, 2 snacks, 40.4ms\n",
      "video 1/1 (frame 155/1731) D:\\MY PROJECTS\\zebra_test_task\\3_2.mov: 960x544 1 tea_pot, 2 red_sauces, 2 red_onions, 1 pickled_chili, 2 pitas, 1 chicken_meat, 1 pork_meat, 2 snacks, 30.8ms\n",
      "video 1/1 (frame 156/1731) D:\\MY PROJECTS\\zebra_test_task\\3_2.mov: 960x544 1 tea_pot, 2 red_sauces, 2 red_onions, 1 pickled_chili, 2 pitas, 1 chicken_meat, 1 pork_meat, 2 snacks, 32.5ms\n",
      "video 1/1 (frame 157/1731) D:\\MY PROJECTS\\zebra_test_task\\3_2.mov: 960x544 1 tea_pot, 2 red_sauces, 2 red_onions, 1 pickled_chili, 2 pitas, 1 chicken_meat, 1 pork_meat, 2 snacks, 32.8ms\n",
      "video 1/1 (frame 158/1731) D:\\MY PROJECTS\\zebra_test_task\\3_2.mov: 960x544 1 tea_pot, 2 red_sauces, 2 red_onions, 1 pickled_chili, 2 pitas, 1 chicken_meat, 1 pork_meat, 2 snacks, 32.7ms\n",
      "video 1/1 (frame 159/1731) D:\\MY PROJECTS\\zebra_test_task\\3_2.mov: 960x544 1 tea_pot, 2 red_sauces, 2 red_onions, 1 pickled_chili, 2 pitas, 1 chicken_meat, 1 pork_meat, 2 snacks, 40.2ms\n",
      "video 1/1 (frame 160/1731) D:\\MY PROJECTS\\zebra_test_task\\3_2.mov: 960x544 1 tea_pot, 2 red_sauces, 2 red_onions, 1 pickled_chili, 2 pitas, 1 chicken_meat, 1 pork_meat, 2 snacks, 40.2ms\n",
      "video 1/1 (frame 161/1731) D:\\MY PROJECTS\\zebra_test_task\\3_2.mov: 960x544 1 tea_pot, 2 red_sauces, 2 red_onions, 1 pickled_chili, 2 pitas, 1 chicken_meat, 1 pork_meat, 2 snacks, 38.2ms\n",
      "video 1/1 (frame 162/1731) D:\\MY PROJECTS\\zebra_test_task\\3_2.mov: 960x544 1 tea_pot, 2 red_sauces, 2 red_onions, 1 pickled_chili, 2 pitas, 1 chicken_meat, 1 pork_meat, 2 snacks, 38.4ms\n",
      "video 1/1 (frame 163/1731) D:\\MY PROJECTS\\zebra_test_task\\3_2.mov: 960x544 1 tea_pot, 1 red_sauce, 2 red_onions, 1 pickled_chili, 2 pitas, 1 chicken_meat, 1 pork_meat, 2 snacks, 32.1ms\n",
      "video 1/1 (frame 164/1731) D:\\MY PROJECTS\\zebra_test_task\\3_2.mov: 960x544 1 tea_pot, 1 red_sauce, 2 red_onions, 1 pickled_chili, 2 pitas, 1 chicken_meat, 1 pork_meat, 2 snacks, 40.2ms\n",
      "video 1/1 (frame 165/1731) D:\\MY PROJECTS\\zebra_test_task\\3_2.mov: 960x544 1 tea_pot, 1 red_sauce, 2 red_onions, 1 pickled_chili, 2 pitas, 1 chicken_meat, 1 pork_meat, 2 snacks, 30.1ms\n",
      "video 1/1 (frame 166/1731) D:\\MY PROJECTS\\zebra_test_task\\3_2.mov: 960x544 1 tea_pot, 1 red_sauce, 2 red_onions, 1 pickled_chili, 2 pitas, 1 chicken_meat, 1 pork_meat, 2 snacks, 40.2ms\n",
      "video 1/1 (frame 167/1731) D:\\MY PROJECTS\\zebra_test_task\\3_2.mov: 960x544 1 tea_pot, 2 red_sauces, 2 red_onions, 1 pickled_chili, 2 pitas, 1 chicken_meat, 1 pork_meat, 2 snacks, 40.1ms\n",
      "video 1/1 (frame 168/1731) D:\\MY PROJECTS\\zebra_test_task\\3_2.mov: 960x544 1 tea_pot, 2 red_sauces, 2 red_onions, 1 pickled_chili, 2 pitas, 1 chicken_meat, 1 pork_meat, 2 snacks, 30.2ms\n",
      "video 1/1 (frame 169/1731) D:\\MY PROJECTS\\zebra_test_task\\3_2.mov: 960x544 1 tea_pot, 2 red_sauces, 2 red_onions, 1 pickled_chili, 2 pitas, 1 chicken_meat, 1 pork_meat, 2 snacks, 40.8ms\n",
      "video 1/1 (frame 170/1731) D:\\MY PROJECTS\\zebra_test_task\\3_2.mov: 960x544 1 tea_pot, 2 red_sauces, 2 red_onions, 1 pickled_chili, 2 pitas, 1 chicken_meat, 1 pork_meat, 2 snacks, 39.0ms\n",
      "video 1/1 (frame 171/1731) D:\\MY PROJECTS\\zebra_test_task\\3_2.mov: 960x544 1 tea_pot, 2 red_sauces, 2 red_onions, 1 pickled_chili, 2 pitas, 1 chicken_meat, 1 pork_meat, 2 snacks, 38.9ms\n",
      "video 1/1 (frame 172/1731) D:\\MY PROJECTS\\zebra_test_task\\3_2.mov: 960x544 1 tea_pot, 2 red_sauces, 2 red_onions, 1 pickled_chili, 2 pitas, 1 chicken_meat, 1 pork_meat, 2 snacks, 32.1ms\n",
      "video 1/1 (frame 173/1731) D:\\MY PROJECTS\\zebra_test_task\\3_2.mov: 960x544 1 tea_pot, 2 red_sauces, 2 red_onions, 1 pickled_chili, 2 pitas, 1 chicken_meat, 1 pork_meat, 2 snacks, 44.3ms\n",
      "video 1/1 (frame 174/1731) D:\\MY PROJECTS\\zebra_test_task\\3_2.mov: 960x544 1 tea_pot, 2 red_sauces, 2 red_onions, 1 pickled_chili, 2 pitas, 1 chicken_meat, 1 pork_meat, 2 snacks, 31.2ms\n",
      "video 1/1 (frame 175/1731) D:\\MY PROJECTS\\zebra_test_task\\3_2.mov: 960x544 1 tea_pot, 2 red_sauces, 2 red_onions, 1 pickled_chili, 2 pitas, 1 chicken_meat, 1 pork_meat, 2 snacks, 40.2ms\n",
      "video 1/1 (frame 176/1731) D:\\MY PROJECTS\\zebra_test_task\\3_2.mov: 960x544 1 tea_pot, 2 red_sauces, 2 red_onions, 1 pickled_chili, 2 pitas, 1 chicken_meat, 1 pork_meat, 2 snacks, 40.2ms\n",
      "video 1/1 (frame 177/1731) D:\\MY PROJECTS\\zebra_test_task\\3_2.mov: 960x544 1 tea_pot, 2 red_sauces, 2 red_onions, 1 pickled_chili, 2 pitas, 1 chicken_meat, 1 pork_meat, 2 snacks, 30.3ms\n",
      "video 1/1 (frame 178/1731) D:\\MY PROJECTS\\zebra_test_task\\3_2.mov: 960x544 1 tea_pot, 2 red_sauces, 2 red_onions, 1 pickled_chili, 2 pitas, 1 chicken_meat, 1 pork_meat, 2 snacks, 32.6ms\n",
      "video 1/1 (frame 179/1731) D:\\MY PROJECTS\\zebra_test_task\\3_2.mov: 960x544 1 tea_pot, 2 red_sauces, 2 red_onions, 1 pickled_chili, 2 pitas, 1 chicken_meat, 1 pork_meat, 2 snacks, 40.1ms\n",
      "video 1/1 (frame 180/1731) D:\\MY PROJECTS\\zebra_test_task\\3_2.mov: 960x544 1 tea_pot, 2 red_sauces, 2 red_onions, 1 pickled_chili, 2 pitas, 1 chicken_meat, 1 pork_meat, 2 snacks, 40.3ms\n",
      "video 1/1 (frame 181/1731) D:\\MY PROJECTS\\zebra_test_task\\3_2.mov: 960x544 1 tea_pot, 2 red_sauces, 2 red_onions, 1 pickled_chili, 2 pitas, 1 chicken_meat, 1 pork_meat, 2 snacks, 38.2ms\n",
      "video 1/1 (frame 182/1731) D:\\MY PROJECTS\\zebra_test_task\\3_2.mov: 960x544 1 tea_pot, 2 red_sauces, 2 red_onions, 1 pickled_chili, 2 pitas, 1 chicken_meat, 1 pork_meat, 2 snacks, 40.2ms\n",
      "video 1/1 (frame 183/1731) D:\\MY PROJECTS\\zebra_test_task\\3_2.mov: 960x544 1 tea_pot, 2 red_sauces, 2 red_onions, 1 pickled_chili, 2 pitas, 1 chicken_meat, 1 pork_meat, 2 snacks, 30.3ms\n",
      "video 1/1 (frame 184/1731) D:\\MY PROJECTS\\zebra_test_task\\3_2.mov: 960x544 1 tea_pot, 2 red_sauces, 2 red_onions, 1 pickled_chili, 2 pitas, 1 chicken_meat, 1 pork_meat, 2 snacks, 31.1ms\n",
      "video 1/1 (frame 185/1731) D:\\MY PROJECTS\\zebra_test_task\\3_2.mov: 960x544 1 tea_pot, 2 red_sauces, 2 red_onions, 1 pickled_chili, 2 pitas, 1 chicken_meat, 1 pork_meat, 2 snacks, 37.8ms\n",
      "video 1/1 (frame 186/1731) D:\\MY PROJECTS\\zebra_test_task\\3_2.mov: 960x544 1 tea_pot, 2 red_sauces, 2 red_onions, 1 pickled_chili, 2 pitas, 1 chicken_meat, 1 pork_meat, 2 snacks, 45.9ms\n",
      "video 1/1 (frame 187/1731) D:\\MY PROJECTS\\zebra_test_task\\3_2.mov: 960x544 1 tea_pot, 2 red_sauces, 2 red_onions, 1 pickled_chili, 2 pitas, 1 chicken_meat, 1 pork_meat, 2 snacks, 37.8ms\n",
      "video 1/1 (frame 188/1731) D:\\MY PROJECTS\\zebra_test_task\\3_2.mov: 960x544 1 tea_pot, 2 red_sauces, 2 red_onions, 1 pickled_chili, 2 pitas, 1 chicken_meat, 2 pork_meats, 2 snacks, 31.2ms\n",
      "video 1/1 (frame 189/1731) D:\\MY PROJECTS\\zebra_test_task\\3_2.mov: 960x544 1 tea_pot, 2 red_sauces, 2 red_onions, 1 pickled_chili, 2 pitas, 1 chicken_meat, 2 pork_meats, 2 snacks, 46.9ms\n",
      "video 1/1 (frame 190/1731) D:\\MY PROJECTS\\zebra_test_task\\3_2.mov: 960x544 1 tea_pot, 2 red_sauces, 2 red_onions, 1 pickled_chili, 2 pitas, 1 chicken_meat, 1 pork_meat, 2 snacks, 31.2ms\n",
      "video 1/1 (frame 191/1731) D:\\MY PROJECTS\\zebra_test_task\\3_2.mov: 960x544 1 tea_pot, 2 red_sauces, 2 red_onions, 1 pickled_chili, 2 pitas, 1 chicken_meat, 2 pork_meats, 2 snacks, 37.8ms\n",
      "video 1/1 (frame 192/1731) D:\\MY PROJECTS\\zebra_test_task\\3_2.mov: 960x544 1 tea_pot, 2 red_sauces, 2 red_onions, 1 pickled_chili, 2 pitas, 1 chicken_meat, 2 pork_meats, 2 snacks, 31.2ms\n",
      "video 1/1 (frame 193/1731) D:\\MY PROJECTS\\zebra_test_task\\3_2.mov: 960x544 1 tea_pot, 2 red_sauces, 2 red_onions, 1 pickled_chili, 2 pitas, 1 chicken_meat, 2 pork_meats, 2 snacks, 39.8ms\n",
      "video 1/1 (frame 194/1731) D:\\MY PROJECTS\\zebra_test_task\\3_2.mov: 960x544 1 tea_pot, 2 red_sauces, 2 red_onions, 1 pickled_chili, 2 pitas, 1 chicken_meat, 2 pork_meats, 2 snacks, 46.9ms\n",
      "video 1/1 (frame 195/1731) D:\\MY PROJECTS\\zebra_test_task\\3_2.mov: 960x544 1 tea_pot, 2 red_sauces, 2 red_onions, 1 pickled_chili, 2 pitas, 1 chicken_meat, 1 pork_meat, 2 snacks, 46.9ms\n",
      "video 1/1 (frame 196/1731) D:\\MY PROJECTS\\zebra_test_task\\3_2.mov: 960x544 1 tea_pot, 2 red_sauces, 2 red_onions, 1 pickled_chili, 2 pitas, 1 chicken_meat, 1 pork_meat, 2 snacks, 46.9ms\n",
      "video 1/1 (frame 197/1731) D:\\MY PROJECTS\\zebra_test_task\\3_2.mov: 960x544 1 tea_pot, 2 red_sauces, 2 red_onions, 1 pickled_chili, 2 pitas, 1 chicken_meat, 1 pork_meat, 2 snacks, 31.3ms\n",
      "video 1/1 (frame 198/1731) D:\\MY PROJECTS\\zebra_test_task\\3_2.mov: 960x544 1 tea_pot, 2 red_sauces, 2 red_onions, 1 pickled_chili, 2 pitas, 1 chicken_meat, 1 pork_meat, 2 snacks, 37.6ms\n",
      "video 1/1 (frame 199/1731) D:\\MY PROJECTS\\zebra_test_task\\3_2.mov: 960x544 1 tea_pot, 2 red_sauces, 2 red_onions, 1 pickled_chili, 2 pitas, 1 chicken_meat, 1 pork_meat, 2 snacks, 31.2ms\n",
      "video 1/1 (frame 200/1731) D:\\MY PROJECTS\\zebra_test_task\\3_2.mov: 960x544 1 tea_pot, 2 red_sauces, 2 red_onions, 1 pickled_chili, 2 pitas, 1 chicken_meat, 2 pork_meats, 2 snacks, 37.3ms\n",
      "video 1/1 (frame 201/1731) D:\\MY PROJECTS\\zebra_test_task\\3_2.mov: 960x544 1 tea_pot, 2 red_sauces, 2 red_onions, 1 pickled_chili, 2 pitas, 1 chicken_meat, 2 pork_meats, 2 snacks, 31.1ms\n",
      "video 1/1 (frame 202/1731) D:\\MY PROJECTS\\zebra_test_task\\3_2.mov: 960x544 1 tea_pot, 2 red_sauces, 2 red_onions, 1 pickled_chili, 2 pitas, 1 chicken_meat, 2 pork_meats, 2 snacks, 37.8ms\n",
      "video 1/1 (frame 203/1731) D:\\MY PROJECTS\\zebra_test_task\\3_2.mov: 960x544 1 tea_pot, 2 red_sauces, 2 red_onions, 1 pickled_chili, 2 pitas, 1 chicken_meat, 1 pork_meat, 2 snacks, 31.3ms\n",
      "video 1/1 (frame 204/1731) D:\\MY PROJECTS\\zebra_test_task\\3_2.mov: 960x544 1 tea_pot, 2 red_sauces, 2 red_onions, 1 pickled_chili, 2 pitas, 1 chicken_meat, 2 pork_meats, 2 snacks, 29.1ms\n",
      "video 1/1 (frame 205/1731) D:\\MY PROJECTS\\zebra_test_task\\3_2.mov: 960x544 1 tea_pot, 2 red_sauces, 2 red_onions, 1 pickled_chili, 2 pitas, 1 chicken_meat, 2 pork_meats, 2 snacks, 46.9ms\n",
      "video 1/1 (frame 206/1731) D:\\MY PROJECTS\\zebra_test_task\\3_2.mov: 960x544 1 tea_pot, 2 red_sauces, 2 red_onions, 1 pickled_chili, 2 pitas, 1 chicken_meat, 2 pork_meats, 2 snacks, 31.3ms\n",
      "video 1/1 (frame 207/1731) D:\\MY PROJECTS\\zebra_test_task\\3_2.mov: 960x544 1 tea_pot, 2 red_sauces, 2 red_onions, 1 pickled_chili, 2 pitas, 1 chicken_meat, 2 pork_meats, 2 snacks, 31.2ms\n",
      "video 1/1 (frame 208/1731) D:\\MY PROJECTS\\zebra_test_task\\3_2.mov: 960x544 1 tea_pot, 2 red_sauces, 2 red_onions, 1 pickled_chili, 2 pitas, 1 chicken_meat, 2 pork_meats, 2 snacks, 31.3ms\n",
      "video 1/1 (frame 209/1731) D:\\MY PROJECTS\\zebra_test_task\\3_2.mov: 960x544 1 tea_pot, 2 red_sauces, 2 red_onions, 1 pickled_chili, 2 pitas, 1 chicken_meat, 2 pork_meats, 2 snacks, 31.2ms\n",
      "video 1/1 (frame 210/1731) D:\\MY PROJECTS\\zebra_test_task\\3_2.mov: 960x544 1 tea_pot, 2 red_sauces, 2 red_onions, 1 pickled_chili, 2 pitas, 1 chicken_meat, 2 pork_meats, 2 snacks, 31.4ms\n",
      "video 1/1 (frame 211/1731) D:\\MY PROJECTS\\zebra_test_task\\3_2.mov: 960x544 1 tea_pot, 2 red_sauces, 2 red_onions, 1 pickled_chili, 2 pitas, 1 chicken_meat, 2 pork_meats, 2 snacks, 31.1ms\n",
      "video 1/1 (frame 212/1731) D:\\MY PROJECTS\\zebra_test_task\\3_2.mov: 960x544 1 tea_pot, 2 red_sauces, 2 red_onions, 1 pickled_chili, 2 pitas, 1 chicken_meat, 2 pork_meats, 2 snacks, 46.9ms\n",
      "video 1/1 (frame 213/1731) D:\\MY PROJECTS\\zebra_test_task\\3_2.mov: 960x544 1 tea_pot, 2 red_sauces, 2 red_onions, 1 pickled_chili, 2 pitas, 1 chicken_meat, 2 pork_meats, 2 snacks, 31.2ms\n",
      "video 1/1 (frame 214/1731) D:\\MY PROJECTS\\zebra_test_task\\3_2.mov: 960x544 1 tea_pot, 2 red_sauces, 2 red_onions, 1 pickled_chili, 2 pitas, 1 chicken_meat, 2 pork_meats, 2 snacks, 46.9ms\n",
      "video 1/1 (frame 215/1731) D:\\MY PROJECTS\\zebra_test_task\\3_2.mov: 960x544 1 tea_pot, 2 red_sauces, 2 red_onions, 1 pickled_chili, 2 pitas, 1 chicken_meat, 2 pork_meats, 2 snacks, 31.2ms\n",
      "video 1/1 (frame 216/1731) D:\\MY PROJECTS\\zebra_test_task\\3_2.mov: 960x544 1 tea_pot, 2 red_sauces, 2 red_onions, 1 pickled_chili, 2 pitas, 1 chicken_meat, 3 pork_meats, 2 snacks, 46.9ms\n",
      "video 1/1 (frame 217/1731) D:\\MY PROJECTS\\zebra_test_task\\3_2.mov: 960x544 1 tea_pot, 2 red_sauces, 2 red_onions, 1 pickled_chili, 2 pitas, 1 chicken_meat, 2 pork_meats, 2 snacks, 31.2ms\n",
      "video 1/1 (frame 218/1731) D:\\MY PROJECTS\\zebra_test_task\\3_2.mov: 960x544 1 tea_pot, 2 red_sauces, 2 red_onions, 1 pickled_chili, 2 pitas, 1 chicken_meat, 2 pork_meats, 2 snacks, 31.1ms\n",
      "video 1/1 (frame 219/1731) D:\\MY PROJECTS\\zebra_test_task\\3_2.mov: 960x544 1 tea_pot, 2 red_sauces, 2 red_onions, 1 pickled_chili, 2 pitas, 1 chicken_meat, 2 pork_meats, 2 snacks, 40.4ms\n",
      "video 1/1 (frame 220/1731) D:\\MY PROJECTS\\zebra_test_task\\3_2.mov: 960x544 1 tea_pot, 1 red_sauce, 1 red_onion, 1 pickled_chili, 2 pitas, 1 chicken_meat, 2 pork_meats, 2 snacks, 30.8ms\n",
      "video 1/1 (frame 221/1731) D:\\MY PROJECTS\\zebra_test_task\\3_2.mov: 960x544 1 tea_pot, 1 red_sauce, 1 red_onion, 1 pickled_chili, 2 pitas, 1 chicken_meat, 1 pork_meat, 2 snacks, 40.7ms\n",
      "video 1/1 (frame 222/1731) D:\\MY PROJECTS\\zebra_test_task\\3_2.mov: 960x544 1 tea_pot, 2 red_sauces, 1 red_onion, 1 pickled_chili, 2 pitas, 1 chicken_meat, 1 pork_meat, 2 snacks, 40.4ms\n",
      "video 1/1 (frame 223/1731) D:\\MY PROJECTS\\zebra_test_task\\3_2.mov: 960x544 1 tea_pot, 2 red_sauces, 1 red_onion, 1 pickled_chili, 3 pitas, 1 chicken_meat, 2 snacks, 38.1ms\n",
      "video 1/1 (frame 224/1731) D:\\MY PROJECTS\\zebra_test_task\\3_2.mov: 960x544 1 tea_pot, 2 red_sauces, 1 red_onion, 1 pickled_chili, 2 pitas, 1 chicken_meat, 2 snacks, 32.1ms\n",
      "video 1/1 (frame 225/1731) D:\\MY PROJECTS\\zebra_test_task\\3_2.mov: 960x544 1 tea_pot, 2 red_sauces, 2 red_onions, 1 pickled_chili, 2 pitas, 1 chicken_meat, 2 snacks, 32.2ms\n",
      "video 1/1 (frame 226/1731) D:\\MY PROJECTS\\zebra_test_task\\3_2.mov: 960x544 1 tea_pot, 2 red_sauces, 2 red_onions, 1 pickled_chili, 2 pitas, 1 chicken_meat, 2 snacks, 40.4ms\n",
      "video 1/1 (frame 227/1731) D:\\MY PROJECTS\\zebra_test_task\\3_2.mov: 960x544 1 tea_pot, 2 red_sauces, 2 red_onions, 1 pickled_chili, 2 pitas, 1 chicken_meat, 1 pork_meat, 2 snacks, 32.1ms\n",
      "video 1/1 (frame 228/1731) D:\\MY PROJECTS\\zebra_test_task\\3_2.mov: 960x544 1 tea_pot, 2 red_sauces, 2 red_onions, 1 pickled_chili, 2 pitas, 1 chicken_meat, 1 pork_meat, 2 snacks, 32.1ms\n",
      "video 1/1 (frame 229/1731) D:\\MY PROJECTS\\zebra_test_task\\3_2.mov: 960x544 1 tea_pot, 2 red_sauces, 2 red_onions, 1 pickled_chili, 2 pitas, 1 chicken_meat, 1 pork_meat, 2 snacks, 32.1ms\n",
      "video 1/1 (frame 230/1731) D:\\MY PROJECTS\\zebra_test_task\\3_2.mov: 960x544 1 tea_pot, 2 red_sauces, 2 red_onions, 1 pickled_chili, 2 pitas, 1 chicken_meat, 1 pork_meat, 2 snacks, 32.4ms\n",
      "video 1/1 (frame 231/1731) D:\\MY PROJECTS\\zebra_test_task\\3_2.mov: 960x544 1 tea_pot, 2 red_sauces, 2 red_onions, 1 pickled_chili, 2 pitas, 1 chicken_meat, 1 pork_meat, 2 snacks, 40.6ms\n",
      "video 1/1 (frame 232/1731) D:\\MY PROJECTS\\zebra_test_task\\3_2.mov: 960x544 1 tea_pot, 2 red_sauces, 2 red_onions, 1 pickled_chili, 2 pitas, 1 chicken_meat, 1 pork_meat, 2 snacks, 31.2ms\n",
      "video 1/1 (frame 233/1731) D:\\MY PROJECTS\\zebra_test_task\\3_2.mov: 960x544 1 tea_pot, 2 red_sauces, 2 red_onions, 1 pickled_chili, 2 pitas, 1 chicken_meat, 2 snacks, 22.1ms\n",
      "video 1/1 (frame 234/1731) D:\\MY PROJECTS\\zebra_test_task\\3_2.mov: 960x544 1 tea_pot, 2 red_sauces, 2 red_onions, 1 pickled_chili, 2 pitas, 1 chicken_meat, 2 snacks, 46.9ms\n",
      "video 1/1 (frame 235/1731) D:\\MY PROJECTS\\zebra_test_task\\3_2.mov: 960x544 1 tea_pot, 2 red_sauces, 2 red_onions, 1 pickled_chili, 2 pitas, 1 chicken_meat, 2 snacks, 32.8ms\n",
      "video 1/1 (frame 236/1731) D:\\MY PROJECTS\\zebra_test_task\\3_2.mov: 960x544 1 tea_pot, 2 red_sauces, 2 red_onions, 1 pickled_chili, 2 pitas, 1 chicken_meat, 1 pork_meat, 2 snacks, 32.4ms\n",
      "video 1/1 (frame 237/1731) D:\\MY PROJECTS\\zebra_test_task\\3_2.mov: 960x544 1 tea_pot, 2 red_sauces, 2 red_onions, 1 pickled_chili, 2 pitas, 1 chicken_meat, 1 pork_meat, 2 snacks, 30.7ms\n",
      "video 1/1 (frame 238/1731) D:\\MY PROJECTS\\zebra_test_task\\3_2.mov: 960x544 1 tea_pot, 2 red_sauces, 2 red_onions, 1 pickled_chili, 2 pitas, 1 chicken_meat, 1 pork_meat, 2 snacks, 32.1ms\n",
      "video 1/1 (frame 239/1731) D:\\MY PROJECTS\\zebra_test_task\\3_2.mov: 960x544 1 tea_pot, 2 red_sauces, 2 red_onions, 1 pickled_chili, 2 pitas, 1 chicken_meat, 1 pork_meat, 2 snacks, 32.1ms\n",
      "video 1/1 (frame 240/1731) D:\\MY PROJECTS\\zebra_test_task\\3_2.mov: 960x544 1 tea_pot, 2 red_sauces, 2 red_onions, 1 pickled_chili, 2 pitas, 1 chicken_meat, 2 snacks, 30.5ms\n",
      "video 1/1 (frame 241/1731) D:\\MY PROJECTS\\zebra_test_task\\3_2.mov: 960x544 1 tea_pot, 2 red_sauces, 2 red_onions, 1 pickled_chili, 2 pitas, 1 chicken_meat, 1 pork_meat, 2 snacks, 40.2ms\n",
      "video 1/1 (frame 242/1731) D:\\MY PROJECTS\\zebra_test_task\\3_2.mov: 960x544 1 tea_pot, 2 red_sauces, 2 red_onions, 1 pickled_chili, 2 pitas, 1 chicken_meat, 1 pork_meat, 2 snacks, 39.1ms\n",
      "video 1/1 (frame 243/1731) D:\\MY PROJECTS\\zebra_test_task\\3_2.mov: 960x544 1 tea_pot, 2 red_sauces, 2 red_onions, 1 pickled_chili, 2 pitas, 1 chicken_meat, 1 pork_meat, 2 snacks, 38.7ms\n",
      "video 1/1 (frame 244/1731) D:\\MY PROJECTS\\zebra_test_task\\3_2.mov: 960x544 1 tea_pot, 2 red_sauces, 2 red_onions, 1 pickled_chili, 2 pitas, 1 chicken_meat, 1 pork_meat, 2 snacks, 33.0ms\n",
      "video 1/1 (frame 245/1731) D:\\MY PROJECTS\\zebra_test_task\\3_2.mov: 960x544 1 tea_pot, 2 red_sauces, 2 red_onions, 1 pickled_chili, 2 pitas, 1 chicken_meat, 2 snacks, 32.1ms\n",
      "video 1/1 (frame 246/1731) D:\\MY PROJECTS\\zebra_test_task\\3_2.mov: 960x544 1 tea_pot, 2 red_sauces, 2 red_onions, 1 pickled_chili, 2 pitas, 1 chicken_meat, 2 snacks, 42.9ms\n",
      "video 1/1 (frame 247/1731) D:\\MY PROJECTS\\zebra_test_task\\3_2.mov: 960x544 1 tea_pot, 2 red_sauces, 2 red_onions, 1 pickled_chili, 2 pitas, 1 chicken_meat, 1 pork_meat, 2 snacks, 38.5ms\n",
      "video 1/1 (frame 248/1731) D:\\MY PROJECTS\\zebra_test_task\\3_2.mov: 960x544 1 tea_pot, 2 red_sauces, 2 red_onions, 1 pickled_chili, 2 pitas, 1 chicken_meat, 2 pork_meats, 2 snacks, 30.2ms\n",
      "video 1/1 (frame 249/1731) D:\\MY PROJECTS\\zebra_test_task\\3_2.mov: 960x544 1 tea_pot, 2 red_sauces, 2 red_onions, 1 pickled_chili, 2 pitas, 1 chicken_meat, 2 pork_meats, 2 snacks, 30.1ms\n",
      "video 1/1 (frame 250/1731) D:\\MY PROJECTS\\zebra_test_task\\3_2.mov: 960x544 1 tea_pot, 2 red_sauces, 2 red_onions, 1 pickled_chili, 2 pitas, 1 chicken_meat, 1 pork_meat, 2 snacks, 32.3ms\n",
      "video 1/1 (frame 251/1731) D:\\MY PROJECTS\\zebra_test_task\\3_2.mov: 960x544 1 tea_pot, 2 red_sauces, 2 red_onions, 1 pickled_chili, 2 pitas, 1 chicken_meat, 2 pork_meats, 2 snacks, 32.1ms\n",
      "video 1/1 (frame 252/1731) D:\\MY PROJECTS\\zebra_test_task\\3_2.mov: 960x544 1 tea_pot, 2 red_sauces, 2 red_onions, 1 pickled_chili, 2 pitas, 1 chicken_meat, 1 pork_meat, 2 snacks, 30.1ms\n",
      "video 1/1 (frame 253/1731) D:\\MY PROJECTS\\zebra_test_task\\3_2.mov: 960x544 1 tea_pot, 2 red_sauces, 2 red_onions, 1 pickled_chili, 2 pitas, 1 chicken_meat, 1 pork_meat, 2 snacks, 32.1ms\n",
      "video 1/1 (frame 254/1731) D:\\MY PROJECTS\\zebra_test_task\\3_2.mov: 960x544 1 tea_pot, 2 red_sauces, 2 red_onions, 1 pickled_chili, 2 pitas, 1 chicken_meat, 1 pork_meat, 2 snacks, 32.2ms\n",
      "video 1/1 (frame 255/1731) D:\\MY PROJECTS\\zebra_test_task\\3_2.mov: 960x544 1 tea_pot, 2 red_sauces, 2 red_onions, 1 pickled_chili, 2 pitas, 1 chicken_meat, 1 pork_meat, 2 snacks, 30.7ms\n",
      "video 1/1 (frame 256/1731) D:\\MY PROJECTS\\zebra_test_task\\3_2.mov: 960x544 1 tea_pot, 2 red_sauces, 2 red_onions, 1 pickled_chili, 2 pitas, 1 chicken_meat, 1 pork_meat, 2 snacks, 30.6ms\n",
      "video 1/1 (frame 257/1731) D:\\MY PROJECTS\\zebra_test_task\\3_2.mov: 960x544 1 tea_pot, 2 red_sauces, 2 red_onions, 1 pickled_chili, 2 pitas, 1 chicken_meat, 1 pork_meat, 2 snacks, 40.2ms\n",
      "video 1/1 (frame 258/1731) D:\\MY PROJECTS\\zebra_test_task\\3_2.mov: 960x544 1 tea_pot, 2 red_sauces, 2 red_onions, 1 pickled_chili, 2 pitas, 1 chicken_meat, 1 pork_meat, 2 snacks, 40.2ms\n",
      "video 1/1 (frame 259/1731) D:\\MY PROJECTS\\zebra_test_task\\3_2.mov: 960x544 1 tea_pot, 2 red_sauces, 2 red_onions, 1 pickled_chili, 2 pitas, 1 chicken_meat, 1 pork_meat, 2 snacks, 40.8ms\n",
      "video 1/1 (frame 260/1731) D:\\MY PROJECTS\\zebra_test_task\\3_2.mov: 960x544 1 tea_pot, 2 red_sauces, 2 red_onions, 1 pickled_chili, 2 pitas, 1 chicken_meat, 1 pork_meat, 2 snacks, 32.7ms\n",
      "video 1/1 (frame 261/1731) D:\\MY PROJECTS\\zebra_test_task\\3_2.mov: 960x544 1 tea_pot, 2 red_sauces, 2 red_onions, 1 pickled_chili, 2 pitas, 1 chicken_meat, 1 pork_meat, 2 snacks, 40.2ms\n",
      "video 1/1 (frame 262/1731) D:\\MY PROJECTS\\zebra_test_task\\3_2.mov: 960x544 1 tea_pot, 2 red_sauces, 2 red_onions, 1 pickled_chili, 2 pitas, 1 chicken_meat, 1 pork_meat, 2 snacks, 38.2ms\n",
      "video 1/1 (frame 263/1731) D:\\MY PROJECTS\\zebra_test_task\\3_2.mov: 960x544 1 tea_pot, 2 red_sauces, 2 red_onions, 1 pickled_chili, 2 pitas, 1 chicken_meat, 1 pork_meat, 2 snacks, 30.1ms\n",
      "video 1/1 (frame 264/1731) D:\\MY PROJECTS\\zebra_test_task\\3_2.mov: 960x544 1 tea_pot, 2 red_sauces, 2 red_onions, 1 pickled_chili, 2 pitas, 1 chicken_meat, 1 pork_meat, 2 snacks, 32.1ms\n",
      "video 1/1 (frame 265/1731) D:\\MY PROJECTS\\zebra_test_task\\3_2.mov: 960x544 1 tea_pot, 2 red_sauces, 2 red_onions, 1 pickled_chili, 2 pitas, 1 chicken_meat, 1 pork_meat, 2 snacks, 31.2ms\n",
      "video 1/1 (frame 266/1731) D:\\MY PROJECTS\\zebra_test_task\\3_2.mov: 960x544 1 tea_pot, 2 red_sauces, 2 red_onions, 1 pickled_chili, 2 pitas, 1 chicken_meat, 1 pork_meat, 2 snacks, 31.2ms\n",
      "video 1/1 (frame 267/1731) D:\\MY PROJECTS\\zebra_test_task\\3_2.mov: 960x544 1 tea_pot, 2 red_sauces, 2 red_onions, 1 pickled_chili, 2 pitas, 1 chicken_meat, 2 snacks, 37.8ms\n",
      "video 1/1 (frame 268/1731) D:\\MY PROJECTS\\zebra_test_task\\3_2.mov: 960x544 1 tea_pot, 2 red_sauces, 2 red_onions, 1 pickled_chili, 2 pitas, 1 chicken_meat, 2 snacks, 31.2ms\n",
      "video 1/1 (frame 269/1731) D:\\MY PROJECTS\\zebra_test_task\\3_2.mov: 960x544 1 tea_pot, 2 red_sauces, 2 red_onions, 1 pickled_chili, 2 pitas, 1 chicken_meat, 2 snacks, 38.7ms\n",
      "video 1/1 (frame 270/1731) D:\\MY PROJECTS\\zebra_test_task\\3_2.mov: 960x544 1 tea_pot, 2 red_sauces, 2 red_onions, 1 pickled_chili, 2 pitas, 1 chicken_meat, 2 snacks, 31.2ms\n",
      "video 1/1 (frame 271/1731) D:\\MY PROJECTS\\zebra_test_task\\3_2.mov: 960x544 1 tea_pot, 2 red_sauces, 2 red_onions, 1 pickled_chili, 2 pitas, 1 chicken_meat, 2 snacks, 37.7ms\n",
      "video 1/1 (frame 272/1731) D:\\MY PROJECTS\\zebra_test_task\\3_2.mov: 960x544 1 tea_pot, 2 red_sauces, 2 red_onions, 1 pickled_chili, 2 pitas, 1 chicken_meat, 2 snacks, 46.9ms\n",
      "video 1/1 (frame 273/1731) D:\\MY PROJECTS\\zebra_test_task\\3_2.mov: 960x544 1 tea_pot, 2 red_sauces, 2 red_onions, 1 pickled_chili, 2 pitas, 1 chicken_meat, 2 snacks, 46.9ms\n",
      "video 1/1 (frame 274/1731) D:\\MY PROJECTS\\zebra_test_task\\3_2.mov: 960x544 1 tea_pot, 2 red_sauces, 2 red_onions, 1 pickled_chili, 2 pitas, 1 chicken_meat, 1 pork_meat, 2 snacks, 31.2ms\n",
      "video 1/1 (frame 275/1731) D:\\MY PROJECTS\\zebra_test_task\\3_2.mov: 960x544 1 tea_pot, 2 red_sauces, 2 red_onions, 1 pickled_chili, 2 pitas, 1 chicken_meat, 1 pork_meat, 2 snacks, 29.1ms\n",
      "video 1/1 (frame 276/1731) D:\\MY PROJECTS\\zebra_test_task\\3_2.mov: 960x544 1 tea_pot, 2 red_sauces, 2 red_onions, 1 pickled_chili, 2 pitas, 1 chicken_meat, 1 pork_meat, 2 snacks, 31.3ms\n",
      "video 1/1 (frame 277/1731) D:\\MY PROJECTS\\zebra_test_task\\3_2.mov: 960x544 1 tea_pot, 2 red_sauces, 2 red_onions, 1 pickled_chili, 2 pitas, 1 chicken_meat, 2 pork_meats, 2 snacks, 38.8ms\n",
      "video 1/1 (frame 278/1731) D:\\MY PROJECTS\\zebra_test_task\\3_2.mov: 960x544 1 tea_pot, 2 red_sauces, 2 red_onions, 1 pickled_chili, 2 pitas, 1 chicken_meat, 1 pork_meat, 2 snacks, 31.2ms\n",
      "video 1/1 (frame 279/1731) D:\\MY PROJECTS\\zebra_test_task\\3_2.mov: 960x544 1 tea_pot, 2 red_sauces, 2 red_onions, 1 pickled_chili, 2 pitas, 1 chicken_meat, 1 pork_meat, 2 snacks, 31.3ms\n",
      "video 1/1 (frame 280/1731) D:\\MY PROJECTS\\zebra_test_task\\3_2.mov: 960x544 1 tea_pot, 2 red_sauces, 2 red_onions, 1 pickled_chili, 2 pitas, 1 chicken_meat, 1 pork_meat, 2 snacks, 31.2ms\n",
      "video 1/1 (frame 281/1731) D:\\MY PROJECTS\\zebra_test_task\\3_2.mov: 960x544 1 tea_pot, 2 red_sauces, 2 red_onions, 1 pickled_chili, 2 pitas, 1 chicken_meat, 2 snacks, 31.3ms\n",
      "video 1/1 (frame 282/1731) D:\\MY PROJECTS\\zebra_test_task\\3_2.mov: 960x544 1 tea_pot, 2 red_sauces, 2 red_onions, 1 pickled_chili, 2 pitas, 1 chicken_meat, 1 pork_meat, 2 snacks, 31.2ms\n",
      "video 1/1 (frame 283/1731) D:\\MY PROJECTS\\zebra_test_task\\3_2.mov: 960x544 1 tea_pot, 2 red_sauces, 2 red_onions, 1 pickled_chili, 2 pitas, 1 chicken_meat, 1 pork_meat, 2 snacks, 31.2ms\n",
      "video 1/1 (frame 284/1731) D:\\MY PROJECTS\\zebra_test_task\\3_2.mov: 960x544 1 tea_pot, 2 red_sauces, 2 red_onions, 1 pickled_chili, 2 pitas, 1 chicken_meat, 1 pork_meat, 2 snacks, 44.7ms\n",
      "video 1/1 (frame 285/1731) D:\\MY PROJECTS\\zebra_test_task\\3_2.mov: 960x544 1 tea_pot, 2 red_sauces, 2 red_onions, 1 pickled_chili, 2 pitas, 1 chicken_meat, 1 pork_meat, 2 snacks, 31.2ms\n",
      "video 1/1 (frame 286/1731) D:\\MY PROJECTS\\zebra_test_task\\3_2.mov: 960x544 1 tea_pot, 2 red_sauces, 2 red_onions, 1 pickled_chili, 2 pitas, 1 chicken_meat, 1 pork_meat, 2 snacks, 38.7ms\n",
      "video 1/1 (frame 287/1731) D:\\MY PROJECTS\\zebra_test_task\\3_2.mov: 960x544 1 tea_pot, 2 red_sauces, 3 red_onions, 1 pickled_chili, 2 pitas, 1 chicken_meat, 1 pork_meat, 2 snacks, 30.5ms\n",
      "video 1/1 (frame 288/1731) D:\\MY PROJECTS\\zebra_test_task\\3_2.mov: 960x544 1 tea_pot, 2 red_sauces, 2 red_onions, 1 pickled_chili, 2 pitas, 1 chicken_meat, 1 pork_meat, 2 snacks, 30.6ms\n",
      "video 1/1 (frame 289/1731) D:\\MY PROJECTS\\zebra_test_task\\3_2.mov: 960x544 1 tea_pot, 2 red_sauces, 2 red_onions, 1 pickled_chili, 2 pitas, 1 chicken_meat, 1 pork_meat, 2 snacks, 38.2ms\n",
      "video 1/1 (frame 290/1731) D:\\MY PROJECTS\\zebra_test_task\\3_2.mov: 960x544 1 tea_pot, 2 red_sauces, 2 red_onions, 1 pickled_chili, 2 pitas, 1 chicken_meat, 1 pork_meat, 2 snacks, 40.6ms\n",
      "video 1/1 (frame 291/1731) D:\\MY PROJECTS\\zebra_test_task\\3_2.mov: 960x544 1 tea_pot, 2 red_sauces, 2 red_onions, 1 pickled_chili, 2 pitas, 1 chicken_meat, 1 pork_meat, 2 snacks, 32.2ms\n",
      "video 1/1 (frame 292/1731) D:\\MY PROJECTS\\zebra_test_task\\3_2.mov: 960x544 1 tea_pot, 2 red_sauces, 2 red_onions, 1 pickled_chili, 2 pitas, 1 chicken_meat, 1 pork_meat, 2 snacks, 37.8ms\n",
      "video 1/1 (frame 293/1731) D:\\MY PROJECTS\\zebra_test_task\\3_2.mov: 960x544 1 tea_pot, 2 red_sauces, 2 red_onions, 1 pickled_chili, 2 pitas, 1 chicken_meat, 1 pork_meat, 2 snacks, 31.2ms\n",
      "video 1/1 (frame 294/1731) D:\\MY PROJECTS\\zebra_test_task\\3_2.mov: 960x544 1 tea_pot, 2 red_sauces, 2 red_onions, 1 pickled_chili, 2 pitas, 1 chicken_meat, 1 pork_meat, 2 snacks, 37.8ms\n",
      "video 1/1 (frame 295/1731) D:\\MY PROJECTS\\zebra_test_task\\3_2.mov: 960x544 1 tea_pot, 2 red_sauces, 2 red_onions, 1 pickled_chili, 2 pitas, 1 chicken_meat, 1 pork_meat, 2 snacks, 31.2ms\n",
      "video 1/1 (frame 296/1731) D:\\MY PROJECTS\\zebra_test_task\\3_2.mov: 960x544 1 tea_pot, 2 red_sauces, 2 red_onions, 1 pickled_chili, 2 pitas, 1 chicken_meat, 1 pork_meat, 2 snacks, 39.3ms\n",
      "video 1/1 (frame 297/1731) D:\\MY PROJECTS\\zebra_test_task\\3_2.mov: 960x544 1 tea_pot, 2 red_sauces, 2 red_onions, 1 pickled_chili, 2 pitas, 1 chicken_meat, 1 pork_meat, 2 snacks, 31.2ms\n",
      "video 1/1 (frame 298/1731) D:\\MY PROJECTS\\zebra_test_task\\3_2.mov: 960x544 1 tea_pot, 2 red_sauces, 2 red_onions, 1 pickled_chili, 2 pitas, 1 chicken_meat, 1 pork_meat, 2 snacks, 53.4ms\n",
      "video 1/1 (frame 299/1731) D:\\MY PROJECTS\\zebra_test_task\\3_2.mov: 960x544 1 tea_pot, 2 red_sauces, 2 red_onions, 1 pickled_chili, 2 pitas, 1 chicken_meat, 1 pork_meat, 2 snacks, 31.2ms\n",
      "video 1/1 (frame 300/1731) D:\\MY PROJECTS\\zebra_test_task\\3_2.mov: 960x544 1 tea_pot, 2 red_sauces, 2 red_onions, 1 pickled_chili, 2 pitas, 1 chicken_meat, 1 pork_meat, 2 snacks, 32.2ms\n",
      "video 1/1 (frame 301/1731) D:\\MY PROJECTS\\zebra_test_task\\3_2.mov: 960x544 1 tea_pot, 2 red_sauces, 2 red_onions, 1 pickled_chili, 2 pitas, 1 chicken_meat, 1 pork_meat, 2 snacks, 30.3ms\n",
      "video 1/1 (frame 302/1731) D:\\MY PROJECTS\\zebra_test_task\\3_2.mov: 960x544 1 tea_pot, 2 red_sauces, 2 red_onions, 1 pickled_chili, 2 pitas, 1 chicken_meat, 1 pork_meat, 2 snacks, 38.7ms\n",
      "video 1/1 (frame 303/1731) D:\\MY PROJECTS\\zebra_test_task\\3_2.mov: 960x544 1 tea_pot, 2 red_sauces, 2 red_onions, 1 pickled_chili, 2 pitas, 1 chicken_meat, 1 pork_meat, 2 snacks, 30.2ms\n",
      "video 1/1 (frame 304/1731) D:\\MY PROJECTS\\zebra_test_task\\3_2.mov: 960x544 1 tea_pot, 2 red_sauces, 2 red_onions, 1 pickled_chili, 2 pitas, 1 chicken_meat, 1 pork_meat, 2 snacks, 32.2ms\n",
      "video 1/1 (frame 305/1731) D:\\MY PROJECTS\\zebra_test_task\\3_2.mov: 960x544 1 tea_pot, 2 red_sauces, 2 red_onions, 1 pickled_chili, 2 pitas, 1 chicken_meat, 1 pork_meat, 2 snacks, 32.1ms\n",
      "video 1/1 (frame 306/1731) D:\\MY PROJECTS\\zebra_test_task\\3_2.mov: 960x544 1 tea_pot, 2 red_sauces, 2 red_onions, 1 pickled_chili, 2 pitas, 1 chicken_meat, 1 pork_meat, 2 snacks, 30.1ms\n",
      "video 1/1 (frame 307/1731) D:\\MY PROJECTS\\zebra_test_task\\3_2.mov: 960x544 1 tea_pot, 2 red_sauces, 2 red_onions, 1 pickled_chili, 2 pitas, 1 chicken_meat, 1 pork_meat, 2 snacks, 38.2ms\n",
      "video 1/1 (frame 308/1731) D:\\MY PROJECTS\\zebra_test_task\\3_2.mov: 960x544 1 tea_pot, 2 red_sauces, 2 red_onions, 1 pickled_chili, 2 pitas, 1 chicken_meat, 1 pork_meat, 2 snacks, 40.3ms\n",
      "video 1/1 (frame 309/1731) D:\\MY PROJECTS\\zebra_test_task\\3_2.mov: 960x544 1 tea_pot, 2 red_sauces, 2 red_onions, 1 pickled_chili, 2 pitas, 1 chicken_meat, 1 pork_meat, 2 snacks, 30.7ms\n",
      "video 1/1 (frame 310/1731) D:\\MY PROJECTS\\zebra_test_task\\3_2.mov: 960x544 1 tea_pot, 2 red_sauces, 2 red_onions, 1 pickled_chili, 2 pitas, 1 chicken_meat, 1 pork_meat, 2 snacks, 31.2ms\n",
      "video 1/1 (frame 311/1731) D:\\MY PROJECTS\\zebra_test_task\\3_2.mov: 960x544 1 tea_pot, 2 red_sauces, 2 red_onions, 1 pickled_chili, 2 pitas, 1 chicken_meat, 1 pork_meat, 2 snacks, 22.2ms\n",
      "video 1/1 (frame 312/1731) D:\\MY PROJECTS\\zebra_test_task\\3_2.mov: 960x544 1 tea_pot, 2 red_sauces, 2 red_onions, 1 pickled_chili, 2 pitas, 1 chicken_meat, 1 pork_meat, 2 snacks, 31.2ms\n",
      "video 1/1 (frame 313/1731) D:\\MY PROJECTS\\zebra_test_task\\3_2.mov: 960x544 1 tea_pot, 2 red_sauces, 2 red_onions, 1 pickled_chili, 2 pitas, 1 chicken_meat, 1 pork_meat, 2 snacks, 26.7ms\n",
      "video 1/1 (frame 314/1731) D:\\MY PROJECTS\\zebra_test_task\\3_2.mov: 960x544 1 tea_pot, 2 red_sauces, 2 red_onions, 1 pickled_chili, 2 pitas, 1 chicken_meat, 1 pork_meat, 2 snacks, 38.1ms\n",
      "video 1/1 (frame 315/1731) D:\\MY PROJECTS\\zebra_test_task\\3_2.mov: 960x544 1 tea_pot, 2 red_sauces, 2 red_onions, 1 pickled_chili, 2 pitas, 1 chicken_meat, 1 pork_meat, 2 snacks, 38.1ms\n",
      "video 1/1 (frame 316/1731) D:\\MY PROJECTS\\zebra_test_task\\3_2.mov: 960x544 1 tea_pot, 2 red_sauces, 2 red_onions, 1 pickled_chili, 2 pitas, 1 chicken_meat, 1 pork_meat, 2 snacks, 30.1ms\n",
      "video 1/1 (frame 317/1731) D:\\MY PROJECTS\\zebra_test_task\\3_2.mov: 960x544 1 tea_pot, 2 red_sauces, 2 red_onions, 1 pickled_chili, 2 pitas, 1 chicken_meat, 1 pork_meat, 2 snacks, 40.1ms\n",
      "video 1/1 (frame 318/1731) D:\\MY PROJECTS\\zebra_test_task\\3_2.mov: 960x544 1 tea_pot, 2 red_sauces, 2 red_onions, 1 pickled_chili, 2 pitas, 1 chicken_meat, 1 pork_meat, 2 snacks, 32.1ms\n",
      "video 1/1 (frame 319/1731) D:\\MY PROJECTS\\zebra_test_task\\3_2.mov: 960x544 1 tea_pot, 2 red_sauces, 2 red_onions, 1 pickled_chili, 2 pitas, 1 chicken_meat, 1 pork_meat, 2 snacks, 32.1ms\n",
      "video 1/1 (frame 320/1731) D:\\MY PROJECTS\\zebra_test_task\\3_2.mov: 960x544 1 tea_pot, 2 red_sauces, 2 red_onions, 1 pickled_chili, 2 pitas, 1 chicken_meat, 1 pork_meat, 2 snacks, 30.3ms\n",
      "video 1/1 (frame 321/1731) D:\\MY PROJECTS\\zebra_test_task\\3_2.mov: 960x544 1 tea_pot, 2 red_sauces, 2 red_onions, 1 pickled_chili, 2 pitas, 1 chicken_meat, 1 pork_meat, 2 snacks, 40.2ms\n",
      "video 1/1 (frame 322/1731) D:\\MY PROJECTS\\zebra_test_task\\3_2.mov: 960x544 1 tea_pot, 2 red_sauces, 2 red_onions, 1 pickled_chili, 2 pitas, 1 chicken_meat, 2 snacks, 40.2ms\n",
      "video 1/1 (frame 323/1731) D:\\MY PROJECTS\\zebra_test_task\\3_2.mov: 960x544 1 tea_pot, 2 red_sauces, 2 red_onions, 1 pickled_chili, 2 pitas, 1 chicken_meat, 2 snacks, 30.1ms\n",
      "video 1/1 (frame 324/1731) D:\\MY PROJECTS\\zebra_test_task\\3_2.mov: 960x544 1 tea_pot, 2 red_sauces, 2 red_onions, 1 pickled_chili, 2 pitas, 1 chicken_meat, 2 snacks, 31.2ms\n",
      "video 1/1 (frame 325/1731) D:\\MY PROJECTS\\zebra_test_task\\3_2.mov: 960x544 1 tea_pot, 2 red_sauces, 2 red_onions, 1 pickled_chili, 2 pitas, 1 chicken_meat, 2 snacks, 31.3ms\n",
      "video 1/1 (frame 326/1731) D:\\MY PROJECTS\\zebra_test_task\\3_2.mov: 960x544 1 tea_pot, 2 red_sauces, 2 red_onions, 1 pickled_chili, 2 pitas, 1 chicken_meat, 2 snacks, 37.8ms\n",
      "video 1/1 (frame 327/1731) D:\\MY PROJECTS\\zebra_test_task\\3_2.mov: 960x544 1 tea_pot, 2 red_sauces, 2 red_onions, 1 pickled_chili, 2 pitas, 1 chicken_meat, 2 snacks, 31.2ms\n",
      "video 1/1 (frame 328/1731) D:\\MY PROJECTS\\zebra_test_task\\3_2.mov: 960x544 1 tea_pot, 2 red_sauces, 2 red_onions, 1 pickled_chili, 2 pitas, 1 chicken_meat, 2 snacks, 40.3ms\n",
      "video 1/1 (frame 329/1731) D:\\MY PROJECTS\\zebra_test_task\\3_2.mov: 960x544 1 tea_pot, 2 red_sauces, 2 red_onions, 1 pickled_chili, 2 pitas, 1 chicken_meat, 1 pork_meat, 2 snacks, 31.2ms\n",
      "video 1/1 (frame 330/1731) D:\\MY PROJECTS\\zebra_test_task\\3_2.mov: 960x544 1 tea_pot, 2 red_sauces, 2 red_onions, 1 pickled_chili, 2 pitas, 1 chicken_meat, 1 pork_meat, 2 snacks, 37.8ms\n",
      "video 1/1 (frame 331/1731) D:\\MY PROJECTS\\zebra_test_task\\3_2.mov: 960x544 1 tea_pot, 2 red_sauces, 2 red_onions, 1 pickled_chili, 2 pitas, 1 chicken_meat, 1 pork_meat, 2 snacks, 31.2ms\n",
      "video 1/1 (frame 332/1731) D:\\MY PROJECTS\\zebra_test_task\\3_2.mov: 960x544 1 tea_pot, 2 red_sauces, 2 red_onions, 1 pickled_chili, 2 pitas, 1 chicken_meat, 1 pork_meat, 2 snacks, 38.3ms\n",
      "video 1/1 (frame 333/1731) D:\\MY PROJECTS\\zebra_test_task\\3_2.mov: 960x544 1 tea_pot, 2 red_sauces, 2 red_onions, 1 pickled_chili, 2 pitas, 1 chicken_meat, 1 pork_meat, 2 snacks, 46.9ms\n",
      "video 1/1 (frame 334/1731) D:\\MY PROJECTS\\zebra_test_task\\3_2.mov: 960x544 1 tea_pot, 2 red_sauces, 2 red_onions, 1 pickled_chili, 2 pitas, 1 chicken_meat, 1 pork_meat, 2 snacks, 37.3ms\n",
      "video 1/1 (frame 335/1731) D:\\MY PROJECTS\\zebra_test_task\\3_2.mov: 960x544 1 tea_pot, 2 red_sauces, 2 red_onions, 1 pickled_chili, 2 pitas, 1 chicken_meat, 1 pork_meat, 2 snacks, 31.1ms\n",
      "video 1/1 (frame 336/1731) D:\\MY PROJECTS\\zebra_test_task\\3_2.mov: 960x544 1 tea_pot, 2 red_sauces, 2 red_onions, 1 pickled_chili, 2 pitas, 1 chicken_meat, 1 pork_meat, 2 snacks, 31.3ms\n",
      "video 1/1 (frame 337/1731) D:\\MY PROJECTS\\zebra_test_task\\3_2.mov: 960x544 1 tea_pot, 2 red_sauces, 2 red_onions, 1 pickled_chili, 2 pitas, 1 chicken_meat, 2 snacks, 37.8ms\n",
      "video 1/1 (frame 338/1731) D:\\MY PROJECTS\\zebra_test_task\\3_2.mov: 960x544 1 tea_pot, 2 red_sauces, 2 red_onions, 1 pickled_chili, 2 pitas, 1 chicken_meat, 2 snacks, 37.8ms\n",
      "video 1/1 (frame 339/1731) D:\\MY PROJECTS\\zebra_test_task\\3_2.mov: 960x544 1 tea_pot, 2 red_sauces, 2 red_onions, 1 pickled_chili, 2 pitas, 1 chicken_meat, 2 snacks, 46.9ms\n",
      "video 1/1 (frame 340/1731) D:\\MY PROJECTS\\zebra_test_task\\3_2.mov: 960x544 1 tea_pot, 2 red_sauces, 2 red_onions, 1 pickled_chili, 2 pitas, 1 chicken_meat, 2 snacks, 28.1ms\n",
      "video 1/1 (frame 341/1731) D:\\MY PROJECTS\\zebra_test_task\\3_2.mov: 960x544 1 tea_pot, 2 red_sauces, 2 red_onions, 1 pickled_chili, 2 pitas, 1 chicken_meat, 2 snacks, 31.2ms\n",
      "video 1/1 (frame 342/1731) D:\\MY PROJECTS\\zebra_test_task\\3_2.mov: 960x544 1 tea_pot, 2 red_sauces, 2 red_onions, 1 pickled_chili, 2 pitas, 1 chicken_meat, 2 snacks, 37.8ms\n",
      "video 1/1 (frame 343/1731) D:\\MY PROJECTS\\zebra_test_task\\3_2.mov: 960x544 1 tea_pot, 2 red_sauces, 2 red_onions, 1 pickled_chili, 2 pitas, 1 chicken_meat, 2 snacks, 31.4ms\n",
      "video 1/1 (frame 344/1731) D:\\MY PROJECTS\\zebra_test_task\\3_2.mov: 960x544 1 tea_pot, 2 red_sauces, 2 red_onions, 1 pickled_chili, 2 pitas, 1 chicken_meat, 2 snacks, 37.8ms\n",
      "video 1/1 (frame 345/1731) D:\\MY PROJECTS\\zebra_test_task\\3_2.mov: 960x544 1 tea_pot, 2 red_sauces, 2 red_onions, 1 pickled_chili, 2 pitas, 1 chicken_meat, 2 snacks, 46.9ms\n",
      "video 1/1 (frame 346/1731) D:\\MY PROJECTS\\zebra_test_task\\3_2.mov: 960x544 1 tea_pot, 2 red_sauces, 2 red_onions, 1 pickled_chili, 2 pitas, 1 chicken_meat, 2 snacks, 37.8ms\n",
      "video 1/1 (frame 347/1731) D:\\MY PROJECTS\\zebra_test_task\\3_2.mov: 960x544 1 tea_pot, 2 red_sauces, 2 red_onions, 1 pickled_chili, 2 pitas, 1 chicken_meat, 2 snacks, 46.7ms\n",
      "video 1/1 (frame 348/1731) D:\\MY PROJECTS\\zebra_test_task\\3_2.mov: 960x544 1 tea_pot, 2 red_sauces, 2 red_onions, 1 pickled_chili, 2 pitas, 1 chicken_meat, 1 pork_meat, 2 snacks, 37.8ms\n",
      "video 1/1 (frame 349/1731) D:\\MY PROJECTS\\zebra_test_task\\3_2.mov: 960x544 1 tea_pot, 2 red_sauces, 2 red_onions, 1 pickled_chili, 2 pitas, 1 chicken_meat, 1 pork_meat, 2 snacks, 31.2ms\n",
      "video 1/1 (frame 350/1731) D:\\MY PROJECTS\\zebra_test_task\\3_2.mov: 960x544 1 tea_pot, 2 red_sauces, 2 red_onions, 1 pickled_chili, 2 pitas, 1 chicken_meat, 1 pork_meat, 2 snacks, 31.2ms\n",
      "video 1/1 (frame 351/1731) D:\\MY PROJECTS\\zebra_test_task\\3_2.mov: 960x544 1 tea_pot, 2 red_sauces, 2 red_onions, 1 pickled_chili, 2 pitas, 1 chicken_meat, 1 pork_meat, 2 snacks, 37.8ms\n",
      "video 1/1 (frame 352/1731) D:\\MY PROJECTS\\zebra_test_task\\3_2.mov: 960x544 1 tea_pot, 2 red_sauces, 2 red_onions, 1 pickled_chili, 2 pitas, 1 chicken_meat, 1 pork_meat, 2 snacks, 46.7ms\n",
      "video 1/1 (frame 353/1731) D:\\MY PROJECTS\\zebra_test_task\\3_2.mov: 960x544 1 tea_pot, 2 red_sauces, 2 red_onions, 1 pickled_chili, 2 pitas, 1 chicken_meat, 1 pork_meat, 2 snacks, 22.2ms\n",
      "video 1/1 (frame 354/1731) D:\\MY PROJECTS\\zebra_test_task\\3_2.mov: 960x544 1 tea_pot, 2 red_sauces, 2 red_onions, 1 pickled_chili, 2 pitas, 1 chicken_meat, 1 pork_meat, 2 snacks, 31.2ms\n",
      "video 1/1 (frame 355/1731) D:\\MY PROJECTS\\zebra_test_task\\3_2.mov: 960x544 1 tea_pot, 2 red_sauces, 2 red_onions, 1 pickled_chili, 2 pitas, 1 chicken_meat, 1 pork_meat, 2 snacks, 31.3ms\n",
      "video 1/1 (frame 356/1731) D:\\MY PROJECTS\\zebra_test_task\\3_2.mov: 960x544 1 tea_pot, 2 red_sauces, 2 red_onions, 1 pickled_chili, 2 pitas, 1 chicken_meat, 1 pork_meat, 2 snacks, 32.4ms\n",
      "video 1/1 (frame 357/1731) D:\\MY PROJECTS\\zebra_test_task\\3_2.mov: 960x544 1 tea_pot, 2 red_sauces, 2 red_onions, 1 pickled_chili, 2 pitas, 1 chicken_meat, 1 pork_meat, 2 snacks, 40.7ms\n",
      "video 1/1 (frame 358/1731) D:\\MY PROJECTS\\zebra_test_task\\3_2.mov: 960x544 1 tea_pot, 2 red_sauces, 2 red_onions, 1 pickled_chili, 2 pitas, 1 chicken_meat, 1 pork_meat, 2 snacks, 32.2ms\n",
      "video 1/1 (frame 359/1731) D:\\MY PROJECTS\\zebra_test_task\\3_2.mov: 960x544 1 tea_pot, 2 red_sauces, 2 red_onions, 1 pickled_chili, 2 pitas, 1 chicken_meat, 1 pork_meat, 2 snacks, 30.3ms\n",
      "video 1/1 (frame 360/1731) D:\\MY PROJECTS\\zebra_test_task\\3_2.mov: 960x544 1 tea_pot, 2 red_sauces, 2 red_onions, 1 pickled_chili, 2 pitas, 1 chicken_meat, 1 pork_meat, 2 snacks, 30.6ms\n",
      "video 1/1 (frame 361/1731) D:\\MY PROJECTS\\zebra_test_task\\3_2.mov: 960x544 1 tea_pot, 2 red_sauces, 2 red_onions, 1 pickled_chili, 2 pitas, 1 chicken_meat, 1 pork_meat, 2 snacks, 30.5ms\n",
      "video 1/1 (frame 362/1731) D:\\MY PROJECTS\\zebra_test_task\\3_2.mov: 960x544 1 tea_pot, 2 red_sauces, 2 red_onions, 1 pickled_chili, 2 pitas, 1 chicken_meat, 1 pork_meat, 2 snacks, 28.8ms\n",
      "video 1/1 (frame 363/1731) D:\\MY PROJECTS\\zebra_test_task\\3_2.mov: 960x544 1 tea_pot, 2 red_sauces, 2 red_onions, 1 pickled_chili, 2 pitas, 1 chicken_meat, 1 pork_meat, 2 snacks, 32.2ms\n",
      "video 1/1 (frame 364/1731) D:\\MY PROJECTS\\zebra_test_task\\3_2.mov: 960x544 1 tea_pot, 2 red_sauces, 2 red_onions, 1 pickled_chili, 2 pitas, 1 chicken_meat, 1 pork_meat, 2 snacks, 32.7ms\n",
      "video 1/1 (frame 365/1731) D:\\MY PROJECTS\\zebra_test_task\\3_2.mov: 960x544 1 tea_pot, 2 red_sauces, 2 red_onions, 1 pickled_chili, 2 pitas, 1 chicken_meat, 1 pork_meat, 2 snacks, 30.1ms\n",
      "video 1/1 (frame 366/1731) D:\\MY PROJECTS\\zebra_test_task\\3_2.mov: 960x544 1 tea_pot, 2 red_sauces, 2 red_onions, 1 pickled_chili, 2 pitas, 1 chicken_meat, 1 pork_meat, 2 snacks, 30.1ms\n",
      "video 1/1 (frame 367/1731) D:\\MY PROJECTS\\zebra_test_task\\3_2.mov: 960x544 1 tea_pot, 2 red_sauces, 2 red_onions, 1 pickled_chili, 2 pitas, 1 chicken_meat, 1 pork_meat, 2 snacks, 30.1ms\n",
      "video 1/1 (frame 368/1731) D:\\MY PROJECTS\\zebra_test_task\\3_2.mov: 960x544 1 tea_pot, 2 red_sauces, 2 red_onions, 1 pickled_chili, 2 pitas, 1 chicken_meat, 1 pork_meat, 2 snacks, 38.1ms\n",
      "video 1/1 (frame 369/1731) D:\\MY PROJECTS\\zebra_test_task\\3_2.mov: 960x544 1 tea_pot, 2 red_sauces, 2 red_onions, 1 pickled_chili, 2 pitas, 1 chicken_meat, 1 pork_meat, 2 snacks, 30.1ms\n",
      "video 1/1 (frame 370/1731) D:\\MY PROJECTS\\zebra_test_task\\3_2.mov: 960x544 1 tea_pot, 2 red_sauces, 2 red_onions, 1 pickled_chili, 2 pitas, 1 chicken_meat, 1 pork_meat, 2 snacks, 30.2ms\n",
      "video 1/1 (frame 371/1731) D:\\MY PROJECTS\\zebra_test_task\\3_2.mov: 960x544 1 tea_pot, 2 red_sauces, 2 red_onions, 1 pickled_chili, 2 pitas, 1 chicken_meat, 1 pork_meat, 2 snacks, 46.9ms\n",
      "video 1/1 (frame 372/1731) D:\\MY PROJECTS\\zebra_test_task\\3_2.mov: 960x544 1 tea_pot, 2 red_sauces, 2 red_onions, 1 pickled_chili, 2 pitas, 1 chicken_meat, 1 pork_meat, 2 snacks, 30.2ms\n",
      "video 1/1 (frame 373/1731) D:\\MY PROJECTS\\zebra_test_task\\3_2.mov: 960x544 1 tea_pot, 2 red_sauces, 2 red_onions, 1 pickled_chili, 2 pitas, 1 chicken_meat, 1 pork_meat, 2 snacks, 40.2ms\n",
      "video 1/1 (frame 374/1731) D:\\MY PROJECTS\\zebra_test_task\\3_2.mov: 960x544 1 tea_pot, 2 red_sauces, 2 red_onions, 1 pickled_chili, 2 pitas, 1 chicken_meat, 1 pork_meat, 2 snacks, 32.6ms\n",
      "video 1/1 (frame 375/1731) D:\\MY PROJECTS\\zebra_test_task\\3_2.mov: 960x544 1 tea_pot, 2 red_sauces, 2 red_onions, 1 pickled_chili, 2 pitas, 1 chicken_meat, 1 pork_meat, 2 snacks, 40.2ms\n",
      "video 1/1 (frame 376/1731) D:\\MY PROJECTS\\zebra_test_task\\3_2.mov: 960x544 1 tea_pot, 2 red_sauces, 2 red_onions, 1 pickled_chili, 2 pitas, 1 chicken_meat, 1 pork_meat, 2 snacks, 32.1ms\n",
      "video 1/1 (frame 377/1731) D:\\MY PROJECTS\\zebra_test_task\\3_2.mov: 960x544 1 tea_pot, 2 red_sauces, 2 red_onions, 1 pickled_chili, 2 pitas, 1 chicken_meat, 1 pork_meat, 2 snacks, 40.2ms\n",
      "video 1/1 (frame 378/1731) D:\\MY PROJECTS\\zebra_test_task\\3_2.mov: 960x544 1 tea_pot, 2 red_sauces, 2 red_onions, 1 pickled_chili, 2 pitas, 1 chicken_meat, 1 pork_meat, 2 snacks, 40.1ms\n",
      "video 1/1 (frame 379/1731) D:\\MY PROJECTS\\zebra_test_task\\3_2.mov: 960x544 1 tea_pot, 2 red_sauces, 2 red_onions, 1 pickled_chili, 2 pitas, 1 chicken_meat, 1 pork_meat, 2 snacks, 40.2ms\n",
      "video 1/1 (frame 380/1731) D:\\MY PROJECTS\\zebra_test_task\\3_2.mov: 960x544 1 tea_pot, 2 red_sauces, 2 red_onions, 1 pickled_chili, 2 pitas, 1 chicken_meat, 1 pork_meat, 2 snacks, 38.5ms\n",
      "video 1/1 (frame 381/1731) D:\\MY PROJECTS\\zebra_test_task\\3_2.mov: 960x544 1 tea_pot, 2 red_sauces, 2 red_onions, 1 pickled_chili, 2 pitas, 1 chicken_meat, 1 pork_meat, 2 snacks, 40.2ms\n",
      "video 1/1 (frame 382/1731) D:\\MY PROJECTS\\zebra_test_task\\3_2.mov: 960x544 1 tea_pot, 2 red_sauces, 2 red_onions, 1 pickled_chili, 2 pitas, 1 chicken_meat, 1 pork_meat, 2 snacks, 38.5ms\n",
      "video 1/1 (frame 383/1731) D:\\MY PROJECTS\\zebra_test_task\\3_2.mov: 960x544 1 tea_pot, 2 red_sauces, 2 red_onions, 1 pickled_chili, 2 pitas, 1 chicken_meat, 1 pork_meat, 2 snacks, 30.1ms\n",
      "video 1/1 (frame 384/1731) D:\\MY PROJECTS\\zebra_test_task\\3_2.mov: 960x544 1 tea_pot, 2 red_sauces, 2 red_onions, 1 pickled_chili, 2 pitas, 1 chicken_meat, 1 pork_meat, 2 snacks, 32.8ms\n",
      "video 1/1 (frame 385/1731) D:\\MY PROJECTS\\zebra_test_task\\3_2.mov: 960x544 1 tea_pot, 2 red_sauces, 2 red_onions, 1 pickled_chili, 2 pitas, 1 chicken_meat, 1 pork_meat, 2 snacks, 30.6ms\n",
      "video 1/1 (frame 386/1731) D:\\MY PROJECTS\\zebra_test_task\\3_2.mov: 960x544 1 tea_pot, 2 red_sauces, 2 red_onions, 1 pickled_chili, 2 pitas, 1 chicken_meat, 1 pork_meat, 2 snacks, 30.9ms\n",
      "video 1/1 (frame 387/1731) D:\\MY PROJECTS\\zebra_test_task\\3_2.mov: 960x544 1 tea_pot, 2 red_sauces, 2 red_onions, 1 pickled_chili, 2 pitas, 1 chicken_meat, 1 pork_meat, 2 snacks, 43.1ms\n",
      "video 1/1 (frame 388/1731) D:\\MY PROJECTS\\zebra_test_task\\3_2.mov: 960x544 1 tea_pot, 2 red_sauces, 2 red_onions, 1 pickled_chili, 2 pitas, 1 chicken_meat, 1 pork_meat, 2 snacks, 30.1ms\n",
      "video 1/1 (frame 389/1731) D:\\MY PROJECTS\\zebra_test_task\\3_2.mov: 960x544 1 tea_pot, 2 red_sauces, 2 red_onions, 1 pickled_chili, 2 pitas, 1 chicken_meat, 1 pork_meat, 2 snacks, 38.1ms\n",
      "video 1/1 (frame 390/1731) D:\\MY PROJECTS\\zebra_test_task\\3_2.mov: 960x544 1 tea_pot, 2 red_sauces, 2 red_onions, 1 pickled_chili, 2 pitas, 1 chicken_meat, 1 pork_meat, 2 snacks, 32.2ms\n",
      "video 1/1 (frame 391/1731) D:\\MY PROJECTS\\zebra_test_task\\3_2.mov: 960x544 1 tea_pot, 2 red_sauces, 2 red_onions, 1 pickled_chili, 2 pitas, 1 chicken_meat, 1 pork_meat, 2 snacks, 40.2ms\n",
      "video 1/1 (frame 392/1731) D:\\MY PROJECTS\\zebra_test_task\\3_2.mov: 960x544 1 tea_pot, 2 red_sauces, 2 red_onions, 1 pickled_chili, 2 pitas, 1 chicken_meat, 1 pork_meat, 2 snacks, 40.2ms\n",
      "video 1/1 (frame 393/1731) D:\\MY PROJECTS\\zebra_test_task\\3_2.mov: 960x544 1 tea_pot, 2 red_sauces, 2 red_onions, 1 pickled_chili, 2 pitas, 1 chicken_meat, 1 pork_meat, 2 snacks, 46.9ms\n",
      "video 1/1 (frame 394/1731) D:\\MY PROJECTS\\zebra_test_task\\3_2.mov: 960x544 1 tea_pot, 2 red_sauces, 2 red_onions, 1 pickled_chili, 2 pitas, 1 chicken_meat, 1 pork_meat, 2 snacks, 31.3ms\n",
      "video 1/1 (frame 395/1731) D:\\MY PROJECTS\\zebra_test_task\\3_2.mov: 960x544 1 tea_pot, 2 red_sauces, 2 red_onions, 1 pickled_chili, 2 pitas, 1 chicken_meat, 1 pork_meat, 2 snacks, 31.2ms\n",
      "video 1/1 (frame 396/1731) D:\\MY PROJECTS\\zebra_test_task\\3_2.mov: 960x544 1 tea_pot, 2 red_sauces, 2 red_onions, 1 pickled_chili, 2 pitas, 1 chicken_meat, 1 pork_meat, 2 snacks, 31.3ms\n",
      "video 1/1 (frame 397/1731) D:\\MY PROJECTS\\zebra_test_task\\3_2.mov: 960x544 1 tea_pot, 2 red_sauces, 2 red_onions, 1 pickled_chili, 2 pitas, 1 chicken_meat, 1 pork_meat, 2 snacks, 31.2ms\n",
      "video 1/1 (frame 398/1731) D:\\MY PROJECTS\\zebra_test_task\\3_2.mov: 960x544 1 tea_pot, 2 red_sauces, 2 red_onions, 1 pickled_chili, 2 pitas, 1 chicken_meat, 1 pork_meat, 2 snacks, 31.4ms\n",
      "video 1/1 (frame 399/1731) D:\\MY PROJECTS\\zebra_test_task\\3_2.mov: 960x544 1 tea_pot, 2 red_sauces, 2 red_onions, 1 pickled_chili, 2 pitas, 1 chicken_meat, 1 pork_meat, 2 snacks, 37.5ms\n",
      "video 1/1 (frame 400/1731) D:\\MY PROJECTS\\zebra_test_task\\3_2.mov: 960x544 1 tea_pot, 2 red_sauces, 2 red_onions, 1 pickled_chili, 2 pitas, 1 chicken_meat, 2 snacks, 31.2ms\n",
      "video 1/1 (frame 401/1731) D:\\MY PROJECTS\\zebra_test_task\\3_2.mov: 960x544 1 tea_pot, 2 red_sauces, 2 red_onions, 1 pickled_chili, 2 pitas, 1 chicken_meat, 2 snacks, 40.3ms\n",
      "video 1/1 (frame 402/1731) D:\\MY PROJECTS\\zebra_test_task\\3_2.mov: 960x544 1 tea_pot, 2 red_sauces, 2 red_onions, 1 pickled_chili, 2 pitas, 1 chicken_meat, 2 snacks, 32.1ms\n",
      "video 1/1 (frame 403/1731) D:\\MY PROJECTS\\zebra_test_task\\3_2.mov: 960x544 1 tea_pot, 2 red_sauces, 2 red_onions, 1 pickled_chili, 2 pitas, 1 chicken_meat, 2 snacks, 38.2ms\n",
      "video 1/1 (frame 404/1731) D:\\MY PROJECTS\\zebra_test_task\\3_2.mov: 960x544 1 tea_pot, 2 red_sauces, 2 red_onions, 1 pickled_chili, 2 pitas, 1 chicken_meat, 2 snacks, 32.6ms\n",
      "video 1/1 (frame 405/1731) D:\\MY PROJECTS\\zebra_test_task\\3_2.mov: 960x544 1 tea_pot, 2 red_sauces, 2 red_onions, 1 pickled_chili, 2 pitas, 1 chicken_meat, 1 pork_meat, 2 snacks, 41.4ms\n",
      "video 1/1 (frame 406/1731) D:\\MY PROJECTS\\zebra_test_task\\3_2.mov: 960x544 1 tea_pot, 2 red_sauces, 2 red_onions, 1 pickled_chili, 2 pitas, 1 chicken_meat, 2 snacks, 36.6ms\n",
      "video 1/1 (frame 407/1731) D:\\MY PROJECTS\\zebra_test_task\\3_2.mov: 960x544 1 tea_pot, 2 red_sauces, 2 red_onions, 1 pickled_chili, 2 pitas, 1 chicken_meat, 2 snacks, 30.1ms\n",
      "video 1/1 (frame 408/1731) D:\\MY PROJECTS\\zebra_test_task\\3_2.mov: 960x544 1 tea_pot, 2 red_sauces, 2 red_onions, 1 pickled_chili, 2 pitas, 1 chicken_meat, 2 snacks, 37.8ms\n",
      "video 1/1 (frame 409/1731) D:\\MY PROJECTS\\zebra_test_task\\3_2.mov: 960x544 1 tea_pot, 2 red_sauces, 2 red_onions, 1 pickled_chili, 2 pitas, 1 chicken_meat, 2 snacks, 31.2ms\n",
      "video 1/1 (frame 410/1731) D:\\MY PROJECTS\\zebra_test_task\\3_2.mov: 960x544 1 tea_pot, 2 red_sauces, 2 red_onions, 1 pickled_chili, 2 pitas, 1 chicken_meat, 2 snacks, 31.3ms\n",
      "video 1/1 (frame 411/1731) D:\\MY PROJECTS\\zebra_test_task\\3_2.mov: 960x544 1 tea_pot, 2 red_sauces, 2 red_onions, 1 pickled_chili, 2 pitas, 1 chicken_meat, 2 snacks, 22.1ms\n",
      "video 1/1 (frame 412/1731) D:\\MY PROJECTS\\zebra_test_task\\3_2.mov: 960x544 1 tea_pot, 2 red_sauces, 2 red_onions, 1 pickled_chili, 2 pitas, 1 chicken_meat, 2 snacks, 31.2ms\n",
      "video 1/1 (frame 413/1731) D:\\MY PROJECTS\\zebra_test_task\\3_2.mov: 960x544 1 tea_pot, 2 red_sauces, 2 red_onions, 1 pickled_chili, 2 pitas, 1 chicken_meat, 2 snacks, 35.8ms\n",
      "video 1/1 (frame 414/1731) D:\\MY PROJECTS\\zebra_test_task\\3_2.mov: 960x544 1 tea_pot, 2 red_sauces, 2 red_onions, 1 pickled_chili, 2 pitas, 1 chicken_meat, 2 snacks, 31.2ms\n",
      "video 1/1 (frame 415/1731) D:\\MY PROJECTS\\zebra_test_task\\3_2.mov: 960x544 1 tea_pot, 2 red_sauces, 2 red_onions, 1 pickled_chili, 2 pitas, 1 chicken_meat, 2 snacks, 45.2ms\n",
      "video 1/1 (frame 416/1731) D:\\MY PROJECTS\\zebra_test_task\\3_2.mov: 960x544 1 tea_pot, 2 red_sauces, 2 red_onions, 1 pickled_chili, 2 pitas, 1 chicken_meat, 2 snacks, 31.2ms\n",
      "video 1/1 (frame 417/1731) D:\\MY PROJECTS\\zebra_test_task\\3_2.mov: 960x544 1 tea_pot, 2 red_sauces, 2 red_onions, 1 pickled_chili, 2 pitas, 1 chicken_meat, 2 snacks, 36.3ms\n",
      "video 1/1 (frame 418/1731) D:\\MY PROJECTS\\zebra_test_task\\3_2.mov: 960x544 1 tea_pot, 2 red_sauces, 2 red_onions, 1 pickled_chili, 2 pitas, 1 chicken_meat, 2 snacks, 31.2ms\n",
      "video 1/1 (frame 419/1731) D:\\MY PROJECTS\\zebra_test_task\\3_2.mov: 960x544 1 tea_pot, 2 red_sauces, 2 red_onions, 1 pickled_chili, 2 pitas, 1 chicken_meat, 2 snacks, 28.6ms\n",
      "video 1/1 (frame 420/1731) D:\\MY PROJECTS\\zebra_test_task\\3_2.mov: 960x544 1 tea_pot, 2 red_sauces, 2 red_onions, 1 pickled_chili, 2 pitas, 1 chicken_meat, 2 snacks, 46.9ms\n",
      "video 1/1 (frame 421/1731) D:\\MY PROJECTS\\zebra_test_task\\3_2.mov: 960x544 1 tea_pot, 2 red_sauces, 2 red_onions, 1 pickled_chili, 2 pitas, 1 chicken_meat, 2 snacks, 22.1ms\n",
      "video 1/1 (frame 422/1731) D:\\MY PROJECTS\\zebra_test_task\\3_2.mov: 960x544 1 tea_pot, 2 red_sauces, 2 red_onions, 1 pickled_chili, 2 pitas, 1 chicken_meat, 2 snacks, 30.2ms\n",
      "video 1/1 (frame 423/1731) D:\\MY PROJECTS\\zebra_test_task\\3_2.mov: 960x544 1 tea_pot, 2 red_sauces, 2 red_onions, 1 pickled_chili, 2 pitas, 1 chicken_meat, 2 snacks, 32.1ms\n",
      "video 1/1 (frame 424/1731) D:\\MY PROJECTS\\zebra_test_task\\3_2.mov: 960x544 1 tea_pot, 2 red_sauces, 2 red_onions, 1 pickled_chili, 2 pitas, 1 chicken_meat, 2 snacks, 38.2ms\n",
      "video 1/1 (frame 425/1731) D:\\MY PROJECTS\\zebra_test_task\\3_2.mov: 960x544 1 tea_pot, 2 red_sauces, 2 red_onions, 1 pickled_chili, 2 pitas, 1 chicken_meat, 2 snacks, 30.5ms\n",
      "video 1/1 (frame 426/1731) D:\\MY PROJECTS\\zebra_test_task\\3_2.mov: 960x544 1 tea_pot, 2 red_sauces, 2 red_onions, 1 pickled_chili, 2 pitas, 1 chicken_meat, 1 pork_meat, 2 snacks, 40.7ms\n",
      "video 1/1 (frame 427/1731) D:\\MY PROJECTS\\zebra_test_task\\3_2.mov: 960x544 1 tea_pot, 2 red_sauces, 2 red_onions, 1 pickled_chili, 2 pitas, 1 chicken_meat, 1 pork_meat, 2 snacks, 40.2ms\n",
      "video 1/1 (frame 428/1731) D:\\MY PROJECTS\\zebra_test_task\\3_2.mov: 960x544 1 tea_pot, 2 red_sauces, 2 red_onions, 1 pickled_chili, 2 pitas, 1 chicken_meat, 1 pork_meat, 2 snacks, 42.2ms\n",
      "video 1/1 (frame 429/1731) D:\\MY PROJECTS\\zebra_test_task\\3_2.mov: 960x544 1 tea_pot, 2 red_sauces, 2 red_onions, 1 pickled_chili, 2 pitas, 1 chicken_meat, 1 pork_meat, 2 snacks, 40.2ms\n",
      "video 1/1 (frame 430/1731) D:\\MY PROJECTS\\zebra_test_task\\3_2.mov: 960x544 1 tea_pot, 2 red_sauces, 2 red_onions, 1 pickled_chili, 2 pitas, 1 chicken_meat, 1 pork_meat, 2 snacks, 32.2ms\n",
      "video 1/1 (frame 431/1731) D:\\MY PROJECTS\\zebra_test_task\\3_2.mov: 960x544 1 tea_pot, 2 red_sauces, 2 red_onions, 1 pickled_chili, 2 pitas, 1 chicken_meat, 1 pork_meat, 2 snacks, 30.1ms\n",
      "video 1/1 (frame 432/1731) D:\\MY PROJECTS\\zebra_test_task\\3_2.mov: 960x544 1 tea_pot, 2 red_sauces, 2 red_onions, 1 pickled_chili, 2 pitas, 1 chicken_meat, 1 pork_meat, 2 snacks, 41.5ms\n",
      "video 1/1 (frame 433/1731) D:\\MY PROJECTS\\zebra_test_task\\3_2.mov: 960x544 1 tea_pot, 2 red_sauces, 2 red_onions, 1 pickled_chili, 2 pitas, 1 chicken_meat, 1 pork_meat, 2 snacks, 40.3ms\n",
      "video 1/1 (frame 434/1731) D:\\MY PROJECTS\\zebra_test_task\\3_2.mov: 960x544 1 tea_pot, 2 red_sauces, 2 red_onions, 1 pickled_chili, 2 pitas, 1 chicken_meat, 1 pork_meat, 2 snacks, 42.9ms\n",
      "video 1/1 (frame 435/1731) D:\\MY PROJECTS\\zebra_test_task\\3_2.mov: 960x544 1 tea_pot, 2 red_sauces, 2 red_onions, 1 pickled_chili, 2 pitas, 1 chicken_meat, 1 pork_meat, 2 snacks, 38.2ms\n",
      "video 1/1 (frame 436/1731) D:\\MY PROJECTS\\zebra_test_task\\3_2.mov: 960x544 1 tea_pot, 2 red_sauces, 2 red_onions, 1 pickled_chili, 2 pitas, 1 chicken_meat, 1 pork_meat, 2 snacks, 42.5ms\n",
      "video 1/1 (frame 437/1731) D:\\MY PROJECTS\\zebra_test_task\\3_2.mov: 960x544 1 tea_pot, 2 red_sauces, 2 red_onions, 1 pickled_chili, 2 pitas, 1 chicken_meat, 1 pork_meat, 2 snacks, 38.1ms\n",
      "video 1/1 (frame 438/1731) D:\\MY PROJECTS\\zebra_test_task\\3_2.mov: 960x544 1 tea_pot, 2 red_sauces, 2 red_onions, 1 pickled_chili, 2 pitas, 1 chicken_meat, 1 pork_meat, 2 snacks, 40.2ms\n",
      "video 1/1 (frame 439/1731) D:\\MY PROJECTS\\zebra_test_task\\3_2.mov: 960x544 1 tea_pot, 2 red_sauces, 2 red_onions, 1 pickled_chili, 2 pitas, 1 chicken_meat, 1 pork_meat, 2 snacks, 40.2ms\n",
      "video 1/1 (frame 440/1731) D:\\MY PROJECTS\\zebra_test_task\\3_2.mov: 960x544 1 tea_pot, 2 red_sauces, 2 red_onions, 1 pickled_chili, 2 pitas, 1 chicken_meat, 1 pork_meat, 2 snacks, 30.1ms\n",
      "video 1/1 (frame 441/1731) D:\\MY PROJECTS\\zebra_test_task\\3_2.mov: 960x544 1 tea_pot, 2 red_sauces, 2 red_onions, 1 pickled_chili, 2 pitas, 1 chicken_meat, 1 pork_meat, 2 snacks, 38.1ms\n",
      "video 1/1 (frame 442/1731) D:\\MY PROJECTS\\zebra_test_task\\3_2.mov: 960x544 1 tea_pot, 2 red_sauces, 2 red_onions, 1 pickled_chili, 2 pitas, 1 chicken_meat, 1 pork_meat, 2 snacks, 32.1ms\n",
      "video 1/1 (frame 443/1731) D:\\MY PROJECTS\\zebra_test_task\\3_2.mov: 960x544 1 tea_pot, 2 red_sauces, 2 red_onions, 1 pickled_chili, 2 pitas, 1 chicken_meat, 1 pork_meat, 2 snacks, 38.9ms\n",
      "video 1/1 (frame 444/1731) D:\\MY PROJECTS\\zebra_test_task\\3_2.mov: 960x544 1 tea_pot, 2 red_sauces, 2 red_onions, 1 pickled_chili, 2 pitas, 1 chicken_meat, 1 pork_meat, 2 snacks, 30.5ms\n",
      "video 1/1 (frame 445/1731) D:\\MY PROJECTS\\zebra_test_task\\3_2.mov: 960x544 1 tea_pot, 2 red_sauces, 2 red_onions, 1 pickled_chili, 2 pitas, 1 chicken_meat, 1 pork_meat, 2 snacks, 40.1ms\n",
      "video 1/1 (frame 446/1731) D:\\MY PROJECTS\\zebra_test_task\\3_2.mov: 960x544 1 tea_pot, 2 red_sauces, 2 red_onions, 1 pickled_chili, 2 pitas, 1 chicken_meat, 1 pork_meat, 2 snacks, 32.2ms\n",
      "video 1/1 (frame 447/1731) D:\\MY PROJECTS\\zebra_test_task\\3_2.mov: 960x544 1 tea_pot, 2 red_sauces, 2 red_onions, 1 pickled_chili, 2 pitas, 1 chicken_meat, 1 pork_meat, 2 snacks, 30.1ms\n",
      "video 1/1 (frame 448/1731) D:\\MY PROJECTS\\zebra_test_task\\3_2.mov: 960x544 1 tea_pot, 2 red_sauces, 2 red_onions, 1 pickled_chili, 2 pitas, 1 chicken_meat, 1 pork_meat, 2 snacks, 40.7ms\n",
      "video 1/1 (frame 449/1731) D:\\MY PROJECTS\\zebra_test_task\\3_2.mov: 960x544 1 tea_pot, 2 red_sauces, 2 red_onions, 1 pickled_chili, 2 pitas, 1 chicken_meat, 1 pork_meat, 2 snacks, 30.1ms\n",
      "video 1/1 (frame 450/1731) D:\\MY PROJECTS\\zebra_test_task\\3_2.mov: 960x544 1 tea_pot, 2 red_sauces, 2 red_onions, 1 pickled_chili, 2 pitas, 1 chicken_meat, 1 pork_meat, 2 snacks, 29.9ms\n",
      "video 1/1 (frame 451/1731) D:\\MY PROJECTS\\zebra_test_task\\3_2.mov: 960x544 1 tea_pot, 2 red_sauces, 2 red_onions, 1 pickled_chili, 2 pitas, 1 chicken_meat, 1 pork_meat, 2 snacks, 38.3ms\n",
      "video 1/1 (frame 452/1731) D:\\MY PROJECTS\\zebra_test_task\\3_2.mov: 960x544 1 tea_pot, 2 red_sauces, 2 red_onions, 1 pickled_chili, 2 pitas, 1 chicken_meat, 1 pork_meat, 2 snacks, 40.4ms\n",
      "video 1/1 (frame 453/1731) D:\\MY PROJECTS\\zebra_test_task\\3_2.mov: 960x544 1 tea_pot, 2 red_sauces, 2 red_onions, 1 pickled_chili, 2 pitas, 1 chicken_meat, 1 pork_meat, 2 snacks, 40.2ms\n",
      "video 1/1 (frame 454/1731) D:\\MY PROJECTS\\zebra_test_task\\3_2.mov: 960x544 1 tea_pot, 2 red_sauces, 2 red_onions, 1 pickled_chili, 2 pitas, 1 chicken_meat, 1 pork_meat, 2 snacks, 38.2ms\n",
      "video 1/1 (frame 455/1731) D:\\MY PROJECTS\\zebra_test_task\\3_2.mov: 960x544 1 tea_pot, 2 red_sauces, 2 red_onions, 1 pickled_chili, 2 pitas, 1 chicken_meat, 1 pork_meat, 2 snacks, 40.2ms\n",
      "video 1/1 (frame 456/1731) D:\\MY PROJECTS\\zebra_test_task\\3_2.mov: 960x544 1 tea_pot, 2 red_sauces, 2 red_onions, 1 pickled_chili, 2 pitas, 1 chicken_meat, 1 pork_meat, 2 snacks, 32.6ms\n",
      "video 1/1 (frame 457/1731) D:\\MY PROJECTS\\zebra_test_task\\3_2.mov: 960x544 1 tea_pot, 2 red_sauces, 2 red_onions, 1 pickled_chili, 2 pitas, 1 chicken_meat, 1 pork_meat, 2 snacks, 40.2ms\n",
      "video 1/1 (frame 458/1731) D:\\MY PROJECTS\\zebra_test_task\\3_2.mov: 960x544 1 tea_pot, 2 red_sauces, 2 red_onions, 1 pickled_chili, 2 pitas, 1 chicken_meat, 1 pork_meat, 2 snacks, 30.8ms\n",
      "video 1/1 (frame 459/1731) D:\\MY PROJECTS\\zebra_test_task\\3_2.mov: 960x544 1 tea_pot, 1 red_sauce, 2 red_onions, 1 pickled_chili, 2 pitas, 1 chicken_meat, 1 pork_meat, 2 snacks, 38.2ms\n",
      "video 1/1 (frame 460/1731) D:\\MY PROJECTS\\zebra_test_task\\3_2.mov: 960x544 1 tea_pot, 2 red_sauces, 2 red_onions, 1 pickled_chili, 2 pitas, 1 chicken_meat, 1 pork_meat, 2 snacks, 38.1ms\n",
      "video 1/1 (frame 461/1731) D:\\MY PROJECTS\\zebra_test_task\\3_2.mov: 960x544 1 tea_pot, 2 red_sauces, 2 red_onions, 1 pickled_chili, 2 pitas, 1 chicken_meat, 1 pork_meat, 2 snacks, 31.2ms\n",
      "video 1/1 (frame 462/1731) D:\\MY PROJECTS\\zebra_test_task\\3_2.mov: 960x544 1 tea_pot, 2 red_sauces, 2 red_onions, 1 pickled_chili, 2 pitas, 1 chicken_meat, 1 pork_meat, 2 snacks, 31.3ms\n",
      "video 1/1 (frame 463/1731) D:\\MY PROJECTS\\zebra_test_task\\3_2.mov: 960x544 1 tea_pot, 2 red_sauces, 2 red_onions, 1 pickled_chili, 2 pitas, 1 chicken_meat, 1 pork_meat, 2 snacks, 38.1ms\n",
      "video 1/1 (frame 464/1731) D:\\MY PROJECTS\\zebra_test_task\\3_2.mov: 960x544 1 tea_pot, 2 red_sauces, 2 red_onions, 1 pickled_chili, 2 pitas, 1 chicken_meat, 1 pork_meat, 2 snacks, 30.3ms\n",
      "video 1/1 (frame 465/1731) D:\\MY PROJECTS\\zebra_test_task\\3_2.mov: 960x544 1 tea_pot, 2 red_sauces, 2 red_onions, 1 pickled_chili, 2 pitas, 1 chicken_meat, 1 pork_meat, 2 snacks, 30.4ms\n",
      "video 1/1 (frame 466/1731) D:\\MY PROJECTS\\zebra_test_task\\3_2.mov: 960x544 1 tea_pot, 2 red_sauces, 1 red_onion, 1 pickled_chili, 2 pitas, 1 chicken_meat, 1 pork_meat, 2 snacks, 32.2ms\n",
      "video 1/1 (frame 467/1731) D:\\MY PROJECTS\\zebra_test_task\\3_2.mov: 960x544 1 tea_pot, 2 red_sauces, 1 red_onion, 1 pickled_chili, 2 pitas, 1 chicken_meat, 1 pork_meat, 2 snacks, 40.1ms\n",
      "video 1/1 (frame 468/1731) D:\\MY PROJECTS\\zebra_test_task\\3_2.mov: 960x544 1 tea_pot, 2 red_sauces, 1 red_onion, 1 pickled_chili, 2 pitas, 1 chicken_meat, 1 pork_meat, 2 snacks, 40.9ms\n",
      "video 1/1 (frame 469/1731) D:\\MY PROJECTS\\zebra_test_task\\3_2.mov: 960x544 1 tea_pot, 2 red_sauces, 1 red_onion, 1 pickled_chili, 2 pitas, 1 chicken_meat, 1 pork_meat, 2 snacks, 30.1ms\n",
      "video 1/1 (frame 470/1731) D:\\MY PROJECTS\\zebra_test_task\\3_2.mov: 960x544 1 tea_pot, 2 red_sauces, 1 red_onion, 1 pickled_chili, 2 pitas, 1 chicken_meat, 1 pork_meat, 2 snacks, 38.5ms\n",
      "video 1/1 (frame 471/1731) D:\\MY PROJECTS\\zebra_test_task\\3_2.mov: 960x544 1 tea_pot, 2 red_sauces, 1 red_onion, 1 pickled_chili, 2 pitas, 1 chicken_meat, 1 pork_meat, 2 snacks, 40.2ms\n",
      "video 1/1 (frame 472/1731) D:\\MY PROJECTS\\zebra_test_task\\3_2.mov: 960x544 1 tea_pot, 2 red_sauces, 1 red_onion, 1 pickled_chili, 2 pitas, 1 chicken_meat, 1 pork_meat, 2 snacks, 32.7ms\n",
      "video 1/1 (frame 473/1731) D:\\MY PROJECTS\\zebra_test_task\\3_2.mov: 960x544 1 tea_pot, 2 red_sauces, 1 red_onion, 1 pickled_chili, 2 pitas, 1 chicken_meat, 1 pork_meat, 2 snacks, 38.1ms\n",
      "video 1/1 (frame 474/1731) D:\\MY PROJECTS\\zebra_test_task\\3_2.mov: 960x544 1 tea_pot, 2 red_sauces, 1 red_onion, 1 pickled_chili, 2 pitas, 1 chicken_meat, 1 pork_meat, 2 snacks, 38.1ms\n",
      "video 1/1 (frame 475/1731) D:\\MY PROJECTS\\zebra_test_task\\3_2.mov: 960x544 1 tea_pot, 2 red_sauces, 1 red_onion, 1 pickled_chili, 2 pitas, 1 chicken_meat, 1 pork_meat, 2 snacks, 40.4ms\n",
      "video 1/1 (frame 476/1731) D:\\MY PROJECTS\\zebra_test_task\\3_2.mov: 960x544 1 tea_pot, 2 red_sauces, 1 red_onion, 1 pickled_chili, 2 pitas, 1 chicken_meat, 1 pork_meat, 2 snacks, 41.0ms\n",
      "video 1/1 (frame 477/1731) D:\\MY PROJECTS\\zebra_test_task\\3_2.mov: 960x544 1 tea_pot, 2 red_sauces, 1 red_onion, 1 pickled_chili, 2 pitas, 1 chicken_meat, 1 pork_meat, 2 snacks, 40.8ms\n",
      "video 1/1 (frame 478/1731) D:\\MY PROJECTS\\zebra_test_task\\3_2.mov: 960x544 1 tea_pot, 2 red_sauces, 1 red_onion, 1 pickled_chili, 2 pitas, 1 chicken_meat, 1 pork_meat, 2 snacks, 37.8ms\n",
      "video 1/1 (frame 479/1731) D:\\MY PROJECTS\\zebra_test_task\\3_2.mov: 960x544 1 tea_pot, 2 red_sauces, 1 red_onion, 1 pickled_chili, 2 pitas, 1 chicken_meat, 1 pork_meat, 2 snacks, 31.2ms\n",
      "video 1/1 (frame 480/1731) D:\\MY PROJECTS\\zebra_test_task\\3_2.mov: 960x544 1 tea_pot, 2 red_sauces, 1 red_onion, 1 pickled_chili, 2 pitas, 1 chicken_meat, 1 pork_meat, 2 snacks, 31.2ms\n",
      "video 1/1 (frame 481/1731) D:\\MY PROJECTS\\zebra_test_task\\3_2.mov: 960x544 1 tea_pot, 2 red_sauces, 1 red_onion, 1 pickled_chili, 2 pitas, 1 chicken_meat, 1 pork_meat, 2 snacks, 37.8ms\n",
      "video 1/1 (frame 482/1731) D:\\MY PROJECTS\\zebra_test_task\\3_2.mov: 960x544 1 tea_pot, 2 red_sauces, 1 red_onion, 1 pickled_chili, 2 pitas, 1 chicken_meat, 1 pork_meat, 2 snacks, 46.9ms\n",
      "video 1/1 (frame 483/1731) D:\\MY PROJECTS\\zebra_test_task\\3_2.mov: 960x544 1 tea_pot, 2 red_sauces, 1 red_onion, 1 pickled_chili, 2 pitas, 1 chicken_meat, 1 pork_meat, 2 snacks, 31.3ms\n",
      "video 1/1 (frame 484/1731) D:\\MY PROJECTS\\zebra_test_task\\3_2.mov: 960x544 1 tea_pot, 2 red_sauces, 1 red_onion, 1 pickled_chili, 2 pitas, 1 chicken_meat, 1 pork_meat, 2 snacks, 37.8ms\n",
      "video 1/1 (frame 485/1731) D:\\MY PROJECTS\\zebra_test_task\\3_2.mov: 960x544 1 tea_pot, 2 red_sauces, 1 red_onion, 1 pickled_chili, 2 pitas, 1 chicken_meat, 1 pork_meat, 2 snacks, 31.4ms\n",
      "video 1/1 (frame 486/1731) D:\\MY PROJECTS\\zebra_test_task\\3_2.mov: 960x544 1 tea_pot, 2 red_sauces, 1 red_onion, 1 pickled_chili, 2 pitas, 1 chicken_meat, 1 pork_meat, 2 snacks, 37.5ms\n",
      "video 1/1 (frame 487/1731) D:\\MY PROJECTS\\zebra_test_task\\3_2.mov: 960x544 1 tea_pot, 2 red_sauces, 1 red_onion, 1 pickled_chili, 2 pitas, 1 chicken_meat, 1 pork_meat, 2 snacks, 31.2ms\n",
      "video 1/1 (frame 488/1731) D:\\MY PROJECTS\\zebra_test_task\\3_2.mov: 960x544 1 tea_pot, 2 red_sauces, 1 red_onion, 1 pickled_chili, 2 pitas, 1 chicken_meat, 1 pork_meat, 2 snacks, 37.8ms\n",
      "video 1/1 (frame 489/1731) D:\\MY PROJECTS\\zebra_test_task\\3_2.mov: 960x544 1 tea_pot, 2 red_sauces, 1 red_onion, 1 pickled_chili, 2 pitas, 1 chicken_meat, 1 pork_meat, 2 snacks, 31.1ms\n",
      "video 1/1 (frame 490/1731) D:\\MY PROJECTS\\zebra_test_task\\3_2.mov: 960x544 1 tea_pot, 2 red_sauces, 1 red_onion, 1 pickled_chili, 2 pitas, 1 chicken_meat, 1 pork_meat, 2 snacks, 31.3ms\n",
      "video 1/1 (frame 491/1731) D:\\MY PROJECTS\\zebra_test_task\\3_2.mov: 960x544 1 tea_pot, 2 red_sauces, 1 red_onion, 1 pickled_chili, 2 pitas, 1 chicken_meat, 1 pork_meat, 2 snacks, 31.2ms\n",
      "video 1/1 (frame 492/1731) D:\\MY PROJECTS\\zebra_test_task\\3_2.mov: 960x544 1 tea_pot, 2 red_sauces, 1 red_onion, 1 pickled_chili, 2 pitas, 1 chicken_meat, 1 pork_meat, 2 snacks, 31.3ms\n",
      "video 1/1 (frame 493/1731) D:\\MY PROJECTS\\zebra_test_task\\3_2.mov: 960x544 1 tea_pot, 2 red_sauces, 1 red_onion, 1 pickled_chili, 2 pitas, 1 chicken_meat, 1 pork_meat, 2 snacks, 38.6ms\n",
      "video 1/1 (frame 494/1731) D:\\MY PROJECTS\\zebra_test_task\\3_2.mov: 960x544 1 tea_pot, 2 red_sauces, 1 red_onion, 1 pickled_chili, 2 pitas, 1 chicken_meat, 1 pork_meat, 2 snacks, 31.3ms\n",
      "video 1/1 (frame 495/1731) D:\\MY PROJECTS\\zebra_test_task\\3_2.mov: 960x544 1 tea_pot, 2 red_sauces, 1 red_onion, 1 pickled_chili, 2 pitas, 1 chicken_meat, 1 pork_meat, 2 snacks, 37.8ms\n",
      "video 1/1 (frame 496/1731) D:\\MY PROJECTS\\zebra_test_task\\3_2.mov: 960x544 1 tea_pot, 2 red_sauces, 1 red_onion, 1 pickled_chili, 2 pitas, 1 chicken_meat, 1 pork_meat, 2 snacks, 31.2ms\n",
      "video 1/1 (frame 497/1731) D:\\MY PROJECTS\\zebra_test_task\\3_2.mov: 960x544 1 tea_pot, 2 red_sauces, 1 red_onion, 1 pickled_chili, 2 pitas, 1 chicken_meat, 1 pork_meat, 2 snacks, 31.3ms\n",
      "video 1/1 (frame 498/1731) D:\\MY PROJECTS\\zebra_test_task\\3_2.mov: 960x544 1 tea_pot, 2 red_sauces, 1 red_onion, 1 pickled_chili, 2 pitas, 1 chicken_meat, 1 pork_meat, 2 snacks, 40.2ms\n",
      "video 1/1 (frame 499/1731) D:\\MY PROJECTS\\zebra_test_task\\3_2.mov: 960x544 1 tea_pot, 2 red_sauces, 1 red_onion, 1 pickled_chili, 2 pitas, 1 chicken_meat, 1 pork_meat, 2 snacks, 32.1ms\n",
      "video 1/1 (frame 500/1731) D:\\MY PROJECTS\\zebra_test_task\\3_2.mov: 960x544 1 tea_pot, 2 red_sauces, 1 red_onion, 1 pickled_chili, 2 pitas, 1 chicken_meat, 1 pork_meat, 2 snacks, 32.2ms\n",
      "video 1/1 (frame 501/1731) D:\\MY PROJECTS\\zebra_test_task\\3_2.mov: 960x544 1 tea_pot, 2 red_sauces, 1 red_onion, 1 pickled_chili, 2 pitas, 1 chicken_meat, 1 pork_meat, 2 snacks, 32.2ms\n",
      "video 1/1 (frame 502/1731) D:\\MY PROJECTS\\zebra_test_task\\3_2.mov: 960x544 1 tea_pot, 2 red_sauces, 1 red_onion, 1 pickled_chili, 2 pitas, 1 chicken_meat, 1 pork_meat, 2 snacks, 38.2ms\n",
      "video 1/1 (frame 503/1731) D:\\MY PROJECTS\\zebra_test_task\\3_2.mov: 960x544 1 tea_pot, 2 red_sauces, 1 red_onion, 1 pickled_chili, 2 pitas, 1 chicken_meat, 2 snacks, 38.2ms\n",
      "video 1/1 (frame 504/1731) D:\\MY PROJECTS\\zebra_test_task\\3_2.mov: 960x544 1 tea_pot, 2 red_sauces, 1 red_onion, 1 pickled_chili, 3 pitas, 1 chicken_meat, 2 snacks, 40.2ms\n",
      "video 1/1 (frame 505/1731) D:\\MY PROJECTS\\zebra_test_task\\3_2.mov: 960x544 1 tea_pot, 2 red_sauces, 1 red_onion, 1 pickled_chili, 2 pitas, 1 chicken_meat, 2 snacks, 40.2ms\n",
      "video 1/1 (frame 506/1731) D:\\MY PROJECTS\\zebra_test_task\\3_2.mov: 960x544 1 tea_pot, 2 red_sauces, 1 red_onion, 1 pickled_chili, 2 pitas, 1 chicken_meat, 2 snacks, 30.2ms\n",
      "video 1/1 (frame 507/1731) D:\\MY PROJECTS\\zebra_test_task\\3_2.mov: 960x544 1 tea_pot, 2 red_sauces, 1 red_onion, 1 pickled_chili, 2 pitas, 1 chicken_meat, 2 snacks, 31.4ms\n",
      "video 1/1 (frame 508/1731) D:\\MY PROJECTS\\zebra_test_task\\3_2.mov: 960x544 1 tea_pot, 2 red_sauces, 1 red_onion, 1 pickled_chili, 2 pitas, 1 chicken_meat, 2 snacks, 28.6ms\n",
      "video 1/1 (frame 509/1731) D:\\MY PROJECTS\\zebra_test_task\\3_2.mov: 960x544 1 tea_pot, 2 red_sauces, 1 red_onion, 1 pickled_chili, 2 pitas, 1 chicken_meat, 2 snacks, 31.3ms\n",
      "video 1/1 (frame 510/1731) D:\\MY PROJECTS\\zebra_test_task\\3_2.mov: 960x544 1 tea_pot, 2 red_sauces, 2 red_onions, 1 pickled_chili, 2 pitas, 1 chicken_meat, 2 snacks, 31.2ms\n",
      "video 1/1 (frame 511/1731) D:\\MY PROJECTS\\zebra_test_task\\3_2.mov: 960x544 1 tea_pot, 2 red_sauces, 2 red_onions, 1 pickled_chili, 2 pitas, 1 chicken_meat, 2 snacks, 31.3ms\n",
      "video 1/1 (frame 512/1731) D:\\MY PROJECTS\\zebra_test_task\\3_2.mov: 960x544 1 tea_pot, 2 red_sauces, 2 red_onions, 1 pickled_chili, 2 pitas, 1 chicken_meat, 2 snacks, 31.2ms\n",
      "video 1/1 (frame 513/1731) D:\\MY PROJECTS\\zebra_test_task\\3_2.mov: 960x544 1 tea_pot, 2 red_sauces, 2 red_onions, 1 pickled_chili, 2 pitas, 1 chicken_meat, 2 snacks, 37.8ms\n",
      "video 1/1 (frame 514/1731) D:\\MY PROJECTS\\zebra_test_task\\3_2.mov: 960x544 1 tea_pot, 2 red_sauces, 2 red_onions, 1 pickled_chili, 2 pitas, 1 chicken_meat, 2 snacks, 31.2ms\n",
      "video 1/1 (frame 515/1731) D:\\MY PROJECTS\\zebra_test_task\\3_2.mov: 960x544 1 tea_pot, 2 red_sauces, 2 red_onions, 1 pickled_chili, 2 pitas, 1 chicken_meat, 2 snacks, 37.4ms\n",
      "video 1/1 (frame 516/1731) D:\\MY PROJECTS\\zebra_test_task\\3_2.mov: 960x544 1 tea_pot, 2 red_sauces, 2 red_onions, 1 pickled_chili, 2 pitas, 1 chicken_meat, 2 snacks, 31.2ms\n",
      "video 1/1 (frame 517/1731) D:\\MY PROJECTS\\zebra_test_task\\3_2.mov: 960x544 1 tea_pot, 2 red_sauces, 2 red_onions, 1 pickled_chili, 2 pitas, 1 chicken_meat, 2 snacks, 48.4ms\n",
      "video 1/1 (frame 518/1731) D:\\MY PROJECTS\\zebra_test_task\\3_2.mov: 960x544 1 tea_pot, 2 red_sauces, 2 red_onions, 1 pickled_chili, 2 pitas, 1 chicken_meat, 2 snacks, 46.7ms\n",
      "video 1/1 (frame 519/1731) D:\\MY PROJECTS\\zebra_test_task\\3_2.mov: 960x544 1 tea_pot, 2 red_sauces, 2 red_onions, 1 pickled_chili, 2 pitas, 1 chicken_meat, 2 snacks, 32.5ms\n",
      "video 1/1 (frame 520/1731) D:\\MY PROJECTS\\zebra_test_task\\3_2.mov: 960x544 1 tea_pot, 2 red_sauces, 2 red_onions, 1 pickled_chili, 2 pitas, 1 chicken_meat, 2 snacks, 40.2ms\n",
      "video 1/1 (frame 521/1731) D:\\MY PROJECTS\\zebra_test_task\\3_2.mov: 960x544 1 tea_pot, 2 red_sauces, 2 red_onions, 1 pickled_chili, 2 pitas, 1 chicken_meat, 2 snacks, 40.2ms\n",
      "video 1/1 (frame 522/1731) D:\\MY PROJECTS\\zebra_test_task\\3_2.mov: 960x544 1 tea_pot, 2 red_sauces, 2 red_onions, 1 pickled_chili, 2 pitas, 1 chicken_meat, 2 snacks, 38.2ms\n",
      "video 1/1 (frame 523/1731) D:\\MY PROJECTS\\zebra_test_task\\3_2.mov: 960x544 1 tea_pot, 2 red_sauces, 2 red_onions, 1 pickled_chili, 2 pitas, 1 chicken_meat, 2 snacks, 40.1ms\n",
      "video 1/1 (frame 524/1731) D:\\MY PROJECTS\\zebra_test_task\\3_2.mov: 960x544 1 tea_pot, 2 red_sauces, 2 red_onions, 1 pickled_chili, 2 pitas, 1 chicken_meat, 2 snacks, 38.1ms\n",
      "video 1/1 (frame 525/1731) D:\\MY PROJECTS\\zebra_test_task\\3_2.mov: 960x544 1 tea_pot, 2 red_sauces, 2 red_onions, 1 pickled_chili, 2 pitas, 1 chicken_meat, 2 snacks, 40.2ms\n",
      "video 1/1 (frame 526/1731) D:\\MY PROJECTS\\zebra_test_task\\3_2.mov: 960x544 1 tea_pot, 2 red_sauces, 2 red_onions, 1 pickled_chili, 2 pitas, 1 chicken_meat, 2 snacks, 32.2ms\n",
      "video 1/1 (frame 527/1731) D:\\MY PROJECTS\\zebra_test_task\\3_2.mov: 960x544 1 tea_pot, 2 red_sauces, 2 red_onions, 1 pickled_chili, 2 pitas, 1 chicken_meat, 2 snacks, 41.2ms\n",
      "video 1/1 (frame 528/1731) D:\\MY PROJECTS\\zebra_test_task\\3_2.mov: 960x544 1 tea_pot, 2 red_sauces, 2 red_onions, 1 pickled_chili, 2 pitas, 1 chicken_meat, 2 snacks, 30.6ms\n",
      "video 1/1 (frame 529/1731) D:\\MY PROJECTS\\zebra_test_task\\3_2.mov: 960x544 1 tea_pot, 2 red_sauces, 2 red_onions, 1 pickled_chili, 2 pitas, 1 chicken_meat, 2 snacks, 30.5ms\n",
      "video 1/1 (frame 530/1731) D:\\MY PROJECTS\\zebra_test_task\\3_2.mov: 960x544 1 tea_pot, 2 red_sauces, 2 red_onions, 1 pickled_chili, 2 pitas, 1 chicken_meat, 2 snacks, 41.1ms\n",
      "video 1/1 (frame 531/1731) D:\\MY PROJECTS\\zebra_test_task\\3_2.mov: 960x544 1 tea_pot, 2 red_sauces, 2 red_onions, 1 pickled_chili, 2 pitas, 1 chicken_meat, 2 snacks, 32.7ms\n",
      "video 1/1 (frame 532/1731) D:\\MY PROJECTS\\zebra_test_task\\3_2.mov: 960x544 1 tea_pot, 2 red_sauces, 2 red_onions, 1 pickled_chili, 2 pitas, 1 chicken_meat, 1 pork_meat, 2 snacks, 38.2ms\n",
      "video 1/1 (frame 533/1731) D:\\MY PROJECTS\\zebra_test_task\\3_2.mov: 960x544 1 tea_pot, 2 red_sauces, 2 red_onions, 1 pickled_chili, 2 pitas, 1 chicken_meat, 1 pork_meat, 2 snacks, 30.1ms\n",
      "video 1/1 (frame 534/1731) D:\\MY PROJECTS\\zebra_test_task\\3_2.mov: 960x544 1 tea_pot, 2 red_sauces, 2 red_onions, 1 pickled_chili, 2 pitas, 1 chicken_meat, 1 pork_meat, 2 snacks, 40.1ms\n",
      "video 1/1 (frame 535/1731) D:\\MY PROJECTS\\zebra_test_task\\3_2.mov: 960x544 1 tea_pot, 2 red_sauces, 2 red_onions, 1 pickled_chili, 2 pitas, 1 chicken_meat, 2 snacks, 40.1ms\n",
      "video 1/1 (frame 536/1731) D:\\MY PROJECTS\\zebra_test_task\\3_2.mov: 960x544 1 tea_pot, 2 red_sauces, 2 red_onions, 1 pickled_chili, 2 pitas, 1 chicken_meat, 2 snacks, 38.9ms\n",
      "video 1/1 (frame 537/1731) D:\\MY PROJECTS\\zebra_test_task\\3_2.mov: 960x544 1 tea_pot, 2 red_sauces, 2 red_onions, 1 pickled_chili, 2 pitas, 1 chicken_meat, 2 snacks, 32.2ms\n",
      "video 1/1 (frame 538/1731) D:\\MY PROJECTS\\zebra_test_task\\3_2.mov: 960x544 1 tea_pot, 2 red_sauces, 2 red_onions, 1 pickled_chili, 2 pitas, 1 chicken_meat, 2 snacks, 32.2ms\n",
      "video 1/1 (frame 539/1731) D:\\MY PROJECTS\\zebra_test_task\\3_2.mov: 960x544 1 tea_pot, 2 red_sauces, 2 red_onions, 1 pickled_chili, 2 pitas, 1 chicken_meat, 2 snacks, 32.2ms\n",
      "video 1/1 (frame 540/1731) D:\\MY PROJECTS\\zebra_test_task\\3_2.mov: 960x544 1 tea_pot, 2 red_sauces, 2 red_onions, 1 pickled_chili, 2 pitas, 1 chicken_meat, 2 snacks, 30.4ms\n",
      "video 1/1 (frame 541/1731) D:\\MY PROJECTS\\zebra_test_task\\3_2.mov: 960x544 1 tea_pot, 2 red_sauces, 2 red_onions, 1 pickled_chili, 2 pitas, 1 chicken_meat, 2 snacks, 40.2ms\n",
      "video 1/1 (frame 542/1731) D:\\MY PROJECTS\\zebra_test_task\\3_2.mov: 960x544 1 tea_pot, 2 red_sauces, 2 red_onions, 1 pickled_chili, 2 pitas, 1 chicken_meat, 1 pork_meat, 2 snacks, 32.1ms\n",
      "video 1/1 (frame 543/1731) D:\\MY PROJECTS\\zebra_test_task\\3_2.mov: 960x544 1 tea_pot, 2 red_sauces, 2 red_onions, 1 pickled_chili, 2 pitas, 1 chicken_meat, 1 pork_meat, 2 snacks, 30.3ms\n",
      "video 1/1 (frame 544/1731) D:\\MY PROJECTS\\zebra_test_task\\3_2.mov: 960x544 1 tea_pot, 2 red_sauces, 2 red_onions, 1 pickled_chili, 2 pitas, 1 chicken_meat, 2 snacks, 38.2ms\n",
      "video 1/1 (frame 545/1731) D:\\MY PROJECTS\\zebra_test_task\\3_2.mov: 960x544 1 tea_pot, 2 red_sauces, 2 red_onions, 1 pickled_chili, 2 pitas, 1 chicken_meat, 2 snacks, 28.1ms\n",
      "video 1/1 (frame 546/1731) D:\\MY PROJECTS\\zebra_test_task\\3_2.mov: 960x544 1 tea_pot, 2 red_sauces, 2 red_onions, 1 pickled_chili, 2 pitas, 1 chicken_meat, 2 snacks, 31.0ms\n",
      "video 1/1 (frame 547/1731) D:\\MY PROJECTS\\zebra_test_task\\3_2.mov: 960x544 1 tea_pot, 2 red_sauces, 2 red_onions, 1 pickled_chili, 2 pitas, 1 chicken_meat, 2 snacks, 32.5ms\n",
      "video 1/1 (frame 548/1731) D:\\MY PROJECTS\\zebra_test_task\\3_2.mov: 960x544 1 tea_pot, 2 red_sauces, 2 red_onions, 1 pickled_chili, 2 pitas, 1 chicken_meat, 2 snacks, 40.7ms\n",
      "video 1/1 (frame 549/1731) D:\\MY PROJECTS\\zebra_test_task\\3_2.mov: 960x544 1 tea_pot, 2 red_sauces, 2 red_onions, 1 pickled_chili, 2 pitas, 1 chicken_meat, 2 snacks, 32.1ms\n",
      "video 1/1 (frame 550/1731) D:\\MY PROJECTS\\zebra_test_task\\3_2.mov: 960x544 1 tea_pot, 2 red_sauces, 2 red_onions, 1 pickled_chili, 2 pitas, 1 chicken_meat, 2 snacks, 32.4ms\n",
      "video 1/1 (frame 551/1731) D:\\MY PROJECTS\\zebra_test_task\\3_2.mov: 960x544 1 tea_pot, 2 red_sauces, 2 red_onions, 1 pickled_chili, 2 pitas, 1 chicken_meat, 2 snacks, 32.1ms\n",
      "video 1/1 (frame 552/1731) D:\\MY PROJECTS\\zebra_test_task\\3_2.mov: 960x544 1 tea_pot, 2 red_sauces, 2 red_onions, 1 pickled_chili, 2 pitas, 1 chicken_meat, 2 snacks, 40.1ms\n",
      "video 1/1 (frame 553/1731) D:\\MY PROJECTS\\zebra_test_task\\3_2.mov: 960x544 1 tea_pot, 2 red_sauces, 2 red_onions, 1 pickled_chili, 2 pitas, 1 chicken_meat, 2 snacks, 32.2ms\n",
      "video 1/1 (frame 554/1731) D:\\MY PROJECTS\\zebra_test_task\\3_2.mov: 960x544 1 tea_pot, 2 red_sauces, 2 red_onions, 1 pickled_chili, 2 pitas, 1 chicken_meat, 2 snacks, 30.8ms\n",
      "video 1/1 (frame 555/1731) D:\\MY PROJECTS\\zebra_test_task\\3_2.mov: 960x544 1 tea_pot, 2 red_sauces, 2 red_onions, 1 pickled_chili, 2 pitas, 1 chicken_meat, 2 snacks, 30.6ms\n",
      "video 1/1 (frame 556/1731) D:\\MY PROJECTS\\zebra_test_task\\3_2.mov: 960x544 1 tea_pot, 2 red_sauces, 2 red_onions, 1 pickled_chili, 2 pitas, 1 chicken_meat, 2 snacks, 40.2ms\n",
      "video 1/1 (frame 557/1731) D:\\MY PROJECTS\\zebra_test_task\\3_2.mov: 960x544 1 tea_pot, 2 red_sauces, 2 red_onions, 1 pickled_chili, 2 pitas, 1 chicken_meat, 2 snacks, 40.2ms\n",
      "video 1/1 (frame 558/1731) D:\\MY PROJECTS\\zebra_test_task\\3_2.mov: 960x544 1 tea_pot, 2 red_sauces, 2 red_onions, 1 pickled_chili, 2 pitas, 1 chicken_meat, 2 snacks, 38.2ms\n",
      "video 1/1 (frame 559/1731) D:\\MY PROJECTS\\zebra_test_task\\3_2.mov: 960x544 1 tea_pot, 2 red_sauces, 2 red_onions, 1 pickled_chili, 2 pitas, 1 chicken_meat, 2 snacks, 32.2ms\n",
      "video 1/1 (frame 560/1731) D:\\MY PROJECTS\\zebra_test_task\\3_2.mov: 960x544 1 tea_pot, 2 red_sauces, 2 red_onions, 1 pickled_chili, 2 pitas, 1 chicken_meat, 2 snacks, 32.7ms\n",
      "video 1/1 (frame 561/1731) D:\\MY PROJECTS\\zebra_test_task\\3_2.mov: 960x544 1 tea_pot, 2 red_sauces, 2 red_onions, 1 pickled_chili, 2 pitas, 1 chicken_meat, 2 snacks, 32.2ms\n",
      "video 1/1 (frame 562/1731) D:\\MY PROJECTS\\zebra_test_task\\3_2.mov: 960x544 1 tea_pot, 2 red_sauces, 2 red_onions, 1 pickled_chili, 2 pitas, 1 chicken_meat, 2 snacks, 40.6ms\n",
      "video 1/1 (frame 563/1731) D:\\MY PROJECTS\\zebra_test_task\\3_2.mov: 960x544 1 tea_pot, 2 red_sauces, 2 red_onions, 1 pickled_chili, 2 pitas, 1 chicken_meat, 2 snacks, 40.1ms\n",
      "video 1/1 (frame 564/1731) D:\\MY PROJECTS\\zebra_test_task\\3_2.mov: 960x544 1 tea_pot, 2 red_sauces, 2 red_onions, 1 pickled_chili, 2 pitas, 1 chicken_meat, 2 snacks, 32.4ms\n",
      "video 1/1 (frame 565/1731) D:\\MY PROJECTS\\zebra_test_task\\3_2.mov: 960x544 1 tea_pot, 2 red_sauces, 2 red_onions, 1 pickled_chili, 2 pitas, 1 chicken_meat, 2 snacks, 30.1ms\n",
      "video 1/1 (frame 566/1731) D:\\MY PROJECTS\\zebra_test_task\\3_2.mov: 960x544 1 tea_pot, 2 red_sauces, 2 red_onions, 1 pickled_chili, 2 pitas, 1 chicken_meat, 2 snacks, 38.1ms\n",
      "video 1/1 (frame 567/1731) D:\\MY PROJECTS\\zebra_test_task\\3_2.mov: 960x544 1 tea_pot, 2 red_sauces, 2 red_onions, 1 pickled_chili, 2 pitas, 1 chicken_meat, 2 snacks, 40.2ms\n",
      "video 1/1 (frame 568/1731) D:\\MY PROJECTS\\zebra_test_task\\3_2.mov: 960x544 1 tea_pot, 2 red_sauces, 2 red_onions, 1 pickled_chili, 2 pitas, 1 chicken_meat, 2 snacks, 32.2ms\n",
      "video 1/1 (frame 569/1731) D:\\MY PROJECTS\\zebra_test_task\\3_2.mov: 960x544 1 tea_pot, 2 red_sauces, 2 red_onions, 1 pickled_chili, 2 pitas, 1 chicken_meat, 2 snacks, 40.2ms\n",
      "video 1/1 (frame 570/1731) D:\\MY PROJECTS\\zebra_test_task\\3_2.mov: 960x544 1 tea_pot, 2 red_sauces, 2 red_onions, 1 pickled_chili, 2 pitas, 1 chicken_meat, 2 snacks, 30.1ms\n",
      "video 1/1 (frame 571/1731) D:\\MY PROJECTS\\zebra_test_task\\3_2.mov: 960x544 1 tea_pot, 2 red_sauces, 2 red_onions, 1 pickled_chili, 2 pitas, 1 chicken_meat, 2 snacks, 38.1ms\n",
      "video 1/1 (frame 572/1731) D:\\MY PROJECTS\\zebra_test_task\\3_2.mov: 960x544 1 tea_pot, 2 red_sauces, 2 red_onions, 1 pickled_chili, 2 pitas, 1 chicken_meat, 2 snacks, 40.4ms\n",
      "video 1/1 (frame 573/1731) D:\\MY PROJECTS\\zebra_test_task\\3_2.mov: 960x544 1 tea_pot, 2 red_sauces, 2 red_onions, 1 pickled_chili, 2 pitas, 1 chicken_meat, 2 snacks, 30.9ms\n",
      "video 1/1 (frame 574/1731) D:\\MY PROJECTS\\zebra_test_task\\3_2.mov: 960x544 1 tea_pot, 2 red_sauces, 2 red_onions, 1 pickled_chili, 2 pitas, 1 chicken_meat, 2 snacks, 32.7ms\n",
      "video 1/1 (frame 575/1731) D:\\MY PROJECTS\\zebra_test_task\\3_2.mov: 960x544 1 tea_pot, 2 red_sauces, 2 red_onions, 1 pickled_chili, 2 pitas, 1 chicken_meat, 2 snacks, 38.1ms\n",
      "video 1/1 (frame 576/1731) D:\\MY PROJECTS\\zebra_test_task\\3_2.mov: 960x544 1 tea_pot, 2 red_sauces, 2 red_onions, 1 pickled_chili, 2 pitas, 1 chicken_meat, 2 snacks, 40.2ms\n",
      "video 1/1 (frame 577/1731) D:\\MY PROJECTS\\zebra_test_task\\3_2.mov: 960x544 1 tea_pot, 2 red_sauces, 2 red_onions, 1 pickled_chili, 2 pitas, 1 chicken_meat, 2 snacks, 30.9ms\n",
      "video 1/1 (frame 578/1731) D:\\MY PROJECTS\\zebra_test_task\\3_2.mov: 960x544 1 tea_pot, 2 red_sauces, 2 red_onions, 1 pickled_chili, 2 pitas, 1 chicken_meat, 2 snacks, 30.2ms\n",
      "video 1/1 (frame 579/1731) D:\\MY PROJECTS\\zebra_test_task\\3_2.mov: 960x544 1 tea_pot, 2 red_sauces, 2 red_onions, 1 pickled_chili, 2 pitas, 1 chicken_meat, 2 snacks, 32.2ms\n",
      "video 1/1 (frame 580/1731) D:\\MY PROJECTS\\zebra_test_task\\3_2.mov: 960x544 1 tea_pot, 2 red_sauces, 2 red_onions, 1 pickled_chili, 2 pitas, 1 chicken_meat, 2 snacks, 38.2ms\n",
      "video 1/1 (frame 581/1731) D:\\MY PROJECTS\\zebra_test_task\\3_2.mov: 960x544 1 tea_pot, 2 red_sauces, 2 red_onions, 1 pickled_chili, 2 pitas, 1 chicken_meat, 2 snacks, 32.1ms\n",
      "video 1/1 (frame 582/1731) D:\\MY PROJECTS\\zebra_test_task\\3_2.mov: 960x544 1 tea_pot, 2 red_sauces, 2 red_onions, 1 pickled_chili, 2 pitas, 1 chicken_meat, 2 snacks, 38.2ms\n",
      "video 1/1 (frame 583/1731) D:\\MY PROJECTS\\zebra_test_task\\3_2.mov: 960x544 1 tea_pot, 2 red_sauces, 2 red_onions, 1 pickled_chili, 2 pitas, 1 chicken_meat, 2 snacks, 32.5ms\n",
      "video 1/1 (frame 584/1731) D:\\MY PROJECTS\\zebra_test_task\\3_2.mov: 960x544 1 tea_pot, 2 red_sauces, 2 red_onions, 1 pickled_chili, 2 pitas, 1 chicken_meat, 2 snacks, 40.5ms\n",
      "video 1/1 (frame 585/1731) D:\\MY PROJECTS\\zebra_test_task\\3_2.mov: 960x544 1 tea_pot, 2 red_sauces, 2 red_onions, 1 pickled_chili, 2 pitas, 1 chicken_meat, 2 snacks, 40.2ms\n",
      "video 1/1 (frame 586/1731) D:\\MY PROJECTS\\zebra_test_task\\3_2.mov: 960x544 1 tea_pot, 2 red_sauces, 2 red_onions, 1 pickled_chili, 2 pitas, 1 chicken_meat, 2 snacks, 30.5ms\n",
      "video 1/1 (frame 587/1731) D:\\MY PROJECTS\\zebra_test_task\\3_2.mov: 960x544 1 tea_pot, 2 red_sauces, 2 red_onions, 1 pickled_chili, 2 pitas, 1 chicken_meat, 2 snacks, 32.2ms\n",
      "video 1/1 (frame 588/1731) D:\\MY PROJECTS\\zebra_test_task\\3_2.mov: 960x544 1 tea_pot, 2 red_sauces, 2 red_onions, 1 pickled_chili, 2 pitas, 1 chicken_meat, 2 snacks, 42.2ms\n",
      "video 1/1 (frame 589/1731) D:\\MY PROJECTS\\zebra_test_task\\3_2.mov: 960x544 1 tea_pot, 2 red_sauces, 2 red_onions, 1 pickled_chili, 2 pitas, 1 chicken_meat, 2 snacks, 40.2ms\n",
      "video 1/1 (frame 590/1731) D:\\MY PROJECTS\\zebra_test_task\\3_2.mov: 960x544 1 tea_pot, 2 red_sauces, 2 red_onions, 1 pickled_chili, 2 pitas, 1 chicken_meat, 2 snacks, 40.6ms\n",
      "video 1/1 (frame 591/1731) D:\\MY PROJECTS\\zebra_test_task\\3_2.mov: 960x544 1 tea_pot, 2 red_sauces, 2 red_onions, 1 pickled_chili, 2 pitas, 1 chicken_meat, 2 snacks, 32.2ms\n",
      "video 1/1 (frame 592/1731) D:\\MY PROJECTS\\zebra_test_task\\3_2.mov: 960x544 1 tea_pot, 2 red_sauces, 2 red_onions, 1 pickled_chili, 2 pitas, 1 chicken_meat, 2 snacks, 30.5ms\n",
      "video 1/1 (frame 593/1731) D:\\MY PROJECTS\\zebra_test_task\\3_2.mov: 960x544 1 tea_pot, 2 red_sauces, 2 red_onions, 1 pickled_chili, 2 pitas, 1 chicken_meat, 2 snacks, 38.5ms\n",
      "video 1/1 (frame 594/1731) D:\\MY PROJECTS\\zebra_test_task\\3_2.mov: 960x544 1 tea_pot, 2 red_sauces, 2 red_onions, 1 pickled_chili, 2 pitas, 1 chicken_meat, 2 snacks, 30.1ms\n",
      "video 1/1 (frame 595/1731) D:\\MY PROJECTS\\zebra_test_task\\3_2.mov: 960x544 1 tea_pot, 2 red_sauces, 2 red_onions, 1 pickled_chili, 2 pitas, 1 chicken_meat, 2 snacks, 32.7ms\n",
      "video 1/1 (frame 596/1731) D:\\MY PROJECTS\\zebra_test_task\\3_2.mov: 960x544 1 tea_pot, 2 red_sauces, 2 red_onions, 1 pickled_chili, 2 pitas, 1 chicken_meat, 1 pork_meat, 2 snacks, 40.2ms\n",
      "video 1/1 (frame 597/1731) D:\\MY PROJECTS\\zebra_test_task\\3_2.mov: 960x544 1 tea_pot, 2 red_sauces, 2 red_onions, 1 pickled_chili, 2 pitas, 1 chicken_meat, 1 pork_meat, 2 snacks, 30.2ms\n",
      "video 1/1 (frame 598/1731) D:\\MY PROJECTS\\zebra_test_task\\3_2.mov: 960x544 1 tea_pot, 2 red_sauces, 2 red_onions, 1 pickled_chili, 2 pitas, 1 chicken_meat, 1 pork_meat, 2 snacks, 30.1ms\n",
      "video 1/1 (frame 599/1731) D:\\MY PROJECTS\\zebra_test_task\\3_2.mov: 960x544 1 tea_pot, 2 red_sauces, 2 red_onions, 1 pickled_chili, 2 pitas, 1 chicken_meat, 1 pork_meat, 2 snacks, 40.2ms\n",
      "video 1/1 (frame 600/1731) D:\\MY PROJECTS\\zebra_test_task\\3_2.mov: 960x544 1 tea_pot, 2 red_sauces, 2 red_onions, 1 pickled_chili, 2 pitas, 1 chicken_meat, 1 pork_meat, 2 snacks, 31.2ms\n",
      "video 1/1 (frame 601/1731) D:\\MY PROJECTS\\zebra_test_task\\3_2.mov: 960x544 1 tea_pot, 2 red_sauces, 2 red_onions, 1 pickled_chili, 2 pitas, 1 chicken_meat, 1 pork_meat, 2 snacks, 31.3ms\n",
      "video 1/1 (frame 602/1731) D:\\MY PROJECTS\\zebra_test_task\\3_2.mov: 960x544 1 tea_pot, 2 red_sauces, 2 red_onions, 1 pickled_chili, 2 pitas, 1 chicken_meat, 1 pork_meat, 2 snacks, 37.8ms\n",
      "video 1/1 (frame 603/1731) D:\\MY PROJECTS\\zebra_test_task\\3_2.mov: 960x544 1 tea_pot, 2 red_sauces, 2 red_onions, 1 pickled_chili, 2 pitas, 1 chicken_meat, 1 pork_meat, 2 snacks, 31.2ms\n",
      "video 1/1 (frame 604/1731) D:\\MY PROJECTS\\zebra_test_task\\3_2.mov: 960x544 1 tea_pot, 2 red_sauces, 2 red_onions, 1 pickled_chili, 2 pitas, 1 chicken_meat, 1 pork_meat, 2 snacks, 37.8ms\n",
      "video 1/1 (frame 605/1731) D:\\MY PROJECTS\\zebra_test_task\\3_2.mov: 960x544 1 tea_pot, 2 red_sauces, 2 red_onions, 1 pickled_chili, 2 pitas, 1 chicken_meat, 1 pork_meat, 2 snacks, 31.2ms\n",
      "video 1/1 (frame 606/1731) D:\\MY PROJECTS\\zebra_test_task\\3_2.mov: 960x544 1 tea_pot, 2 red_sauces, 2 red_onions, 1 pickled_chili, 2 pitas, 1 chicken_meat, 2 pork_meats, 2 snacks, 30.1ms\n",
      "video 1/1 (frame 607/1731) D:\\MY PROJECTS\\zebra_test_task\\3_2.mov: 960x544 1 tea_pot, 2 red_sauces, 2 red_onions, 1 pickled_chili, 2 pitas, 1 chicken_meat, 1 pork_meat, 2 snacks, 30.2ms\n",
      "video 1/1 (frame 608/1731) D:\\MY PROJECTS\\zebra_test_task\\3_2.mov: 960x544 1 tea_pot, 2 red_sauces, 2 red_onions, 1 pickled_chili, 2 pitas, 1 chicken_meat, 2 pork_meats, 2 snacks, 40.2ms\n",
      "video 1/1 (frame 609/1731) D:\\MY PROJECTS\\zebra_test_task\\3_2.mov: 960x544 1 tea_pot, 2 red_sauces, 2 red_onions, 1 pickled_chili, 2 pitas, 1 chicken_meat, 2 pork_meats, 2 snacks, 30.1ms\n",
      "video 1/1 (frame 610/1731) D:\\MY PROJECTS\\zebra_test_task\\3_2.mov: 960x544 1 tea_pot, 2 red_sauces, 2 red_onions, 1 pickled_chili, 2 pitas, 1 chicken_meat, 2 pork_meats, 2 snacks, 38.1ms\n",
      "video 1/1 (frame 611/1731) D:\\MY PROJECTS\\zebra_test_task\\3_2.mov: 960x544 1 tea_pot, 2 red_sauces, 2 red_onions, 1 pickled_chili, 2 pitas, 1 chicken_meat, 2 pork_meats, 2 snacks, 38.1ms\n",
      "video 1/1 (frame 612/1731) D:\\MY PROJECTS\\zebra_test_task\\3_2.mov: 960x544 1 tea_pot, 2 red_sauces, 2 red_onions, 1 pickled_chili, 2 pitas, 1 chicken_meat, 2 pork_meats, 2 snacks, 30.1ms\n",
      "video 1/1 (frame 613/1731) D:\\MY PROJECTS\\zebra_test_task\\3_2.mov: 960x544 1 tea_pot, 2 red_sauces, 2 red_onions, 1 pickled_chili, 2 pitas, 1 chicken_meat, 1 pork_meat, 2 snacks, 32.2ms\n",
      "video 1/1 (frame 614/1731) D:\\MY PROJECTS\\zebra_test_task\\3_2.mov: 960x544 1 tea_pot, 2 red_sauces, 2 red_onions, 1 pickled_chili, 2 pitas, 1 chicken_meat, 1 pork_meat, 2 snacks, 40.3ms\n",
      "video 1/1 (frame 615/1731) D:\\MY PROJECTS\\zebra_test_task\\3_2.mov: 960x544 1 tea_pot, 2 red_sauces, 2 red_onions, 1 pickled_chili, 2 pitas, 1 chicken_meat, 2 pork_meats, 2 snacks, 40.2ms\n",
      "video 1/1 (frame 616/1731) D:\\MY PROJECTS\\zebra_test_task\\3_2.mov: 960x544 1 tea_pot, 2 red_sauces, 2 red_onions, 1 pickled_chili, 2 pitas, 1 chicken_meat, 2 pork_meats, 2 snacks, 40.2ms\n",
      "video 1/1 (frame 617/1731) D:\\MY PROJECTS\\zebra_test_task\\3_2.mov: 960x544 1 tea_pot, 2 red_sauces, 2 red_onions, 1 pickled_chili, 2 pitas, 1 chicken_meat, 2 pork_meats, 2 snacks, 40.2ms\n",
      "video 1/1 (frame 618/1731) D:\\MY PROJECTS\\zebra_test_task\\3_2.mov: 960x544 1 tea_pot, 2 red_sauces, 2 red_onions, 1 pickled_chili, 2 pitas, 1 chicken_meat, 2 pork_meats, 2 snacks, 32.3ms\n",
      "video 1/1 (frame 619/1731) D:\\MY PROJECTS\\zebra_test_task\\3_2.mov: 960x544 1 tea_pot, 2 red_sauces, 2 red_onions, 1 pickled_chili, 2 pitas, 1 chicken_meat, 2 pork_meats, 2 snacks, 32.7ms\n",
      "video 1/1 (frame 620/1731) D:\\MY PROJECTS\\zebra_test_task\\3_2.mov: 960x544 1 tea_pot, 2 red_sauces, 2 red_onions, 1 pickled_chili, 2 pitas, 1 chicken_meat, 2 pork_meats, 2 snacks, 40.8ms\n",
      "video 1/1 (frame 621/1731) D:\\MY PROJECTS\\zebra_test_task\\3_2.mov: 960x544 1 tea_pot, 2 red_sauces, 2 red_onions, 1 pickled_chili, 2 pitas, 1 chicken_meat, 1 pork_meat, 2 snacks, 38.1ms\n",
      "video 1/1 (frame 622/1731) D:\\MY PROJECTS\\zebra_test_task\\3_2.mov: 960x544 1 tea_pot, 2 red_sauces, 2 red_onions, 1 pickled_chili, 2 pitas, 1 chicken_meat, 1 pork_meat, 2 snacks, 40.2ms\n",
      "video 1/1 (frame 623/1731) D:\\MY PROJECTS\\zebra_test_task\\3_2.mov: 960x544 1 tea_pot, 2 red_sauces, 2 red_onions, 1 pickled_chili, 2 pitas, 1 chicken_meat, 1 pork_meat, 2 snacks, 38.2ms\n",
      "video 1/1 (frame 624/1731) D:\\MY PROJECTS\\zebra_test_task\\3_2.mov: 960x544 1 tea_pot, 2 red_sauces, 2 red_onions, 1 pickled_chili, 2 pitas, 1 chicken_meat, 1 pork_meat, 2 snacks, 32.2ms\n",
      "video 1/1 (frame 625/1731) D:\\MY PROJECTS\\zebra_test_task\\3_2.mov: 960x544 1 tea_pot, 2 red_sauces, 2 red_onions, 1 pickled_chili, 2 pitas, 1 chicken_meat, 1 pork_meat, 2 snacks, 30.2ms\n",
      "video 1/1 (frame 626/1731) D:\\MY PROJECTS\\zebra_test_task\\3_2.mov: 960x544 1 tea_pot, 2 red_sauces, 2 red_onions, 1 pickled_chili, 2 pitas, 1 chicken_meat, 1 pork_meat, 2 snacks, 30.1ms\n",
      "video 1/1 (frame 627/1731) D:\\MY PROJECTS\\zebra_test_task\\3_2.mov: 960x544 1 tea_pot, 2 red_sauces, 2 red_onions, 1 pickled_chili, 2 pitas, 1 chicken_meat, 1 pork_meat, 2 snacks, 33.0ms\n",
      "video 1/1 (frame 628/1731) D:\\MY PROJECTS\\zebra_test_task\\3_2.mov: 960x544 1 tea_pot, 2 red_sauces, 2 red_onions, 1 pickled_chili, 2 pitas, 1 chicken_meat, 1 pork_meat, 2 snacks, 40.2ms\n",
      "video 1/1 (frame 629/1731) D:\\MY PROJECTS\\zebra_test_task\\3_2.mov: 960x544 1 tea_pot, 2 red_sauces, 2 red_onions, 1 pickled_chili, 2 pitas, 1 chicken_meat, 1 pork_meat, 2 snacks, 31.2ms\n",
      "video 1/1 (frame 630/1731) D:\\MY PROJECTS\\zebra_test_task\\3_2.mov: 960x544 1 tea_pot, 2 red_sauces, 2 red_onions, 1 pickled_chili, 2 pitas, 1 chicken_meat, 1 pork_meat, 2 snacks, 31.3ms\n",
      "video 1/1 (frame 631/1731) D:\\MY PROJECTS\\zebra_test_task\\3_2.mov: 960x544 1 tea_pot, 2 red_sauces, 2 red_onions, 1 pickled_chili, 2 pitas, 1 chicken_meat, 1 pork_meat, 2 snacks, 32.8ms\n",
      "video 1/1 (frame 632/1731) D:\\MY PROJECTS\\zebra_test_task\\3_2.mov: 960x544 1 tea_pot, 2 red_sauces, 2 red_onions, 1 pickled_chili, 2 pitas, 1 chicken_meat, 1 pork_meat, 2 snacks, 28.3ms\n",
      "video 1/1 (frame 633/1731) D:\\MY PROJECTS\\zebra_test_task\\3_2.mov: 960x544 1 tea_pot, 2 red_sauces, 2 red_onions, 1 pickled_chili, 2 pitas, 1 chicken_meat, 1 pork_meat, 2 snacks, 32.2ms\n",
      "video 1/1 (frame 634/1731) D:\\MY PROJECTS\\zebra_test_task\\3_2.mov: 960x544 1 tea_pot, 2 red_sauces, 2 red_onions, 1 pickled_chili, 2 pitas, 1 chicken_meat, 1 pork_meat, 2 snacks, 30.6ms\n",
      "video 1/1 (frame 635/1731) D:\\MY PROJECTS\\zebra_test_task\\3_2.mov: 960x544 1 tea_pot, 2 red_sauces, 2 red_onions, 1 pickled_chili, 2 pitas, 1 chicken_meat, 1 pork_meat, 2 snacks, 40.1ms\n",
      "video 1/1 (frame 636/1731) D:\\MY PROJECTS\\zebra_test_task\\3_2.mov: 960x544 1 tea_pot, 2 red_sauces, 2 red_onions, 1 pickled_chili, 2 pitas, 1 chicken_meat, 1 pork_meat, 2 snacks, 32.5ms\n",
      "video 1/1 (frame 637/1731) D:\\MY PROJECTS\\zebra_test_task\\3_2.mov: 960x544 1 tea_pot, 2 red_sauces, 2 red_onions, 1 pickled_chili, 2 pitas, 1 chicken_meat, 1 pork_meat, 2 snacks, 30.5ms\n",
      "video 1/1 (frame 638/1731) D:\\MY PROJECTS\\zebra_test_task\\3_2.mov: 960x544 1 tea_pot, 2 red_sauces, 2 red_onions, 1 pickled_chili, 2 pitas, 1 chicken_meat, 1 pork_meat, 2 snacks, 30.1ms\n",
      "video 1/1 (frame 639/1731) D:\\MY PROJECTS\\zebra_test_task\\3_2.mov: 960x544 1 tea_pot, 2 red_sauces, 2 red_onions, 1 pickled_chili, 2 pitas, 1 chicken_meat, 1 pork_meat, 2 snacks, 30.2ms\n",
      "video 1/1 (frame 640/1731) D:\\MY PROJECTS\\zebra_test_task\\3_2.mov: 960x544 1 tea_pot, 2 red_sauces, 2 red_onions, 1 pickled_chili, 2 pitas, 1 chicken_meat, 1 pork_meat, 2 snacks, 30.3ms\n",
      "video 1/1 (frame 641/1731) D:\\MY PROJECTS\\zebra_test_task\\3_2.mov: 960x544 1 tea_pot, 2 red_sauces, 2 red_onions, 1 pickled_chili, 2 pitas, 1 chicken_meat, 1 pork_meat, 2 snacks, 30.1ms\n",
      "video 1/1 (frame 642/1731) D:\\MY PROJECTS\\zebra_test_task\\3_2.mov: 960x544 1 tea_pot, 2 red_sauces, 2 red_onions, 1 pickled_chili, 2 pitas, 1 chicken_meat, 1 pork_meat, 2 snacks, 40.8ms\n",
      "video 1/1 (frame 643/1731) D:\\MY PROJECTS\\zebra_test_task\\3_2.mov: 960x544 1 tea_pot, 2 red_sauces, 2 red_onions, 1 pickled_chili, 2 pitas, 1 chicken_meat, 2 pork_meats, 2 snacks, 38.1ms\n",
      "video 1/1 (frame 644/1731) D:\\MY PROJECTS\\zebra_test_task\\3_2.mov: 960x544 1 tea_pot, 2 red_sauces, 2 red_onions, 1 pickled_chili, 2 pitas, 1 chicken_meat, 2 pork_meats, 2 snacks, 42.2ms\n",
      "video 1/1 (frame 645/1731) D:\\MY PROJECTS\\zebra_test_task\\3_2.mov: 960x544 1 tea_pot, 2 red_sauces, 2 red_onions, 1 pickled_chili, 2 pitas, 1 chicken_meat, 1 pork_meat, 2 snacks, 40.2ms\n",
      "video 1/1 (frame 646/1731) D:\\MY PROJECTS\\zebra_test_task\\3_2.mov: 960x544 1 tea_pot, 2 red_sauces, 2 red_onions, 1 pickled_chili, 2 pitas, 1 chicken_meat, 1 pork_meat, 2 snacks, 32.3ms\n",
      "video 1/1 (frame 647/1731) D:\\MY PROJECTS\\zebra_test_task\\3_2.mov: 960x544 1 tea_pot, 2 red_sauces, 2 red_onions, 1 pickled_chili, 2 pitas, 1 chicken_meat, 2 pork_meats, 2 snacks, 30.1ms\n",
      "video 1/1 (frame 648/1731) D:\\MY PROJECTS\\zebra_test_task\\3_2.mov: 960x544 1 tea_pot, 2 red_sauces, 2 red_onions, 1 pickled_chili, 2 pitas, 1 chicken_meat, 2 pork_meats, 2 snacks, 30.4ms\n",
      "video 1/1 (frame 649/1731) D:\\MY PROJECTS\\zebra_test_task\\3_2.mov: 960x544 1 tea_pot, 2 red_sauces, 2 red_onions, 1 pickled_chili, 2 pitas, 1 chicken_meat, 2 pork_meats, 2 snacks, 31.3ms\n",
      "video 1/1 (frame 650/1731) D:\\MY PROJECTS\\zebra_test_task\\3_2.mov: 960x544 1 tea_pot, 2 red_sauces, 2 red_onions, 1 pickled_chili, 2 pitas, 1 chicken_meat, 2 pork_meats, 2 snacks, 37.8ms\n",
      "video 1/1 (frame 651/1731) D:\\MY PROJECTS\\zebra_test_task\\3_2.mov: 960x544 1 tea_pot, 2 red_sauces, 2 red_onions, 1 pickled_chili, 2 pitas, 1 chicken_meat, 2 pork_meats, 2 snacks, 31.3ms\n",
      "video 1/1 (frame 652/1731) D:\\MY PROJECTS\\zebra_test_task\\3_2.mov: 960x544 1 tea_pot, 2 red_sauces, 2 red_onions, 1 pickled_chili, 2 pitas, 1 chicken_meat, 2 pork_meats, 2 snacks, 29.1ms\n",
      "video 1/1 (frame 653/1731) D:\\MY PROJECTS\\zebra_test_task\\3_2.mov: 960x544 1 tea_pot, 2 red_sauces, 2 red_onions, 1 pickled_chili, 2 pitas, 1 chicken_meat, 2 pork_meats, 2 snacks, 31.2ms\n",
      "video 1/1 (frame 654/1731) D:\\MY PROJECTS\\zebra_test_task\\3_2.mov: 960x544 1 tea_pot, 2 red_sauces, 2 red_onions, 1 pickled_chili, 2 pitas, 1 chicken_meat, 2 pork_meats, 2 snacks, 37.8ms\n",
      "video 1/1 (frame 655/1731) D:\\MY PROJECTS\\zebra_test_task\\3_2.mov: 960x544 1 tea_pot, 2 red_sauces, 2 red_onions, 1 pickled_chili, 2 pitas, 1 chicken_meat, 2 pork_meats, 2 snacks, 31.2ms\n",
      "video 1/1 (frame 656/1731) D:\\MY PROJECTS\\zebra_test_task\\3_2.mov: 960x544 1 tea_pot, 2 red_sauces, 2 red_onions, 1 pickled_chili, 2 pitas, 1 chicken_meat, 2 pork_meats, 2 snacks, 37.8ms\n",
      "video 1/1 (frame 657/1731) D:\\MY PROJECTS\\zebra_test_task\\3_2.mov: 960x544 1 tea_pot, 2 red_sauces, 2 red_onions, 1 pickled_chili, 2 pitas, 1 chicken_meat, 2 pork_meats, 2 snacks, 31.2ms\n",
      "video 1/1 (frame 658/1731) D:\\MY PROJECTS\\zebra_test_task\\3_2.mov: 960x544 1 tea_pot, 2 red_sauces, 2 red_onions, 1 pickled_chili, 2 pitas, 1 chicken_meat, 2 pork_meats, 2 snacks, 31.3ms\n",
      "video 1/1 (frame 659/1731) D:\\MY PROJECTS\\zebra_test_task\\3_2.mov: 960x544 1 tea_pot, 2 red_sauces, 2 red_onions, 1 pickled_chili, 2 pitas, 1 chicken_meat, 2 pork_meats, 2 snacks, 40.2ms\n",
      "video 1/1 (frame 660/1731) D:\\MY PROJECTS\\zebra_test_task\\3_2.mov: 960x544 1 tea_pot, 2 red_sauces, 2 red_onions, 1 pickled_chili, 2 pitas, 1 chicken_meat, 2 pork_meats, 2 snacks, 42.3ms\n",
      "video 1/1 (frame 661/1731) D:\\MY PROJECTS\\zebra_test_task\\3_2.mov: 960x544 1 tea_pot, 2 red_sauces, 2 red_onions, 1 pickled_chili, 2 pitas, 1 chicken_meat, 2 pork_meats, 2 snacks, 40.2ms\n",
      "video 1/1 (frame 662/1731) D:\\MY PROJECTS\\zebra_test_task\\3_2.mov: 960x544 1 tea_pot, 2 red_sauces, 2 red_onions, 1 pickled_chili, 2 pitas, 1 chicken_meat, 2 pork_meats, 2 snacks, 32.1ms\n",
      "video 1/1 (frame 663/1731) D:\\MY PROJECTS\\zebra_test_task\\3_2.mov: 960x544 1 tea_pot, 2 red_sauces, 2 red_onions, 1 pickled_chili, 2 pitas, 1 chicken_meat, 2 pork_meats, 2 snacks, 30.1ms\n",
      "video 1/1 (frame 664/1731) D:\\MY PROJECTS\\zebra_test_task\\3_2.mov: 960x544 1 tea_pot, 2 red_sauces, 2 red_onions, 1 pickled_chili, 2 pitas, 1 chicken_meat, 1 pork_meat, 2 snacks, 32.4ms\n",
      "video 1/1 (frame 665/1731) D:\\MY PROJECTS\\zebra_test_task\\3_2.mov: 960x544 1 tea_pot, 2 red_sauces, 2 red_onions, 1 pickled_chili, 2 pitas, 1 chicken_meat, 2 pork_meats, 2 snacks, 31.3ms\n",
      "video 1/1 (frame 666/1731) D:\\MY PROJECTS\\zebra_test_task\\3_2.mov: 960x544 1 tea_pot, 2 red_sauces, 2 red_onions, 1 pickled_chili, 2 pitas, 1 chicken_meat, 1 pork_meat, 2 snacks, 40.7ms\n",
      "video 1/1 (frame 667/1731) D:\\MY PROJECTS\\zebra_test_task\\3_2.mov: 960x544 1 tea_pot, 2 red_sauces, 2 red_onions, 1 pickled_chili, 2 pitas, 1 chicken_meat, 1 pork_meat, 2 snacks, 32.7ms\n",
      "video 1/1 (frame 668/1731) D:\\MY PROJECTS\\zebra_test_task\\3_2.mov: 960x544 1 tea_pot, 2 red_sauces, 2 red_onions, 1 pickled_chili, 2 pitas, 1 chicken_meat, 1 pork_meat, 2 snacks, 39.3ms\n",
      "video 1/1 (frame 669/1731) D:\\MY PROJECTS\\zebra_test_task\\3_2.mov: 960x544 1 tea_pot, 2 red_sauces, 2 red_onions, 1 pickled_chili, 2 pitas, 1 chicken_meat, 2 snacks, 31.2ms\n",
      "video 1/1 (frame 670/1731) D:\\MY PROJECTS\\zebra_test_task\\3_2.mov: 960x544 1 tea_pot, 2 red_sauces, 2 red_onions, 1 pickled_chili, 2 pitas, 1 chicken_meat, 2 snacks, 22.1ms\n",
      "video 1/1 (frame 671/1731) D:\\MY PROJECTS\\zebra_test_task\\3_2.mov: 960x544 1 tea_pot, 2 red_sauces, 2 red_onions, 1 pickled_chili, 2 pitas, 1 chicken_meat, 1 pork_meat, 2 snacks, 31.2ms\n",
      "video 1/1 (frame 672/1731) D:\\MY PROJECTS\\zebra_test_task\\3_2.mov: 960x544 1 tea_pot, 2 red_sauces, 2 red_onions, 1 pickled_chili, 2 pitas, 1 chicken_meat, 2 snacks, 37.9ms\n",
      "video 1/1 (frame 673/1731) D:\\MY PROJECTS\\zebra_test_task\\3_2.mov: 960x544 1 tea_pot, 2 red_sauces, 2 red_onions, 1 pickled_chili, 2 pitas, 1 chicken_meat, 2 snacks, 31.2ms\n",
      "video 1/1 (frame 674/1731) D:\\MY PROJECTS\\zebra_test_task\\3_2.mov: 960x544 1 tea_pot, 2 red_sauces, 2 red_onions, 1 pickled_chili, 2 pitas, 1 chicken_meat, 2 snacks, 31.2ms\n",
      "video 1/1 (frame 675/1731) D:\\MY PROJECTS\\zebra_test_task\\3_2.mov: 960x544 1 tea_pot, 2 red_sauces, 2 red_onions, 1 pickled_chili, 2 pitas, 1 chicken_meat, 2 snacks, 39.3ms\n",
      "video 1/1 (frame 676/1731) D:\\MY PROJECTS\\zebra_test_task\\3_2.mov: 960x544 1 tea_pot, 2 red_sauces, 2 red_onions, 1 pickled_chili, 2 pitas, 1 chicken_meat, 2 snacks, 31.2ms\n",
      "video 1/1 (frame 677/1731) D:\\MY PROJECTS\\zebra_test_task\\3_2.mov: 960x544 1 tea_pot, 2 red_sauces, 2 red_onions, 1 pickled_chili, 2 pitas, 1 chicken_meat, 2 snacks, 39.3ms\n",
      "video 1/1 (frame 678/1731) D:\\MY PROJECTS\\zebra_test_task\\3_2.mov: 960x544 1 tea_pot, 2 red_sauces, 2 red_onions, 1 pickled_chili, 2 pitas, 1 chicken_meat, 2 snacks, 31.2ms\n",
      "video 1/1 (frame 679/1731) D:\\MY PROJECTS\\zebra_test_task\\3_2.mov: 960x544 1 tea_pot, 2 red_sauces, 2 red_onions, 1 pickled_chili, 2 pitas, 1 chicken_meat, 2 snacks, 30.1ms\n",
      "video 1/1 (frame 680/1731) D:\\MY PROJECTS\\zebra_test_task\\3_2.mov: 960x544 1 tea_pot, 2 red_sauces, 2 red_onions, 1 pickled_chili, 2 pitas, 1 chicken_meat, 2 snacks, 32.1ms\n",
      "video 1/1 (frame 681/1731) D:\\MY PROJECTS\\zebra_test_task\\3_2.mov: 960x544 1 tea_pot, 2 red_sauces, 2 red_onions, 1 pickled_chili, 2 pitas, 1 chicken_meat, 2 snacks, 30.1ms\n",
      "video 1/1 (frame 682/1731) D:\\MY PROJECTS\\zebra_test_task\\3_2.mov: 960x544 1 tea_pot, 2 red_sauces, 2 red_onions, 1 pickled_chili, 2 pitas, 1 chicken_meat, 2 snacks, 40.2ms\n",
      "video 1/1 (frame 683/1731) D:\\MY PROJECTS\\zebra_test_task\\3_2.mov: 960x544 1 tea_pot, 2 red_sauces, 2 red_onions, 1 pickled_chili, 2 pitas, 1 chicken_meat, 2 snacks, 40.2ms\n",
      "video 1/1 (frame 684/1731) D:\\MY PROJECTS\\zebra_test_task\\3_2.mov: 960x544 1 tea_pot, 2 red_sauces, 2 red_onions, 1 pickled_chili, 2 pitas, 1 chicken_meat, 2 snacks, 38.7ms\n",
      "video 1/1 (frame 685/1731) D:\\MY PROJECTS\\zebra_test_task\\3_2.mov: 960x544 1 tea_pot, 2 red_sauces, 2 red_onions, 1 pickled_chili, 2 pitas, 1 chicken_meat, 2 pork_meats, 2 snacks, 30.1ms\n",
      "video 1/1 (frame 686/1731) D:\\MY PROJECTS\\zebra_test_task\\3_2.mov: 960x544 1 tea_pot, 2 red_sauces, 2 red_onions, 1 pickled_chili, 2 pitas, 1 chicken_meat, 2 pork_meats, 2 snacks, 40.7ms\n",
      "video 1/1 (frame 687/1731) D:\\MY PROJECTS\\zebra_test_task\\3_2.mov: 960x544 1 tea_pot, 2 red_sauces, 2 red_onions, 1 pickled_chili, 2 pitas, 1 chicken_meat, 1 pork_meat, 2 snacks, 32.1ms\n",
      "video 1/1 (frame 688/1731) D:\\MY PROJECTS\\zebra_test_task\\3_2.mov: 960x544 1 tea_pot, 2 red_sauces, 2 red_onions, 1 pickled_chili, 2 pitas, 1 chicken_meat, 1 pork_meat, 2 snacks, 30.1ms\n",
      "video 1/1 (frame 689/1731) D:\\MY PROJECTS\\zebra_test_task\\3_2.mov: 960x544 1 tea_pot, 2 red_sauces, 2 red_onions, 1 pickled_chili, 2 pitas, 1 chicken_meat, 1 pork_meat, 2 snacks, 40.1ms\n",
      "video 1/1 (frame 690/1731) D:\\MY PROJECTS\\zebra_test_task\\3_2.mov: 960x544 1 tea_pot, 2 red_sauces, 2 red_onions, 1 pickled_chili, 2 pitas, 1 chicken_meat, 1 pork_meat, 2 snacks, 30.1ms\n",
      "video 1/1 (frame 691/1731) D:\\MY PROJECTS\\zebra_test_task\\3_2.mov: 960x544 1 tea_pot, 2 red_sauces, 2 red_onions, 1 pickled_chili, 2 pitas, 1 chicken_meat, 1 pork_meat, 2 snacks, 30.3ms\n",
      "video 1/1 (frame 692/1731) D:\\MY PROJECTS\\zebra_test_task\\3_2.mov: 960x544 1 tea_pot, 2 red_sauces, 2 red_onions, 1 pickled_chili, 2 pitas, 1 chicken_meat, 1 pork_meat, 2 snacks, 30.2ms\n",
      "video 1/1 (frame 693/1731) D:\\MY PROJECTS\\zebra_test_task\\3_2.mov: 960x544 1 tea_pot, 2 red_sauces, 2 red_onions, 1 pickled_chili, 2 pitas, 1 chicken_meat, 1 pork_meat, 2 snacks, 32.5ms\n",
      "video 1/1 (frame 694/1731) D:\\MY PROJECTS\\zebra_test_task\\3_2.mov: 960x544 1 tea_pot, 2 red_sauces, 2 red_onions, 1 pickled_chili, 2 pitas, 1 chicken_meat, 1 pork_meat, 2 snacks, 30.2ms\n",
      "video 1/1 (frame 695/1731) D:\\MY PROJECTS\\zebra_test_task\\3_2.mov: 960x544 1 tea_pot, 2 red_sauces, 2 red_onions, 1 pickled_chili, 2 pitas, 1 chicken_meat, 1 pork_meat, 2 snacks, 30.1ms\n",
      "video 1/1 (frame 696/1731) D:\\MY PROJECTS\\zebra_test_task\\3_2.mov: 960x544 1 tea_pot, 2 red_sauces, 2 red_onions, 1 pickled_chili, 2 pitas, 1 chicken_meat, 1 pork_meat, 2 snacks, 29.2ms\n",
      "video 1/1 (frame 697/1731) D:\\MY PROJECTS\\zebra_test_task\\3_2.mov: 960x544 1 tea_pot, 2 red_sauces, 2 red_onions, 1 pickled_chili, 2 pitas, 1 chicken_meat, 1 pork_meat, 2 snacks, 32.1ms\n",
      "video 1/1 (frame 698/1731) D:\\MY PROJECTS\\zebra_test_task\\3_2.mov: 960x544 1 tea_pot, 2 red_sauces, 2 red_onions, 1 pickled_chili, 2 pitas, 1 chicken_meat, 1 pork_meat, 2 snacks, 40.2ms\n",
      "video 1/1 (frame 699/1731) D:\\MY PROJECTS\\zebra_test_task\\3_2.mov: 960x544 1 tea_pot, 2 red_sauces, 2 red_onions, 1 pickled_chili, 2 pitas, 1 chicken_meat, 1 pork_meat, 2 snacks, 30.1ms\n",
      "video 1/1 (frame 700/1731) D:\\MY PROJECTS\\zebra_test_task\\3_2.mov: 960x544 1 tea_pot, 2 red_sauces, 2 red_onions, 1 pickled_chili, 2 pitas, 1 chicken_meat, 2 snacks, 40.3ms\n",
      "video 1/1 (frame 701/1731) D:\\MY PROJECTS\\zebra_test_task\\3_2.mov: 960x544 1 tea_pot, 2 red_sauces, 2 red_onions, 1 pickled_chili, 2 pitas, 1 chicken_meat, 2 snacks, 40.2ms\n",
      "video 1/1 (frame 702/1731) D:\\MY PROJECTS\\zebra_test_task\\3_2.mov: 960x544 1 tea_pot, 2 red_sauces, 2 red_onions, 1 pickled_chili, 2 pitas, 1 chicken_meat, 2 snacks, 38.5ms\n",
      "video 1/1 (frame 703/1731) D:\\MY PROJECTS\\zebra_test_task\\3_2.mov: 960x544 1 tea_pot, 2 red_sauces, 2 red_onions, 1 pickled_chili, 2 pitas, 1 chicken_meat, 2 snacks, 40.2ms\n",
      "video 1/1 (frame 704/1731) D:\\MY PROJECTS\\zebra_test_task\\3_2.mov: 960x544 1 tea_pot, 2 red_sauces, 2 red_onions, 1 pickled_chili, 2 pitas, 1 chicken_meat, 2 snacks, 40.2ms\n",
      "video 1/1 (frame 705/1731) D:\\MY PROJECTS\\zebra_test_task\\3_2.mov: 960x544 1 tea_pot, 2 red_sauces, 2 red_onions, 1 pickled_chili, 2 pitas, 1 chicken_meat, 2 snacks, 40.1ms\n",
      "video 1/1 (frame 706/1731) D:\\MY PROJECTS\\zebra_test_task\\3_2.mov: 960x544 1 tea_pot, 2 red_sauces, 2 red_onions, 1 pickled_chili, 2 pitas, 1 chicken_meat, 2 snacks, 40.2ms\n",
      "video 1/1 (frame 707/1731) D:\\MY PROJECTS\\zebra_test_task\\3_2.mov: 960x544 1 tea_pot, 2 red_sauces, 2 red_onions, 1 pickled_chili, 2 pitas, 1 chicken_meat, 2 snacks, 38.1ms\n",
      "video 1/1 (frame 708/1731) D:\\MY PROJECTS\\zebra_test_task\\3_2.mov: 960x544 1 tea_pot, 2 red_sauces, 2 red_onions, 1 pickled_chili, 2 pitas, 1 chicken_meat, 2 snacks, 30.3ms\n",
      "video 1/1 (frame 709/1731) D:\\MY PROJECTS\\zebra_test_task\\3_2.mov: 960x544 1 tea_pot, 2 red_sauces, 2 red_onions, 1 pickled_chili, 2 pitas, 1 chicken_meat, 2 snacks, 32.3ms\n",
      "video 1/1 (frame 710/1731) D:\\MY PROJECTS\\zebra_test_task\\3_2.mov: 960x544 1 tea_pot, 2 red_sauces, 2 red_onions, 1 pickled_chili, 2 pitas, 1 chicken_meat, 2 snacks, 40.4ms\n",
      "video 1/1 (frame 711/1731) D:\\MY PROJECTS\\zebra_test_task\\3_2.mov: 960x544 1 tea_pot, 2 red_sauces, 2 red_onions, 1 pickled_chili, 2 pitas, 1 chicken_meat, 2 snacks, 30.2ms\n",
      "video 1/1 (frame 712/1731) D:\\MY PROJECTS\\zebra_test_task\\3_2.mov: 960x544 1 tea_pot, 2 red_sauces, 2 red_onions, 1 pickled_chili, 2 pitas, 1 chicken_meat, 2 snacks, 32.3ms\n",
      "video 1/1 (frame 713/1731) D:\\MY PROJECTS\\zebra_test_task\\3_2.mov: 960x544 1 tea_pot, 2 red_sauces, 2 red_onions, 1 pickled_chili, 2 pitas, 1 chicken_meat, 2 snacks, 30.1ms\n",
      "video 1/1 (frame 714/1731) D:\\MY PROJECTS\\zebra_test_task\\3_2.mov: 960x544 1 tea_pot, 2 red_sauces, 2 red_onions, 1 pickled_chili, 2 pitas, 1 chicken_meat, 2 snacks, 32.1ms\n",
      "video 1/1 (frame 715/1731) D:\\MY PROJECTS\\zebra_test_task\\3_2.mov: 960x544 1 tea_pot, 2 red_sauces, 2 red_onions, 1 pickled_chili, 2 pitas, 1 chicken_meat, 2 snacks, 32.2ms\n",
      "video 1/1 (frame 716/1731) D:\\MY PROJECTS\\zebra_test_task\\3_2.mov: 960x544 1 tea_pot, 2 red_sauces, 2 red_onions, 1 pickled_chili, 2 pitas, 1 chicken_meat, 2 snacks, 38.4ms\n",
      "video 1/1 (frame 717/1731) D:\\MY PROJECTS\\zebra_test_task\\3_2.mov: 960x544 1 tea_pot, 2 red_sauces, 2 red_onions, 1 pickled_chili, 2 pitas, 1 chicken_meat, 2 snacks, 40.2ms\n",
      "video 1/1 (frame 718/1731) D:\\MY PROJECTS\\zebra_test_task\\3_2.mov: 960x544 1 tea_pot, 2 red_sauces, 2 red_onions, 1 pickled_chili, 2 pitas, 1 chicken_meat, 2 snacks, 40.2ms\n",
      "video 1/1 (frame 719/1731) D:\\MY PROJECTS\\zebra_test_task\\3_2.mov: 960x544 1 tea_pot, 2 red_sauces, 2 red_onions, 1 pickled_chili, 2 pitas, 1 chicken_meat, 2 snacks, 40.2ms\n",
      "video 1/1 (frame 720/1731) D:\\MY PROJECTS\\zebra_test_task\\3_2.mov: 960x544 1 tea_pot, 2 red_sauces, 2 red_onions, 1 pickled_chili, 2 pitas, 1 chicken_meat, 2 snacks, 32.1ms\n",
      "video 1/1 (frame 721/1731) D:\\MY PROJECTS\\zebra_test_task\\3_2.mov: 960x544 1 tea_pot, 2 red_sauces, 2 red_onions, 1 pickled_chili, 2 pitas, 1 chicken_meat, 1 pork_meat, 2 snacks, 40.2ms\n",
      "video 1/1 (frame 722/1731) D:\\MY PROJECTS\\zebra_test_task\\3_2.mov: 960x544 1 tea_pot, 2 red_sauces, 2 red_onions, 1 pickled_chili, 2 pitas, 1 chicken_meat, 2 pork_meats, 2 snacks, 32.1ms\n",
      "video 1/1 (frame 723/1731) D:\\MY PROJECTS\\zebra_test_task\\3_2.mov: 960x544 1 tea_pot, 2 red_sauces, 2 red_onions, 1 pickled_chili, 2 pitas, 1 chicken_meat, 2 pork_meats, 2 snacks, 27.3ms\n",
      "video 1/1 (frame 724/1731) D:\\MY PROJECTS\\zebra_test_task\\3_2.mov: 960x544 1 tea_pot, 2 red_sauces, 2 red_onions, 1 pickled_chili, 2 pitas, 1 chicken_meat, 2 pork_meats, 2 snacks, 31.3ms\n",
      "video 1/1 (frame 725/1731) D:\\MY PROJECTS\\zebra_test_task\\3_2.mov: 960x544 1 tea_pot, 2 red_sauces, 2 red_onions, 1 pickled_chili, 2 pitas, 1 chicken_meat, 2 pork_meats, 2 snacks, 31.2ms\n",
      "video 1/1 (frame 726/1731) D:\\MY PROJECTS\\zebra_test_task\\3_2.mov: 960x544 1 tea_pot, 2 red_sauces, 2 red_onions, 1 pickled_chili, 2 pitas, 1 chicken_meat, 2 pork_meats, 2 snacks, 30.5ms\n",
      "video 1/1 (frame 727/1731) D:\\MY PROJECTS\\zebra_test_task\\3_2.mov: 960x544 1 tea_pot, 2 red_sauces, 2 red_onions, 1 pickled_chili, 2 pitas, 1 chicken_meat, 2 pork_meats, 2 snacks, 32.2ms\n",
      "video 1/1 (frame 728/1731) D:\\MY PROJECTS\\zebra_test_task\\3_2.mov: 960x544 1 tea_pot, 2 red_sauces, 2 red_onions, 1 pickled_chili, 2 pitas, 1 chicken_meat, 2 pork_meats, 2 snacks, 32.1ms\n",
      "video 1/1 (frame 729/1731) D:\\MY PROJECTS\\zebra_test_task\\3_2.mov: 960x544 1 tea_pot, 2 red_sauces, 2 red_onions, 1 pickled_chili, 2 pitas, 1 chicken_meat, 2 pork_meats, 2 snacks, 32.1ms\n",
      "video 1/1 (frame 730/1731) D:\\MY PROJECTS\\zebra_test_task\\3_2.mov: 960x544 1 tea_pot, 2 red_sauces, 2 red_onions, 1 pickled_chili, 2 pitas, 1 chicken_meat, 2 pork_meats, 2 snacks, 30.1ms\n",
      "video 1/1 (frame 731/1731) D:\\MY PROJECTS\\zebra_test_task\\3_2.mov: 960x544 1 tea_pot, 2 red_sauces, 2 red_onions, 1 pickled_chili, 2 pitas, 1 chicken_meat, 2 pork_meats, 2 snacks, 38.2ms\n",
      "video 1/1 (frame 732/1731) D:\\MY PROJECTS\\zebra_test_task\\3_2.mov: 960x544 1 tea_pot, 2 red_sauces, 2 red_onions, 1 pickled_chili, 2 pitas, 1 chicken_meat, 2 pork_meats, 2 snacks, 39.0ms\n",
      "video 1/1 (frame 733/1731) D:\\MY PROJECTS\\zebra_test_task\\3_2.mov: 960x544 1 tea_pot, 2 red_sauces, 2 red_onions, 1 pickled_chili, 2 pitas, 1 chicken_meat, 2 pork_meats, 2 snacks, 40.2ms\n",
      "video 1/1 (frame 734/1731) D:\\MY PROJECTS\\zebra_test_task\\3_2.mov: 960x544 1 tea_pot, 2 red_sauces, 2 red_onions, 1 pickled_chili, 2 pitas, 1 chicken_meat, 1 pork_meat, 2 snacks, 40.2ms\n",
      "video 1/1 (frame 735/1731) D:\\MY PROJECTS\\zebra_test_task\\3_2.mov: 960x544 1 tea_pot, 2 red_sauces, 2 red_onions, 1 pickled_chili, 2 pitas, 1 chicken_meat, 1 pork_meat, 2 snacks, 40.2ms\n",
      "video 1/1 (frame 736/1731) D:\\MY PROJECTS\\zebra_test_task\\3_2.mov: 960x544 1 tea_pot, 2 red_sauces, 2 red_onions, 1 pickled_chili, 2 pitas, 1 chicken_meat, 1 pork_meat, 2 snacks, 40.2ms\n",
      "video 1/1 (frame 737/1731) D:\\MY PROJECTS\\zebra_test_task\\3_2.mov: 960x544 1 tea_pot, 2 red_sauces, 2 red_onions, 1 pickled_chili, 2 pitas, 1 chicken_meat, 2 pork_meats, 2 snacks, 41.3ms\n",
      "video 1/1 (frame 738/1731) D:\\MY PROJECTS\\zebra_test_task\\3_2.mov: 960x544 1 tea_pot, 2 red_sauces, 2 red_onions, 1 pickled_chili, 2 pitas, 1 chicken_meat, 2 pork_meats, 2 snacks, 31.2ms\n",
      "video 1/1 (frame 739/1731) D:\\MY PROJECTS\\zebra_test_task\\3_2.mov: 960x544 1 tea_pot, 2 red_sauces, 2 red_onions, 1 pickled_chili, 2 pitas, 1 chicken_meat, 2 pork_meats, 2 snacks, 46.9ms\n",
      "video 1/1 (frame 740/1731) D:\\MY PROJECTS\\zebra_test_task\\3_2.mov: 960x544 1 tea_pot, 2 red_sauces, 2 red_onions, 1 pickled_chili, 2 pitas, 1 chicken_meat, 2 pork_meats, 2 snacks, 32.3ms\n",
      "video 1/1 (frame 741/1731) D:\\MY PROJECTS\\zebra_test_task\\3_2.mov: 960x544 1 tea_pot, 2 red_sauces, 2 red_onions, 1 pickled_chili, 2 pitas, 1 chicken_meat, 2 pork_meats, 2 snacks, 46.9ms\n",
      "video 1/1 (frame 742/1731) D:\\MY PROJECTS\\zebra_test_task\\3_2.mov: 960x544 1 tea_pot, 2 red_sauces, 2 red_onions, 1 pickled_chili, 2 pitas, 1 chicken_meat, 2 pork_meats, 2 snacks, 50.2ms\n",
      "video 1/1 (frame 743/1731) D:\\MY PROJECTS\\zebra_test_task\\3_2.mov: 960x544 1 tea_pot, 2 red_sauces, 2 red_onions, 1 pickled_chili, 2 pitas, 1 chicken_meat, 2 pork_meats, 2 snacks, 32.2ms\n",
      "video 1/1 (frame 744/1731) D:\\MY PROJECTS\\zebra_test_task\\3_2.mov: 960x544 1 tea_pot, 2 red_sauces, 2 red_onions, 1 pickled_chili, 2 pitas, 1 chicken_meat, 2 pork_meats, 2 snacks, 53.4ms\n",
      "video 1/1 (frame 745/1731) D:\\MY PROJECTS\\zebra_test_task\\3_2.mov: 960x544 1 tea_pot, 2 red_sauces, 2 red_onions, 1 pickled_chili, 2 pitas, 1 chicken_meat, 2 pork_meats, 2 snacks, 31.2ms\n",
      "video 1/1 (frame 746/1731) D:\\MY PROJECTS\\zebra_test_task\\3_2.mov: 960x544 1 tea_pot, 2 red_sauces, 2 red_onions, 1 pickled_chili, 2 pitas, 1 chicken_meat, 2 pork_meats, 2 snacks, 0.0ms\n",
      "video 1/1 (frame 747/1731) D:\\MY PROJECTS\\zebra_test_task\\3_2.mov: 960x544 1 tea_pot, 2 red_sauces, 2 red_onions, 1 pickled_chili, 2 pitas, 1 chicken_meat, 2 pork_meats, 2 snacks, 15.6ms\n",
      "video 1/1 (frame 748/1731) D:\\MY PROJECTS\\zebra_test_task\\3_2.mov: 960x544 1 tea_pot, 2 red_sauces, 2 red_onions, 1 pickled_chili, 2 pitas, 1 chicken_meat, 2 pork_meats, 2 snacks, 0.0ms\n",
      "video 1/1 (frame 749/1731) D:\\MY PROJECTS\\zebra_test_task\\3_2.mov: 960x544 1 tea_pot, 2 red_sauces, 2 red_onions, 1 pickled_chili, 2 pitas, 1 chicken_meat, 2 pork_meats, 2 snacks, 6.5ms\n",
      "video 1/1 (frame 750/1731) D:\\MY PROJECTS\\zebra_test_task\\3_2.mov: 960x544 1 tea_pot, 2 red_sauces, 2 red_onions, 1 pickled_chili, 2 pitas, 1 chicken_meat, 2 pork_meats, 2 snacks, 0.0ms\n",
      "video 1/1 (frame 751/1731) D:\\MY PROJECTS\\zebra_test_task\\3_2.mov: 960x544 1 tea_pot, 2 red_sauces, 2 red_onions, 1 pickled_chili, 2 pitas, 1 chicken_meat, 2 pork_meats, 2 snacks, 0.0ms\n",
      "video 1/1 (frame 752/1731) D:\\MY PROJECTS\\zebra_test_task\\3_2.mov: 960x544 1 tea_pot, 2 red_sauces, 2 red_onions, 1 pickled_chili, 2 pitas, 1 chicken_meat, 2 pork_meats, 2 snacks, 0.0ms\n",
      "video 1/1 (frame 753/1731) D:\\MY PROJECTS\\zebra_test_task\\3_2.mov: 960x544 1 tea_pot, 2 red_sauces, 2 red_onions, 1 pickled_chili, 2 pitas, 1 chicken_meat, 2 pork_meats, 2 snacks, 0.0ms\n",
      "video 1/1 (frame 754/1731) D:\\MY PROJECTS\\zebra_test_task\\3_2.mov: 960x544 1 tea_pot, 2 red_sauces, 2 red_onions, 1 pickled_chili, 2 pitas, 1 chicken_meat, 2 pork_meats, 2 snacks, 0.0ms\n",
      "video 1/1 (frame 755/1731) D:\\MY PROJECTS\\zebra_test_task\\3_2.mov: 960x544 1 tea_pot, 2 red_sauces, 2 red_onions, 1 pickled_chili, 2 pitas, 1 chicken_meat, 2 pork_meats, 2 snacks, 0.0ms\n",
      "video 1/1 (frame 756/1731) D:\\MY PROJECTS\\zebra_test_task\\3_2.mov: 960x544 1 tea_pot, 2 red_sauces, 2 red_onions, 1 pickled_chili, 2 pitas, 1 chicken_meat, 2 pork_meats, 2 snacks, 15.6ms\n",
      "video 1/1 (frame 757/1731) D:\\MY PROJECTS\\zebra_test_task\\3_2.mov: 960x544 1 tea_pot, 2 red_sauces, 2 red_onions, 1 pickled_chili, 2 pitas, 1 chicken_meat, 2 pork_meats, 2 snacks, 0.0ms\n",
      "video 1/1 (frame 758/1731) D:\\MY PROJECTS\\zebra_test_task\\3_2.mov: 960x544 1 tea_pot, 2 red_sauces, 2 red_onions, 1 pickled_chili, 2 pitas, 1 chicken_meat, 2 pork_meats, 2 snacks, 15.4ms\n",
      "video 1/1 (frame 759/1731) D:\\MY PROJECTS\\zebra_test_task\\3_2.mov: 960x544 1 tea_pot, 2 red_sauces, 2 red_onions, 1 pickled_chili, 2 pitas, 1 chicken_meat, 2 pork_meats, 2 snacks, 0.0ms\n",
      "video 1/1 (frame 760/1731) D:\\MY PROJECTS\\zebra_test_task\\3_2.mov: 960x544 1 tea_pot, 2 red_sauces, 2 red_onions, 1 pickled_chili, 2 pitas, 1 chicken_meat, 2 pork_meats, 2 snacks, 15.6ms\n",
      "video 1/1 (frame 761/1731) D:\\MY PROJECTS\\zebra_test_task\\3_2.mov: 960x544 1 tea_pot, 2 red_sauces, 2 red_onions, 1 pickled_chili, 2 pitas, 1 chicken_meat, 2 pork_meats, 2 snacks, 0.0ms\n",
      "video 1/1 (frame 762/1731) D:\\MY PROJECTS\\zebra_test_task\\3_2.mov: 960x544 1 tea_pot, 2 red_sauces, 2 red_onions, 1 pickled_chili, 2 pitas, 1 chicken_meat, 2 pork_meats, 2 snacks, 0.0ms\n",
      "video 1/1 (frame 763/1731) D:\\MY PROJECTS\\zebra_test_task\\3_2.mov: 960x544 1 tea_pot, 2 red_sauces, 2 red_onions, 1 pickled_chili, 2 pitas, 1 chicken_meat, 2 pork_meats, 2 snacks, 15.6ms\n",
      "video 1/1 (frame 764/1731) D:\\MY PROJECTS\\zebra_test_task\\3_2.mov: 960x544 1 tea_pot, 2 red_sauces, 2 red_onions, 1 pickled_chili, 2 pitas, 1 chicken_meat, 2 pork_meats, 2 snacks, 15.6ms\n"
     ]
    }
   ],
   "source": [
    "loaded_model.predict('3_2.mov', save=True, conf=0.5, imgsz=IMG_H, line_width=3)"
   ]
  },
  {
   "cell_type": "code",
   "execution_count": null,
   "id": "b1405f40-059c-4fb8-aa4d-a3070a8c231d",
   "metadata": {},
   "outputs": [],
   "source": []
  }
 ],
 "metadata": {
  "kernelspec": {
   "display_name": "Python 3 (ipykernel)",
   "language": "python",
   "name": "python3"
  },
  "language_info": {
   "codemirror_mode": {
    "name": "ipython",
    "version": 3
   },
   "file_extension": ".py",
   "mimetype": "text/x-python",
   "name": "python",
   "nbconvert_exporter": "python",
   "pygments_lexer": "ipython3",
   "version": "3.9.18"
  }
 },
 "nbformat": 4,
 "nbformat_minor": 5
}
